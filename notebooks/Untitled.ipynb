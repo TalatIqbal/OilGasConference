{
 "cells": [
  {
   "cell_type": "code",
   "execution_count": 45,
   "metadata": {},
   "outputs": [
    {
     "name": "stdout",
     "output_type": "stream",
     "text": [
      "brock added to group 0\n",
      "luke added to group 1\n",
      "zvon added to group 2\n",
      "geoff added to group 3\n",
      "warren added to group 4\n",
      "anna added to group 5\n",
      "mohammed added to group 6\n",
      "talat added to group 7\n",
      "shazan added to group 8\n",
      "omid added to group 9\n",
      "dan added to group 0\n",
      "spencer added to group 1\n",
      "heather added to group 2\n",
      "tara added to group 3\n",
      "christy added to group 4\n",
      "sankalp added to group 5\n",
      "riphay added to group 6\n",
      "maren added to group 7\n",
      "saba added to group 8\n",
      "destani added to group 9\n",
      "brittany added to group 0\n",
      "john added to group 1\n",
      "hossein added to group 2\n",
      "cathy added to group 3\n"
     ]
    },
    {
     "data": {
      "text/plain": [
       "{0: ['brock', 'dan', 'brittany'],\n",
       " 1: ['luke', 'spencer', 'john'],\n",
       " 2: ['zvon', 'heather', 'hossein'],\n",
       " 3: ['geoff', 'tara', 'cathy'],\n",
       " 4: ['warren', 'christy'],\n",
       " 5: ['anna', 'sankalp'],\n",
       " 6: ['mohammed', 'riphay'],\n",
       " 7: ['talat', 'maren'],\n",
       " 8: ['shazan', 'saba'],\n",
       " 9: ['omid', 'destani']}"
      ]
     },
     "execution_count": 45,
     "metadata": {},
     "output_type": "execute_result"
    }
   ],
   "source": [
    "import numpy as np\n",
    "\n",
    "staff = ['anna', 'talat', 'sankalp', 'luke', 'shazan', 'cathy', 'heather', 'tara', 'brock', 'hossein', \n",
    "         'riphay', 'maren', 'geoff', 'omid', 'mohammed', 'warren', 'brittany', 'spencer',\n",
    "        'zvon', 'dan', 'saba', 'destani', 'christy', 'john']\n",
    "\n",
    "total_groups = 10\n",
    "min_per_group = 2\n",
    "max_per_group = 3\n",
    "group_num = [i for i in range(0,total_groups)]\n",
    "\n",
    "groups = {}\n",
    "for i in group_num:\n",
    "    groups[i] = []\n",
    "    \n",
    "more_left = True\n",
    "group_selected = 0\n",
    "\n",
    "while more_left:\n",
    "    rand_num = np.random.randint(0, len(staff))\n",
    "    staff_member = staff[rand_num]    \n",
    "    # print(staff_member)\n",
    "        \n",
    "    groups[group_selected%total_groups].append(staff_member)\n",
    "    staff.remove(staff_member)    \n",
    "    \n",
    "    print(staff_member, 'added to group', group_selected%total_groups)\n",
    "    group_selected+=1\n",
    "\n",
    "    if len(staff) == 0:\n",
    "        more_left = False\n",
    "        \n",
    "groups"
   ]
  },
  {
   "cell_type": "code",
   "execution_count": 59,
   "metadata": {},
   "outputs": [
    {
     "name": "stdout",
     "output_type": "stream",
     "text": [
      "|Group|Member 1|Member 2| Member 3|\n",
      "|--|--|--|--|\n",
      "| Group 0|brock|dan|brittany|\n",
      "| Group 1|luke|spencer|john|\n",
      "| Group 2|zvon|heather|hossein|\n",
      "| Group 3|geoff|tara|cathy|\n",
      "| Group 4|warren|christy||\n",
      "| Group 5|anna|sankalp||\n",
      "| Group 6|mohammed|riphay||\n",
      "| Group 7|talat|maren||\n",
      "| Group 8|shazan|saba||\n",
      "| Group 9|omid|destani||\n"
     ]
    }
   ],
   "source": [
    "print('|Group|Member 1|Member 2| Member 3|')\n",
    "print('|--|--|--|--|')\n",
    "for key, group in groups.items():\n",
    "    prnt_line = '| Group ' + str(key) + '|'\n",
    "    \n",
    "    for i in range(0, max_per_group):\n",
    "        if i < len(group):\n",
    "            prnt_line += group[i] + '|'\n",
    "        else:\n",
    "            prnt_line += '|'\n",
    "    \n",
    "    print(prnt_line)"
   ]
  },
  {
   "cell_type": "code",
   "execution_count": null,
   "metadata": {},
   "outputs": [],
   "source": []
  }
 ],
 "metadata": {
  "kernelspec": {
   "display_name": "ogconf",
   "language": "python",
   "name": "ogconf"
  },
  "language_info": {
   "codemirror_mode": {
    "name": "ipython",
    "version": 3
   },
   "file_extension": ".py",
   "mimetype": "text/x-python",
   "name": "python",
   "nbconvert_exporter": "python",
   "pygments_lexer": "ipython3",
   "version": "3.6.5"
  }
 },
 "nbformat": 4,
 "nbformat_minor": 2
}
