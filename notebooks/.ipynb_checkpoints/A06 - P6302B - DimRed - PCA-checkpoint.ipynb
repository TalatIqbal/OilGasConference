{
 "cells": [
  {
   "cell_type": "markdown",
   "metadata": {},
   "source": [
    "# Dimensionality Reduction - PCA"
   ]
  },
  {
   "cell_type": "markdown",
   "metadata": {},
   "source": [
    "### Imports"
   ]
  },
  {
   "cell_type": "code",
   "execution_count": 148,
   "metadata": {},
   "outputs": [],
   "source": [
    "import pandas as pd\n",
    "import numpy as np\n",
    "from datetime import datetime\n",
    "from datetime import timedelta\n",
    "import matplotlib.pyplot as plt\n",
    "import os\n",
    "import ntpath\n",
    "import pickle as pkl\n",
    "import xlrd\n",
    "import time\n",
    "import string\n",
    "import math\n",
    "\n",
    "from os import listdir\n",
    "from os.path import isfile, join"
   ]
  },
  {
   "cell_type": "markdown",
   "metadata": {},
   "source": [
    "### Notebook options"
   ]
  },
  {
   "cell_type": "code",
   "execution_count": 149,
   "metadata": {},
   "outputs": [],
   "source": [
    "pd.set_option('display.max_colwidth', -1) # Column width\n",
    "plt.rcParams['figure.figsize'] = [15, 10] # Size of the plots"
   ]
  },
  {
   "cell_type": "markdown",
   "metadata": {},
   "source": [
    "### General Assumptions"
   ]
  },
  {
   "cell_type": "code",
   "execution_count": 150,
   "metadata": {},
   "outputs": [],
   "source": [
    "time_col = 'datetime'\n",
    "time_gran_col = 'datetime_gran'\n",
    "value_col = 'val'\n",
    "scaled_value_col = 'scaled_val'\n",
    "time_granularity = 'min'"
   ]
  },
  {
   "cell_type": "code",
   "execution_count": 151,
   "metadata": {},
   "outputs": [],
   "source": [
    "fmt = '%Y-%m-%d %H:%M:%S'\n",
    "base_date = datetime.strptime('2016-01-01 00:00:01', fmt)\n",
    "start_date = datetime.strptime('2016-01-01 00:00:01', fmt)\n",
    "stop_date = datetime.strptime('2019-01-01 00:00:01', fmt)"
   ]
  },
  {
   "cell_type": "markdown",
   "metadata": {},
   "source": [
    "### Data Directories"
   ]
  },
  {
   "cell_type": "code",
   "execution_count": 152,
   "metadata": {},
   "outputs": [],
   "source": [
    "pump = 'P1201'\n",
    "RAW_DATA_DIR = '../data/raw/'+pump+'/'\n",
    "PROC_DATA_DIR = '../data/processed/'+pump+'/'\n",
    "INT_DATA_DIR = '../data/interim/'+pump+'/'"
   ]
  },
  {
   "cell_type": "markdown",
   "metadata": {},
   "source": [
    "# Use Aggregated Features Data"
   ]
  },
  {
   "cell_type": "markdown",
   "metadata": {},
   "source": [
    "## Aggregation - 1 minute"
   ]
  },
  {
   "cell_type": "markdown",
   "metadata": {},
   "source": [
    "### Reading Aggregated Data"
   ]
  },
  {
   "cell_type": "code",
   "execution_count": 153,
   "metadata": {},
   "outputs": [],
   "source": [
    "### Read aggregated data\n",
    "\n",
    "agg_val = 1\n",
    "agg_col = 'agg' + str(agg_val) \n",
    "input_file = INT_DATA_DIR + 'agg_single/' + agg_col + '.csv'\n",
    "with open(input_file, 'rb') as f:\n",
    "    df_agg = pd.read_csv(input_file)"
   ]
  },
  {
   "cell_type": "code",
   "execution_count": 154,
   "metadata": {},
   "outputs": [
    {
     "data": {
      "text/html": [
       "<div>\n",
       "<style scoped>\n",
       "    .dataframe tbody tr th:only-of-type {\n",
       "        vertical-align: middle;\n",
       "    }\n",
       "\n",
       "    .dataframe tbody tr th {\n",
       "        vertical-align: top;\n",
       "    }\n",
       "\n",
       "    .dataframe thead th {\n",
       "        text-align: right;\n",
       "    }\n",
       "</style>\n",
       "<table border=\"1\" class=\"dataframe\">\n",
       "  <thead>\n",
       "    <tr style=\"text-align: right;\">\n",
       "      <th></th>\n",
       "      <th>agg1</th>\n",
       "      <th>12V04CP4:PC12007.MEAS</th>\n",
       "      <th>12P01BCP4:PI12956.PNT</th>\n",
       "      <th>12P01BCP4:FC12847.MEAS</th>\n",
       "      <th>12V08CP4:FC12351.MEAS</th>\n",
       "      <th>12V04CP4:FC12006.MEAS</th>\n",
       "      <th>12DATASCRCP1:TI12813.PNT</th>\n",
       "      <th>12V04CP4:LC12005A.MEAS</th>\n",
       "      <th>12GTWY_E101:FIE12404.PNT</th>\n",
       "      <th>12V05CP4:PC12073.MEAS</th>\n",
       "      <th>HART_P1CP04:FY12847FB.MEAS</th>\n",
       "      <th>12P01BCP4:PI12955.PNT</th>\n",
       "    </tr>\n",
       "  </thead>\n",
       "  <tbody>\n",
       "    <tr>\n",
       "      <th>0</th>\n",
       "      <td>1052642</td>\n",
       "      <td>0.616575</td>\n",
       "      <td>0.715633</td>\n",
       "      <td>0.000338</td>\n",
       "      <td>0.351119</td>\n",
       "      <td>0.332981</td>\n",
       "      <td>0.069354</td>\n",
       "      <td>0.516241</td>\n",
       "      <td>0.114017</td>\n",
       "      <td>0.371921</td>\n",
       "      <td>0.982966</td>\n",
       "      <td>0.496189</td>\n",
       "    </tr>\n",
       "    <tr>\n",
       "      <th>1</th>\n",
       "      <td>1052643</td>\n",
       "      <td>0.624924</td>\n",
       "      <td>0.714983</td>\n",
       "      <td>0.000358</td>\n",
       "      <td>0.352894</td>\n",
       "      <td>0.332231</td>\n",
       "      <td>0.067677</td>\n",
       "      <td>0.513221</td>\n",
       "      <td>0.115755</td>\n",
       "      <td>0.372420</td>\n",
       "      <td>0.982966</td>\n",
       "      <td>0.496189</td>\n",
       "    </tr>\n",
       "    <tr>\n",
       "      <th>2</th>\n",
       "      <td>1052644</td>\n",
       "      <td>0.626434</td>\n",
       "      <td>0.715307</td>\n",
       "      <td>0.000398</td>\n",
       "      <td>0.353981</td>\n",
       "      <td>0.329184</td>\n",
       "      <td>0.068198</td>\n",
       "      <td>0.512130</td>\n",
       "      <td>0.106135</td>\n",
       "      <td>0.372087</td>\n",
       "      <td>0.982966</td>\n",
       "      <td>0.495362</td>\n",
       "    </tr>\n",
       "    <tr>\n",
       "      <th>3</th>\n",
       "      <td>1052645</td>\n",
       "      <td>0.622968</td>\n",
       "      <td>0.715794</td>\n",
       "      <td>0.000318</td>\n",
       "      <td>0.354564</td>\n",
       "      <td>0.331178</td>\n",
       "      <td>0.060073</td>\n",
       "      <td>0.512718</td>\n",
       "      <td>0.109651</td>\n",
       "      <td>0.373418</td>\n",
       "      <td>0.982966</td>\n",
       "      <td>0.495527</td>\n",
       "    </tr>\n",
       "    <tr>\n",
       "      <th>4</th>\n",
       "      <td>1052646</td>\n",
       "      <td>0.625279</td>\n",
       "      <td>0.715388</td>\n",
       "      <td>0.000348</td>\n",
       "      <td>0.355147</td>\n",
       "      <td>0.330455</td>\n",
       "      <td>0.054184</td>\n",
       "      <td>0.511166</td>\n",
       "      <td>0.109651</td>\n",
       "      <td>0.373916</td>\n",
       "      <td>0.982966</td>\n",
       "      <td>0.495527</td>\n",
       "    </tr>\n",
       "  </tbody>\n",
       "</table>\n",
       "</div>"
      ],
      "text/plain": [
       "      agg1  12V04CP4:PC12007.MEAS  12P01BCP4:PI12956.PNT  \\\n",
       "0  1052642  0.616575               0.715633                \n",
       "1  1052643  0.624924               0.714983                \n",
       "2  1052644  0.626434               0.715307                \n",
       "3  1052645  0.622968               0.715794                \n",
       "4  1052646  0.625279               0.715388                \n",
       "\n",
       "   12P01BCP4:FC12847.MEAS  12V08CP4:FC12351.MEAS  12V04CP4:FC12006.MEAS  \\\n",
       "0  0.000338                0.351119               0.332981                \n",
       "1  0.000358                0.352894               0.332231                \n",
       "2  0.000398                0.353981               0.329184                \n",
       "3  0.000318                0.354564               0.331178                \n",
       "4  0.000348                0.355147               0.330455                \n",
       "\n",
       "   12DATASCRCP1:TI12813.PNT  12V04CP4:LC12005A.MEAS  12GTWY_E101:FIE12404.PNT  \\\n",
       "0  0.069354                  0.516241                0.114017                   \n",
       "1  0.067677                  0.513221                0.115755                   \n",
       "2  0.068198                  0.512130                0.106135                   \n",
       "3  0.060073                  0.512718                0.109651                   \n",
       "4  0.054184                  0.511166                0.109651                   \n",
       "\n",
       "   12V05CP4:PC12073.MEAS  HART_P1CP04:FY12847FB.MEAS  12P01BCP4:PI12955.PNT  \n",
       "0  0.371921               0.982966                    0.496189               \n",
       "1  0.372420               0.982966                    0.496189               \n",
       "2  0.372087               0.982966                    0.495362               \n",
       "3  0.373418               0.982966                    0.495527               \n",
       "4  0.373916               0.982966                    0.495527               "
      ]
     },
     "execution_count": 154,
     "metadata": {},
     "output_type": "execute_result"
    }
   ],
   "source": [
    "df_agg.head()"
   ]
  },
  {
   "cell_type": "markdown",
   "metadata": {},
   "source": [
    "### Standardize the data"
   ]
  },
  {
   "cell_type": "code",
   "execution_count": 189,
   "metadata": {},
   "outputs": [
    {
     "name": "stdout",
     "output_type": "stream",
     "text": [
      "['agg1' '12V04CP4:PC12007.MEAS' '12P01BCP4:PI12956.PNT'\n",
      " '12P01BCP4:FC12847.MEAS' '12V08CP4:FC12351.MEAS' '12V04CP4:FC12006.MEAS'\n",
      " '12DATASCRCP1:TI12813.PNT' '12V04CP4:LC12005A.MEAS'\n",
      " '12GTWY_E101:FIE12404.PNT' '12V05CP4:PC12073.MEAS'\n",
      " 'HART_P1CP04:FY12847FB.MEAS' '12P01BCP4:PI12955.PNT']\n",
      "['12V04CP4:PC12007.MEAS', '12P01BCP4:PI12956.PNT', '12P01BCP4:FC12847.MEAS', '12V08CP4:FC12351.MEAS', '12V04CP4:FC12006.MEAS', '12DATASCRCP1:TI12813.PNT', '12V04CP4:LC12005A.MEAS', '12GTWY_E101:FIE12404.PNT', '12V05CP4:PC12073.MEAS', 'HART_P1CP04:FY12847FB.MEAS', '12P01BCP4:PI12955.PNT']\n"
     ]
    }
   ],
   "source": [
    "from sklearn.preprocessing import StandardScaler\n",
    "\n",
    "df_pca = df_agg.copy()\n",
    "print(df_pca.columns.values)\n",
    "features = [x for x in df_pca.columns.values if x not in set([agg_col])]\n",
    "print(features)\n",
    "\n",
    "# Separating out the features\n",
    "x = df_pca.loc[:, features].values\n",
    "\n",
    "# Standardizing the features\n",
    "x = StandardScaler().fit_transform(x)"
   ]
  },
  {
   "cell_type": "markdown",
   "metadata": {},
   "source": [
    "### PCA Projection"
   ]
  },
  {
   "cell_type": "code",
   "execution_count": 182,
   "metadata": {},
   "outputs": [],
   "source": [
    "from sklearn.decomposition import PCA\n",
    "num_components = len(df_pca.columns.values) - 1\n",
    "pca = PCA(n_components=num_components)\n",
    "principalComponents = pca.fit_transform(x)"
   ]
  },
  {
   "cell_type": "code",
   "execution_count": 183,
   "metadata": {},
   "outputs": [
    {
     "name": "stdout",
     "output_type": "stream",
     "text": [
      "| Component | Individual Contribution | Cumulative |\n",
      "| -- | -- | -- |\n",
      "| Component 1 |      28.44 |      28.44 |\n",
      "| Component 2 |      15.07 |      43.51 |\n",
      "| Component 3 |      12.50 |      56.01 |\n",
      "| Component 4 |      11.92 |      67.93 |\n",
      "| Component 5 |      10.80 |      78.73 |\n",
      "| Component 6 |       6.67 |      85.40 |\n",
      "| Component 7 |       4.69 |      90.10 |\n",
      "| Component 8 |       4.14 |      94.23 |\n",
      "| Component 9 |       3.99 |      98.22 |\n",
      "| Component 10 |       1.75 |      99.98 |\n",
      "| Component 11 |       0.02 |     100.00 |\n"
     ]
    }
   ],
   "source": [
    "sum = 0\n",
    "idx = 1\n",
    "print('| Component | Individual Contribution | Cumulative |')\n",
    "print('| -- | -- | -- |')\n",
    "for val in pca.explained_variance_ratio_:\n",
    "    sum += val\n",
    "    print('| Component ' + str(idx), end = ' | ')\n",
    "    print(\"{:10.2f}\".format(val*100), end=' | ')\n",
    "    print(\"{:10.2f}\".format(sum*100), end= ' |\\n')\n",
    "    idx += 1"
   ]
  },
  {
   "cell_type": "markdown",
   "metadata": {},
   "source": [
    "### Create a principal dataframe with all the components"
   ]
  },
  {
   "cell_type": "code",
   "execution_count": 184,
   "metadata": {},
   "outputs": [],
   "source": [
    "pca_col_list = ['pc'+str(i+1) for i in range(num_components)]\n",
    "principalDf = pd.DataFrame(data = principalComponents, columns = pca_col_list)"
   ]
  },
  {
   "cell_type": "code",
   "execution_count": 185,
   "metadata": {},
   "outputs": [],
   "source": [
    "agg_col_vals = df_pca[agg_col]\n",
    "principalDf[agg_col] = agg_col_vals"
   ]
  },
  {
   "cell_type": "markdown",
   "metadata": {},
   "source": [
    "### Find the influence of features in each component"
   ]
  },
  {
   "cell_type": "code",
   "execution_count": 187,
   "metadata": {},
   "outputs": [],
   "source": [
    "df_infl = pd.DataFrame(pca.components_,columns=features,index=pca_col_list)"
   ]
  },
  {
   "cell_type": "code",
   "execution_count": 188,
   "metadata": {},
   "outputs": [
    {
     "data": {
      "text/html": [
       "<div>\n",
       "<style scoped>\n",
       "    .dataframe tbody tr th:only-of-type {\n",
       "        vertical-align: middle;\n",
       "    }\n",
       "\n",
       "    .dataframe tbody tr th {\n",
       "        vertical-align: top;\n",
       "    }\n",
       "\n",
       "    .dataframe thead th {\n",
       "        text-align: right;\n",
       "    }\n",
       "</style>\n",
       "<table border=\"1\" class=\"dataframe\">\n",
       "  <thead>\n",
       "    <tr style=\"text-align: right;\">\n",
       "      <th></th>\n",
       "      <th>12V04CP4:PC12007.MEAS</th>\n",
       "      <th>12P01BCP4:PI12956.PNT</th>\n",
       "      <th>12P01BCP4:FC12847.MEAS</th>\n",
       "      <th>12V08CP4:FC12351.MEAS</th>\n",
       "      <th>12V04CP4:FC12006.MEAS</th>\n",
       "      <th>12DATASCRCP1:TI12813.PNT</th>\n",
       "      <th>12V04CP4:LC12005A.MEAS</th>\n",
       "      <th>12GTWY_E101:FIE12404.PNT</th>\n",
       "      <th>12V05CP4:PC12073.MEAS</th>\n",
       "      <th>HART_P1CP04:FY12847FB.MEAS</th>\n",
       "      <th>12P01BCP4:PI12955.PNT</th>\n",
       "    </tr>\n",
       "  </thead>\n",
       "  <tbody>\n",
       "    <tr>\n",
       "      <th>pc1</th>\n",
       "      <td>-0.305311</td>\n",
       "      <td>-0.386764</td>\n",
       "      <td>0.136404</td>\n",
       "      <td>0.347711</td>\n",
       "      <td>-0.497390</td>\n",
       "      <td>-0.315856</td>\n",
       "      <td>-0.151328</td>\n",
       "      <td>-0.495177</td>\n",
       "      <td>0.045025</td>\n",
       "      <td>-0.019727</td>\n",
       "      <td>-0.003363</td>\n",
       "    </tr>\n",
       "    <tr>\n",
       "      <th>pc2</th>\n",
       "      <td>0.213974</td>\n",
       "      <td>0.292999</td>\n",
       "      <td>0.526708</td>\n",
       "      <td>-0.108492</td>\n",
       "      <td>-0.204431</td>\n",
       "      <td>0.096471</td>\n",
       "      <td>0.168455</td>\n",
       "      <td>-0.208028</td>\n",
       "      <td>-0.249400</td>\n",
       "      <td>-0.433661</td>\n",
       "      <td>0.454050</td>\n",
       "    </tr>\n",
       "    <tr>\n",
       "      <th>pc3</th>\n",
       "      <td>-0.076625</td>\n",
       "      <td>-0.309830</td>\n",
       "      <td>0.329613</td>\n",
       "      <td>0.037351</td>\n",
       "      <td>0.170550</td>\n",
       "      <td>0.299568</td>\n",
       "      <td>-0.155394</td>\n",
       "      <td>0.166047</td>\n",
       "      <td>0.593857</td>\n",
       "      <td>-0.495845</td>\n",
       "      <td>-0.137909</td>\n",
       "    </tr>\n",
       "    <tr>\n",
       "      <th>pc4</th>\n",
       "      <td>-0.186940</td>\n",
       "      <td>0.067837</td>\n",
       "      <td>0.274795</td>\n",
       "      <td>0.003392</td>\n",
       "      <td>0.196163</td>\n",
       "      <td>-0.424744</td>\n",
       "      <td>-0.054689</td>\n",
       "      <td>0.206129</td>\n",
       "      <td>-0.458922</td>\n",
       "      <td>-0.330695</td>\n",
       "      <td>-0.548262</td>\n",
       "    </tr>\n",
       "    <tr>\n",
       "      <th>pc5</th>\n",
       "      <td>-0.032051</td>\n",
       "      <td>0.325079</td>\n",
       "      <td>0.001884</td>\n",
       "      <td>0.465408</td>\n",
       "      <td>0.142816</td>\n",
       "      <td>0.043086</td>\n",
       "      <td>-0.744483</td>\n",
       "      <td>0.139303</td>\n",
       "      <td>-0.090594</td>\n",
       "      <td>0.009879</td>\n",
       "      <td>0.269203</td>\n",
       "    </tr>\n",
       "    <tr>\n",
       "      <th>pc6</th>\n",
       "      <td>-0.846856</td>\n",
       "      <td>0.115021</td>\n",
       "      <td>-0.052405</td>\n",
       "      <td>-0.348101</td>\n",
       "      <td>-0.013833</td>\n",
       "      <td>0.317742</td>\n",
       "      <td>-0.047206</td>\n",
       "      <td>-0.014123</td>\n",
       "      <td>-0.140363</td>\n",
       "      <td>-0.014335</td>\n",
       "      <td>0.148992</td>\n",
       "    </tr>\n",
       "    <tr>\n",
       "      <th>pc7</th>\n",
       "      <td>-0.290976</td>\n",
       "      <td>0.178394</td>\n",
       "      <td>-0.164887</td>\n",
       "      <td>0.504608</td>\n",
       "      <td>0.192165</td>\n",
       "      <td>-0.275800</td>\n",
       "      <td>0.540961</td>\n",
       "      <td>0.190038</td>\n",
       "      <td>0.196654</td>\n",
       "      <td>-0.190143</td>\n",
       "      <td>0.291751</td>\n",
       "    </tr>\n",
       "    <tr>\n",
       "      <th>pc8</th>\n",
       "      <td>0.061772</td>\n",
       "      <td>-0.057687</td>\n",
       "      <td>-0.414964</td>\n",
       "      <td>-0.462253</td>\n",
       "      <td>-0.001415</td>\n",
       "      <td>-0.513976</td>\n",
       "      <td>-0.264817</td>\n",
       "      <td>0.006769</td>\n",
       "      <td>0.160182</td>\n",
       "      <td>-0.400073</td>\n",
       "      <td>0.294822</td>\n",
       "    </tr>\n",
       "    <tr>\n",
       "      <th>pc9</th>\n",
       "      <td>0.110239</td>\n",
       "      <td>-0.020661</td>\n",
       "      <td>-0.563012</td>\n",
       "      <td>0.236143</td>\n",
       "      <td>-0.160827</td>\n",
       "      <td>0.415352</td>\n",
       "      <td>0.042957</td>\n",
       "      <td>-0.161523</td>\n",
       "      <td>-0.282583</td>\n",
       "      <td>-0.509389</td>\n",
       "      <td>-0.221419</td>\n",
       "    </tr>\n",
       "    <tr>\n",
       "      <th>pc10</th>\n",
       "      <td>-0.036810</td>\n",
       "      <td>0.713602</td>\n",
       "      <td>-0.026416</td>\n",
       "      <td>-0.063747</td>\n",
       "      <td>-0.229900</td>\n",
       "      <td>-0.071914</td>\n",
       "      <td>-0.022111</td>\n",
       "      <td>-0.259036</td>\n",
       "      <td>0.447487</td>\n",
       "      <td>-0.018253</td>\n",
       "      <td>-0.398075</td>\n",
       "    </tr>\n",
       "    <tr>\n",
       "      <th>pc11</th>\n",
       "      <td>0.000343</td>\n",
       "      <td>0.016015</td>\n",
       "      <td>0.001566</td>\n",
       "      <td>0.002597</td>\n",
       "      <td>-0.712045</td>\n",
       "      <td>0.006143</td>\n",
       "      <td>0.000609</td>\n",
       "      <td>0.701790</td>\n",
       "      <td>0.012619</td>\n",
       "      <td>0.001104</td>\n",
       "      <td>-0.004295</td>\n",
       "    </tr>\n",
       "  </tbody>\n",
       "</table>\n",
       "</div>"
      ],
      "text/plain": [
       "      12V04CP4:PC12007.MEAS  12P01BCP4:PI12956.PNT  12P01BCP4:FC12847.MEAS  \\\n",
       "pc1  -0.305311              -0.386764               0.136404                 \n",
       "pc2   0.213974               0.292999               0.526708                 \n",
       "pc3  -0.076625              -0.309830               0.329613                 \n",
       "pc4  -0.186940               0.067837               0.274795                 \n",
       "pc5  -0.032051               0.325079               0.001884                 \n",
       "pc6  -0.846856               0.115021              -0.052405                 \n",
       "pc7  -0.290976               0.178394              -0.164887                 \n",
       "pc8   0.061772              -0.057687              -0.414964                 \n",
       "pc9   0.110239              -0.020661              -0.563012                 \n",
       "pc10 -0.036810               0.713602              -0.026416                 \n",
       "pc11  0.000343               0.016015               0.001566                 \n",
       "\n",
       "      12V08CP4:FC12351.MEAS  12V04CP4:FC12006.MEAS  12DATASCRCP1:TI12813.PNT  \\\n",
       "pc1   0.347711              -0.497390              -0.315856                   \n",
       "pc2  -0.108492              -0.204431               0.096471                   \n",
       "pc3   0.037351               0.170550               0.299568                   \n",
       "pc4   0.003392               0.196163              -0.424744                   \n",
       "pc5   0.465408               0.142816               0.043086                   \n",
       "pc6  -0.348101              -0.013833               0.317742                   \n",
       "pc7   0.504608               0.192165              -0.275800                   \n",
       "pc8  -0.462253              -0.001415              -0.513976                   \n",
       "pc9   0.236143              -0.160827               0.415352                   \n",
       "pc10 -0.063747              -0.229900              -0.071914                   \n",
       "pc11  0.002597              -0.712045               0.006143                   \n",
       "\n",
       "      12V04CP4:LC12005A.MEAS  12GTWY_E101:FIE12404.PNT  12V05CP4:PC12073.MEAS  \\\n",
       "pc1  -0.151328               -0.495177                  0.045025                \n",
       "pc2   0.168455               -0.208028                 -0.249400                \n",
       "pc3  -0.155394                0.166047                  0.593857                \n",
       "pc4  -0.054689                0.206129                 -0.458922                \n",
       "pc5  -0.744483                0.139303                 -0.090594                \n",
       "pc6  -0.047206               -0.014123                 -0.140363                \n",
       "pc7   0.540961                0.190038                  0.196654                \n",
       "pc8  -0.264817                0.006769                  0.160182                \n",
       "pc9   0.042957               -0.161523                 -0.282583                \n",
       "pc10 -0.022111               -0.259036                  0.447487                \n",
       "pc11  0.000609                0.701790                  0.012619                \n",
       "\n",
       "      HART_P1CP04:FY12847FB.MEAS  12P01BCP4:PI12955.PNT  \n",
       "pc1  -0.019727                   -0.003363               \n",
       "pc2  -0.433661                    0.454050               \n",
       "pc3  -0.495845                   -0.137909               \n",
       "pc4  -0.330695                   -0.548262               \n",
       "pc5   0.009879                    0.269203               \n",
       "pc6  -0.014335                    0.148992               \n",
       "pc7  -0.190143                    0.291751               \n",
       "pc8  -0.400073                    0.294822               \n",
       "pc9  -0.509389                   -0.221419               \n",
       "pc10 -0.018253                   -0.398075               \n",
       "pc11  0.001104                   -0.004295               "
      ]
     },
     "execution_count": 188,
     "metadata": {},
     "output_type": "execute_result"
    }
   ],
   "source": [
    "df_infl"
   ]
  },
  {
   "cell_type": "markdown",
   "metadata": {},
   "source": [
    "### Write the principal components to file"
   ]
  },
  {
   "cell_type": "code",
   "execution_count": 103,
   "metadata": {},
   "outputs": [
    {
     "name": "stdout",
     "output_type": "stream",
     "text": [
      "Writing to  ../data/interim/P1201/pca/components_11_agg1.csv\n"
     ]
    }
   ],
   "source": [
    "output_file = INT_DATA_DIR + 'pca/components_' + str(num_components) + '_' + agg_col + '.csv'\n",
    "with open(output_file, 'wb') as f:\n",
    "    principalDf.to_csv(output_file, header=True, index=False)\n",
    "\n",
    "print('Writing to ', output_file)"
   ]
  },
  {
   "cell_type": "markdown",
   "metadata": {},
   "source": [
    "## Aggregation - 5 minute"
   ]
  },
  {
   "cell_type": "markdown",
   "metadata": {},
   "source": [
    "### Reading Aggregated Data"
   ]
  },
  {
   "cell_type": "code",
   "execution_count": 104,
   "metadata": {},
   "outputs": [],
   "source": [
    "### Read aggregated data\n",
    "\n",
    "agg_val = 5\n",
    "agg_col = 'agg' + str(agg_val) \n",
    "input_file = INT_DATA_DIR + 'agg_single/' + agg_col + '.csv'\n",
    "with open(input_file, 'rb') as f:\n",
    "    df_agg = pd.read_csv(input_file)"
   ]
  },
  {
   "cell_type": "code",
   "execution_count": 105,
   "metadata": {},
   "outputs": [
    {
     "data": {
      "text/html": [
       "<div>\n",
       "<style scoped>\n",
       "    .dataframe tbody tr th:only-of-type {\n",
       "        vertical-align: middle;\n",
       "    }\n",
       "\n",
       "    .dataframe tbody tr th {\n",
       "        vertical-align: top;\n",
       "    }\n",
       "\n",
       "    .dataframe thead th {\n",
       "        text-align: right;\n",
       "    }\n",
       "</style>\n",
       "<table border=\"1\" class=\"dataframe\">\n",
       "  <thead>\n",
       "    <tr style=\"text-align: right;\">\n",
       "      <th></th>\n",
       "      <th>agg5</th>\n",
       "      <th>12V04CP4:PC12007.MEAS</th>\n",
       "      <th>12P01BCP4:PI12956.PNT</th>\n",
       "      <th>12P01BCP4:FC12847.MEAS</th>\n",
       "      <th>12V08CP4:FC12351.MEAS</th>\n",
       "      <th>12V04CP4:FC12006.MEAS</th>\n",
       "      <th>12DATASCRCP1:TI12813.PNT</th>\n",
       "      <th>12V04CP4:LC12005A.MEAS</th>\n",
       "      <th>12GTWY_E101:FIE12404.PNT</th>\n",
       "      <th>12V05CP4:PC12073.MEAS</th>\n",
       "      <th>HART_P1CP04:FY12847FB.MEAS</th>\n",
       "      <th>12P01BCP4:PI12955.PNT</th>\n",
       "    </tr>\n",
       "  </thead>\n",
       "  <tbody>\n",
       "    <tr>\n",
       "      <th>0</th>\n",
       "      <td>1052640</td>\n",
       "      <td>0.622644</td>\n",
       "      <td>0.715307</td>\n",
       "      <td>0.000365</td>\n",
       "      <td>0.352665</td>\n",
       "      <td>0.331465</td>\n",
       "      <td>0.068409</td>\n",
       "      <td>0.513864</td>\n",
       "      <td>0.111969</td>\n",
       "      <td>0.372143</td>\n",
       "      <td>0.982966</td>\n",
       "      <td>0.495914</td>\n",
       "    </tr>\n",
       "    <tr>\n",
       "      <th>1</th>\n",
       "      <td>1052645</td>\n",
       "      <td>0.632809</td>\n",
       "      <td>0.715421</td>\n",
       "      <td>0.000372</td>\n",
       "      <td>0.353743</td>\n",
       "      <td>0.330502</td>\n",
       "      <td>0.056511</td>\n",
       "      <td>0.511006</td>\n",
       "      <td>0.109826</td>\n",
       "      <td>0.386543</td>\n",
       "      <td>0.982966</td>\n",
       "      <td>0.495460</td>\n",
       "    </tr>\n",
       "    <tr>\n",
       "      <th>2</th>\n",
       "      <td>1052650</td>\n",
       "      <td>0.616883</td>\n",
       "      <td>0.714836</td>\n",
       "      <td>0.000398</td>\n",
       "      <td>0.352317</td>\n",
       "      <td>0.329425</td>\n",
       "      <td>0.053072</td>\n",
       "      <td>0.507206</td>\n",
       "      <td>0.109298</td>\n",
       "      <td>0.397719</td>\n",
       "      <td>0.982966</td>\n",
       "      <td>0.495461</td>\n",
       "    </tr>\n",
       "    <tr>\n",
       "      <th>3</th>\n",
       "      <td>1052655</td>\n",
       "      <td>0.574633</td>\n",
       "      <td>0.714819</td>\n",
       "      <td>0.000358</td>\n",
       "      <td>0.349970</td>\n",
       "      <td>0.331229</td>\n",
       "      <td>0.049829</td>\n",
       "      <td>0.506203</td>\n",
       "      <td>0.108941</td>\n",
       "      <td>0.368904</td>\n",
       "      <td>0.982966</td>\n",
       "      <td>0.494599</td>\n",
       "    </tr>\n",
       "    <tr>\n",
       "      <th>4</th>\n",
       "      <td>1052660</td>\n",
       "      <td>0.604529</td>\n",
       "      <td>0.714495</td>\n",
       "      <td>0.000342</td>\n",
       "      <td>0.355700</td>\n",
       "      <td>0.328296</td>\n",
       "      <td>0.051875</td>\n",
       "      <td>0.502634</td>\n",
       "      <td>0.107702</td>\n",
       "      <td>0.358995</td>\n",
       "      <td>0.982966</td>\n",
       "      <td>0.493837</td>\n",
       "    </tr>\n",
       "  </tbody>\n",
       "</table>\n",
       "</div>"
      ],
      "text/plain": [
       "      agg5  12V04CP4:PC12007.MEAS  12P01BCP4:PI12956.PNT  \\\n",
       "0  1052640  0.622644               0.715307                \n",
       "1  1052645  0.632809               0.715421                \n",
       "2  1052650  0.616883               0.714836                \n",
       "3  1052655  0.574633               0.714819                \n",
       "4  1052660  0.604529               0.714495                \n",
       "\n",
       "   12P01BCP4:FC12847.MEAS  12V08CP4:FC12351.MEAS  12V04CP4:FC12006.MEAS  \\\n",
       "0  0.000365                0.352665               0.331465                \n",
       "1  0.000372                0.353743               0.330502                \n",
       "2  0.000398                0.352317               0.329425                \n",
       "3  0.000358                0.349970               0.331229                \n",
       "4  0.000342                0.355700               0.328296                \n",
       "\n",
       "   12DATASCRCP1:TI12813.PNT  12V04CP4:LC12005A.MEAS  12GTWY_E101:FIE12404.PNT  \\\n",
       "0  0.068409                  0.513864                0.111969                   \n",
       "1  0.056511                  0.511006                0.109826                   \n",
       "2  0.053072                  0.507206                0.109298                   \n",
       "3  0.049829                  0.506203                0.108941                   \n",
       "4  0.051875                  0.502634                0.107702                   \n",
       "\n",
       "   12V05CP4:PC12073.MEAS  HART_P1CP04:FY12847FB.MEAS  12P01BCP4:PI12955.PNT  \n",
       "0  0.372143               0.982966                    0.495914               \n",
       "1  0.386543               0.982966                    0.495460               \n",
       "2  0.397719               0.982966                    0.495461               \n",
       "3  0.368904               0.982966                    0.494599               \n",
       "4  0.358995               0.982966                    0.493837               "
      ]
     },
     "execution_count": 105,
     "metadata": {},
     "output_type": "execute_result"
    }
   ],
   "source": [
    "df_agg.head()"
   ]
  },
  {
   "cell_type": "markdown",
   "metadata": {},
   "source": [
    "### Standardize the data"
   ]
  },
  {
   "cell_type": "code",
   "execution_count": 106,
   "metadata": {},
   "outputs": [
    {
     "name": "stdout",
     "output_type": "stream",
     "text": [
      "['12GTWY_E101:FIE12404.PNT', '12V08CP4:FC12351.MEAS', '12P01BCP4:FC12847.MEAS', '12V04CP4:LC12005A.MEAS', '12V04CP4:PC12007.MEAS', '12DATASCRCP1:TI12813.PNT', '12P01BCP4:PI12955.PNT', '12P01BCP4:PI12956.PNT', '12V05CP4:PC12073.MEAS', 'HART_P1CP04:FY12847FB.MEAS', '12V04CP4:FC12006.MEAS']\n"
     ]
    }
   ],
   "source": [
    "from sklearn.preprocessing import StandardScaler\n",
    "\n",
    "df_pca = df_agg.copy()\n",
    "features = [x for x in df_pca.columns.values if x not in set([agg_col])]\n",
    "print(features)\n",
    "\n",
    "# Separating out the features\n",
    "x = df_pca.loc[:, features].values\n",
    "\n",
    "# Standardizing the features\n",
    "x = StandardScaler().fit_transform(x)"
   ]
  },
  {
   "cell_type": "markdown",
   "metadata": {},
   "source": [
    "### PCA Projection"
   ]
  },
  {
   "cell_type": "code",
   "execution_count": 107,
   "metadata": {},
   "outputs": [],
   "source": [
    "from sklearn.decomposition import PCA\n",
    "num_components = len(df_pca.columns.values) - 1\n",
    "pca = PCA(n_components=num_components)\n",
    "principalComponents = pca.fit_transform(x)"
   ]
  },
  {
   "cell_type": "code",
   "execution_count": 110,
   "metadata": {},
   "outputs": [
    {
     "name": "stdout",
     "output_type": "stream",
     "text": [
      "| Component | Individual Contribution | Cumulative |\n",
      "| -- | -- | -- |\n",
      "| Component 1 |      28.79 |      28.79 |\n",
      "| Component 2 |      16.41 |      45.20 |\n",
      "| Component 3 |      12.70 |      57.90 |\n",
      "| Component 4 |      12.00 |      69.90 |\n",
      "| Component 5 |      10.80 |      80.70 |\n",
      "| Component 6 |       6.65 |      87.35 |\n",
      "| Component 7 |       4.67 |      92.02 |\n",
      "| Component 8 |       4.09 |      96.11 |\n",
      "| Component 9 |       2.14 |      98.25 |\n",
      "| Component 10 |       1.73 |      99.98 |\n",
      "| Component 11 |       0.02 |     100.00 |\n"
     ]
    }
   ],
   "source": [
    "sum = 0\n",
    "idx = 1\n",
    "print('| Component | Individual Contribution | Cumulative |')\n",
    "print('| -- | -- | -- |')\n",
    "for val in pca.explained_variance_ratio_:\n",
    "    sum += val\n",
    "    print('| Component ' + str(idx), end = ' | ')\n",
    "    print(\"{:10.2f}\".format(val*100), end=' | ')\n",
    "    print(\"{:10.2f}\".format(sum*100), end= ' |\\n')\n",
    "    idx += 1"
   ]
  },
  {
   "cell_type": "markdown",
   "metadata": {},
   "source": [
    "### Create a principal dataframe with all the components"
   ]
  },
  {
   "cell_type": "code",
   "execution_count": 111,
   "metadata": {},
   "outputs": [],
   "source": [
    "pca_col_list = ['pc'+str(i+1) for i in range(num_components)]\n",
    "principalDf = pd.DataFrame(data = principalComponents, columns = pca_col_list)"
   ]
  },
  {
   "cell_type": "code",
   "execution_count": 112,
   "metadata": {},
   "outputs": [],
   "source": [
    "agg_col_vals = df_pca[agg_col]\n",
    "principalDf[agg_col] = agg_col_vals"
   ]
  },
  {
   "cell_type": "markdown",
   "metadata": {},
   "source": [
    "### Write the principal components to file"
   ]
  },
  {
   "cell_type": "code",
   "execution_count": 113,
   "metadata": {},
   "outputs": [
    {
     "name": "stdout",
     "output_type": "stream",
     "text": [
      "Writing to  ../data/interim/P1201/pca/components_11_agg5.csv\n"
     ]
    }
   ],
   "source": [
    "output_file = INT_DATA_DIR + 'pca/components_' + str(num_components) + '_' + agg_col + '.csv'\n",
    "with open(output_file, 'wb') as f:\n",
    "    principalDf.to_csv(output_file, header=True, index=False)\n",
    "\n",
    "print('Writing to ', output_file)"
   ]
  },
  {
   "cell_type": "markdown",
   "metadata": {},
   "source": [
    "## Aggregation - 10 minutes"
   ]
  },
  {
   "cell_type": "markdown",
   "metadata": {},
   "source": [
    "### Reading Aggregated Data"
   ]
  },
  {
   "cell_type": "code",
   "execution_count": 114,
   "metadata": {},
   "outputs": [],
   "source": [
    "### Read aggregated data\n",
    "\n",
    "agg_val = 10\n",
    "agg_col = 'agg' + str(agg_val) \n",
    "input_file = INT_DATA_DIR + 'agg_single/' + agg_col + '.csv'\n",
    "with open(input_file, 'rb') as f:\n",
    "    df_agg = pd.read_csv(input_file)"
   ]
  },
  {
   "cell_type": "code",
   "execution_count": 115,
   "metadata": {},
   "outputs": [
    {
     "data": {
      "text/html": [
       "<div>\n",
       "<style scoped>\n",
       "    .dataframe tbody tr th:only-of-type {\n",
       "        vertical-align: middle;\n",
       "    }\n",
       "\n",
       "    .dataframe tbody tr th {\n",
       "        vertical-align: top;\n",
       "    }\n",
       "\n",
       "    .dataframe thead th {\n",
       "        text-align: right;\n",
       "    }\n",
       "</style>\n",
       "<table border=\"1\" class=\"dataframe\">\n",
       "  <thead>\n",
       "    <tr style=\"text-align: right;\">\n",
       "      <th></th>\n",
       "      <th>agg10</th>\n",
       "      <th>12V04CP4:PC12007.MEAS</th>\n",
       "      <th>12P01BCP4:PI12956.PNT</th>\n",
       "      <th>12P01BCP4:FC12847.MEAS</th>\n",
       "      <th>12V08CP4:FC12351.MEAS</th>\n",
       "      <th>12V04CP4:FC12006.MEAS</th>\n",
       "      <th>12DATASCRCP1:TI12813.PNT</th>\n",
       "      <th>12V04CP4:LC12005A.MEAS</th>\n",
       "      <th>12GTWY_E101:FIE12404.PNT</th>\n",
       "      <th>12V05CP4:PC12073.MEAS</th>\n",
       "      <th>HART_P1CP04:FY12847FB.MEAS</th>\n",
       "      <th>12P01BCP4:PI12955.PNT</th>\n",
       "    </tr>\n",
       "  </thead>\n",
       "  <tbody>\n",
       "    <tr>\n",
       "      <th>0</th>\n",
       "      <td>1052640</td>\n",
       "      <td>0.628997</td>\n",
       "      <td>0.715378</td>\n",
       "      <td>0.000369</td>\n",
       "      <td>0.353338</td>\n",
       "      <td>0.330863</td>\n",
       "      <td>0.060973</td>\n",
       "      <td>0.512078</td>\n",
       "      <td>0.110630</td>\n",
       "      <td>0.381143</td>\n",
       "      <td>0.982966</td>\n",
       "      <td>0.495630</td>\n",
       "    </tr>\n",
       "    <tr>\n",
       "      <th>1</th>\n",
       "      <td>1052650</td>\n",
       "      <td>0.595758</td>\n",
       "      <td>0.714828</td>\n",
       "      <td>0.000378</td>\n",
       "      <td>0.351143</td>\n",
       "      <td>0.330327</td>\n",
       "      <td>0.051451</td>\n",
       "      <td>0.506705</td>\n",
       "      <td>0.109120</td>\n",
       "      <td>0.383312</td>\n",
       "      <td>0.982966</td>\n",
       "      <td>0.495030</td>\n",
       "    </tr>\n",
       "    <tr>\n",
       "      <th>2</th>\n",
       "      <td>1052660</td>\n",
       "      <td>0.591158</td>\n",
       "      <td>0.714251</td>\n",
       "      <td>0.000346</td>\n",
       "      <td>0.362917</td>\n",
       "      <td>0.327817</td>\n",
       "      <td>0.048852</td>\n",
       "      <td>0.497875</td>\n",
       "      <td>0.105901</td>\n",
       "      <td>0.371686</td>\n",
       "      <td>0.982966</td>\n",
       "      <td>0.493522</td>\n",
       "    </tr>\n",
       "    <tr>\n",
       "      <th>3</th>\n",
       "      <td>1052670</td>\n",
       "      <td>0.624567</td>\n",
       "      <td>0.713170</td>\n",
       "      <td>0.000379</td>\n",
       "      <td>0.396434</td>\n",
       "      <td>0.325134</td>\n",
       "      <td>0.045897</td>\n",
       "      <td>0.481669</td>\n",
       "      <td>0.098409</td>\n",
       "      <td>0.394754</td>\n",
       "      <td>0.982966</td>\n",
       "      <td>0.492536</td>\n",
       "    </tr>\n",
       "    <tr>\n",
       "      <th>4</th>\n",
       "      <td>1052680</td>\n",
       "      <td>0.617990</td>\n",
       "      <td>0.712423</td>\n",
       "      <td>0.000345</td>\n",
       "      <td>0.410574</td>\n",
       "      <td>0.322231</td>\n",
       "      <td>0.026890</td>\n",
       "      <td>0.470181</td>\n",
       "      <td>0.093394</td>\n",
       "      <td>0.372669</td>\n",
       "      <td>0.982966</td>\n",
       "      <td>0.491534</td>\n",
       "    </tr>\n",
       "  </tbody>\n",
       "</table>\n",
       "</div>"
      ],
      "text/plain": [
       "     agg10  12V04CP4:PC12007.MEAS  12P01BCP4:PI12956.PNT  \\\n",
       "0  1052640  0.628997               0.715378                \n",
       "1  1052650  0.595758               0.714828                \n",
       "2  1052660  0.591158               0.714251                \n",
       "3  1052670  0.624567               0.713170                \n",
       "4  1052680  0.617990               0.712423                \n",
       "\n",
       "   12P01BCP4:FC12847.MEAS  12V08CP4:FC12351.MEAS  12V04CP4:FC12006.MEAS  \\\n",
       "0  0.000369                0.353338               0.330863                \n",
       "1  0.000378                0.351143               0.330327                \n",
       "2  0.000346                0.362917               0.327817                \n",
       "3  0.000379                0.396434               0.325134                \n",
       "4  0.000345                0.410574               0.322231                \n",
       "\n",
       "   12DATASCRCP1:TI12813.PNT  12V04CP4:LC12005A.MEAS  12GTWY_E101:FIE12404.PNT  \\\n",
       "0  0.060973                  0.512078                0.110630                   \n",
       "1  0.051451                  0.506705                0.109120                   \n",
       "2  0.048852                  0.497875                0.105901                   \n",
       "3  0.045897                  0.481669                0.098409                   \n",
       "4  0.026890                  0.470181                0.093394                   \n",
       "\n",
       "   12V05CP4:PC12073.MEAS  HART_P1CP04:FY12847FB.MEAS  12P01BCP4:PI12955.PNT  \n",
       "0  0.381143               0.982966                    0.495630               \n",
       "1  0.383312               0.982966                    0.495030               \n",
       "2  0.371686               0.982966                    0.493522               \n",
       "3  0.394754               0.982966                    0.492536               \n",
       "4  0.372669               0.982966                    0.491534               "
      ]
     },
     "execution_count": 115,
     "metadata": {},
     "output_type": "execute_result"
    }
   ],
   "source": [
    "df_agg.head()"
   ]
  },
  {
   "cell_type": "markdown",
   "metadata": {},
   "source": [
    "### Standardize the data"
   ]
  },
  {
   "cell_type": "code",
   "execution_count": 116,
   "metadata": {},
   "outputs": [
    {
     "name": "stdout",
     "output_type": "stream",
     "text": [
      "['12GTWY_E101:FIE12404.PNT', '12V08CP4:FC12351.MEAS', '12P01BCP4:FC12847.MEAS', '12V04CP4:LC12005A.MEAS', '12V04CP4:PC12007.MEAS', '12DATASCRCP1:TI12813.PNT', '12P01BCP4:PI12955.PNT', '12P01BCP4:PI12956.PNT', '12V05CP4:PC12073.MEAS', 'HART_P1CP04:FY12847FB.MEAS', '12V04CP4:FC12006.MEAS']\n"
     ]
    }
   ],
   "source": [
    "from sklearn.preprocessing import StandardScaler\n",
    "\n",
    "df_pca = df_agg.copy()\n",
    "features = [x for x in df_pca.columns.values if x not in set([agg_col])]\n",
    "print(features)\n",
    "\n",
    "# Separating out the features\n",
    "x = df_pca.loc[:, features].values\n",
    "\n",
    "# Standardizing the features\n",
    "x = StandardScaler().fit_transform(x)"
   ]
  },
  {
   "cell_type": "markdown",
   "metadata": {},
   "source": [
    "### PCA Projection"
   ]
  },
  {
   "cell_type": "code",
   "execution_count": 117,
   "metadata": {},
   "outputs": [],
   "source": [
    "from sklearn.decomposition import PCA\n",
    "num_components = len(df_pca.columns.values) - 1\n",
    "pca = PCA(n_components=num_components)\n",
    "principalComponents = pca.fit_transform(x)"
   ]
  },
  {
   "cell_type": "code",
   "execution_count": 120,
   "metadata": {},
   "outputs": [
    {
     "name": "stdout",
     "output_type": "stream",
     "text": [
      "| Component | Individual Contribution | Cumulative |\n",
      "| -- | -- | -- |\n",
      "| Component 1 |      28.94 |      28.94 |\n",
      "| Component 2 |      16.83 |      45.77 |\n",
      "| Component 3 |      12.75 |      58.52 |\n",
      "| Component 4 |      12.01 |      70.53 |\n",
      "| Component 5 |      10.79 |      81.32 |\n",
      "| Component 6 |       6.63 |      87.95 |\n",
      "| Component 7 |       4.66 |      92.61 |\n",
      "| Component 8 |       4.09 |      96.70 |\n",
      "| Component 9 |       1.79 |      98.49 |\n",
      "| Component 10 |       1.49 |      99.98 |\n",
      "| Component 11 |       0.02 |     100.00 |\n"
     ]
    }
   ],
   "source": [
    "sum = 0\n",
    "idx = 1\n",
    "print('| Component | Individual Contribution | Cumulative |')\n",
    "print('| -- | -- | -- |')\n",
    "for val in pca.explained_variance_ratio_:\n",
    "    sum += val\n",
    "    print('| Component ' + str(idx), end = ' | ')\n",
    "    print(\"{:10.2f}\".format(val*100), end=' | ')\n",
    "    print(\"{:10.2f}\".format(sum*100), end= ' |\\n')\n",
    "    idx += 1"
   ]
  },
  {
   "cell_type": "markdown",
   "metadata": {},
   "source": [
    "### Create a principal dataframe with all the components"
   ]
  },
  {
   "cell_type": "code",
   "execution_count": 121,
   "metadata": {},
   "outputs": [],
   "source": [
    "pca_col_list = ['pc'+str(i+1) for i in range(num_components)]\n",
    "principalDf = pd.DataFrame(data = principalComponents, columns = pca_col_list)"
   ]
  },
  {
   "cell_type": "code",
   "execution_count": 122,
   "metadata": {},
   "outputs": [],
   "source": [
    "agg_col_vals = df_pca[agg_col]\n",
    "principalDf[agg_col] = agg_col_vals"
   ]
  },
  {
   "cell_type": "markdown",
   "metadata": {},
   "source": [
    "### Write the principal components to file"
   ]
  },
  {
   "cell_type": "code",
   "execution_count": 123,
   "metadata": {},
   "outputs": [
    {
     "name": "stdout",
     "output_type": "stream",
     "text": [
      "Writing to  ../data/interim/P1201/pca/components_11_agg10.csv\n"
     ]
    }
   ],
   "source": [
    "output_file = INT_DATA_DIR + 'pca/components_' + str(num_components) + '_' + agg_col + '.csv'\n",
    "with open(output_file, 'wb') as f:\n",
    "    principalDf.to_csv(output_file, header=True, index=False)\n",
    "\n",
    "print('Writing to ', output_file)"
   ]
  },
  {
   "cell_type": "markdown",
   "metadata": {},
   "source": [
    "## Aggregation - 15 minutes"
   ]
  },
  {
   "cell_type": "markdown",
   "metadata": {},
   "source": [
    "### Reading Aggregated Data"
   ]
  },
  {
   "cell_type": "code",
   "execution_count": 124,
   "metadata": {},
   "outputs": [],
   "source": [
    "### Read aggregated data\n",
    "\n",
    "agg_val = 15\n",
    "agg_col = 'agg' + str(agg_val) \n",
    "input_file = INT_DATA_DIR + 'agg_single/' + agg_col + '.csv'\n",
    "with open(input_file, 'rb') as f:\n",
    "    df_agg = pd.read_csv(input_file)"
   ]
  },
  {
   "cell_type": "code",
   "execution_count": 125,
   "metadata": {},
   "outputs": [
    {
     "data": {
      "text/html": [
       "<div>\n",
       "<style scoped>\n",
       "    .dataframe tbody tr th:only-of-type {\n",
       "        vertical-align: middle;\n",
       "    }\n",
       "\n",
       "    .dataframe tbody tr th {\n",
       "        vertical-align: top;\n",
       "    }\n",
       "\n",
       "    .dataframe thead th {\n",
       "        text-align: right;\n",
       "    }\n",
       "</style>\n",
       "<table border=\"1\" class=\"dataframe\">\n",
       "  <thead>\n",
       "    <tr style=\"text-align: right;\">\n",
       "      <th></th>\n",
       "      <th>agg15</th>\n",
       "      <th>12V04CP4:PC12007.MEAS</th>\n",
       "      <th>12P01BCP4:PI12956.PNT</th>\n",
       "      <th>12P01BCP4:FC12847.MEAS</th>\n",
       "      <th>12V08CP4:FC12351.MEAS</th>\n",
       "      <th>12V04CP4:FC12006.MEAS</th>\n",
       "      <th>12DATASCRCP1:TI12813.PNT</th>\n",
       "      <th>12V04CP4:LC12005A.MEAS</th>\n",
       "      <th>12GTWY_E101:FIE12404.PNT</th>\n",
       "      <th>12V05CP4:PC12073.MEAS</th>\n",
       "      <th>HART_P1CP04:FY12847FB.MEAS</th>\n",
       "      <th>12P01BCP4:PI12955.PNT</th>\n",
       "    </tr>\n",
       "  </thead>\n",
       "  <tbody>\n",
       "    <tr>\n",
       "      <th>0</th>\n",
       "      <td>1052640</td>\n",
       "      <td>0.624338</td>\n",
       "      <td>0.715170</td>\n",
       "      <td>0.000380</td>\n",
       "      <td>0.352945</td>\n",
       "      <td>0.330310</td>\n",
       "      <td>0.057934</td>\n",
       "      <td>0.510204</td>\n",
       "      <td>0.110117</td>\n",
       "      <td>0.387518</td>\n",
       "      <td>0.982966</td>\n",
       "      <td>0.495565</td>\n",
       "    </tr>\n",
       "    <tr>\n",
       "      <th>1</th>\n",
       "      <td>1052655</td>\n",
       "      <td>0.585650</td>\n",
       "      <td>0.714440</td>\n",
       "      <td>0.000350</td>\n",
       "      <td>0.358601</td>\n",
       "      <td>0.328955</td>\n",
       "      <td>0.049178</td>\n",
       "      <td>0.500651</td>\n",
       "      <td>0.106915</td>\n",
       "      <td>0.370759</td>\n",
       "      <td>0.982966</td>\n",
       "      <td>0.493881</td>\n",
       "    </tr>\n",
       "    <tr>\n",
       "      <th>2</th>\n",
       "      <td>1052670</td>\n",
       "      <td>0.619140</td>\n",
       "      <td>0.712989</td>\n",
       "      <td>0.000375</td>\n",
       "      <td>0.401427</td>\n",
       "      <td>0.324558</td>\n",
       "      <td>0.041981</td>\n",
       "      <td>0.478185</td>\n",
       "      <td>0.097368</td>\n",
       "      <td>0.389074</td>\n",
       "      <td>0.982966</td>\n",
       "      <td>0.492351</td>\n",
       "    </tr>\n",
       "    <tr>\n",
       "      <th>3</th>\n",
       "      <td>1052685</td>\n",
       "      <td>0.650353</td>\n",
       "      <td>0.711965</td>\n",
       "      <td>0.000347</td>\n",
       "      <td>0.392172</td>\n",
       "      <td>0.320398</td>\n",
       "      <td>0.008508</td>\n",
       "      <td>0.477659</td>\n",
       "      <td>0.090902</td>\n",
       "      <td>0.374068</td>\n",
       "      <td>0.982966</td>\n",
       "      <td>0.490778</td>\n",
       "    </tr>\n",
       "    <tr>\n",
       "      <th>4</th>\n",
       "      <td>1052700</td>\n",
       "      <td>0.703366</td>\n",
       "      <td>0.710752</td>\n",
       "      <td>0.000359</td>\n",
       "      <td>0.323822</td>\n",
       "      <td>0.320554</td>\n",
       "      <td>0.021397</td>\n",
       "      <td>0.511793</td>\n",
       "      <td>0.090960</td>\n",
       "      <td>0.385072</td>\n",
       "      <td>0.982966</td>\n",
       "      <td>0.489673</td>\n",
       "    </tr>\n",
       "  </tbody>\n",
       "</table>\n",
       "</div>"
      ],
      "text/plain": [
       "     agg15  12V04CP4:PC12007.MEAS  12P01BCP4:PI12956.PNT  \\\n",
       "0  1052640  0.624338               0.715170                \n",
       "1  1052655  0.585650               0.714440                \n",
       "2  1052670  0.619140               0.712989                \n",
       "3  1052685  0.650353               0.711965                \n",
       "4  1052700  0.703366               0.710752                \n",
       "\n",
       "   12P01BCP4:FC12847.MEAS  12V08CP4:FC12351.MEAS  12V04CP4:FC12006.MEAS  \\\n",
       "0  0.000380                0.352945               0.330310                \n",
       "1  0.000350                0.358601               0.328955                \n",
       "2  0.000375                0.401427               0.324558                \n",
       "3  0.000347                0.392172               0.320398                \n",
       "4  0.000359                0.323822               0.320554                \n",
       "\n",
       "   12DATASCRCP1:TI12813.PNT  12V04CP4:LC12005A.MEAS  12GTWY_E101:FIE12404.PNT  \\\n",
       "0  0.057934                  0.510204                0.110117                   \n",
       "1  0.049178                  0.500651                0.106915                   \n",
       "2  0.041981                  0.478185                0.097368                   \n",
       "3  0.008508                  0.477659                0.090902                   \n",
       "4  0.021397                  0.511793                0.090960                   \n",
       "\n",
       "   12V05CP4:PC12073.MEAS  HART_P1CP04:FY12847FB.MEAS  12P01BCP4:PI12955.PNT  \n",
       "0  0.387518               0.982966                    0.495565               \n",
       "1  0.370759               0.982966                    0.493881               \n",
       "2  0.389074               0.982966                    0.492351               \n",
       "3  0.374068               0.982966                    0.490778               \n",
       "4  0.385072               0.982966                    0.489673               "
      ]
     },
     "execution_count": 125,
     "metadata": {},
     "output_type": "execute_result"
    }
   ],
   "source": [
    "df_agg.head()"
   ]
  },
  {
   "cell_type": "markdown",
   "metadata": {},
   "source": [
    "### Standardize the data"
   ]
  },
  {
   "cell_type": "code",
   "execution_count": 126,
   "metadata": {},
   "outputs": [
    {
     "name": "stdout",
     "output_type": "stream",
     "text": [
      "['12GTWY_E101:FIE12404.PNT', '12V04CP4:FC12006.MEAS', '12V08CP4:FC12351.MEAS', '12P01BCP4:FC12847.MEAS', '12V04CP4:LC12005A.MEAS', '12V04CP4:PC12007.MEAS', '12DATASCRCP1:TI12813.PNT', '12P01BCP4:PI12955.PNT', '12P01BCP4:PI12956.PNT', '12V05CP4:PC12073.MEAS', 'HART_P1CP04:FY12847FB.MEAS']\n"
     ]
    }
   ],
   "source": [
    "from sklearn.preprocessing import StandardScaler\n",
    "\n",
    "df_pca = df_agg.copy()\n",
    "features = [x for x in df_pca.columns.values if x not in set([agg_col])]\n",
    "print(features)\n",
    "\n",
    "# Separating out the features\n",
    "x = df_pca.loc[:, features].values\n",
    "\n",
    "# Standardizing the features\n",
    "x = StandardScaler().fit_transform(x)"
   ]
  },
  {
   "cell_type": "markdown",
   "metadata": {},
   "source": [
    "### PCA Projection"
   ]
  },
  {
   "cell_type": "code",
   "execution_count": 127,
   "metadata": {},
   "outputs": [],
   "source": [
    "from sklearn.decomposition import PCA\n",
    "num_components = len(df_pca.columns.values) - 1\n",
    "pca = PCA(n_components=num_components)\n",
    "principalComponents = pca.fit_transform(x)"
   ]
  },
  {
   "cell_type": "code",
   "execution_count": 128,
   "metadata": {},
   "outputs": [
    {
     "name": "stdout",
     "output_type": "stream",
     "text": [
      "| Component | Individual Contribution | Cumulative |\n",
      "| -- | -- | -- |\n",
      "| Component 1 |      29.04 |      29.04 |\n",
      "| Component 2 |      16.97 |      46.01 |\n",
      "| Component 3 |      12.74 |      58.74 |\n",
      "| Component 4 |      12.01 |      70.75 |\n",
      "| Component 5 |      10.77 |      81.52 |\n",
      "| Component 6 |       6.61 |      88.13 |\n",
      "| Component 7 |       4.67 |      92.80 |\n",
      "| Component 8 |       4.09 |      96.89 |\n",
      "| Component 9 |       1.78 |      98.66 |\n",
      "| Component 10 |       1.32 |      99.98 |\n",
      "| Component 11 |       0.02 |     100.00 |\n"
     ]
    }
   ],
   "source": [
    "sum = 0\n",
    "idx = 1\n",
    "print('| Component | Individual Contribution | Cumulative |')\n",
    "print('| -- | -- | -- |')\n",
    "for val in pca.explained_variance_ratio_:\n",
    "    sum += val\n",
    "    print('| Component ' + str(idx), end = ' | ')\n",
    "    print(\"{:10.2f}\".format(val*100), end=' | ')\n",
    "    print(\"{:10.2f}\".format(sum*100), end= ' |\\n')\n",
    "    idx += 1"
   ]
  },
  {
   "cell_type": "markdown",
   "metadata": {},
   "source": [
    "### Create a principal dataframe with all the components"
   ]
  },
  {
   "cell_type": "code",
   "execution_count": 129,
   "metadata": {},
   "outputs": [],
   "source": [
    "pca_col_list = ['pc'+str(i+1) for i in range(num_components)]\n",
    "principalDf = pd.DataFrame(data = principalComponents, columns = pca_col_list)"
   ]
  },
  {
   "cell_type": "code",
   "execution_count": 130,
   "metadata": {},
   "outputs": [],
   "source": [
    "agg_col_vals = df_pca[agg_col]\n",
    "principalDf[agg_col] = agg_col_vals"
   ]
  },
  {
   "cell_type": "markdown",
   "metadata": {},
   "source": [
    "### Write the principal components to file"
   ]
  },
  {
   "cell_type": "code",
   "execution_count": 131,
   "metadata": {},
   "outputs": [
    {
     "name": "stdout",
     "output_type": "stream",
     "text": [
      "Writing to  ../data/interim/P1201/pca/components_11_agg15.csv\n"
     ]
    }
   ],
   "source": [
    "output_file = INT_DATA_DIR + 'pca/components_' + str(num_components) + '_' + agg_col + '.csv'\n",
    "with open(output_file, 'wb') as f:\n",
    "    principalDf.to_csv(output_file, header=True, index=False)\n",
    "\n",
    "print('Writing to ', output_file)"
   ]
  },
  {
   "cell_type": "markdown",
   "metadata": {},
   "source": [
    "## Aggregation - 30 minutes"
   ]
  },
  {
   "cell_type": "markdown",
   "metadata": {},
   "source": [
    "### Reading Aggregated Data"
   ]
  },
  {
   "cell_type": "code",
   "execution_count": 132,
   "metadata": {},
   "outputs": [],
   "source": [
    "### Read aggregated data\n",
    "\n",
    "agg_val = 30\n",
    "agg_col = 'agg' + str(agg_val) \n",
    "input_file = INT_DATA_DIR + 'agg_single/' + agg_col + '.csv'\n",
    "with open(input_file, 'rb') as f:\n",
    "    df_agg = pd.read_csv(input_file)"
   ]
  },
  {
   "cell_type": "code",
   "execution_count": 133,
   "metadata": {},
   "outputs": [
    {
     "data": {
      "text/html": [
       "<div>\n",
       "<style scoped>\n",
       "    .dataframe tbody tr th:only-of-type {\n",
       "        vertical-align: middle;\n",
       "    }\n",
       "\n",
       "    .dataframe tbody tr th {\n",
       "        vertical-align: top;\n",
       "    }\n",
       "\n",
       "    .dataframe thead th {\n",
       "        text-align: right;\n",
       "    }\n",
       "</style>\n",
       "<table border=\"1\" class=\"dataframe\">\n",
       "  <thead>\n",
       "    <tr style=\"text-align: right;\">\n",
       "      <th></th>\n",
       "      <th>agg30</th>\n",
       "      <th>12V04CP4:PC12007.MEAS</th>\n",
       "      <th>12P01BCP4:PI12956.PNT</th>\n",
       "      <th>12P01BCP4:FC12847.MEAS</th>\n",
       "      <th>12V08CP4:FC12351.MEAS</th>\n",
       "      <th>12V04CP4:FC12006.MEAS</th>\n",
       "      <th>12DATASCRCP1:TI12813.PNT</th>\n",
       "      <th>12V04CP4:LC12005A.MEAS</th>\n",
       "      <th>12GTWY_E101:FIE12404.PNT</th>\n",
       "      <th>12V05CP4:PC12073.MEAS</th>\n",
       "      <th>HART_P1CP04:FY12847FB.MEAS</th>\n",
       "      <th>12P01BCP4:PI12955.PNT</th>\n",
       "    </tr>\n",
       "  </thead>\n",
       "  <tbody>\n",
       "    <tr>\n",
       "      <th>0</th>\n",
       "      <td>1052640</td>\n",
       "      <td>0.603612</td>\n",
       "      <td>0.714779</td>\n",
       "      <td>0.000364</td>\n",
       "      <td>0.355975</td>\n",
       "      <td>0.329584</td>\n",
       "      <td>0.053243</td>\n",
       "      <td>0.505087</td>\n",
       "      <td>0.108402</td>\n",
       "      <td>0.378540</td>\n",
       "      <td>0.982966</td>\n",
       "      <td>0.494663</td>\n",
       "    </tr>\n",
       "    <tr>\n",
       "      <th>1</th>\n",
       "      <td>1052670</td>\n",
       "      <td>0.634747</td>\n",
       "      <td>0.712477</td>\n",
       "      <td>0.000361</td>\n",
       "      <td>0.396799</td>\n",
       "      <td>0.322478</td>\n",
       "      <td>0.025244</td>\n",
       "      <td>0.477922</td>\n",
       "      <td>0.094135</td>\n",
       "      <td>0.381571</td>\n",
       "      <td>0.982966</td>\n",
       "      <td>0.491565</td>\n",
       "    </tr>\n",
       "    <tr>\n",
       "      <th>2</th>\n",
       "      <td>1052700</td>\n",
       "      <td>0.716236</td>\n",
       "      <td>0.709974</td>\n",
       "      <td>0.000358</td>\n",
       "      <td>0.296777</td>\n",
       "      <td>0.321151</td>\n",
       "      <td>0.042253</td>\n",
       "      <td>0.527625</td>\n",
       "      <td>0.092432</td>\n",
       "      <td>0.384425</td>\n",
       "      <td>0.982966</td>\n",
       "      <td>0.489866</td>\n",
       "    </tr>\n",
       "    <tr>\n",
       "      <th>3</th>\n",
       "      <td>1052730</td>\n",
       "      <td>0.747517</td>\n",
       "      <td>0.707293</td>\n",
       "      <td>0.000366</td>\n",
       "      <td>0.238055</td>\n",
       "      <td>0.325246</td>\n",
       "      <td>0.114565</td>\n",
       "      <td>0.569174</td>\n",
       "      <td>0.099633</td>\n",
       "      <td>0.391012</td>\n",
       "      <td>0.982966</td>\n",
       "      <td>0.488177</td>\n",
       "    </tr>\n",
       "    <tr>\n",
       "      <th>4</th>\n",
       "      <td>1052760</td>\n",
       "      <td>0.673357</td>\n",
       "      <td>0.704580</td>\n",
       "      <td>0.000357</td>\n",
       "      <td>0.217700</td>\n",
       "      <td>0.329390</td>\n",
       "      <td>0.123652</td>\n",
       "      <td>0.590965</td>\n",
       "      <td>0.107398</td>\n",
       "      <td>0.380708</td>\n",
       "      <td>0.982966</td>\n",
       "      <td>0.485349</td>\n",
       "    </tr>\n",
       "  </tbody>\n",
       "</table>\n",
       "</div>"
      ],
      "text/plain": [
       "     agg30  12V04CP4:PC12007.MEAS  12P01BCP4:PI12956.PNT  \\\n",
       "0  1052640  0.603612               0.714779                \n",
       "1  1052670  0.634747               0.712477                \n",
       "2  1052700  0.716236               0.709974                \n",
       "3  1052730  0.747517               0.707293                \n",
       "4  1052760  0.673357               0.704580                \n",
       "\n",
       "   12P01BCP4:FC12847.MEAS  12V08CP4:FC12351.MEAS  12V04CP4:FC12006.MEAS  \\\n",
       "0  0.000364                0.355975               0.329584                \n",
       "1  0.000361                0.396799               0.322478                \n",
       "2  0.000358                0.296777               0.321151                \n",
       "3  0.000366                0.238055               0.325246                \n",
       "4  0.000357                0.217700               0.329390                \n",
       "\n",
       "   12DATASCRCP1:TI12813.PNT  12V04CP4:LC12005A.MEAS  12GTWY_E101:FIE12404.PNT  \\\n",
       "0  0.053243                  0.505087                0.108402                   \n",
       "1  0.025244                  0.477922                0.094135                   \n",
       "2  0.042253                  0.527625                0.092432                   \n",
       "3  0.114565                  0.569174                0.099633                   \n",
       "4  0.123652                  0.590965                0.107398                   \n",
       "\n",
       "   12V05CP4:PC12073.MEAS  HART_P1CP04:FY12847FB.MEAS  12P01BCP4:PI12955.PNT  \n",
       "0  0.378540               0.982966                    0.494663               \n",
       "1  0.381571               0.982966                    0.491565               \n",
       "2  0.384425               0.982966                    0.489866               \n",
       "3  0.391012               0.982966                    0.488177               \n",
       "4  0.380708               0.982966                    0.485349               "
      ]
     },
     "execution_count": 133,
     "metadata": {},
     "output_type": "execute_result"
    }
   ],
   "source": [
    "df_agg.head()"
   ]
  },
  {
   "cell_type": "markdown",
   "metadata": {},
   "source": [
    "### Standardize the data"
   ]
  },
  {
   "cell_type": "code",
   "execution_count": 134,
   "metadata": {},
   "outputs": [
    {
     "name": "stdout",
     "output_type": "stream",
     "text": [
      "['12GTWY_E101:FIE12404.PNT', '12V08CP4:FC12351.MEAS', '12P01BCP4:FC12847.MEAS', '12V04CP4:LC12005A.MEAS', '12V04CP4:PC12007.MEAS', '12DATASCRCP1:TI12813.PNT', '12P01BCP4:PI12956.PNT', '12P01BCP4:PI12955.PNT', '12V05CP4:PC12073.MEAS', 'HART_P1CP04:FY12847FB.MEAS', '12V04CP4:FC12006.MEAS']\n"
     ]
    }
   ],
   "source": [
    "from sklearn.preprocessing import StandardScaler\n",
    "\n",
    "df_pca = df_agg.copy()\n",
    "features = [x for x in df_pca.columns.values if x not in set([agg_col])]\n",
    "print(features)\n",
    "\n",
    "# Separating out the features\n",
    "x = df_pca.loc[:, features].values\n",
    "\n",
    "# Standardizing the features\n",
    "x = StandardScaler().fit_transform(x)"
   ]
  },
  {
   "cell_type": "markdown",
   "metadata": {},
   "source": [
    "### PCA Projection"
   ]
  },
  {
   "cell_type": "code",
   "execution_count": 135,
   "metadata": {},
   "outputs": [],
   "source": [
    "from sklearn.decomposition import PCA\n",
    "num_components = len(df_pca.columns.values) - 1\n",
    "pca = PCA(n_components=num_components)\n",
    "principalComponents = pca.fit_transform(x)"
   ]
  },
  {
   "cell_type": "code",
   "execution_count": 136,
   "metadata": {},
   "outputs": [
    {
     "name": "stdout",
     "output_type": "stream",
     "text": [
      "| Component | Individual Contribution | Cumulative |\n",
      "| -- | -- | -- |\n",
      "| Component 1 |      29.21 |      29.21 |\n",
      "| Component 2 |      17.14 |      46.34 |\n",
      "| Component 3 |      12.72 |      59.07 |\n",
      "| Component 4 |      12.00 |      71.07 |\n",
      "| Component 5 |      10.70 |      81.77 |\n",
      "| Component 6 |       6.56 |      88.32 |\n",
      "| Component 7 |       4.69 |      93.01 |\n",
      "| Component 8 |       4.09 |      97.11 |\n",
      "| Component 9 |       1.76 |      98.87 |\n",
      "| Component 10 |       1.11 |      99.98 |\n",
      "| Component 11 |       0.02 |     100.00 |\n"
     ]
    }
   ],
   "source": [
    "sum = 0\n",
    "idx = 1\n",
    "print('| Component | Individual Contribution | Cumulative |')\n",
    "print('| -- | -- | -- |')\n",
    "for val in pca.explained_variance_ratio_:\n",
    "    sum += val\n",
    "    print('| Component ' + str(idx), end = ' | ')\n",
    "    print(\"{:10.2f}\".format(val*100), end=' | ')\n",
    "    print(\"{:10.2f}\".format(sum*100), end= ' |\\n')\n",
    "    idx += 1"
   ]
  },
  {
   "cell_type": "markdown",
   "metadata": {},
   "source": [
    "### Create a principal dataframe with all the components"
   ]
  },
  {
   "cell_type": "code",
   "execution_count": 137,
   "metadata": {},
   "outputs": [],
   "source": [
    "pca_col_list = ['pc'+str(i+1) for i in range(num_components)]\n",
    "principalDf = pd.DataFrame(data = principalComponents, columns = pca_col_list)"
   ]
  },
  {
   "cell_type": "code",
   "execution_count": 138,
   "metadata": {},
   "outputs": [],
   "source": [
    "agg_col_vals = df_pca[agg_col]\n",
    "principalDf[agg_col] = agg_col_vals"
   ]
  },
  {
   "cell_type": "markdown",
   "metadata": {},
   "source": [
    "### Write the principal components to file"
   ]
  },
  {
   "cell_type": "code",
   "execution_count": 139,
   "metadata": {},
   "outputs": [
    {
     "name": "stdout",
     "output_type": "stream",
     "text": [
      "Writing to  ../data/interim/P1201/pca/components_11_agg30.csv\n"
     ]
    }
   ],
   "source": [
    "output_file = INT_DATA_DIR + 'pca/components_' + str(num_components) + '_' + agg_col + '.csv'\n",
    "with open(output_file, 'wb') as f:\n",
    "    principalDf.to_csv(output_file, header=True, index=False)\n",
    "\n",
    "print('Writing to ', output_file)"
   ]
  },
  {
   "cell_type": "markdown",
   "metadata": {},
   "source": [
    "## Aggregation - 60 minute"
   ]
  },
  {
   "cell_type": "markdown",
   "metadata": {},
   "source": [
    "### Reading Aggregated Data"
   ]
  },
  {
   "cell_type": "code",
   "execution_count": 140,
   "metadata": {},
   "outputs": [],
   "source": [
    "### Read aggregated data\n",
    "\n",
    "agg_val = 60\n",
    "agg_col = 'agg' + str(agg_val) \n",
    "input_file = INT_DATA_DIR + 'agg_single/' + agg_col + '.csv'\n",
    "with open(input_file, 'rb') as f:\n",
    "    df_agg = pd.read_csv(input_file)"
   ]
  },
  {
   "cell_type": "code",
   "execution_count": 141,
   "metadata": {},
   "outputs": [
    {
     "data": {
      "text/html": [
       "<div>\n",
       "<style scoped>\n",
       "    .dataframe tbody tr th:only-of-type {\n",
       "        vertical-align: middle;\n",
       "    }\n",
       "\n",
       "    .dataframe tbody tr th {\n",
       "        vertical-align: top;\n",
       "    }\n",
       "\n",
       "    .dataframe thead th {\n",
       "        text-align: right;\n",
       "    }\n",
       "</style>\n",
       "<table border=\"1\" class=\"dataframe\">\n",
       "  <thead>\n",
       "    <tr style=\"text-align: right;\">\n",
       "      <th></th>\n",
       "      <th>agg60</th>\n",
       "      <th>12V04CP4:PC12007.MEAS</th>\n",
       "      <th>12P01BCP4:PI12956.PNT</th>\n",
       "      <th>12P01BCP4:FC12847.MEAS</th>\n",
       "      <th>12V08CP4:FC12351.MEAS</th>\n",
       "      <th>12V04CP4:FC12006.MEAS</th>\n",
       "      <th>12DATASCRCP1:TI12813.PNT</th>\n",
       "      <th>12V04CP4:LC12005A.MEAS</th>\n",
       "      <th>12GTWY_E101:FIE12404.PNT</th>\n",
       "      <th>12V05CP4:PC12073.MEAS</th>\n",
       "      <th>HART_P1CP04:FY12847FB.MEAS</th>\n",
       "      <th>12P01BCP4:PI12955.PNT</th>\n",
       "    </tr>\n",
       "  </thead>\n",
       "  <tbody>\n",
       "    <tr>\n",
       "      <th>0</th>\n",
       "      <td>1052640</td>\n",
       "      <td>0.619716</td>\n",
       "      <td>0.713588</td>\n",
       "      <td>0.000363</td>\n",
       "      <td>0.377091</td>\n",
       "      <td>0.325909</td>\n",
       "      <td>0.038761</td>\n",
       "      <td>0.491036</td>\n",
       "      <td>0.101022</td>\n",
       "      <td>0.380108</td>\n",
       "      <td>0.982966</td>\n",
       "      <td>0.493060</td>\n",
       "    </tr>\n",
       "    <tr>\n",
       "      <th>1</th>\n",
       "      <td>1052700</td>\n",
       "      <td>0.731877</td>\n",
       "      <td>0.708634</td>\n",
       "      <td>0.000362</td>\n",
       "      <td>0.267416</td>\n",
       "      <td>0.323198</td>\n",
       "      <td>0.078409</td>\n",
       "      <td>0.548400</td>\n",
       "      <td>0.096032</td>\n",
       "      <td>0.387718</td>\n",
       "      <td>0.982966</td>\n",
       "      <td>0.489021</td>\n",
       "    </tr>\n",
       "    <tr>\n",
       "      <th>2</th>\n",
       "      <td>1052760</td>\n",
       "      <td>0.721623</td>\n",
       "      <td>0.703424</td>\n",
       "      <td>0.000359</td>\n",
       "      <td>0.184954</td>\n",
       "      <td>0.334976</td>\n",
       "      <td>0.159813</td>\n",
       "      <td>0.608964</td>\n",
       "      <td>0.117372</td>\n",
       "      <td>0.378530</td>\n",
       "      <td>0.982966</td>\n",
       "      <td>0.484608</td>\n",
       "    </tr>\n",
       "    <tr>\n",
       "      <th>3</th>\n",
       "      <td>1052820</td>\n",
       "      <td>0.725851</td>\n",
       "      <td>0.698019</td>\n",
       "      <td>0.000378</td>\n",
       "      <td>0.170707</td>\n",
       "      <td>0.347952</td>\n",
       "      <td>0.242378</td>\n",
       "      <td>0.628060</td>\n",
       "      <td>0.141427</td>\n",
       "      <td>0.383709</td>\n",
       "      <td>0.982966</td>\n",
       "      <td>0.478116</td>\n",
       "    </tr>\n",
       "    <tr>\n",
       "      <th>4</th>\n",
       "      <td>1052880</td>\n",
       "      <td>0.646673</td>\n",
       "      <td>0.691427</td>\n",
       "      <td>0.000361</td>\n",
       "      <td>0.142844</td>\n",
       "      <td>0.357175</td>\n",
       "      <td>0.274268</td>\n",
       "      <td>0.641240</td>\n",
       "      <td>0.158425</td>\n",
       "      <td>0.385979</td>\n",
       "      <td>0.983057</td>\n",
       "      <td>0.469425</td>\n",
       "    </tr>\n",
       "  </tbody>\n",
       "</table>\n",
       "</div>"
      ],
      "text/plain": [
       "     agg60  12V04CP4:PC12007.MEAS  12P01BCP4:PI12956.PNT  \\\n",
       "0  1052640  0.619716               0.713588                \n",
       "1  1052700  0.731877               0.708634                \n",
       "2  1052760  0.721623               0.703424                \n",
       "3  1052820  0.725851               0.698019                \n",
       "4  1052880  0.646673               0.691427                \n",
       "\n",
       "   12P01BCP4:FC12847.MEAS  12V08CP4:FC12351.MEAS  12V04CP4:FC12006.MEAS  \\\n",
       "0  0.000363                0.377091               0.325909                \n",
       "1  0.000362                0.267416               0.323198                \n",
       "2  0.000359                0.184954               0.334976                \n",
       "3  0.000378                0.170707               0.347952                \n",
       "4  0.000361                0.142844               0.357175                \n",
       "\n",
       "   12DATASCRCP1:TI12813.PNT  12V04CP4:LC12005A.MEAS  12GTWY_E101:FIE12404.PNT  \\\n",
       "0  0.038761                  0.491036                0.101022                   \n",
       "1  0.078409                  0.548400                0.096032                   \n",
       "2  0.159813                  0.608964                0.117372                   \n",
       "3  0.242378                  0.628060                0.141427                   \n",
       "4  0.274268                  0.641240                0.158425                   \n",
       "\n",
       "   12V05CP4:PC12073.MEAS  HART_P1CP04:FY12847FB.MEAS  12P01BCP4:PI12955.PNT  \n",
       "0  0.380108               0.982966                    0.493060               \n",
       "1  0.387718               0.982966                    0.489021               \n",
       "2  0.378530               0.982966                    0.484608               \n",
       "3  0.383709               0.982966                    0.478116               \n",
       "4  0.385979               0.983057                    0.469425               "
      ]
     },
     "execution_count": 141,
     "metadata": {},
     "output_type": "execute_result"
    }
   ],
   "source": [
    "df_agg.head()"
   ]
  },
  {
   "cell_type": "markdown",
   "metadata": {},
   "source": [
    "### Standardize the data"
   ]
  },
  {
   "cell_type": "code",
   "execution_count": 142,
   "metadata": {},
   "outputs": [
    {
     "name": "stdout",
     "output_type": "stream",
     "text": [
      "['12GTWY_E101:FIE12404.PNT', '12V08CP4:FC12351.MEAS', '12P01BCP4:FC12847.MEAS', '12V04CP4:LC12005A.MEAS', '12V04CP4:PC12007.MEAS', '12DATASCRCP1:TI12813.PNT', '12P01BCP4:PI12955.PNT', '12P01BCP4:PI12956.PNT', '12V05CP4:PC12073.MEAS', 'HART_P1CP04:FY12847FB.MEAS', '12V04CP4:FC12006.MEAS']\n"
     ]
    }
   ],
   "source": [
    "from sklearn.preprocessing import StandardScaler\n",
    "\n",
    "df_pca = df_agg.copy()\n",
    "features = [x for x in df_pca.columns.values if x not in set([agg_col])]\n",
    "print(features)\n",
    "\n",
    "# Separating out the features\n",
    "x = df_pca.loc[:, features].values\n",
    "\n",
    "# Standardizing the features\n",
    "x = StandardScaler().fit_transform(x)"
   ]
  },
  {
   "cell_type": "markdown",
   "metadata": {},
   "source": [
    "### PCA Projection"
   ]
  },
  {
   "cell_type": "code",
   "execution_count": 143,
   "metadata": {},
   "outputs": [],
   "source": [
    "from sklearn.decomposition import PCA\n",
    "num_components = len(df_pca.columns.values) - 1\n",
    "pca = PCA(n_components=num_components)\n",
    "principalComponents = pca.fit_transform(x)"
   ]
  },
  {
   "cell_type": "code",
   "execution_count": 144,
   "metadata": {},
   "outputs": [
    {
     "name": "stdout",
     "output_type": "stream",
     "text": [
      "| Component | Individual Contribution | Cumulative |\n",
      "| -- | -- | -- |\n",
      "| Component 1 |      29.43 |      29.43 |\n",
      "| Component 2 |      17.20 |      46.64 |\n",
      "| Component 3 |      12.70 |      59.34 |\n",
      "| Component 4 |      12.00 |      71.34 |\n",
      "| Component 5 |      10.49 |      81.84 |\n",
      "| Component 6 |       6.50 |      88.33 |\n",
      "| Component 7 |       4.76 |      93.09 |\n",
      "| Component 8 |       4.12 |      97.21 |\n",
      "| Component 9 |       1.76 |      98.97 |\n",
      "| Component 10 |       1.02 |      99.98 |\n",
      "| Component 11 |       0.02 |     100.00 |\n"
     ]
    }
   ],
   "source": [
    "sum = 0\n",
    "idx = 1\n",
    "print('| Component | Individual Contribution | Cumulative |')\n",
    "print('| -- | -- | -- |')\n",
    "for val in pca.explained_variance_ratio_:\n",
    "    sum += val\n",
    "    print('| Component ' + str(idx), end = ' | ')\n",
    "    print(\"{:10.2f}\".format(val*100), end=' | ')\n",
    "    print(\"{:10.2f}\".format(sum*100), end= ' |\\n')\n",
    "    idx += 1"
   ]
  },
  {
   "cell_type": "markdown",
   "metadata": {},
   "source": [
    "### Create a principal dataframe with all the components"
   ]
  },
  {
   "cell_type": "code",
   "execution_count": 145,
   "metadata": {},
   "outputs": [],
   "source": [
    "pca_col_list = ['pc'+str(i+1) for i in range(num_components)]\n",
    "principalDf = pd.DataFrame(data = principalComponents, columns = pca_col_list)"
   ]
  },
  {
   "cell_type": "code",
   "execution_count": 146,
   "metadata": {},
   "outputs": [],
   "source": [
    "agg_col_vals = df_pca[agg_col]\n",
    "principalDf[agg_col] = agg_col_vals"
   ]
  },
  {
   "cell_type": "markdown",
   "metadata": {},
   "source": [
    "### Write the principal components to file"
   ]
  },
  {
   "cell_type": "code",
   "execution_count": 147,
   "metadata": {},
   "outputs": [
    {
     "name": "stdout",
     "output_type": "stream",
     "text": [
      "Writing to  ../data/interim/P1201/pca/components_11_agg60.csv\n"
     ]
    }
   ],
   "source": [
    "output_file = INT_DATA_DIR + 'pca/components_' + str(num_components) + '_' + agg_col + '.csv'\n",
    "with open(output_file, 'wb') as f:\n",
    "    principalDf.to_csv(output_file, header=True, index=False)\n",
    "\n",
    "print('Writing to ', output_file)"
   ]
  },
  {
   "cell_type": "markdown",
   "metadata": {},
   "source": [
    "# ---------------------------------------------------------------------\n",
    "# PCA doesn't help a lot to reduce the dimensions [5 min aggregation]\n",
    "# ---------------------------------------------------------------------"
   ]
  },
  {
   "cell_type": "markdown",
   "metadata": {},
   "source": [
    "# Use all features for common time frame"
   ]
  },
  {
   "cell_type": "markdown",
   "metadata": {},
   "source": [
    "### Drop NaNs"
   ]
  },
  {
   "cell_type": "code",
   "execution_count": 48,
   "metadata": {},
   "outputs": [],
   "source": [
    "df_master_nans_dropped = df_master.dropna(inplace=False)"
   ]
  },
  {
   "cell_type": "code",
   "execution_count": 49,
   "metadata": {},
   "outputs": [
    {
     "name": "stdout",
     "output_type": "stream",
     "text": [
      "(1578241, 12)\n",
      "(525600, 12)\n"
     ]
    }
   ],
   "source": [
    "print(df_master.shape)\n",
    "print(df_master_nans_dropped.shape)"
   ]
  },
  {
   "cell_type": "markdown",
   "metadata": {},
   "source": [
    "#### Find the min and max of date"
   ]
  },
  {
   "cell_type": "code",
   "execution_count": 52,
   "metadata": {},
   "outputs": [
    {
     "name": "stdout",
     "output_type": "stream",
     "text": [
      "2018-01-01 00:02:01\n",
      "2019-01-01 00:01:01\n"
     ]
    }
   ],
   "source": [
    "from utils import get_time_from_minutes\n",
    "\n",
    "min_date_avail = df_master_nans_dropped[time_gran_col].min()\n",
    "max_date_avail = df_master_nans_dropped[time_gran_col].max()\n",
    "\n",
    "min_date_avail = np.int64(min_date_avail).item()\n",
    "max_date_avail = np.int64(max_date_avail).item()\n",
    "\n",
    "print(get_time_from_minutes(min_date_avail, base_date))\n",
    "print(get_time_from_minutes(max_date_avail, base_date))"
   ]
  },
  {
   "cell_type": "markdown",
   "metadata": {},
   "source": [
    "### Drop after certain date"
   ]
  },
  {
   "cell_type": "code",
   "execution_count": 53,
   "metadata": {},
   "outputs": [
    {
     "name": "stdout",
     "output_type": "stream",
     "text": [
      "(525600, 12)\n",
      "(436260, 12)\n"
     ]
    }
   ],
   "source": [
    "end_date = datetime.strptime('2018-10-31 00:00:01', fmt)\n",
    "end_mins = get_minutes_after(end_date, base_date)\n",
    "print(df_master_nans_dropped.shape)\n",
    "df_master_nans_dropped = df_master_nans_dropped.loc[df_master_nans_dropped[time_gran_col] <= end_mins]\n",
    "print(df_master_nans_dropped.shape)"
   ]
  },
  {
   "cell_type": "markdown",
   "metadata": {},
   "source": [
    "#### Find the min and max of date"
   ]
  },
  {
   "cell_type": "code",
   "execution_count": 54,
   "metadata": {},
   "outputs": [
    {
     "name": "stdout",
     "output_type": "stream",
     "text": [
      "2018-01-01 00:02:01\n",
      "2018-10-30 23:01:01\n"
     ]
    }
   ],
   "source": [
    "min_date_avail = df_master_nans_dropped[time_gran_col].min()\n",
    "max_date_avail = df_master_nans_dropped[time_gran_col].max()\n",
    "\n",
    "min_date_avail = np.int64(min_date_avail).item()\n",
    "max_date_avail = np.int64(max_date_avail).item()\n",
    "\n",
    "print(get_time_from_minutes(min_date_avail, base_date))\n",
    "print(get_time_from_minutes(max_date_avail, base_date))"
   ]
  },
  {
   "cell_type": "markdown",
   "metadata": {},
   "source": [
    "### Standardize the data"
   ]
  },
  {
   "cell_type": "code",
   "execution_count": 56,
   "metadata": {},
   "outputs": [
    {
     "name": "stdout",
     "output_type": "stream",
     "text": [
      "{'12DATASCRCP1:TI12813.PNT', '12P01BCP4:FC12847.MEAS', '12GTWY_E101:FIE12404.PNT', '12V04CP4:LC12005A.MEAS', 'HART_P1CP04:FY12847FB.MEAS', '12V08CP4:FC12351.MEAS', '12P01BCP4:PI12956.PNT', '12P01BCP4:PI12955.PNT', '12V04CP4:FC12006.MEAS', '12V05CP4:PC12073.MEAS', '12V04CP4:PC12007.MEAS'}\n"
     ]
    }
   ],
   "source": [
    "from sklearn.preprocessing import StandardScaler\n",
    "\n",
    "df_pca = df_master_nans_dropped.copy()\n",
    "features = set(list(df_pca.columns.values)) - set(['datetime_gran', 'datetime'])\n",
    "print(features)\n",
    "\n",
    "# Separating out the features\n",
    "x = df_pca.loc[:, features].values\n",
    "\n",
    "# Separating out the target\n",
    "# y = df_pca.loc[:,['target']].values\n",
    "\n",
    "# Standardizing the features\n",
    "x = StandardScaler().fit_transform(x)"
   ]
  },
  {
   "cell_type": "code",
   "execution_count": 57,
   "metadata": {},
   "outputs": [
    {
     "data": {
      "text/html": [
       "<div>\n",
       "<style scoped>\n",
       "    .dataframe tbody tr th:only-of-type {\n",
       "        vertical-align: middle;\n",
       "    }\n",
       "\n",
       "    .dataframe tbody tr th {\n",
       "        vertical-align: top;\n",
       "    }\n",
       "\n",
       "    .dataframe thead th {\n",
       "        text-align: right;\n",
       "    }\n",
       "</style>\n",
       "<table border=\"1\" class=\"dataframe\">\n",
       "  <thead>\n",
       "    <tr style=\"text-align: right;\">\n",
       "      <th></th>\n",
       "      <th>datetime_gran</th>\n",
       "      <th>HART_P1CP04:FY12847FB.MEAS</th>\n",
       "      <th>12V04CP4:PC12007.MEAS</th>\n",
       "      <th>12V04CP4:LC12005A.MEAS</th>\n",
       "      <th>12V05CP4:PC12073.MEAS</th>\n",
       "      <th>12P01BCP4:PI12956.PNT</th>\n",
       "      <th>12V08CP4:FC12351.MEAS</th>\n",
       "      <th>12DATASCRCP1:TI12813.PNT</th>\n",
       "      <th>12V04CP4:FC12006.MEAS</th>\n",
       "      <th>12GTWY_E101:FIE12404.PNT</th>\n",
       "      <th>12P01BCP4:PI12955.PNT</th>\n",
       "      <th>12P01BCP4:FC12847.MEAS</th>\n",
       "    </tr>\n",
       "  </thead>\n",
       "  <tbody>\n",
       "    <tr>\n",
       "      <th>1052641</th>\n",
       "      <td>1052642</td>\n",
       "      <td>0.982966</td>\n",
       "      <td>0.616575</td>\n",
       "      <td>0.516241</td>\n",
       "      <td>0.371921</td>\n",
       "      <td>0.715633</td>\n",
       "      <td>0.351119</td>\n",
       "      <td>0.069354</td>\n",
       "      <td>0.332981</td>\n",
       "      <td>0.114017</td>\n",
       "      <td>0.496189</td>\n",
       "      <td>0.000338</td>\n",
       "    </tr>\n",
       "    <tr>\n",
       "      <th>1052642</th>\n",
       "      <td>1052643</td>\n",
       "      <td>0.982966</td>\n",
       "      <td>0.624924</td>\n",
       "      <td>0.513221</td>\n",
       "      <td>0.372420</td>\n",
       "      <td>0.714983</td>\n",
       "      <td>0.352894</td>\n",
       "      <td>0.067677</td>\n",
       "      <td>0.332231</td>\n",
       "      <td>0.115755</td>\n",
       "      <td>0.496189</td>\n",
       "      <td>0.000358</td>\n",
       "    </tr>\n",
       "    <tr>\n",
       "      <th>1052643</th>\n",
       "      <td>1052644</td>\n",
       "      <td>0.982966</td>\n",
       "      <td>0.626434</td>\n",
       "      <td>0.512130</td>\n",
       "      <td>0.372087</td>\n",
       "      <td>0.715307</td>\n",
       "      <td>0.353981</td>\n",
       "      <td>0.068198</td>\n",
       "      <td>0.329184</td>\n",
       "      <td>0.106135</td>\n",
       "      <td>0.495362</td>\n",
       "      <td>0.000398</td>\n",
       "    </tr>\n",
       "    <tr>\n",
       "      <th>1052644</th>\n",
       "      <td>1052645</td>\n",
       "      <td>0.982966</td>\n",
       "      <td>0.622968</td>\n",
       "      <td>0.512718</td>\n",
       "      <td>0.373418</td>\n",
       "      <td>0.715794</td>\n",
       "      <td>0.354564</td>\n",
       "      <td>0.060073</td>\n",
       "      <td>0.331178</td>\n",
       "      <td>0.109651</td>\n",
       "      <td>0.495527</td>\n",
       "      <td>0.000318</td>\n",
       "    </tr>\n",
       "    <tr>\n",
       "      <th>1052645</th>\n",
       "      <td>1052646</td>\n",
       "      <td>0.982966</td>\n",
       "      <td>0.625279</td>\n",
       "      <td>0.511166</td>\n",
       "      <td>0.373916</td>\n",
       "      <td>0.715388</td>\n",
       "      <td>0.355147</td>\n",
       "      <td>0.054184</td>\n",
       "      <td>0.330455</td>\n",
       "      <td>0.109651</td>\n",
       "      <td>0.495527</td>\n",
       "      <td>0.000348</td>\n",
       "    </tr>\n",
       "  </tbody>\n",
       "</table>\n",
       "</div>"
      ],
      "text/plain": [
       "         datetime_gran  HART_P1CP04:FY12847FB.MEAS  12V04CP4:PC12007.MEAS  \\\n",
       "1052641  1052642        0.982966                    0.616575                \n",
       "1052642  1052643        0.982966                    0.624924                \n",
       "1052643  1052644        0.982966                    0.626434                \n",
       "1052644  1052645        0.982966                    0.622968                \n",
       "1052645  1052646        0.982966                    0.625279                \n",
       "\n",
       "         12V04CP4:LC12005A.MEAS  12V05CP4:PC12073.MEAS  12P01BCP4:PI12956.PNT  \\\n",
       "1052641  0.516241                0.371921               0.715633                \n",
       "1052642  0.513221                0.372420               0.714983                \n",
       "1052643  0.512130                0.372087               0.715307                \n",
       "1052644  0.512718                0.373418               0.715794                \n",
       "1052645  0.511166                0.373916               0.715388                \n",
       "\n",
       "         12V08CP4:FC12351.MEAS  12DATASCRCP1:TI12813.PNT  \\\n",
       "1052641  0.351119               0.069354                   \n",
       "1052642  0.352894               0.067677                   \n",
       "1052643  0.353981               0.068198                   \n",
       "1052644  0.354564               0.060073                   \n",
       "1052645  0.355147               0.054184                   \n",
       "\n",
       "         12V04CP4:FC12006.MEAS  12GTWY_E101:FIE12404.PNT  \\\n",
       "1052641  0.332981               0.114017                   \n",
       "1052642  0.332231               0.115755                   \n",
       "1052643  0.329184               0.106135                   \n",
       "1052644  0.331178               0.109651                   \n",
       "1052645  0.330455               0.109651                   \n",
       "\n",
       "         12P01BCP4:PI12955.PNT  12P01BCP4:FC12847.MEAS  \n",
       "1052641  0.496189               0.000338                \n",
       "1052642  0.496189               0.000358                \n",
       "1052643  0.495362               0.000398                \n",
       "1052644  0.495527               0.000318                \n",
       "1052645  0.495527               0.000348                "
      ]
     },
     "execution_count": 57,
     "metadata": {},
     "output_type": "execute_result"
    }
   ],
   "source": [
    "df_pca.head()"
   ]
  },
  {
   "cell_type": "markdown",
   "metadata": {},
   "source": [
    "### PCA Projection"
   ]
  },
  {
   "cell_type": "code",
   "execution_count": 100,
   "metadata": {},
   "outputs": [],
   "source": [
    "from sklearn.decomposition import PCA\n",
    "pca_2 = PCA(n_components=2)\n",
    "principalComponents = pca_2.fit_transform(x)\n",
    "principalDf = pd.DataFrame(data = principalComponents,\n",
    "                           columns = ['pc1', 'pc2'])"
   ]
  },
  {
   "cell_type": "code",
   "execution_count": 103,
   "metadata": {},
   "outputs": [
    {
     "data": {
      "text/plain": [
       "array([0.24646333, 0.1706347 ])"
      ]
     },
     "execution_count": 103,
     "metadata": {},
     "output_type": "execute_result"
    }
   ],
   "source": [
    "pca_2.explained_variance_ratio_"
   ]
  },
  {
   "cell_type": "code",
   "execution_count": 101,
   "metadata": {},
   "outputs": [],
   "source": [
    "from sklearn.decomposition import PCA\n",
    "pca_5 = PCA(n_components=5)\n",
    "principalComponents_5 = pca_5.fit_transform(x)"
   ]
  },
  {
   "cell_type": "code",
   "execution_count": 102,
   "metadata": {},
   "outputs": [
    {
     "data": {
      "text/plain": [
       "array([0.24646333, 0.1706347 , 0.14069917, 0.11956512, 0.09461835])"
      ]
     },
     "execution_count": 102,
     "metadata": {},
     "output_type": "execute_result"
    }
   ],
   "source": [
    "pca_5.explained_variance_ratio_"
   ]
  },
  {
   "cell_type": "code",
   "execution_count": 109,
   "metadata": {},
   "outputs": [],
   "source": [
    "from sklearn.decomposition import PCA\n",
    "pca_all = PCA(n_components=len(x[0]))\n",
    "principalComponents_all = pca_all.fit_transform(x)"
   ]
  },
  {
   "cell_type": "code",
   "execution_count": 110,
   "metadata": {},
   "outputs": [
    {
     "data": {
      "text/plain": [
       "array([0.24646333, 0.1706347 , 0.14069917, 0.11956512, 0.09461835,\n",
       "       0.0781998 , 0.05375546, 0.0439608 , 0.03711011, 0.01499316])"
      ]
     },
     "execution_count": 110,
     "metadata": {},
     "output_type": "execute_result"
    }
   ],
   "source": [
    "pca_all.explained_variance_ratio_"
   ]
  },
  {
   "cell_type": "code",
   "execution_count": 61,
   "metadata": {},
   "outputs": [],
   "source": [
    "df_pca['target'] = 1"
   ]
  },
  {
   "cell_type": "code",
   "execution_count": 62,
   "metadata": {},
   "outputs": [],
   "source": [
    "# Reset the index to align the targets and variables\n",
    "df_pca.reset_index(inplace=True)"
   ]
  },
  {
   "cell_type": "code",
   "execution_count": 63,
   "metadata": {},
   "outputs": [],
   "source": [
    "finalDf = pd.concat([principalDf, df_pca[['target']]], axis = 1)"
   ]
  },
  {
   "cell_type": "code",
   "execution_count": 64,
   "metadata": {},
   "outputs": [
    {
     "name": "stdout",
     "output_type": "stream",
     "text": [
      "        pc1       pc2  target\n",
      "0 -2.882223  1.172263  1     \n",
      "1 -2.883605  1.151543  1     \n",
      "2 -2.862820  1.160105  1     \n",
      "3 -2.891554  1.181271  1     \n",
      "4 -2.890490  1.181148  1     \n",
      "             pc1       pc2  target\n",
      "436255  0.426018 -0.183797  1     \n",
      "436256  0.425733 -0.184587  1     \n",
      "436257  0.455887 -0.195842  1     \n",
      "436258  0.462302 -0.199889  1     \n",
      "436259  0.442931 -0.191828  1     \n"
     ]
    }
   ],
   "source": [
    "print(finalDf.head())\n",
    "print(finalDf.tail())"
   ]
  },
  {
   "cell_type": "code",
   "execution_count": 78,
   "metadata": {},
   "outputs": [
    {
     "data": {
      "image/png": "[encoded data removed]",
      "text/plain": [
       "<Figure size 1080x1080 with 1 Axes>"
      ]
     },
     "metadata": {
      "needs_background": "light"
     },
     "output_type": "display_data"
    }
   ],
   "source": [
    "fig = plt.figure(figsize = (15,15))\n",
    "ax = fig.add_subplot(1,1,1) \n",
    "ax.set_xlabel('Principal Component 1', fontsize = 15)\n",
    "ax.set_ylabel('Principal Component 2', fontsize = 15)\n",
    "ax.set_title('P1201', fontsize = 20)\n",
    "targets = [1]\n",
    "colors = ['g']\n",
    "for target, color in zip(targets,colors):\n",
    "    \n",
    "    indicesToKeep = finalDf['target'] == target\n",
    "    ax.scatter(finalDf.loc[indicesToKeep, 'pc1']\n",
    "               , finalDf.loc[indicesToKeep, 'pc2']\n",
    "               , c = color\n",
    "               , s = 5)\n",
    "\n",
    "ax.legend(targets)\n",
    "ax.grid()"
   ]
  },
  {
   "cell_type": "markdown",
   "metadata": {},
   "source": [
    "### Use DBSCAN to find the clusters"
   ]
  },
  {
   "cell_type": "code",
   "execution_count": null,
   "metadata": {},
   "outputs": [
    {
     "name": "stdout",
     "output_type": "stream",
     "text": [
      "(436260, 2)\n"
     ]
    }
   ],
   "source": [
    "# from sklearn.cluster import DBSCAN\n",
    "# X = finalDf[['pc1', 'pc2']].values\n",
    "# print(X.shape)\n",
    "# clustering = DBSCAN(eps=0.5, min_samples=10).fit(X)\n",
    "# db_labels = clustering.labels_\n",
    "# print(np.unique(db_labels))"
   ]
  },
  {
   "cell_type": "code",
   "execution_count": null,
   "metadata": {},
   "outputs": [],
   "source": [
    "'''\n",
    "from collections import Counter\n",
    "\n",
    "counter = Counter(dblabels)\n",
    "\n",
    "# The percentages in frequency_dict wont add upto 100 since only\n",
    "# values more than 1 are added to the new dictionary - look at the \n",
    "# if statement below\n",
    "frequency_dict = {}\n",
    "for k in counter:\n",
    "    v = counter[k]\n",
    "    frequency_dict[k] = v\n",
    "    \n",
    "plt.rcParams['figure.figsize'] = [15, 10] # Size of the plots\n",
    "\n",
    "x = list(frequency_dict.keys())\n",
    "x = list(map(str, x))\n",
    "y = list(frequency_dict.values())\n",
    "\n",
    "for i, v in enumerate(y):\n",
    "    v = round(v, 3)\n",
    "    plt.text(i-.25, v + .25, str(v), color='blue', fontweight='bold')\n",
    "\n",
    "plt.bar(x,y)\n",
    "plt.xlabel('Cluster No.')\n",
    "plt.ylabel('Total Instances')\n",
    "plt.xticks(x, x, rotation=45)\n",
    "plt.show()\n",
    "'''"
   ]
  },
  {
   "cell_type": "markdown",
   "metadata": {},
   "source": [
    "### Use k-means to find the clusters of PCA"
   ]
  },
  {
   "cell_type": "code",
   "execution_count": 90,
   "metadata": {},
   "outputs": [],
   "source": [
    "from sklearn.cluster import KMeans\n",
    "X = finalDf.drop(columns='target')"
   ]
  },
  {
   "cell_type": "code",
   "execution_count": 91,
   "metadata": {},
   "outputs": [],
   "source": [
    "kmeans = KMeans(n_clusters=2)\n",
    "kmeans.fit(X)\n",
    "\n",
    "labels = kmeans.predict(X)"
   ]
  },
  {
   "cell_type": "code",
   "execution_count": 92,
   "metadata": {},
   "outputs": [
    {
     "data": {
      "image/png": "[encoded data removed]",
      "text/plain": [
       "<Figure size 1080x720 with 1 Axes>"
      ]
     },
     "metadata": {
      "needs_background": "light"
     },
     "output_type": "display_data"
    }
   ],
   "source": [
    "from collections import Counter\n",
    "\n",
    "counter = Counter(labels)\n",
    "\n",
    "# The percentages in frequency_dict wont add upto 100 since only\n",
    "# values more than 1 are added to the new dictionary - look at the \n",
    "# if statement below\n",
    "frequency_dict = {}\n",
    "for k in counter:\n",
    "    v = counter[k]\n",
    "    frequency_dict[k] = v\n",
    "    \n",
    "plt.rcParams['figure.figsize'] = [15, 10] # Size of the plots\n",
    "\n",
    "x = list(frequency_dict.keys())\n",
    "x = list(map(str, x))\n",
    "y = list(frequency_dict.values())\n",
    "\n",
    "for i, v in enumerate(y):\n",
    "    v = round(v, 3)\n",
    "    plt.text(i-.25, v + .25, str(v), color='blue', fontweight='bold')\n",
    "\n",
    "plt.bar(x,y)\n",
    "plt.xlabel('Cluster No.')\n",
    "plt.ylabel('Total Instances')\n",
    "plt.xticks(x, x, rotation=45)\n",
    "plt.show()"
   ]
  },
  {
   "cell_type": "code",
   "execution_count": 93,
   "metadata": {},
   "outputs": [
    {
     "data": {
      "text/plain": [
       "<matplotlib.legend.Legend at 0x121cdec88>"
      ]
     },
     "execution_count": 93,
     "metadata": {},
     "output_type": "execute_result"
    },
    {
     "data": {
      "image/png": "[encoded data removed]",
      "text/plain": [
       "<Figure size 1080x720 with 1 Axes>"
      ]
     },
     "metadata": {
      "needs_background": "light"
     },
     "output_type": "display_data"
    }
   ],
   "source": [
    "df = X.copy()\n",
    "df['labels'] = labels\n",
    "\n",
    "colors = ['b', 'g', 'r', 'c', 'm', 'y', 'k']\n",
    "xlabel = 'PC1'\n",
    "ylabel = 'PC2'\n",
    "plt.xlabel(xlabel)\n",
    "plt.ylabel(ylabel)\n",
    "# plt.xticks(rotation=45)\n",
    "plt.title('P1201 - KMeans')\n",
    "\n",
    "for i in range(len(np.unique(df['labels']))):\n",
    "    df_cluster = df[['pc1', 'pc2']].loc[df['labels'] == i]\n",
    "    x = np.array(df_cluster['pc1'])\n",
    "    y = np.array(df_cluster['pc2'])\n",
    "\n",
    "    plt.scatter(x, y, c=colors[i], alpha=0.5, s=5, label='Cluster'+str(i))\n",
    "\n",
    "plt.legend(loc='upper left')"
   ]
  },
  {
   "cell_type": "markdown",
   "metadata": {},
   "source": [
    "### Expectation Maximization"
   ]
  },
  {
   "cell_type": "code",
   "execution_count": 94,
   "metadata": {},
   "outputs": [],
   "source": [
    "from sklearn.mixture import GaussianMixture\n",
    "gmm = GaussianMixture(n_components=2).fit(X)\n",
    "labels_em = gmm.predict(X)"
   ]
  },
  {
   "cell_type": "code",
   "execution_count": 95,
   "metadata": {},
   "outputs": [
    {
     "data": {
      "text/plain": [
       "<matplotlib.legend.Legend at 0x162043e48>"
      ]
     },
     "execution_count": 95,
     "metadata": {},
     "output_type": "execute_result"
    },
    {
     "data": {
      "image/png": "[encoded data removed]",
      "text/plain": [
       "<Figure size 1080x720 with 1 Axes>"
      ]
     },
     "metadata": {
      "needs_background": "light"
     },
     "output_type": "display_data"
    }
   ],
   "source": [
    "df = X.copy()\n",
    "df['labels'] = labels_em\n",
    "\n",
    "colors = ['b', 'g', 'r', 'c', 'm', 'y', 'k']\n",
    "xlabel = 'PC1'\n",
    "ylabel = 'PC2'\n",
    "plt.xlabel(xlabel)\n",
    "plt.ylabel(ylabel)\n",
    "plt.title('P1201 - Expectation Maximization')\n",
    "\n",
    "for i in range(len(np.unique(df['labels']))):\n",
    "    df_cluster = df[['pc1', 'pc2']].loc[df['labels'] == i]\n",
    "    x = np.array(df_cluster['pc1'])\n",
    "    y = np.array(df_cluster['pc2'])\n",
    "\n",
    "    plt.scatter(x, y, c=colors[i], alpha=0.5, s=5, label='Cluster'+str(i))\n",
    "\n",
    "plt.legend(loc='upper left')"
   ]
  },
  {
   "cell_type": "markdown",
   "metadata": {},
   "source": [
    "# Use only features with maximum time span time frame"
   ]
  },
  {
   "cell_type": "markdown",
   "metadata": {},
   "source": [
    "### Select Features"
   ]
  },
  {
   "cell_type": "code",
   "execution_count": 36,
   "metadata": {},
   "outputs": [],
   "source": [
    "selected_features = [\n",
    "    'HART_P1CP04:PY12003AFB.MEAS', \n",
    "    'HART_P1CP04:PY12110FB.MEAS', \n",
    "    'HART_P1CP04:PY12516FB.MEAS', \n",
    "    'HART_P1CP04:PY12109FB.MEAS', \n",
    "    'HART_U1CP03:PY24092FB.MEAS', \n",
    "    'HART_P1CP04:FY12847FB.MEAS'\n",
    "]"
   ]
  },
  {
   "cell_type": "markdown",
   "metadata": {},
   "source": [
    "### Drop features"
   ]
  },
  {
   "cell_type": "code",
   "execution_count": 37,
   "metadata": {},
   "outputs": [
    {
     "name": "stdout",
     "output_type": "stream",
     "text": [
      "EXCLUDED FEATURES\n",
      " {'12GTWY_E101:FIE12404.PNT', '12P01BCP4:PI12956.PNT', '12P01BCP4:FC12847.MEAS', '12P01BCP4:PI12955.PNT'}\n",
      "df_master COLUMNS\n",
      " ['datetime_gran' 'HART_P1CP04:PY12003AFB.MEAS'\n",
      " 'HART_P1CP04:PY12110FB.MEAS' 'HART_P1CP04:PY12516FB.MEAS'\n",
      " 'HART_P1CP04:PY12109FB.MEAS' 'HART_U1CP03:PY24092FB.MEAS'\n",
      " 'HART_P1CP04:FY12847FB.MEAS']\n"
     ]
    }
   ],
   "source": [
    "all_features = df_master.columns.values\n",
    "excluded_features = set(all_features) - set(selected_features) \n",
    "excluded_features = excluded_features - set([time_gran_col])\n",
    "print('EXCLUDED FEATURES\\n', excluded_features)\n",
    "\n",
    "df_master_selfeat = df_master.drop(columns=list(excluded_features), inplace=False)\n",
    "print('df_master COLUMNS\\n', df_master_selfeat.columns.values)"
   ]
  },
  {
   "cell_type": "markdown",
   "metadata": {},
   "source": [
    "### Drop NaNs"
   ]
  },
  {
   "cell_type": "code",
   "execution_count": 38,
   "metadata": {},
   "outputs": [],
   "source": [
    "df_master_nans_dropped = df_master_selfeat.dropna(inplace=False)"
   ]
  },
  {
   "cell_type": "code",
   "execution_count": 39,
   "metadata": {},
   "outputs": [
    {
     "name": "stdout",
     "output_type": "stream",
     "text": [
      "(1578241, 7)\n",
      "(1144794, 7)\n"
     ]
    }
   ],
   "source": [
    "print(df_master_selfeat.shape)\n",
    "print(df_master_nans_dropped.shape)"
   ]
  },
  {
   "cell_type": "markdown",
   "metadata": {},
   "source": [
    "#### Find the min and max of date"
   ]
  },
  {
   "cell_type": "code",
   "execution_count": 40,
   "metadata": {},
   "outputs": [
    {
     "name": "stdout",
     "output_type": "stream",
     "text": [
      "2016-10-28 00:08:01\n",
      "2019-01-01 00:01:01\n"
     ]
    }
   ],
   "source": [
    "min_date_avail = df_master_nans_dropped[time_gran_col].min()\n",
    "max_date_avail = df_master_nans_dropped[time_gran_col].max()\n",
    "\n",
    "min_date_avail = np.int64(min_date_avail).item()\n",
    "max_date_avail = np.int64(max_date_avail).item()\n",
    "\n",
    "print(get_time_from_minutes(min_date_avail, base_date))\n",
    "print(get_time_from_minutes(max_date_avail, base_date))"
   ]
  },
  {
   "cell_type": "markdown",
   "metadata": {},
   "source": [
    "### Drop after certain date"
   ]
  },
  {
   "cell_type": "code",
   "execution_count": 41,
   "metadata": {},
   "outputs": [
    {
     "name": "stdout",
     "output_type": "stream",
     "text": [
      "(1144794, 7)\n",
      "(1055454, 7)\n"
     ]
    }
   ],
   "source": [
    "end_date = datetime.strptime('2018-10-31 00:00:01', fmt)\n",
    "end_mins = get_minutes_after(end_date, base_date)\n",
    "print(df_master_nans_dropped.shape)\n",
    "df_master_nans_dropped = df_master_nans_dropped.loc[df_master_nans_dropped[time_gran_col] <= end_mins]\n",
    "print(df_master_nans_dropped.shape)"
   ]
  },
  {
   "cell_type": "markdown",
   "metadata": {},
   "source": [
    "#### Find the min and max of date"
   ]
  },
  {
   "cell_type": "code",
   "execution_count": 42,
   "metadata": {},
   "outputs": [
    {
     "name": "stdout",
     "output_type": "stream",
     "text": [
      "2016-10-28 00:08:01\n",
      "2018-10-30 23:01:01\n"
     ]
    }
   ],
   "source": [
    "min_date_avail = df_master_nans_dropped[time_gran_col].min()\n",
    "max_date_avail = df_master_nans_dropped[time_gran_col].max()\n",
    "\n",
    "min_date_avail = np.int64(min_date_avail).item()\n",
    "max_date_avail = np.int64(max_date_avail).item()\n",
    "\n",
    "print(get_time_from_minutes(min_date_avail, base_date))\n",
    "print(get_time_from_minutes(max_date_avail, base_date))"
   ]
  },
  {
   "cell_type": "markdown",
   "metadata": {},
   "source": [
    "### Standardize the data"
   ]
  },
  {
   "cell_type": "code",
   "execution_count": 43,
   "metadata": {},
   "outputs": [
    {
     "name": "stdout",
     "output_type": "stream",
     "text": [
      "{'HART_U1CP03:PY24092FB.MEAS', 'HART_P1CP04:FY12847FB.MEAS', 'HART_P1CP04:PY12109FB.MEAS', 'HART_P1CP04:PY12110FB.MEAS', 'HART_P1CP04:PY12003AFB.MEAS', 'HART_P1CP04:PY12516FB.MEAS'}\n"
     ]
    }
   ],
   "source": [
    "from sklearn.preprocessing import StandardScaler\n",
    "\n",
    "df_pca = df_master_nans_dropped.copy()\n",
    "features = set(list(df_pca.columns.values)) - set(['datetime_gran', 'datetime'])\n",
    "print(features)\n",
    "\n",
    "# Separating out the features\n",
    "x = df_pca.loc[:, features].values\n",
    "\n",
    "# Separating out the target\n",
    "# y = df_pca.loc[:,['target']].values\n",
    "\n",
    "# Standardizing the features\n",
    "x = StandardScaler().fit_transform(x)"
   ]
  },
  {
   "cell_type": "markdown",
   "metadata": {},
   "source": [
    "### PCA Projection"
   ]
  },
  {
   "cell_type": "code",
   "execution_count": 45,
   "metadata": {},
   "outputs": [],
   "source": [
    "from sklearn.decomposition import PCA\n",
    "pca = PCA(n_components=2)\n",
    "principalComponents = pca.fit_transform(x)\n",
    "principalDf = pd.DataFrame(data = principalComponents,\n",
    "                           columns = ['pc1', 'pc2'])"
   ]
  },
  {
   "cell_type": "code",
   "execution_count": 46,
   "metadata": {},
   "outputs": [],
   "source": [
    "df_pca['target'] = 1"
   ]
  },
  {
   "cell_type": "code",
   "execution_count": 47,
   "metadata": {},
   "outputs": [],
   "source": [
    "# Reset the index to align the targets and variables\n",
    "df_pca.reset_index(inplace=True)"
   ]
  },
  {
   "cell_type": "code",
   "execution_count": 48,
   "metadata": {},
   "outputs": [],
   "source": [
    "finalDf = pd.concat([principalDf, df_pca[['target']]], axis = 1)"
   ]
  },
  {
   "cell_type": "code",
   "execution_count": 49,
   "metadata": {},
   "outputs": [
    {
     "name": "stdout",
     "output_type": "stream",
     "text": [
      "   principal component 1  principal component 2  target\n",
      "0 -0.345900               3.502131               1     \n",
      "1 -0.311515               3.515494               1     \n",
      "2 -0.350622               3.485889               1     \n",
      "3 -0.303873               3.515291               1     \n",
      "4 -0.347509               3.492092               1     \n",
      "         principal component 1  principal component 2  target\n",
      "1055449  0.376211              -0.087910               1     \n",
      "1055450  0.376211              -0.087910               1     \n",
      "1055451  0.413436              -0.097841               1     \n",
      "1055452  0.423673              -0.103711               1     \n",
      "1055453  0.401072              -0.097681               1     \n"
     ]
    }
   ],
   "source": [
    "print(finalDf.head())\n",
    "print(finalDf.tail())"
   ]
  },
  {
   "cell_type": "code",
   "execution_count": 50,
   "metadata": {},
   "outputs": [
    {
     "data": {
      "image/png": "[encoded data removed]",
      "text/plain": [
       "<Figure size 1080x1080 with 1 Axes>"
      ]
     },
     "metadata": {
      "needs_background": "light"
     },
     "output_type": "display_data"
    }
   ],
   "source": [
    "fig = plt.figure(figsize = (15,15))\n",
    "ax = fig.add_subplot(1,1,1) \n",
    "ax.set_xlabel('Principal Component 1', fontsize = 15)\n",
    "ax.set_ylabel('Principal Component 2', fontsize = 15)\n",
    "ax.set_title('P1201', fontsize = 20)\n",
    "targets = [1]\n",
    "colors = ['r']\n",
    "for target, color in zip(targets,colors):\n",
    "    \n",
    "    indicesToKeep = finalDf['target'] == target\n",
    "    ax.scatter(finalDf.loc[indicesToKeep, 'pc1']\n",
    "               , finalDf.loc[indicesToKeep, 'pc2']\n",
    "               , c = color\n",
    "               , s = 50)\n",
    "\n",
    "ax.legend(targets)\n",
    "ax.grid()"
   ]
  },
  {
   "cell_type": "code",
   "execution_count": null,
   "metadata": {},
   "outputs": [],
   "source": []
  }
 ],
 "metadata": {
  "kernelspec": {
   "display_name": "shell",
   "language": "python",
   "name": "shell"
  },
  "language_info": {
   "codemirror_mode": {
    "name": "ipython",
    "version": 3
   },
   "file_extension": ".py",
   "mimetype": "text/x-python",
   "name": "python",
   "nbconvert_exporter": "python",
   "pygments_lexer": "ipython3",
   "version": "3.6.6"
  }
 },
 "nbformat": 4,
 "nbformat_minor": 2
}
