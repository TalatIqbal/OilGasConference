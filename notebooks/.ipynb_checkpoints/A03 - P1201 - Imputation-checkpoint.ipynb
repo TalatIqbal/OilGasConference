{
 "cells": [
  {
   "cell_type": "markdown",
   "metadata": {},
   "source": [
    "### Imports"
   ]
  },
  {
   "cell_type": "code",
   "execution_count": 1,
   "metadata": {},
   "outputs": [],
   "source": [
    "import pandas as pd\n",
    "import numpy as np\n",
    "from datetime import datetime\n",
    "from datetime import timedelta\n",
    "import matplotlib.pyplot as plt\n",
    "import os\n",
    "import ntpath\n",
    "import pickle as pkl\n",
    "import xlrd\n",
    "import time\n",
    "import string\n",
    "\n",
    "from os import listdir\n",
    "from os.path import isfile, join"
   ]
  },
  {
   "cell_type": "markdown",
   "metadata": {},
   "source": [
    "### Notebook options"
   ]
  },
  {
   "cell_type": "code",
   "execution_count": 2,
   "metadata": {},
   "outputs": [],
   "source": [
    "pd.set_option('display.max_colwidth', -1) # Column width\n",
    "plt.rcParams['figure.figsize'] = [15, 10] # Size of the plots"
   ]
  },
  {
   "cell_type": "markdown",
   "metadata": {},
   "source": [
    "### General Assumptions"
   ]
  },
  {
   "cell_type": "code",
   "execution_count": 3,
   "metadata": {},
   "outputs": [],
   "source": [
    "time_col = 'datetime'\n",
    "time_gran_col = 'datetime_gran'\n",
    "value_col = 'val'\n",
    "scaled_value_col = 'scaled_val'\n",
    "time_granularity = 'min'"
   ]
  },
  {
   "cell_type": "code",
   "execution_count": 4,
   "metadata": {},
   "outputs": [],
   "source": [
    "fmt = '%Y-%m-%d %H:%M:%S'\n",
    "base_date = datetime.strptime('2017-01-01 00:00:01', fmt)\n",
    "start_date = datetime.strptime('2017-01-01 00:00:01', fmt)\n",
    "stop_date = datetime.strptime('2019-01-01 00:00:01', fmt)"
   ]
  },
  {
   "cell_type": "markdown",
   "metadata": {},
   "source": [
    "### Data Directies"
   ]
  },
  {
   "cell_type": "code",
   "execution_count": 5,
   "metadata": {},
   "outputs": [],
   "source": [
    "RAW_DATA_DIR = '../data/raw/P2253/'\n",
    "PROC_DATA_DIR = '../data/processed/P2253/'\n",
    "INT_DATA_DIR = '../data/interim/P2253/'"
   ]
  },
  {
   "cell_type": "markdown",
   "metadata": {},
   "source": [
    "### Functions"
   ]
  },
  {
   "cell_type": "code",
   "execution_count": 6,
   "metadata": {},
   "outputs": [],
   "source": [
    "def get_seconds_after(current_date, base_date):\n",
    "    \n",
    "    base_ts = time.mktime(base_date.timetuple()) # Converting to Unix timestamp\n",
    "    current_ts = time.mktime(current_date.timetuple())\n",
    "    time_diff = round((current_ts - base_ts))\n",
    "    \n",
    "    return time_diff"
   ]
  },
  {
   "cell_type": "code",
   "execution_count": 7,
   "metadata": {},
   "outputs": [],
   "source": [
    "def get_minutes_after(current_date, base_date):\n",
    "        \n",
    "    base_ts = time.mktime(base_date.timetuple()) # Converting to Unix timestamp\n",
    "    current_ts = time.mktime(current_date.timetuple())\n",
    "    time_diff = round((current_ts - base_ts) / 60.0) + 1\n",
    "    \n",
    "    return time_diff"
   ]
  },
  {
   "cell_type": "code",
   "execution_count": 8,
   "metadata": {},
   "outputs": [],
   "source": [
    "def get_hours_after(current_date, base_date):\n",
    "    \n",
    "    base_ts = time.mktime(base_date.timetuple()) # Converting to Unix timestamp\n",
    "    current_ts = time.mktime(current_date.timetuple())\n",
    "    time_diff = round((current_ts - base_ts) / 60.0 / 60.0) + 1\n",
    "    \n",
    "    return time_diff"
   ]
  },
  {
   "cell_type": "code",
   "execution_count": 9,
   "metadata": {},
   "outputs": [],
   "source": [
    "def get_days_after(current_date, base_date):\n",
    "    \n",
    "    base_ts = time.mktime(base_date.timetuple()) # Converting to Unix timestamp\n",
    "    current_ts = time.mktime(current_date.timetuple())\n",
    "    time_diff = round((current_ts - base_ts) / 60.0 / 60.0 / 24) + 1\n",
    "    \n",
    "    return time_diff"
   ]
  },
  {
   "cell_type": "code",
   "execution_count": 10,
   "metadata": {},
   "outputs": [],
   "source": [
    "def get_months_after(current_date, base_date):    \n",
    "    time_diff = ((current_date.year - base_date.year) * 12) + current_date.month - base_date.month + 1    \n",
    "    return time_diff"
   ]
  },
  {
   "cell_type": "code",
   "execution_count": 11,
   "metadata": {},
   "outputs": [],
   "source": [
    "def get_years_after(current_date, base_date):    \n",
    "    time_diff = (current_date.year - base_date.year) + 1 \n",
    "    return time_diff"
   ]
  },
  {
   "cell_type": "code",
   "execution_count": 12,
   "metadata": {},
   "outputs": [],
   "source": [
    "def get_time_from_minutes(time_in_mins, base_date):    \n",
    "    new_date = base_date + timedelta(minutes = time_in_mins)        \n",
    "    return new_date"
   ]
  },
  {
   "cell_type": "markdown",
   "metadata": {},
   "source": [
    "#### Debug"
   ]
  },
  {
   "cell_type": "code",
   "execution_count": 13,
   "metadata": {},
   "outputs": [
    {
     "name": "stdout",
     "output_type": "stream",
     "text": [
      "1051201\n",
      "17521\n",
      "731\n",
      "25\n",
      "3\n"
     ]
    }
   ],
   "source": [
    "fmt = '%Y-%m-%d %H:%M:%S'\n",
    "start_date = datetime.strptime('2017-01-01 00:00:01', fmt)\n",
    "stop_date = datetime.strptime('2019-01-01 00:00:01', fmt)\n",
    "\n",
    "td_min = get_minutes_after(stop_date, start_date)\n",
    "print(td_min)\n",
    "\n",
    "td_hours = get_hours_after(stop_date, start_date)\n",
    "print(td_hours)\n",
    "\n",
    "td_days = get_days_after(stop_date, start_date)\n",
    "print(td_days)\n",
    "\n",
    "td_mon = get_months_after(stop_date, start_date)\n",
    "print(td_mon)\n",
    "\n",
    "td_year = get_years_after(stop_date, start_date)\n",
    "print(td_year)"
   ]
  },
  {
   "cell_type": "markdown",
   "metadata": {},
   "source": [
    "### Reading Aggregated Data"
   ]
  },
  {
   "cell_type": "code",
   "execution_count": 14,
   "metadata": {},
   "outputs": [],
   "source": [
    "def read_data(input_path, print_debug = False):\n",
    "    \n",
    "    df_features = {}\n",
    "    \n",
    "    if os.path.isdir(input_path):\n",
    "        input_files = [f for f in listdir(input_path) if (isfile(join(input_path, f))) and ((f.endswith('.pkl')) or (f.endswith('.csv')))]\n",
    "    elif os.path.isfile(input_path):\n",
    "        input_files = input_path\n",
    "    \n",
    "    if print_debug:\n",
    "        print('Number of files found in %s is %d ' % (input_path, len(input_files)))\n",
    "    \n",
    "    for input_file in input_files:\n",
    "        \n",
    "        feature,_ = os.path.splitext(input_file)\n",
    "        input_file = input_path + input_file  \n",
    "        \n",
    "        with open(input_file, 'rb') as f:\n",
    "            df = pkl.load(f)\n",
    "            df_features[feature] = df\n",
    "    \n",
    "    if print_debug:\n",
    "        print('Number of features extracted from %d files is %d ' % (len(input_files), len(df_features)))\n",
    "    \n",
    "    return df_features"
   ]
  },
  {
   "cell_type": "code",
   "execution_count": 15,
   "metadata": {},
   "outputs": [
    {
     "name": "stdout",
     "output_type": "stream",
     "text": [
      "Number of files found in ../data/interim/P2253/aggregated/ is 51 \n",
      "Number of features extracted from 51 files is 51 \n"
     ]
    }
   ],
   "source": [
    "# Testing read_data function\n",
    "input_dir = INT_DATA_DIR + 'aggregated/'\n",
    "df_features = read_data(input_dir, True)"
   ]
  },
  {
   "cell_type": "code",
   "execution_count": 16,
   "metadata": {},
   "outputs": [
    {
     "name": "stdout",
     "output_type": "stream",
     "text": [
      "Number of features =  51\n"
     ]
    }
   ],
   "source": [
    "print('Number of features = ', len(list(df_features.keys())))"
   ]
  },
  {
   "cell_type": "code",
   "execution_count": 17,
   "metadata": {},
   "outputs": [],
   "source": [
    "def get_granulairty_function(granularity, current_date, base_date):\n",
    "    \n",
    "    if granularity == 'sec':\n",
    "        return get_seconds_after(current_date, base_date)\n",
    "    elif granularity == 'min':\n",
    "        return get_minutes_after(current_date, base_date)\n",
    "    elif granularity == 'hr':\n",
    "        return get_hours_after(current_date, base_date)\n",
    "    elif granularity == 'day':\n",
    "        return get_days_after(current_date, base_date)\n",
    "    elif granularity == 'mon':\n",
    "        return get_months_after(current_date, base_date)\n",
    "    elif granularity == 'yr':\n",
    "        return get_years_after(current_date, base_date)\n",
    "    \n",
    "    return get_minutes_after(current_date, base_date) # Default return function is for minutes"
   ]
  },
  {
   "cell_type": "markdown",
   "metadata": {},
   "source": [
    "### Generate Master Dataframe for time"
   ]
  },
  {
   "cell_type": "code",
   "execution_count": 18,
   "metadata": {},
   "outputs": [],
   "source": [
    "from datetime import datetime\n",
    "def generate_master_df(time_granularity,\n",
    "                       time_gran_col,\n",
    "                       base_date,\n",
    "                       end_date,\n",
    "                       print_debug = False):\n",
    "    '''\n",
    "    Generates a master dataframe\n",
    "    Dataframe will have an integer column that denotes x minutes have passed after the base_date\n",
    "    granulaity - can take one of the following - 'sec' (seconds), min ' (minutes), 'hr' (hour), \n",
    "                'day' (day), 'mon' (month), 'yr' (year)\n",
    "    base_date = date of reference since which the unit of time is computed\n",
    "    '''\n",
    "    \n",
    "    if print_debug:\n",
    "        print('Granularity is', time_granularity, '\\tStart Date = ', base_date, '\\tEnd Date = ', end_date)\n",
    "            \n",
    "    max_td = get_granulairty_function(time_granularity, end_date, base_date)\n",
    "    \n",
    "    df_master = pd.DataFrame(columns=[time_gran_col])    \n",
    "    df_master[time_gran_col] = [i for i in range(1, max_td+1)]\n",
    "    \n",
    "    if print_debug:\n",
    "        print('Shape of the master dataframe is ', df_master.shape, 'with columns ', df_master.columns.values)\n",
    "    \n",
    "    return df_master"
   ]
  },
  {
   "cell_type": "code",
   "execution_count": 19,
   "metadata": {},
   "outputs": [
    {
     "name": "stdout",
     "output_type": "stream",
     "text": [
      "min 2017-01-01 00:00:01 2019-01-01 00:00:01\n"
     ]
    }
   ],
   "source": [
    "time_granularity = 'min'\n",
    "time_gran_col = 'datetime_gran'\n",
    "\n",
    "fmt = '%Y-%m-%d %H:%M:%S'\n",
    "# base_date = datetime.strptime('2017-01-01 00:00:01', fmt)\n",
    "# stop_date = datetime.strptime('2019-01-01 00:00:01', fmt)\n",
    "\n",
    "print(time_granularity, base_date, stop_date)\n",
    "\n",
    "df_master = generate_master_df(time_granularity= time_granularity,\n",
    "                               time_gran_col= time_gran_col, \n",
    "                               base_date= base_date, \n",
    "                               end_date= stop_date)"
   ]
  },
  {
   "cell_type": "code",
   "execution_count": 20,
   "metadata": {},
   "outputs": [
    {
     "name": "stdout",
     "output_type": "stream",
     "text": [
      "Size of the master df 1051201\n"
     ]
    }
   ],
   "source": [
    "print('Size of the master df', len(df_master))"
   ]
  },
  {
   "cell_type": "code",
   "execution_count": 21,
   "metadata": {},
   "outputs": [
    {
     "name": "stdout",
     "output_type": "stream",
     "text": [
      "22P53CP4:LIE22F36.PNT  - Length:  415301\n",
      "22P53CP4:PI22F31.PNT  - Length:  579932\n",
      "22GTWY_E402:PIE22F32.PNT  - Length:  233274\n",
      "UBNV05CPB:XI22F30Y.PNT  - Length:  583870\n",
      "22P53CP4:FC22E22.MEAS  - Length:  556892\n",
      "22P53CP4:PDI22F33.PNT  - Length:  415224\n",
      "22PM53CPM:TI22F16A.PNT  - Length:  23389\n",
      "22PM53CPM:TI22F17A.PNT  - Length:  23389\n",
      "22GTWY_E403:PDALE22E24SP.PNT  - Length:  23192\n",
      "UBNV05CPB:XI22F26X.PNT  - Length:  583422\n",
      "22P53CP4:FC22E22.OUT  - Length:  556897\n",
      "UBNV05CPB:XI22F26Y.PNT  - Length:  584072\n",
      "22P53CP4:FC22E04.OUT  - Length:  352609\n",
      "22GTWY_E403:FIE22E23.PNT  - Length:  329490\n",
      "UBNV05CPB:XI22F30X.PNT  - Length:  583923\n",
      "22P53CP4:TI22F14.PNT  - Length:  583934\n",
      "TMP:HCU_P2253_Flow_Balance.Cal  - Length:  637308\n",
      "22PM53CPM:TI22F16B.PNT  - Length:  23389\n",
      "22PM53CPM:TI22F17B.PNT  - Length:  23391\n",
      "22P53CP4:FXC22E22.MEAS  - Length:  556922\n",
      "UBNV05CPB:ZI22F28.PNT  - Length:  584096\n",
      "22P53CP4:TC22F38.SPT  - Length:  23820\n",
      "UBNV05CPB:SI22F23.PNT  - Length:  227340\n",
      "22P53CP4:TC22F38.MEAS  - Length:  579862\n",
      "22P53CP4:FXC22E22.SPT  - Length:  36386\n",
      "22PM53CPM:TI22F18B.PNT  - Length:  16835\n",
      "22P53CP4:TC22F38.OUT  - Length:  23852\n",
      "22GTWY_E402:PALE22F32SP.PNT  - Length:  13939\n",
      "UBNV05CPB:XI22F25Y.PNT  - Length:  583419\n",
      "22P53CP4:FQI22E22.OUT  - Length:  555572\n",
      "22P53CP4:TI22F37.PNT  - Length:  415572\n",
      "22PM53CPM:TI22F15A.PNT  - Length:  23392\n",
      "UBNV05CPB:XI22F25X.PNT  - Length:  583856\n",
      "22P53CP4:FXC22E22.OUT  - Length:  559224\n",
      "22P53CP4:PI22E05.PNT  - Length:  579913\n",
      "22P53CP4:TI22F11.PNT  - Length:  582631\n",
      "22GTWY_E403:FALE22E23SP.PNT  - Length:  9253\n",
      "22PM53CPM:II22E47.PNT  - Length:  399391\n",
      "22GTWY_E403:PDIE22E24.PNT  - Length:  545863\n",
      "22P53CP4:TI22F13.PNT  - Length:  523848\n",
      "22PM53CPM:TI22F18A.PNT  - Length:  16835\n",
      "UBNV05CPB:XI22F29X.PNT  - Length:  583964\n",
      "22P53CP4:FC22E04.SPT  - Length:  23228\n",
      "22P53CP4:TI22F12.PNT  - Length:  582734\n",
      "UBNV05CPB:ZI22F27.PNT  - Length:  584109\n",
      "UBNV05CPB:XI22F29Y.PNT  - Length:  583896\n",
      "22P53CP4:FX22E22CMP.PNT  - Length:  493470\n",
      "22P53CP4:FC22E22.SPT  - Length:  555011\n",
      "22P53CP4:FC22E04.MEAS  - Length:  563705\n",
      "22P53CP4:FX22E22SPF.MEAS  - Length:  556915\n",
      "22PM53CPM:TI22F15B.PNT  - Length:  23389\n"
     ]
    }
   ],
   "source": [
    "for feature,df in df_features.items():\n",
    "    print(feature, ' - Length: ', len(df))"
   ]
  },
  {
   "cell_type": "code",
   "execution_count": 22,
   "metadata": {},
   "outputs": [
    {
     "data": {
      "text/html": [
       "<div>\n",
       "<style scoped>\n",
       "    .dataframe tbody tr th:only-of-type {\n",
       "        vertical-align: middle;\n",
       "    }\n",
       "\n",
       "    .dataframe tbody tr th {\n",
       "        vertical-align: top;\n",
       "    }\n",
       "\n",
       "    .dataframe thead th {\n",
       "        text-align: right;\n",
       "    }\n",
       "</style>\n",
       "<table border=\"1\" class=\"dataframe\">\n",
       "  <thead>\n",
       "    <tr style=\"text-align: right;\">\n",
       "      <th></th>\n",
       "      <th>datetime_gran</th>\n",
       "      <th>val</th>\n",
       "    </tr>\n",
       "  </thead>\n",
       "  <tbody>\n",
       "    <tr>\n",
       "      <th>0</th>\n",
       "      <td>247460</td>\n",
       "      <td>104.6885</td>\n",
       "    </tr>\n",
       "    <tr>\n",
       "      <th>1</th>\n",
       "      <td>247461</td>\n",
       "      <td>104.7289</td>\n",
       "    </tr>\n",
       "    <tr>\n",
       "      <th>2</th>\n",
       "      <td>247462</td>\n",
       "      <td>104.7692</td>\n",
       "    </tr>\n",
       "    <tr>\n",
       "      <th>3</th>\n",
       "      <td>247463</td>\n",
       "      <td>104.7329</td>\n",
       "    </tr>\n",
       "    <tr>\n",
       "      <th>4</th>\n",
       "      <td>247464</td>\n",
       "      <td>104.7773</td>\n",
       "    </tr>\n",
       "  </tbody>\n",
       "</table>\n",
       "</div>"
      ],
      "text/plain": [
       "   datetime_gran       val\n",
       "0  247460         104.6885\n",
       "1  247461         104.7289\n",
       "2  247462         104.7692\n",
       "3  247463         104.7329\n",
       "4  247464         104.7773"
      ]
     },
     "execution_count": 22,
     "metadata": {},
     "output_type": "execute_result"
    }
   ],
   "source": [
    "df_features['22P53CP4:PI22F31.PNT'].head()"
   ]
  },
  {
   "cell_type": "markdown",
   "metadata": {},
   "source": [
    "### Generate Master Features"
   ]
  },
  {
   "cell_type": "code",
   "execution_count": 23,
   "metadata": {},
   "outputs": [],
   "source": [
    "df_master_features = {}\n",
    "\n",
    "idx = 0\n",
    "for feature in df_features.keys():\n",
    "    df = df_features[feature].copy()\n",
    "    df = pd.merge(df_master, df, how='left', left_on=[time_gran_col], right_on=[time_gran_col])\n",
    "    \n",
    "    df_master_features[feature] = df"
   ]
  },
  {
   "cell_type": "markdown",
   "metadata": {},
   "source": [
    "### Interpolation - Linear"
   ]
  },
  {
   "cell_type": "code",
   "execution_count": 24,
   "metadata": {},
   "outputs": [
    {
     "name": "stdout",
     "output_type": "stream",
     "text": [
      "22P53CP4:LIE22F36.PNT Total= 1051201  NANs=  635900 --> 525601\n",
      "22P53CP4:PI22F31.PNT Total= 1051201  NANs=  471269 --> 247459\n",
      "22GTWY_E402:PIE22F32.PNT Total= 1051201  NANs=  817927 --> 247457\n",
      "UBNV05CPB:XI22F30Y.PNT Total= 1051201  NANs=  467331 --> 247931\n",
      "22P53CP4:FC22E22.MEAS Total= 1051201  NANs=  494309 --> 247459\n",
      "22P53CP4:PDI22F33.PNT Total= 1051201  NANs=  635977 --> 525601\n",
      "22PM53CPM:TI22F16A.PNT Total= 1051201  NANs=  1027812 --> 247470\n",
      "22PM53CPM:TI22F17A.PNT Total= 1051201  NANs=  1027812 --> 247470\n",
      "22GTWY_E403:PDALE22E24SP.PNT Total= 1051201  NANs=  1028009 --> 247470\n",
      "UBNV05CPB:XI22F26X.PNT Total= 1051201  NANs=  467779 --> 247931\n",
      "22P53CP4:FC22E22.OUT Total= 1051201  NANs=  494304 --> 247459\n",
      "UBNV05CPB:XI22F26Y.PNT Total= 1051201  NANs=  467129 --> 247931\n",
      "22P53CP4:FC22E04.OUT Total= 1051201  NANs=  698592 --> 247470\n",
      "22GTWY_E403:FIE22E23.PNT Total= 1051201  NANs=  721711 --> 525601\n",
      "UBNV05CPB:XI22F30X.PNT Total= 1051201  NANs=  467278 --> 247931\n",
      "22P53CP4:TI22F14.PNT Total= 1051201  NANs=  467267 --> 247459\n",
      "TMP:HCU_P2253_Flow_Balance.Cal Total= 1051201  NANs=  413893 --> 247923\n",
      "22PM53CPM:TI22F16B.PNT Total= 1051201  NANs=  1027812 --> 247470\n",
      "22PM53CPM:TI22F17B.PNT Total= 1051201  NANs=  1027810 --> 247470\n",
      "22P53CP4:FXC22E22.MEAS Total= 1051201  NANs=  494279 --> 247459\n",
      "UBNV05CPB:ZI22F28.PNT Total= 1051201  NANs=  467105 --> 247931\n",
      "22P53CP4:TC22F38.SPT Total= 1051201  NANs=  1027381 --> 247470\n",
      "UBNV05CPB:SI22F23.PNT Total= 1051201  NANs=  823861 --> 247930\n",
      "22P53CP4:TC22F38.MEAS Total= 1051201  NANs=  471339 --> 247459\n",
      "22P53CP4:FXC22E22.SPT Total= 1051201  NANs=  1014815 --> 247470\n",
      "22PM53CPM:TI22F18B.PNT Total= 1051201  NANs=  1034366 --> 247470\n",
      "22P53CP4:TC22F38.OUT Total= 1051201  NANs=  1027349 --> 247470\n",
      "22GTWY_E402:PALE22F32SP.PNT Total= 1051201  NANs=  1037262 --> 525613\n",
      "UBNV05CPB:XI22F25Y.PNT Total= 1051201  NANs=  467782 --> 247931\n",
      "22P53CP4:FQI22E22.OUT Total= 1051201  NANs=  495629 --> 247459\n",
      "22P53CP4:TI22F37.PNT Total= 1051201  NANs=  635629 --> 525601\n",
      "22PM53CPM:TI22F15A.PNT Total= 1051201  NANs=  1027809 --> 247470\n",
      "UBNV05CPB:XI22F25X.PNT Total= 1051201  NANs=  467345 --> 247931\n",
      "22P53CP4:FXC22E22.OUT Total= 1051201  NANs=  491977 --> 247459\n",
      "22P53CP4:PI22E05.PNT Total= 1051201  NANs=  471288 --> 247459\n",
      "22P53CP4:TI22F11.PNT Total= 1051201  NANs=  468570 --> 247459\n",
      "22GTWY_E403:FALE22E23SP.PNT Total= 1051201  NANs=  1041948 --> 247470\n",
      "22PM53CPM:II22E47.PNT Total= 1051201  NANs=  651810 --> 247459\n",
      "22GTWY_E403:PDIE22E24.PNT Total= 1051201  NANs=  505338 --> 247457\n",
      "22P53CP4:TI22F13.PNT Total= 1051201  NANs=  527353 --> 247459\n",
      "22PM53CPM:TI22F18A.PNT Total= 1051201  NANs=  1034366 --> 247470\n",
      "UBNV05CPB:XI22F29X.PNT Total= 1051201  NANs=  467237 --> 247931\n",
      "22P53CP4:FC22E04.SPT Total= 1051201  NANs=  1027973 --> 247470\n",
      "22P53CP4:TI22F12.PNT Total= 1051201  NANs=  468467 --> 247459\n",
      "UBNV05CPB:ZI22F27.PNT Total= 1051201  NANs=  467092 --> 247931\n",
      "UBNV05CPB:XI22F29Y.PNT Total= 1051201  NANs=  467305 --> 247931\n",
      "22P53CP4:FX22E22CMP.PNT Total= 1051201  NANs=  557731 --> 247459\n",
      "22P53CP4:FC22E22.SPT Total= 1051201  NANs=  496190 --> 247459\n",
      "22P53CP4:FC22E04.MEAS Total= 1051201  NANs=  487496 --> 247459\n",
      "22P53CP4:FX22E22SPF.MEAS Total= 1051201  NANs=  494286 --> 247459\n",
      "22PM53CPM:TI22F15B.PNT Total= 1051201  NANs=  1027812 --> 247470\n"
     ]
    }
   ],
   "source": [
    "for feature in df_master_features.keys():    \n",
    "    df = df_master_features[feature].copy()\n",
    "    \n",
    "    print(feature, 'Total=', len(df),  ' NANs= ', len(df.loc[df[value_col].isna()]), end=' --> ')\n",
    "    \n",
    "    df.interpolate(inplace=True)\n",
    "    \n",
    "    print(len(df.loc[df[value_col].isna()]))\n",
    "    \n",
    "    df_master_features[feature] = df"
   ]
  },
  {
   "cell_type": "code",
   "execution_count": 25,
   "metadata": {},
   "outputs": [
    {
     "data": {
      "text/html": [
       "<div>\n",
       "<style scoped>\n",
       "    .dataframe tbody tr th:only-of-type {\n",
       "        vertical-align: middle;\n",
       "    }\n",
       "\n",
       "    .dataframe tbody tr th {\n",
       "        vertical-align: top;\n",
       "    }\n",
       "\n",
       "    .dataframe thead th {\n",
       "        text-align: right;\n",
       "    }\n",
       "</style>\n",
       "<table border=\"1\" class=\"dataframe\">\n",
       "  <thead>\n",
       "    <tr style=\"text-align: right;\">\n",
       "      <th></th>\n",
       "      <th>datetime_gran</th>\n",
       "      <th>val</th>\n",
       "    </tr>\n",
       "  </thead>\n",
       "  <tbody>\n",
       "    <tr>\n",
       "      <th>0</th>\n",
       "      <td>1</td>\n",
       "      <td>NaN</td>\n",
       "    </tr>\n",
       "    <tr>\n",
       "      <th>1</th>\n",
       "      <td>2</td>\n",
       "      <td>NaN</td>\n",
       "    </tr>\n",
       "    <tr>\n",
       "      <th>2</th>\n",
       "      <td>3</td>\n",
       "      <td>NaN</td>\n",
       "    </tr>\n",
       "    <tr>\n",
       "      <th>3</th>\n",
       "      <td>4</td>\n",
       "      <td>NaN</td>\n",
       "    </tr>\n",
       "    <tr>\n",
       "      <th>4</th>\n",
       "      <td>5</td>\n",
       "      <td>NaN</td>\n",
       "    </tr>\n",
       "  </tbody>\n",
       "</table>\n",
       "</div>"
      ],
      "text/plain": [
       "   datetime_gran  val\n",
       "0  1             NaN \n",
       "1  2             NaN \n",
       "2  3             NaN \n",
       "3  4             NaN \n",
       "4  5             NaN "
      ]
     },
     "execution_count": 25,
     "metadata": {},
     "output_type": "execute_result"
    }
   ],
   "source": [
    "df_master_features['22P53CP4:TC22F38.MEAS'].head()"
   ]
  },
  {
   "cell_type": "code",
   "execution_count": 26,
   "metadata": {},
   "outputs": [
    {
     "name": "stdout",
     "output_type": "stream",
     "text": [
      "22P53CP4:LIE22F36.PNT \tSize= 1051201 --> 525600\n",
      "22P53CP4:PI22F31.PNT \tSize= 1051201 --> 803742\n",
      "22GTWY_E402:PIE22F32.PNT \tSize= 1051201 --> 803744\n",
      "UBNV05CPB:XI22F30Y.PNT \tSize= 1051201 --> 803270\n",
      "22P53CP4:FC22E22.MEAS \tSize= 1051201 --> 803742\n",
      "22P53CP4:PDI22F33.PNT \tSize= 1051201 --> 525600\n",
      "22PM53CPM:TI22F16A.PNT \tSize= 1051201 --> 803731\n",
      "22PM53CPM:TI22F17A.PNT \tSize= 1051201 --> 803731\n",
      "22GTWY_E403:PDALE22E24SP.PNT \tSize= 1051201 --> 803731\n",
      "UBNV05CPB:XI22F26X.PNT \tSize= 1051201 --> 803270\n",
      "22P53CP4:FC22E22.OUT \tSize= 1051201 --> 803742\n",
      "UBNV05CPB:XI22F26Y.PNT \tSize= 1051201 --> 803270\n",
      "22P53CP4:FC22E04.OUT \tSize= 1051201 --> 803731\n",
      "22GTWY_E403:FIE22E23.PNT \tSize= 1051201 --> 525600\n",
      "UBNV05CPB:XI22F30X.PNT \tSize= 1051201 --> 803270\n",
      "22P53CP4:TI22F14.PNT \tSize= 1051201 --> 803742\n",
      "TMP:HCU_P2253_Flow_Balance.Cal \tSize= 1051201 --> 803278\n",
      "22PM53CPM:TI22F16B.PNT \tSize= 1051201 --> 803731\n",
      "22PM53CPM:TI22F17B.PNT \tSize= 1051201 --> 803731\n",
      "22P53CP4:FXC22E22.MEAS \tSize= 1051201 --> 803742\n",
      "UBNV05CPB:ZI22F28.PNT \tSize= 1051201 --> 803270\n",
      "22P53CP4:TC22F38.SPT \tSize= 1051201 --> 803731\n",
      "UBNV05CPB:SI22F23.PNT \tSize= 1051201 --> 803271\n",
      "22P53CP4:TC22F38.MEAS \tSize= 1051201 --> 803742\n",
      "22P53CP4:FXC22E22.SPT \tSize= 1051201 --> 803731\n",
      "22PM53CPM:TI22F18B.PNT \tSize= 1051201 --> 803731\n",
      "22P53CP4:TC22F38.OUT \tSize= 1051201 --> 803731\n",
      "22GTWY_E402:PALE22F32SP.PNT \tSize= 1051201 --> 525588\n",
      "UBNV05CPB:XI22F25Y.PNT \tSize= 1051201 --> 803270\n",
      "22P53CP4:FQI22E22.OUT \tSize= 1051201 --> 803742\n",
      "22P53CP4:TI22F37.PNT \tSize= 1051201 --> 525600\n",
      "22PM53CPM:TI22F15A.PNT \tSize= 1051201 --> 803731\n",
      "UBNV05CPB:XI22F25X.PNT \tSize= 1051201 --> 803270\n",
      "22P53CP4:FXC22E22.OUT \tSize= 1051201 --> 803742\n",
      "22P53CP4:PI22E05.PNT \tSize= 1051201 --> 803742\n",
      "22P53CP4:TI22F11.PNT \tSize= 1051201 --> 803742\n",
      "22GTWY_E403:FALE22E23SP.PNT \tSize= 1051201 --> 803731\n",
      "22PM53CPM:II22E47.PNT \tSize= 1051201 --> 803742\n",
      "22GTWY_E403:PDIE22E24.PNT \tSize= 1051201 --> 803744\n",
      "22P53CP4:TI22F13.PNT \tSize= 1051201 --> 803742\n",
      "22PM53CPM:TI22F18A.PNT \tSize= 1051201 --> 803731\n",
      "UBNV05CPB:XI22F29X.PNT \tSize= 1051201 --> 803270\n",
      "22P53CP4:FC22E04.SPT \tSize= 1051201 --> 803731\n",
      "22P53CP4:TI22F12.PNT \tSize= 1051201 --> 803742\n",
      "UBNV05CPB:ZI22F27.PNT \tSize= 1051201 --> 803270\n",
      "UBNV05CPB:XI22F29Y.PNT \tSize= 1051201 --> 803270\n",
      "22P53CP4:FX22E22CMP.PNT \tSize= 1051201 --> 803742\n",
      "22P53CP4:FC22E22.SPT \tSize= 1051201 --> 803742\n",
      "22P53CP4:FC22E04.MEAS \tSize= 1051201 --> 803742\n",
      "22P53CP4:FX22E22SPF.MEAS \tSize= 1051201 --> 803742\n",
      "22PM53CPM:TI22F15B.PNT \tSize= 1051201 --> 803731\n"
     ]
    }
   ],
   "source": [
    "for feature,df in df_master_features.items():\n",
    "    print(feature, '\\tSize=', len(df), end=' --> ')\n",
    "    df.dropna(subset=['val'], inplace=True)\n",
    "    print(len(df))"
   ]
  },
  {
   "cell_type": "markdown",
   "metadata": {},
   "source": [
    "### Write imputed files"
   ]
  },
  {
   "cell_type": "code",
   "execution_count": 27,
   "metadata": {},
   "outputs": [],
   "source": [
    "int_dir = INT_DATA_DIR + 'imputed/'\n",
    "\n",
    "for feature, df in df_master_features.items():    \n",
    "    op_file = int_dir + feature + '.pkl'\n",
    "    with open(op_file, 'wb') as f:\n",
    "        pkl.dump(df, f, protocol=pkl.HIGHEST_PROTOCOL)\n",
    "    "
   ]
  },
  {
   "cell_type": "markdown",
   "metadata": {},
   "source": [
    "### Read imputed files"
   ]
  },
  {
   "cell_type": "code",
   "execution_count": 28,
   "metadata": {},
   "outputs": [
    {
     "name": "stdout",
     "output_type": "stream",
     "text": [
      "Number of files found in ../data/interim/P2253/imputed/ is 51 \n",
      "Number of features extracted from 51 files is 51 \n"
     ]
    }
   ],
   "source": [
    "# Testing read_data function\n",
    "input_dir = INT_DATA_DIR + 'imputed/'\n",
    "df_features_norm = read_data(input_dir, True)"
   ]
  },
  {
   "cell_type": "code",
   "execution_count": 29,
   "metadata": {},
   "outputs": [
    {
     "name": "stdout",
     "output_type": "stream",
     "text": [
      "22P53CP4:LIE22F36.PNT -- 525600\n",
      "22P53CP4:PI22F31.PNT -- 803742\n",
      "22GTWY_E402:PIE22F32.PNT -- 803744\n",
      "UBNV05CPB:XI22F30Y.PNT -- 803270\n",
      "22P53CP4:FC22E22.MEAS -- 803742\n",
      "22P53CP4:PDI22F33.PNT -- 525600\n",
      "22PM53CPM:TI22F16A.PNT -- 803731\n",
      "22PM53CPM:TI22F17A.PNT -- 803731\n",
      "22GTWY_E403:PDALE22E24SP.PNT -- 803731\n",
      "UBNV05CPB:XI22F26X.PNT -- 803270\n",
      "22P53CP4:FC22E22.OUT -- 803742\n",
      "UBNV05CPB:XI22F26Y.PNT -- 803270\n",
      "22P53CP4:FC22E04.OUT -- 803731\n",
      "22GTWY_E403:FIE22E23.PNT -- 525600\n",
      "UBNV05CPB:XI22F30X.PNT -- 803270\n",
      "22P53CP4:TI22F14.PNT -- 803742\n",
      "TMP:HCU_P2253_Flow_Balance.Cal -- 803278\n",
      "22PM53CPM:TI22F16B.PNT -- 803731\n",
      "22PM53CPM:TI22F17B.PNT -- 803731\n",
      "22P53CP4:FXC22E22.MEAS -- 803742\n",
      "UBNV05CPB:ZI22F28.PNT -- 803270\n",
      "22P53CP4:TC22F38.SPT -- 803731\n",
      "UBNV05CPB:SI22F23.PNT -- 803271\n",
      "22P53CP4:TC22F38.MEAS -- 803742\n",
      "22P53CP4:FXC22E22.SPT -- 803731\n",
      "22PM53CPM:TI22F18B.PNT -- 803731\n",
      "22P53CP4:TC22F38.OUT -- 803731\n",
      "22GTWY_E402:PALE22F32SP.PNT -- 525588\n",
      "UBNV05CPB:XI22F25Y.PNT -- 803270\n",
      "22P53CP4:FQI22E22.OUT -- 803742\n",
      "22P53CP4:TI22F37.PNT -- 525600\n",
      "22PM53CPM:TI22F15A.PNT -- 803731\n",
      "UBNV05CPB:XI22F25X.PNT -- 803270\n",
      "22P53CP4:FXC22E22.OUT -- 803742\n",
      "22P53CP4:PI22E05.PNT -- 803742\n",
      "22P53CP4:TI22F11.PNT -- 803742\n",
      "22GTWY_E403:FALE22E23SP.PNT -- 803731\n",
      "22PM53CPM:II22E47.PNT -- 803742\n",
      "22GTWY_E403:PDIE22E24.PNT -- 803744\n",
      "22P53CP4:TI22F13.PNT -- 803742\n",
      "22PM53CPM:TI22F18A.PNT -- 803731\n",
      "UBNV05CPB:XI22F29X.PNT -- 803270\n",
      "22P53CP4:FC22E04.SPT -- 803731\n",
      "22P53CP4:TI22F12.PNT -- 803742\n",
      "UBNV05CPB:ZI22F27.PNT -- 803270\n",
      "UBNV05CPB:XI22F29Y.PNT -- 803270\n",
      "22P53CP4:FX22E22CMP.PNT -- 803742\n",
      "22P53CP4:FC22E22.SPT -- 803742\n",
      "22P53CP4:FC22E04.MEAS -- 803742\n",
      "22P53CP4:FX22E22SPF.MEAS -- 803742\n",
      "22PM53CPM:TI22F15B.PNT -- 803731\n"
     ]
    }
   ],
   "source": [
    "for feature in df_features_norm.keys():    \n",
    "    print(feature, '--', len(df_features_norm[feature]))"
   ]
  },
  {
   "cell_type": "markdown",
   "metadata": {},
   "source": [
    "### Normalization"
   ]
  },
  {
   "cell_type": "code",
   "execution_count": 30,
   "metadata": {},
   "outputs": [],
   "source": [
    "def scale_val(val, min_val, max_val):\n",
    "    if val is not None:\n",
    "        return (val-min_val)/(max_val-min_val + 1e-7)\n",
    "    return None"
   ]
  },
  {
   "cell_type": "code",
   "execution_count": 31,
   "metadata": {},
   "outputs": [
    {
     "name": "stdout",
     "output_type": "stream",
     "text": [
      "22P53CP4:LIE22F36.PNT  --  525600  --  0\n",
      "22P53CP4:PI22F31.PNT  --  803742  --  0\n",
      "22GTWY_E402:PIE22F32.PNT  --  803744  --  0\n",
      "UBNV05CPB:XI22F30Y.PNT  --  803270  --  0\n",
      "22P53CP4:FC22E22.MEAS  --  803742  --  0\n",
      "22P53CP4:PDI22F33.PNT  --  525600  --  0\n",
      "22PM53CPM:TI22F16A.PNT  --  803731  --  0\n",
      "22PM53CPM:TI22F17A.PNT  --  803731  --  0\n",
      "22GTWY_E403:PDALE22E24SP.PNT  --  803731  --  0\n",
      "UBNV05CPB:XI22F26X.PNT  --  803270  --  0\n",
      "22P53CP4:FC22E22.OUT  --  803742  --  0\n",
      "UBNV05CPB:XI22F26Y.PNT  --  803270  --  0\n",
      "22P53CP4:FC22E04.OUT  --  803731  --  0\n",
      "22GTWY_E403:FIE22E23.PNT  --  525600  --  0\n",
      "UBNV05CPB:XI22F30X.PNT  --  803270  --  0\n",
      "22P53CP4:TI22F14.PNT  --  803742  --  0\n",
      "TMP:HCU_P2253_Flow_Balance.Cal  --  803278  --  0\n",
      "22PM53CPM:TI22F16B.PNT  --  803731  --  0\n",
      "22PM53CPM:TI22F17B.PNT  --  803731  --  0\n",
      "22P53CP4:FXC22E22.MEAS  --  803742  --  0\n",
      "UBNV05CPB:ZI22F28.PNT  --  803270  --  0\n",
      "22P53CP4:TC22F38.SPT  --  803731  --  0\n",
      "UBNV05CPB:SI22F23.PNT  --  803271  --  0\n",
      "22P53CP4:TC22F38.MEAS  --  803742  --  0\n",
      "22P53CP4:FXC22E22.SPT  --  803731  --  0\n",
      "22PM53CPM:TI22F18B.PNT  --  803731  --  0\n",
      "22P53CP4:TC22F38.OUT  --  803731  --  0\n",
      "22GTWY_E402:PALE22F32SP.PNT  --  525588  --  0\n",
      "UBNV05CPB:XI22F25Y.PNT  --  803270  --  0\n",
      "22P53CP4:FQI22E22.OUT  --  803742  --  0\n",
      "22P53CP4:TI22F37.PNT  --  525600  --  0\n",
      "22PM53CPM:TI22F15A.PNT  --  803731  --  0\n",
      "UBNV05CPB:XI22F25X.PNT  --  803270  --  0\n",
      "22P53CP4:FXC22E22.OUT  --  803742  --  0\n",
      "22P53CP4:PI22E05.PNT  --  803742  --  0\n",
      "22P53CP4:TI22F11.PNT  --  803742  --  0\n",
      "22GTWY_E403:FALE22E23SP.PNT  --  803731  --  0\n",
      "22PM53CPM:II22E47.PNT  --  803742  --  0\n",
      "22GTWY_E403:PDIE22E24.PNT  --  803744  --  0\n",
      "22P53CP4:TI22F13.PNT  --  803742  --  0\n",
      "22PM53CPM:TI22F18A.PNT  --  803731  --  0\n",
      "UBNV05CPB:XI22F29X.PNT  --  803270  --  0\n",
      "22P53CP4:FC22E04.SPT  --  803731  --  0\n",
      "22P53CP4:TI22F12.PNT  --  803742  --  0\n",
      "UBNV05CPB:ZI22F27.PNT  --  803270  --  0\n",
      "UBNV05CPB:XI22F29Y.PNT  --  803270  --  0\n",
      "22P53CP4:FX22E22CMP.PNT  --  803742  --  0\n",
      "22P53CP4:FC22E22.SPT  --  803742  --  0\n",
      "22P53CP4:FC22E04.MEAS  --  803742  --  0\n",
      "22P53CP4:FX22E22SPF.MEAS  --  803742  --  0\n",
      "22PM53CPM:TI22F15B.PNT  --  803731  --  0\n"
     ]
    }
   ],
   "source": [
    "scaled_value_col = 'scaled_val'\n",
    "value_col = 'val'\n",
    "\n",
    "for feature, df in df_features_norm.items():\n",
    "    \n",
    "    df.dropna(inplace=True)\n",
    "    \n",
    "    min_val = df[value_col].min()\n",
    "    max_val = df[value_col].max()\n",
    "\n",
    "    df[scaled_value_col] = df[value_col].apply(lambda x:scale_val(x, min_val, max_val))\n",
    "    \n",
    "    print(feature, ' -- ', len(df), ' -- ', len(df.loc[df[value_col].isna()]))"
   ]
  },
  {
   "cell_type": "markdown",
   "metadata": {},
   "source": [
    "### Write normalized files"
   ]
  },
  {
   "cell_type": "code",
   "execution_count": 32,
   "metadata": {},
   "outputs": [],
   "source": [
    "int_dir = INT_DATA_DIR + 'normalized/'\n",
    "\n",
    "for feature, df in df_features_norm.items():    \n",
    "    \n",
    "    pkl_file = int_dir + feature + '.pkl'\n",
    "    with open(pkl_file, 'wb') as f:\n",
    "        pkl.dump(df, f, protocol=pkl.HIGHEST_PROTOCOL)"
   ]
  },
  {
   "cell_type": "code",
   "execution_count": 33,
   "metadata": {},
   "outputs": [
    {
     "data": {
      "text/html": [
       "<div>\n",
       "<style scoped>\n",
       "    .dataframe tbody tr th:only-of-type {\n",
       "        vertical-align: middle;\n",
       "    }\n",
       "\n",
       "    .dataframe tbody tr th {\n",
       "        vertical-align: top;\n",
       "    }\n",
       "\n",
       "    .dataframe thead th {\n",
       "        text-align: right;\n",
       "    }\n",
       "</style>\n",
       "<table border=\"1\" class=\"dataframe\">\n",
       "  <thead>\n",
       "    <tr style=\"text-align: right;\">\n",
       "      <th></th>\n",
       "      <th>datetime_gran</th>\n",
       "      <th>val</th>\n",
       "      <th>scaled_val</th>\n",
       "    </tr>\n",
       "  </thead>\n",
       "  <tbody>\n",
       "    <tr>\n",
       "      <th>247931</th>\n",
       "      <td>247932</td>\n",
       "      <td>30.86054</td>\n",
       "      <td>0.709421</td>\n",
       "    </tr>\n",
       "    <tr>\n",
       "      <th>247932</th>\n",
       "      <td>247933</td>\n",
       "      <td>29.21335</td>\n",
       "      <td>0.670829</td>\n",
       "    </tr>\n",
       "    <tr>\n",
       "      <th>247933</th>\n",
       "      <td>247934</td>\n",
       "      <td>29.50403</td>\n",
       "      <td>0.677639</td>\n",
       "    </tr>\n",
       "    <tr>\n",
       "      <th>247934</th>\n",
       "      <td>247935</td>\n",
       "      <td>30.37607</td>\n",
       "      <td>0.698070</td>\n",
       "    </tr>\n",
       "    <tr>\n",
       "      <th>247935</th>\n",
       "      <td>247936</td>\n",
       "      <td>32.79841</td>\n",
       "      <td>0.754824</td>\n",
       "    </tr>\n",
       "  </tbody>\n",
       "</table>\n",
       "</div>"
      ],
      "text/plain": [
       "        datetime_gran       val  scaled_val\n",
       "247931  247932         30.86054  0.709421  \n",
       "247932  247933         29.21335  0.670829  \n",
       "247933  247934         29.50403  0.677639  \n",
       "247934  247935         30.37607  0.698070  \n",
       "247935  247936         32.79841  0.754824  "
      ]
     },
     "execution_count": 33,
     "metadata": {},
     "output_type": "execute_result"
    }
   ],
   "source": [
    "df_features_norm['UBNV05CPB:XI22F25X.PNT'].head()"
   ]
  },
  {
   "cell_type": "code",
   "execution_count": 34,
   "metadata": {},
   "outputs": [
    {
     "data": {
      "text/html": [
       "<div>\n",
       "<style scoped>\n",
       "    .dataframe tbody tr th:only-of-type {\n",
       "        vertical-align: middle;\n",
       "    }\n",
       "\n",
       "    .dataframe tbody tr th {\n",
       "        vertical-align: top;\n",
       "    }\n",
       "\n",
       "    .dataframe thead th {\n",
       "        text-align: right;\n",
       "    }\n",
       "</style>\n",
       "<table border=\"1\" class=\"dataframe\">\n",
       "  <thead>\n",
       "    <tr style=\"text-align: right;\">\n",
       "      <th></th>\n",
       "      <th>datetime_gran</th>\n",
       "      <th>val</th>\n",
       "      <th>scaled_val</th>\n",
       "    </tr>\n",
       "  </thead>\n",
       "  <tbody>\n",
       "    <tr>\n",
       "      <th>247931</th>\n",
       "      <td>247932</td>\n",
       "      <td>-0.011580</td>\n",
       "      <td>0.842038</td>\n",
       "    </tr>\n",
       "    <tr>\n",
       "      <th>247932</th>\n",
       "      <td>247933</td>\n",
       "      <td>-0.010223</td>\n",
       "      <td>0.845991</td>\n",
       "    </tr>\n",
       "    <tr>\n",
       "      <th>247933</th>\n",
       "      <td>247934</td>\n",
       "      <td>-0.008866</td>\n",
       "      <td>0.849943</td>\n",
       "    </tr>\n",
       "    <tr>\n",
       "      <th>247934</th>\n",
       "      <td>247935</td>\n",
       "      <td>-0.009545</td>\n",
       "      <td>0.847967</td>\n",
       "    </tr>\n",
       "    <tr>\n",
       "      <th>247935</th>\n",
       "      <td>247936</td>\n",
       "      <td>-0.008576</td>\n",
       "      <td>0.850790</td>\n",
       "    </tr>\n",
       "  </tbody>\n",
       "</table>\n",
       "</div>"
      ],
      "text/plain": [
       "        datetime_gran       val  scaled_val\n",
       "247931  247932        -0.011580  0.842038  \n",
       "247932  247933        -0.010223  0.845991  \n",
       "247933  247934        -0.008866  0.849943  \n",
       "247934  247935        -0.009545  0.847967  \n",
       "247935  247936        -0.008576  0.850790  "
      ]
     },
     "execution_count": 34,
     "metadata": {},
     "output_type": "execute_result"
    }
   ],
   "source": [
    "df_features_norm['UBNV05CPB:ZI22F28.PNT'].head()"
   ]
  },
  {
   "cell_type": "markdown",
   "metadata": {},
   "source": [
    "### Useful features"
   ]
  },
  {
   "cell_type": "code",
   "execution_count": 35,
   "metadata": {},
   "outputs": [
    {
     "name": "stdout",
     "output_type": "stream",
     "text": [
      "Number of usable features =  25\n"
     ]
    }
   ],
   "source": [
    "# Removing the following \n",
    "# a) All .OUT\n",
    "# b) All .CIN\n",
    "# c) All .SPT\n",
    "# d) .PNTs that have a flat line in graph\n",
    "usable_features = [\n",
    " 'UBNV05CPB:XI22F25Y.PNT',\n",
    " 'UBNV05CPB:XI22F25X.PNT',\n",
    " '22P53CP4:PI22F31.PNT',\n",
    " '22P53CP4:FX22E22SPF.MEAS',\n",
    " 'UBNV05CPB:XI22F29X.PNT',\n",
    " 'UBNV05CPB:ZI22F28.PNT',\n",
    " 'UBNV05CPB:XI22F29Y.PNT',\n",
    " '22P53CP4:FXC22E22.MEAS',\n",
    " '22P53CP4:TI22F14.PNT',\n",
    " '22P53CP4:FC22E04.MEAS',\n",
    " '22P53CP4:PI22E05.PNT',\n",
    " 'UBNV05CPB:XI22F30Y.PNT',\n",
    " '22GTWY_E402:PIE22F32.PNT',\n",
    " '22P53CP4:TI22F11.PNT',\n",
    " '22P53CP4:FC22E22.MEAS',\n",
    " 'UBNV05CPB:XI22F26X.PNT',\n",
    " 'UBNV05CPB:XI22F26Y.PNT',\n",
    " 'UBNV05CPB:XI22F30X.PNT',\n",
    " '22GTWY_E403:FIE22E23.PNT',\n",
    " 'UBNV05CPB:ZI22F27.PNT',\n",
    " '22P53CP4:TI22F12.PNT',\n",
    " '22P53CP4:TI22F13.PNT',\n",
    " '22P53CP4:TC22F38.MEAS',\n",
    " '22PM53CPM:II22E47.PNT',\n",
    " '22GTWY_E403:PDIE22E24.PNT']\n",
    "\n",
    "print('Number of usable features = ', len(usable_features))"
   ]
  },
  {
   "cell_type": "code",
   "execution_count": null,
   "metadata": {},
   "outputs": [],
   "source": []
  }
 ],
 "metadata": {
  "kernelspec": {
   "display_name": "shell",
   "language": "python",
   "name": "shell"
  },
  "language_info": {
   "codemirror_mode": {
    "name": "ipython",
    "version": 3
   },
   "file_extension": ".py",
   "mimetype": "text/x-python",
   "name": "python",
   "nbconvert_exporter": "python",
   "pygments_lexer": "ipython3",
   "version": "3.6.6"
  }
 },
 "nbformat": 4,
 "nbformat_minor": 2
}
