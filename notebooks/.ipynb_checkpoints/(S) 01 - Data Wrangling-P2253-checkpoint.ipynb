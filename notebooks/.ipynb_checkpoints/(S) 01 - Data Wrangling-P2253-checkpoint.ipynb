{
 "cells": [
  {
   "cell_type": "code",
   "execution_count": 112,
   "metadata": {},
   "outputs": [],
   "source": [
    "import pandas as pd\n",
    "import numpy as np\n",
    "from datetime import datetime as dt\n",
    "import matplotlib.pyplot as plt\n",
    "import os\n",
    "import ntpath"
   ]
  },
  {
   "cell_type": "markdown",
   "metadata": {},
   "source": [
    "### Data Directory"
   ]
  },
  {
   "cell_type": "code",
   "execution_count": 10,
   "metadata": {},
   "outputs": [],
   "source": [
    "RAW_DATA_DIR = '../data/raw/'\n",
    "PROC_DATA_DIR = '../data/processed/'\n",
    "INT_DATA_DIR = '../data/interim/'"
   ]
  },
  {
   "cell_type": "markdown",
   "metadata": {},
   "source": [
    "### Metadata File"
   ]
  },
  {
   "cell_type": "code",
   "execution_count": 11,
   "metadata": {},
   "outputs": [],
   "source": [
    "METADATA_FILE = 'Pump Tag details.xlsx'"
   ]
  },
  {
   "cell_type": "markdown",
   "metadata": {},
   "source": [
    "### Read metadata file"
   ]
  },
  {
   "cell_type": "code",
   "execution_count": 18,
   "metadata": {},
   "outputs": [
    {
     "name": "stdout",
     "output_type": "stream",
     "text": [
      "Index(['Tag', 'Descriptor', 'Units', '1 Jan 18 - Present',\n",
      "       '1 Jan 17 - 31 Dec 17', '1 Jan 16 - 31 Dec 16'],\n",
      "      dtype='object')\n",
      "Index(['Tag', 'Descriptor', 'Units', '1 Jan 18 - Present',\n",
      "       '1 Jan 17 - 31 Dec 17', '1 Jan 16 - 31 Dec 16'],\n",
      "      dtype='object')\n"
     ]
    }
   ],
   "source": [
    "import xlrd\n",
    "df_2253 = pd.read_excel(RAW_DATA_DIR + METADATA_FILE, sheet_name='P-2253')\n",
    "df_2461 = pd.read_excel(RAW_DATA_DIR + METADATA_FILE, sheet_name='P-2461')\n",
    "\n",
    "print(df_2253.columns)\n",
    "print(df_2461.columns)"
   ]
  },
  {
   "cell_type": "markdown",
   "metadata": {},
   "source": [
    "### Data Files - PUMP 2253"
   ]
  },
  {
   "cell_type": "code",
   "execution_count": 29,
   "metadata": {},
   "outputs": [],
   "source": [
    "DATA_2253_DIRLIST = {'2017':'P-2253 2017', '2018':'P-2253 2018'}"
   ]
  },
  {
   "cell_type": "code",
   "execution_count": 58,
   "metadata": {},
   "outputs": [
    {
     "name": "stdout",
     "output_type": "stream",
     "text": [
      "No of files in P-2253 2017 is 44\n",
      "No of files in P-2253 2018 is 50\n"
     ]
    }
   ],
   "source": [
    "data_files_17 = {} # Contains absolute paths (values) of files mapped using their respective basenames (keys)\n",
    "data_files_18 = {}\n",
    "\n",
    "# 2017\n",
    "DIR = DATA_2253_DIRLIST['2017']\n",
    "dir_files = os.listdir(RAW_DATA_DIR + DIR)\n",
    "print('No of files in %s is %d' % (DIR, len(dir_files)))\n",
    "for dir_file in dir_files:\n",
    "    data_files_17[dir_file.replace('2017.csv','')] = RAW_DATA_DIR + DIR + '/' + dir_file\n",
    "      \n",
    "# 2018\n",
    "DIR = DATA_2253_DIRLIST['2018']\n",
    "dir_files = os.listdir(RAW_DATA_DIR + DIR)\n",
    "print('No of files in %s is %d' % (DIR, len(dir_files)))\n",
    "for dir_file in dir_files:\n",
    "    data_files_18[dir_file.replace('2018.csv','')] = RAW_DATA_DIR + DIR + '/' + dir_file"
   ]
  },
  {
   "cell_type": "code",
   "execution_count": 60,
   "metadata": {},
   "outputs": [
    {
     "name": "stdout",
     "output_type": "stream",
     "text": [
      "Both years 25, Only in 2017 19, Only in 2018 25\n"
     ]
    }
   ],
   "source": [
    "# Find the number of missing files for each year (wrt the other)\n",
    "common_files = set(data_files_17.keys()).intersection(data_files_18.keys())\n",
    "only_in_17_files =  np.setdiff1d(list(data_files_17.keys()),list(data_files_18.keys()))\n",
    "only_in_18_files =  np.setdiff1d(list(data_files_18.keys()), list(data_files_17.keys()))\n",
    "\n",
    "print('Both years %d, Only in 2017 %d, Only in 2018 %d' % (len(common_files), len(only_in_17_files), len(only_in_18_files)))"
   ]
  },
  {
   "cell_type": "markdown",
   "metadata": {},
   "source": [
    "#### Processing only the common files"
   ]
  },
  {
   "cell_type": "code",
   "execution_count": 123,
   "metadata": {},
   "outputs": [],
   "source": [
    "def is_number(s):\n",
    "    try:\n",
    "        float(s)\n",
    "        return True\n",
    "    except ValueError:\n",
    "        return False"
   ]
  },
  {
   "cell_type": "code",
   "execution_count": 122,
   "metadata": {},
   "outputs": [],
   "source": [
    "def get_time(dt_str):\n",
    "    dt_str = dt_str.strip()\n",
    "    dtobj = dt.strptime(dt_str, '%m/%d/%Y %I:%M:%S %p')\n",
    "    return dtobj"
   ]
  },
  {
   "cell_type": "code",
   "execution_count": 131,
   "metadata": {},
   "outputs": [],
   "source": [
    "def parse(txt):\n",
    "    '''\n",
    "    @{PIPoint=SCTM:22GTWY_E403:FALE22E23SP.PNT; Value=60; Timestamp=12/30/2017 11:48:05 PM}\n",
    "    '''\n",
    "    delimiter = ';'\n",
    "    sub_delimiter = '='\n",
    "    \n",
    "    txt = txt[txt.find('{')+1:txt.find('}')]    \n",
    "    vals = txt.split(';')\n",
    "    \n",
    "    if len(vals) >= 3:\n",
    "        pi_point = vals[0].split(sub_delimiter)[1]\n",
    "    \n",
    "        if len(val) >= 2:\n",
    "            val = vals[1].split(sub_delimiter)[1]\n",
    "            if is_number(val):\n",
    "                val = float(val)\n",
    "            else:\n",
    "                val = None\n",
    "        else:\n",
    "            val = None\n",
    "\n",
    "        if len(time) >= 2:\n",
    "            time = vals[2].split(sub_delimiter)[1]\n",
    "            time = get_time(time)\n",
    "        else:\n",
    "            return None, None, None\n",
    "    \n",
    "    return pi_point, val, time    "
   ]
  },
  {
   "cell_type": "code",
   "execution_count": 88,
   "metadata": {},
   "outputs": [
    {
     "name": "stdout",
     "output_type": "stream",
     "text": [
      "2017-12-30 23:48:05\n",
      "PIPoint=SCTM:22GTWY_E403:FALE22E23SP.PNT; Value=60; Timestamp=12/30/2017 11:48:05 PM\n",
      "('SCTM:22GTWY_E403:FALE22E23SP.PNT', '60', datetime.datetime(2017, 12, 30, 23, 48, 5))\n"
     ]
    }
   ],
   "source": [
    "date = '12/30/2017 11:48:05 PM'\n",
    "print(get_time(date))\n",
    "\n",
    "val = '@{PIPoint=SCTM:22GTWY_E403:FALE22E23SP.PNT; Value=60; Timestamp=12/30/2017 11:48:05 PM}'\n",
    "print(parse(val))"
   ]
  },
  {
   "cell_type": "code",
   "execution_count": 128,
   "metadata": {},
   "outputs": [
    {
     "data": {
      "text/plain": [
       "{'FC22E04',\n",
       " 'FC22E22',\n",
       " 'FQI22E22',\n",
       " 'FX22E22CMP',\n",
       " 'FXC22E22',\n",
       " 'FXC22E22out',\n",
       " 'II22E47',\n",
       " 'PI22E05',\n",
       " 'PI22F31',\n",
       " 'TI22F11',\n",
       " 'TI22F12',\n",
       " 'TI22F13',\n",
       " 'TI22F14',\n",
       " 'TI22F15A',\n",
       " 'TI22F15B',\n",
       " 'XI22F25X',\n",
       " 'XI22F25Y',\n",
       " 'XI22F26X',\n",
       " 'XI22F26Y',\n",
       " 'XI22F29X',\n",
       " 'XI22F29Y',\n",
       " 'XI22F30X',\n",
       " 'XI22F30Y',\n",
       " 'ZI22F27',\n",
       " 'ZI22F28'}"
      ]
     },
     "execution_count": 128,
     "metadata": {},
     "output_type": "execute_result"
    }
   ],
   "source": [
    "common_files"
   ]
  },
  {
   "cell_type": "code",
   "execution_count": 133,
   "metadata": {},
   "outputs": [
    {
     "name": "stdout",
     "output_type": "stream",
     "text": [
      "XI22F26X\n",
      "FC22E04\n",
      "TI22F14\n",
      "II22E47\n",
      "XI22F25X\n",
      "TI22F11\n",
      "ZI22F27\n",
      "ZI22F28\n",
      "XI22F30Y\n",
      "TI22F15A\n",
      "XI22F29X\n",
      "XI22F25Y\n",
      "PI22E05\n",
      "FQI22E22\n",
      "FC22E22\n",
      "FXC22E22\n",
      "XI22F30X\n",
      "TI22F13\n"
     ]
    },
    {
     "ename": "IndexError",
     "evalue": "list index out of range",
     "output_type": "error",
     "traceback": [
      "\u001b[0;31m---------------------------------------------------------------------------\u001b[0m",
      "\u001b[0;31mIndexError\u001b[0m                                Traceback (most recent call last)",
      "\u001b[0;32m<ipython-input-133-76f7f83ab084>\u001b[0m in \u001b[0;36m<module>\u001b[0;34m()\u001b[0m\n\u001b[1;32m     10\u001b[0m     \u001b[0mdf_2\u001b[0m \u001b[0;34m=\u001b[0m \u001b[0mdf_2\u001b[0m\u001b[0;34m.\u001b[0m\u001b[0mappend\u001b[0m\u001b[0;34m(\u001b[0m\u001b[0mdf_1\u001b[0m\u001b[0;34m,\u001b[0m \u001b[0mignore_index\u001b[0m\u001b[0;34m=\u001b[0m\u001b[0;32mTrue\u001b[0m\u001b[0;34m)\u001b[0m\u001b[0;34m\u001b[0m\u001b[0m\n\u001b[1;32m     11\u001b[0m \u001b[0;34m\u001b[0m\u001b[0m\n\u001b[0;32m---> 12\u001b[0;31m     \u001b[0mdf_2\u001b[0m\u001b[0;34m[\u001b[0m\u001b[0;34m'pi_point'\u001b[0m\u001b[0;34m]\u001b[0m\u001b[0;34m,\u001b[0m \u001b[0mdf_2\u001b[0m\u001b[0;34m[\u001b[0m\u001b[0;34m'val'\u001b[0m\u001b[0;34m]\u001b[0m\u001b[0;34m,\u001b[0m \u001b[0mdf_2\u001b[0m\u001b[0;34m[\u001b[0m\u001b[0;34m'read_time'\u001b[0m\u001b[0;34m]\u001b[0m \u001b[0;34m=\u001b[0m \u001b[0mzip\u001b[0m\u001b[0;34m(\u001b[0m\u001b[0;34m*\u001b[0m\u001b[0mdf_2\u001b[0m\u001b[0;34m[\u001b[0m\u001b[0;36m0\u001b[0m\u001b[0;34m]\u001b[0m\u001b[0;34m.\u001b[0m\u001b[0mmap\u001b[0m\u001b[0;34m(\u001b[0m\u001b[0mparse\u001b[0m\u001b[0;34m)\u001b[0m\u001b[0;34m)\u001b[0m\u001b[0;34m\u001b[0m\u001b[0m\n\u001b[0m\u001b[1;32m     13\u001b[0m     \u001b[0mdf_2\u001b[0m \u001b[0;34m=\u001b[0m \u001b[0mdf_2\u001b[0m\u001b[0;34m[\u001b[0m\u001b[0mdf_2\u001b[0m\u001b[0;34m[\u001b[0m\u001b[0;34m'val'\u001b[0m\u001b[0;34m]\u001b[0m \u001b[0;34m!=\u001b[0m \u001b[0;34m-\u001b[0m\u001b[0;36m999.0\u001b[0m\u001b[0;34m]\u001b[0m\u001b[0;34m\u001b[0m\u001b[0m\n\u001b[1;32m     14\u001b[0m \u001b[0;34m\u001b[0m\u001b[0m\n",
      "\u001b[0;32m~/anaconda3/lib/python3.6/site-packages/pandas/core/series.py\u001b[0m in \u001b[0;36mmap\u001b[0;34m(self, arg, na_action)\u001b[0m\n\u001b[1;32m   2994\u001b[0m         \"\"\"\n\u001b[1;32m   2995\u001b[0m         new_values = super(Series, self)._map_values(\n\u001b[0;32m-> 2996\u001b[0;31m             arg, na_action=na_action)\n\u001b[0m\u001b[1;32m   2997\u001b[0m         return self._constructor(new_values,\n\u001b[1;32m   2998\u001b[0m                                  index=self.index).__finalize__(self)\n",
      "\u001b[0;32m~/anaconda3/lib/python3.6/site-packages/pandas/core/base.py\u001b[0m in \u001b[0;36m_map_values\u001b[0;34m(self, mapper, na_action)\u001b[0m\n\u001b[1;32m   1002\u001b[0m \u001b[0;34m\u001b[0m\u001b[0m\n\u001b[1;32m   1003\u001b[0m         \u001b[0;31m# mapper is a function\u001b[0m\u001b[0;34m\u001b[0m\u001b[0;34m\u001b[0m\u001b[0m\n\u001b[0;32m-> 1004\u001b[0;31m         \u001b[0mnew_values\u001b[0m \u001b[0;34m=\u001b[0m \u001b[0mmap_f\u001b[0m\u001b[0;34m(\u001b[0m\u001b[0mvalues\u001b[0m\u001b[0;34m,\u001b[0m \u001b[0mmapper\u001b[0m\u001b[0;34m)\u001b[0m\u001b[0;34m\u001b[0m\u001b[0m\n\u001b[0m\u001b[1;32m   1005\u001b[0m \u001b[0;34m\u001b[0m\u001b[0m\n\u001b[1;32m   1006\u001b[0m         \u001b[0;32mreturn\u001b[0m \u001b[0mnew_values\u001b[0m\u001b[0;34m\u001b[0m\u001b[0m\n",
      "\u001b[0;32mpandas/_libs/src/inference.pyx\u001b[0m in \u001b[0;36mpandas._libs.lib.map_infer\u001b[0;34m()\u001b[0m\n",
      "\u001b[0;32m<ipython-input-131-718545b521fb>\u001b[0m in \u001b[0;36mparse\u001b[0;34m(txt)\u001b[0m\n\u001b[1;32m     11\u001b[0m     \u001b[0mpi_point\u001b[0m \u001b[0;34m=\u001b[0m \u001b[0mvals\u001b[0m\u001b[0;34m[\u001b[0m\u001b[0;36m0\u001b[0m\u001b[0;34m]\u001b[0m\u001b[0;34m.\u001b[0m\u001b[0msplit\u001b[0m\u001b[0;34m(\u001b[0m\u001b[0msub_delimiter\u001b[0m\u001b[0;34m)\u001b[0m\u001b[0;34m[\u001b[0m\u001b[0;36m1\u001b[0m\u001b[0;34m]\u001b[0m\u001b[0;34m\u001b[0m\u001b[0m\n\u001b[1;32m     12\u001b[0m \u001b[0;34m\u001b[0m\u001b[0m\n\u001b[0;32m---> 13\u001b[0;31m     \u001b[0mval\u001b[0m \u001b[0;34m=\u001b[0m \u001b[0mvals\u001b[0m\u001b[0;34m[\u001b[0m\u001b[0;36m1\u001b[0m\u001b[0;34m]\u001b[0m\u001b[0;34m.\u001b[0m\u001b[0msplit\u001b[0m\u001b[0;34m(\u001b[0m\u001b[0msub_delimiter\u001b[0m\u001b[0;34m)\u001b[0m\u001b[0;34m[\u001b[0m\u001b[0;36m1\u001b[0m\u001b[0;34m]\u001b[0m\u001b[0;34m\u001b[0m\u001b[0m\n\u001b[0m\u001b[1;32m     14\u001b[0m     \u001b[0;32mif\u001b[0m \u001b[0mis_number\u001b[0m\u001b[0;34m(\u001b[0m\u001b[0mval\u001b[0m\u001b[0;34m)\u001b[0m\u001b[0;34m:\u001b[0m\u001b[0;34m\u001b[0m\u001b[0m\n\u001b[1;32m     15\u001b[0m         \u001b[0mval\u001b[0m \u001b[0;34m=\u001b[0m \u001b[0mfloat\u001b[0m\u001b[0;34m(\u001b[0m\u001b[0mval\u001b[0m\u001b[0;34m)\u001b[0m\u001b[0;34m\u001b[0m\u001b[0m\n",
      "\u001b[0;31mIndexError\u001b[0m: list index out of range"
     ]
    }
   ],
   "source": [
    "df_common = {}\n",
    "idx = 1\n",
    "df = None\n",
    "\n",
    "for common_file in common_files:\n",
    "    \n",
    "    print(common_file)\n",
    "    df_1 = pd.read_csv(data_files_17[common_file], header=None)\n",
    "    df_2 = pd.read_csv(data_files_18[common_file], header=None)        \n",
    "    df_2 = df_2.append(df_1, ignore_index=True)\n",
    "    \n",
    "    df_2['pi_point'], df_2['val'], df_2['read_time'] = zip(*df_2[0].map(parse))\n",
    "    df_2 = df_2[df_2['val'] != -999.0]\n",
    "    \n",
    "    df_common[common_file] = df_2\n",
    "    \n",
    "    # Debugging purpose only\n",
    "    df = df_2\n",
    "    # if idx == 1:\n",
    "        # break\n",
    "        \n",
    "    idx += 1"
   ]
  },
  {
   "cell_type": "code",
   "execution_count": 127,
   "metadata": {},
   "outputs": [
    {
     "data": {
      "text/plain": [
       "[<matplotlib.lines.Line2D at 0x13c812dd8>]"
      ]
     },
     "execution_count": 127,
     "metadata": {},
     "output_type": "execute_result"
    },
    {
     "data": {
      "image/png": "[encoded data removed]",
      "text/plain": [
       "<Figure size 432x288 with 1 Axes>"
      ]
     },
     "metadata": {},
     "output_type": "display_data"
    }
   ],
   "source": [
    "df_sample = df\n",
    "x = np.array(df_sample['read_time'])\n",
    "y = np.array(df_sample['val'])\n",
    "plt.plot(x,y)"
   ]
  },
  {
   "cell_type": "markdown",
   "metadata": {},
   "source": [
    "### Plotting the graph"
   ]
  },
  {
   "cell_type": "code",
   "execution_count": 111,
   "metadata": {},
   "outputs": [],
   "source": []
  },
  {
   "cell_type": "code",
   "execution_count": null,
   "metadata": {},
   "outputs": [],
   "source": []
  }
 ],
 "metadata": {
  "kernelspec": {
   "display_name": "Python 3",
   "language": "python",
   "name": "python3"
  },
  "language_info": {
   "codemirror_mode": {
    "name": "ipython",
    "version": 3
   },
   "file_extension": ".py",
   "mimetype": "text/x-python",
   "name": "python",
   "nbconvert_exporter": "python",
   "pygments_lexer": "ipython3",
   "version": "3.6.5"
  }
 },
 "nbformat": 4,
 "nbformat_minor": 2
}
