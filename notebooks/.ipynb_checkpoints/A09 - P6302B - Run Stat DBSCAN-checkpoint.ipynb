{
 "cells": [
  {
   "cell_type": "markdown",
   "metadata": {},
   "source": [
    "## Using DBSCAN directly on the features"
   ]
  },
  {
   "cell_type": "markdown",
   "metadata": {},
   "source": [
    "### Imports"
   ]
  },
  {
   "cell_type": "code",
   "execution_count": 31,
   "metadata": {},
   "outputs": [],
   "source": [
    "import pandas as pd\n",
    "import numpy as np\n",
    "from datetime import datetime\n",
    "from datetime import timedelta\n",
    "import matplotlib.pyplot as plt\n",
    "import os\n",
    "import ntpath\n",
    "import pickle as pkl\n",
    "import xlrd\n",
    "import time\n",
    "import string\n",
    "import math\n",
    "\n",
    "from os import listdir\n",
    "from os.path import isfile, join\n",
    "from collections import Counter\n",
    "from sklearn.cluster import DBSCAN"
   ]
  },
  {
   "cell_type": "markdown",
   "metadata": {},
   "source": [
    "### Notebook options"
   ]
  },
  {
   "cell_type": "code",
   "execution_count": 19,
   "metadata": {},
   "outputs": [],
   "source": [
    "pd.set_option('display.max_colwidth', -1) # Column width\n",
    "plt.rcParams['figure.figsize'] = [15, 10] # Size of the plots"
   ]
  },
  {
   "cell_type": "markdown",
   "metadata": {},
   "source": [
    "### General Assumptions"
   ]
  },
  {
   "cell_type": "code",
   "execution_count": 20,
   "metadata": {},
   "outputs": [],
   "source": [
    "time_col = 'datetime'\n",
    "time_gran_col = 'datetime_gran'\n",
    "value_col = 'val'\n",
    "scaled_value_col = 'scaled_val'\n",
    "time_granularity = 'min'"
   ]
  },
  {
   "cell_type": "code",
   "execution_count": 21,
   "metadata": {},
   "outputs": [],
   "source": [
    "fmt = '%Y-%m-%d %H:%M:%S'\n",
    "base_date = datetime.strptime('2016-01-01 00:00:01', fmt)\n",
    "start_date = datetime.strptime('2016-01-01 00:00:01', fmt)\n",
    "stop_date = datetime.strptime('2019-01-01 00:00:01', fmt)"
   ]
  },
  {
   "cell_type": "markdown",
   "metadata": {},
   "source": [
    "### Data Directories"
   ]
  },
  {
   "cell_type": "code",
   "execution_count": 28,
   "metadata": {},
   "outputs": [],
   "source": [
    "pump = 'P6302B'\n",
    "RAW_DATA_DIR = '../data/raw/'+pump+'/'\n",
    "PROC_DATA_DIR = '../data/processed/'+pump+'/'\n",
    "INT_DATA_DIR = '../data/interim/'+pump+'/'\n",
    "RESULTS_DIR = '../data/results/'+pump+'/'"
   ]
  },
  {
   "cell_type": "markdown",
   "metadata": {},
   "source": [
    "### Read Data"
   ]
  },
  {
   "cell_type": "code",
   "execution_count": 34,
   "metadata": {},
   "outputs": [
    {
     "data": {
      "text/plain": [
       "(1609025, 26)"
      ]
     },
     "execution_count": 34,
     "metadata": {},
     "output_type": "execute_result"
    }
   ],
   "source": [
    "df_all.shape"
   ]
  },
  {
   "cell_type": "code",
   "execution_count": 35,
   "metadata": {},
   "outputs": [
    {
     "data": {
      "text/html": [
       "<div>\n",
       "<style scoped>\n",
       "    .dataframe tbody tr th:only-of-type {\n",
       "        vertical-align: middle;\n",
       "    }\n",
       "\n",
       "    .dataframe tbody tr th {\n",
       "        vertical-align: top;\n",
       "    }\n",
       "\n",
       "    .dataframe thead th {\n",
       "        text-align: right;\n",
       "    }\n",
       "</style>\n",
       "<table border=\"1\" class=\"dataframe\">\n",
       "  <thead>\n",
       "    <tr style=\"text-align: right;\">\n",
       "      <th></th>\n",
       "      <th>agg1</th>\n",
       "      <th>TT63109.PV</th>\n",
       "      <th>PT61A98.PV</th>\n",
       "      <th>TT61B02.PV</th>\n",
       "      <th>05GTWY_BN06:XT61B18.PNT</th>\n",
       "      <th>05GTWY_BN06:XT61B20.PNT</th>\n",
       "      <th>TT61B05.PV</th>\n",
       "      <th>PT63112.PV</th>\n",
       "      <th>FT61A99.PV</th>\n",
       "      <th>05GTWY_BN06:XT61B17.PNT</th>\n",
       "      <th>...</th>\n",
       "      <th>TT61B06.PV</th>\n",
       "      <th>05GTWY_BN06:ZT61B14.PNT</th>\n",
       "      <th>TT61B01.PV</th>\n",
       "      <th>05GTWY_BN06:XT61B11.PNT</th>\n",
       "      <th>TT61B03.PV</th>\n",
       "      <th>PT61B00.PV</th>\n",
       "      <th>05GTWY_BN06:XT61B13.PNT</th>\n",
       "      <th>05GTWY_BN06:XT61B10.PNT</th>\n",
       "      <th>05GTWY_BN06:ZT61B15.PNT</th>\n",
       "      <th>TT61B04.PV</th>\n",
       "    </tr>\n",
       "  </thead>\n",
       "  <tbody>\n",
       "    <tr>\n",
       "      <th>0</th>\n",
       "      <td>29680</td>\n",
       "      <td>1.941281</td>\n",
       "      <td>0.825295</td>\n",
       "      <td>1.914424</td>\n",
       "      <td>0.183875</td>\n",
       "      <td>0.870151</td>\n",
       "      <td>0.592684</td>\n",
       "      <td>-0.558801</td>\n",
       "      <td>0.874481</td>\n",
       "      <td>0.571180</td>\n",
       "      <td>...</td>\n",
       "      <td>0.730450</td>\n",
       "      <td>1.166622</td>\n",
       "      <td>1.899783</td>\n",
       "      <td>0.766100</td>\n",
       "      <td>1.384925</td>\n",
       "      <td>0.900861</td>\n",
       "      <td>0.869104</td>\n",
       "      <td>0.743230</td>\n",
       "      <td>0.388229</td>\n",
       "      <td>1.021560</td>\n",
       "    </tr>\n",
       "    <tr>\n",
       "      <th>1</th>\n",
       "      <td>29681</td>\n",
       "      <td>1.996454</td>\n",
       "      <td>0.827962</td>\n",
       "      <td>1.936154</td>\n",
       "      <td>0.170595</td>\n",
       "      <td>0.928795</td>\n",
       "      <td>0.585121</td>\n",
       "      <td>-0.065803</td>\n",
       "      <td>0.873820</td>\n",
       "      <td>0.603177</td>\n",
       "      <td>...</td>\n",
       "      <td>0.729313</td>\n",
       "      <td>1.163214</td>\n",
       "      <td>1.911033</td>\n",
       "      <td>0.682860</td>\n",
       "      <td>1.387541</td>\n",
       "      <td>0.858828</td>\n",
       "      <td>0.888271</td>\n",
       "      <td>0.734662</td>\n",
       "      <td>0.376195</td>\n",
       "      <td>1.033388</td>\n",
       "    </tr>\n",
       "    <tr>\n",
       "      <th>2</th>\n",
       "      <td>29682</td>\n",
       "      <td>2.012111</td>\n",
       "      <td>0.830630</td>\n",
       "      <td>1.925289</td>\n",
       "      <td>0.344498</td>\n",
       "      <td>1.054797</td>\n",
       "      <td>0.588362</td>\n",
       "      <td>0.427196</td>\n",
       "      <td>0.874150</td>\n",
       "      <td>0.431124</td>\n",
       "      <td>...</td>\n",
       "      <td>0.731018</td>\n",
       "      <td>1.166622</td>\n",
       "      <td>1.909158</td>\n",
       "      <td>0.793627</td>\n",
       "      <td>1.378385</td>\n",
       "      <td>0.816796</td>\n",
       "      <td>0.859063</td>\n",
       "      <td>0.775941</td>\n",
       "      <td>0.395635</td>\n",
       "      <td>1.027474</td>\n",
       "    </tr>\n",
       "    <tr>\n",
       "      <th>3</th>\n",
       "      <td>29683</td>\n",
       "      <td>2.027769</td>\n",
       "      <td>0.811958</td>\n",
       "      <td>1.914424</td>\n",
       "      <td>0.144035</td>\n",
       "      <td>0.970796</td>\n",
       "      <td>0.591603</td>\n",
       "      <td>0.628929</td>\n",
       "      <td>0.874481</td>\n",
       "      <td>0.373169</td>\n",
       "      <td>...</td>\n",
       "      <td>0.732724</td>\n",
       "      <td>1.165073</td>\n",
       "      <td>1.907283</td>\n",
       "      <td>0.661886</td>\n",
       "      <td>1.369229</td>\n",
       "      <td>0.914085</td>\n",
       "      <td>0.898312</td>\n",
       "      <td>0.709738</td>\n",
       "      <td>0.387304</td>\n",
       "      <td>1.021560</td>\n",
       "    </tr>\n",
       "    <tr>\n",
       "      <th>4</th>\n",
       "      <td>29684</td>\n",
       "      <td>2.090399</td>\n",
       "      <td>0.832725</td>\n",
       "      <td>1.936154</td>\n",
       "      <td>0.371690</td>\n",
       "      <td>0.962870</td>\n",
       "      <td>0.594844</td>\n",
       "      <td>0.343635</td>\n",
       "      <td>0.874481</td>\n",
       "      <td>0.590499</td>\n",
       "      <td>...</td>\n",
       "      <td>0.733860</td>\n",
       "      <td>1.167861</td>\n",
       "      <td>1.929778</td>\n",
       "      <td>0.793627</td>\n",
       "      <td>1.384925</td>\n",
       "      <td>0.946201</td>\n",
       "      <td>0.917479</td>\n",
       "      <td>0.693383</td>\n",
       "      <td>0.390081</td>\n",
       "      <td>1.033388</td>\n",
       "    </tr>\n",
       "  </tbody>\n",
       "</table>\n",
       "<p>5 rows × 26 columns</p>\n",
       "</div>"
      ],
      "text/plain": [
       "    agg1  TT63109.PV  PT61A98.PV  TT61B02.PV  05GTWY_BN06:XT61B18.PNT  \\\n",
       "0  29680  1.941281    0.825295    1.914424    0.183875                  \n",
       "1  29681  1.996454    0.827962    1.936154    0.170595                  \n",
       "2  29682  2.012111    0.830630    1.925289    0.344498                  \n",
       "3  29683  2.027769    0.811958    1.914424    0.144035                  \n",
       "4  29684  2.090399    0.832725    1.936154    0.371690                  \n",
       "\n",
       "   05GTWY_BN06:XT61B20.PNT  TT61B05.PV  PT63112.PV  FT61A99.PV  \\\n",
       "0  0.870151                 0.592684   -0.558801    0.874481     \n",
       "1  0.928795                 0.585121   -0.065803    0.873820     \n",
       "2  1.054797                 0.588362    0.427196    0.874150     \n",
       "3  0.970796                 0.591603    0.628929    0.874481     \n",
       "4  0.962870                 0.594844    0.343635    0.874481     \n",
       "\n",
       "   05GTWY_BN06:XT61B17.PNT     ...      TT61B06.PV  05GTWY_BN06:ZT61B14.PNT  \\\n",
       "0  0.571180                    ...      0.730450    1.166622                  \n",
       "1  0.603177                    ...      0.729313    1.163214                  \n",
       "2  0.431124                    ...      0.731018    1.166622                  \n",
       "3  0.373169                    ...      0.732724    1.165073                  \n",
       "4  0.590499                    ...      0.733860    1.167861                  \n",
       "\n",
       "   TT61B01.PV  05GTWY_BN06:XT61B11.PNT  TT61B03.PV  PT61B00.PV  \\\n",
       "0  1.899783    0.766100                 1.384925    0.900861     \n",
       "1  1.911033    0.682860                 1.387541    0.858828     \n",
       "2  1.909158    0.793627                 1.378385    0.816796     \n",
       "3  1.907283    0.661886                 1.369229    0.914085     \n",
       "4  1.929778    0.793627                 1.384925    0.946201     \n",
       "\n",
       "   05GTWY_BN06:XT61B13.PNT  05GTWY_BN06:XT61B10.PNT  05GTWY_BN06:ZT61B15.PNT  \\\n",
       "0  0.869104                 0.743230                 0.388229                  \n",
       "1  0.888271                 0.734662                 0.376195                  \n",
       "2  0.859063                 0.775941                 0.395635                  \n",
       "3  0.898312                 0.709738                 0.387304                  \n",
       "4  0.917479                 0.693383                 0.390081                  \n",
       "\n",
       "   TT61B04.PV  \n",
       "0  1.021560    \n",
       "1  1.033388    \n",
       "2  1.027474    \n",
       "3  1.021560    \n",
       "4  1.033388    \n",
       "\n",
       "[5 rows x 26 columns]"
      ]
     },
     "execution_count": 35,
     "metadata": {},
     "output_type": "execute_result"
    }
   ],
   "source": [
    "df_all.head()"
   ]
  },
  {
   "cell_type": "code",
   "execution_count": null,
   "metadata": {},
   "outputs": [],
   "source": [
    "eps_list = [0.55, 0.60, 0.7, 0.8, 0.9, 0.95]\n",
    "min_pts_list = [3, 4, 5, 7]\n",
    "agg_val_list = [1]\n",
    "\n",
    "for agg_val in agg_val_list:\n",
    "    \n",
    "    agg_col = 'agg' + str(agg_val) \n",
    "    input_file = INT_DATA_DIR + 'agg_runstat/' + agg_col + '.csv'\n",
    "    with open(input_file, 'rb') as f:\n",
    "        df_all = pd.read_csv(input_file)\n",
    "        X = df_all.drop(columns=[agg_col])\n",
    "            \n",
    "    res_file = RESULTS_DIR + 'dbscan_gridsearch_agg' + str(agg_val) + '.txt'\n",
    "    \n",
    "    dbscan_gridsearch(X=X, eps_list=eps_list, min_pts_list=min_pts_list, agg_val=agg_val, op_file=res_file)\n",
    "    print('Completed Grid Search on agg_val = ' + str(agg_val))\n",
    "    "
   ]
  },
  {
   "cell_type": "markdown",
   "metadata": {},
   "source": [
    "# GridSearch-like for DBSCAN"
   ]
  },
  {
   "cell_type": "code",
   "execution_count": 29,
   "metadata": {},
   "outputs": [],
   "source": [
    "def dbscan_gridsearch(X, eps_list, min_pts_list, agg_val, op_file):\n",
    "\n",
    "    res_f = open(op_file, 'w')\n",
    "    res_f.write('Instances = ' + str(len(df_all)) + '\\n')\n",
    "    res_f.write('| Eps | \\tmpts | \\tClus | \\tAnom | \\tTime |\\n')\n",
    "    res_f.write('| -- | -- | -- | -- | -- |\\n')\n",
    "    res_f.close()\n",
    "\n",
    "    for eps in eps_list:\n",
    "        for min_samples in min_pts_list:\n",
    "\n",
    "            tic = time.time()\n",
    "            clustering = DBSCAN(eps=eps, min_samples=min_samples).fit(X)\n",
    "            toc = time.time()\n",
    "            total_time = toc-tic\n",
    "\n",
    "            labels = clustering.labels_\n",
    "            unq_labels = np.unique(labels)\n",
    "            # print('Number of clusters found', len(unq_labels))\n",
    "\n",
    "            counter = Counter(labels)\n",
    "\n",
    "            outliers_count = 0\n",
    "            # The percentages in frequency_dict wont add upto 100 since only\n",
    "            # values more than 1 are added to the new dictionary - look at the \n",
    "            # if statement below\n",
    "            frequency_dict = {}\n",
    "            for k in counter:\n",
    "                v = counter[k]\n",
    "                frequency_dict[k] = v\n",
    "\n",
    "                if k == -1:\n",
    "                    outliers_count = v\n",
    "\n",
    "            res_f = open(op_file, 'a')\n",
    "            res_f.write('|' + str(eps) + '|\\t' + str(min_samples) + '|\\t' \n",
    "                + str(len(unq_labels)-1) + '|\\t' + str(outliers_count) + '|\\t' + str(total_time) + '|' + '\\n')\n",
    "            res_f.close()\n",
    "\n",
    "            print('|' + str(eps) + '|\\t' + str(min_samples) + '|\\t' \n",
    "                + str(len(unq_labels)-1) + '|\\t' + str(outliers_count) + '|\\t' + str(total_time) + '|')\n",
    "\n",
    "            X['labels'] = labels\n",
    "            dbscan_results_file = RESULTS_DIR + 'dbscan_runstat_eps'+str(eps)+'_mpts'+str(min_samples)+'_agg'+str(agg_val)+'.csv'\n",
    "            with open(dbscan_results_file, 'wb') as dbscan_res:\n",
    "                X.to_csv(dbscan_results_file, header=True, index=False)"
   ]
  }
 ],
 "metadata": {
  "kernelspec": {
   "display_name": "shell",
   "language": "python",
   "name": "shell"
  },
  "language_info": {
   "codemirror_mode": {
    "name": "ipython",
    "version": 3
   },
   "file_extension": ".py",
   "mimetype": "text/x-python",
   "name": "python",
   "nbconvert_exporter": "python",
   "pygments_lexer": "ipython3",
   "version": "3.6.6"
  }
 },
 "nbformat": 4,
 "nbformat_minor": 2
}
