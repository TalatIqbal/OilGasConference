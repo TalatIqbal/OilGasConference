{
 "cells": [
  {
   "cell_type": "code",
   "execution_count": 2,
   "metadata": {},
   "outputs": [],
   "source": [
    "import numpy as np\n",
    "import pandas as pd\n",
    "import nltk\n",
    "from nltk.corpus import stopwords\n",
    "import os\n",
    "import re\n",
    "from sklearn.feature_extraction.text import TfidfVectorizer, CountVectorizer, TfidfTransformer\n",
    "import string\n",
    "import json\n",
    "import matplotlib.pyplot as plt"
   ]
  },
  {
   "cell_type": "code",
   "execution_count": 3,
   "metadata": {},
   "outputs": [],
   "source": [
    "stopwords = stopwords.words('english')"
   ]
  },
  {
   "cell_type": "code",
   "execution_count": 4,
   "metadata": {},
   "outputs": [],
   "source": [
    "common_words = ['bid', 'offer', 'buy', 'sell', 'put']"
   ]
  },
  {
   "cell_type": "code",
   "execution_count": 5,
   "metadata": {},
   "outputs": [],
   "source": [
    "regex_digit = re.compile('[+/-]?\\d*\\.?\\d+')"
   ]
  },
  {
   "cell_type": "code",
   "execution_count": 6,
   "metadata": {},
   "outputs": [],
   "source": [
    "# md_chat = pd.read_csv('../data/processed/aligned_chatlogs_msarosiak1_edixon.csv')\n",
    "# md_chat = md_chat.fillna('NAN')\n",
    "aligned_chat = pd.DataFrame()\n",
    "for file_name in os.listdir(\"../data/processed/aligned/\"):  \n",
    "    if file_name.find('aligned') != -1:\n",
    "        # print(file_name)\n",
    "        aligned_chat = aligned_chat.append(pd.read_csv('../data/processed/aligned/'+file_name).dropna(axis=0))"
   ]
  },
  {
   "cell_type": "code",
   "execution_count": 7,
   "metadata": {},
   "outputs": [
    {
     "data": {
      "text/plain": [
       "(2387, 32)"
      ]
     },
     "execution_count": 7,
     "metadata": {},
     "output_type": "execute_result"
    }
   ],
   "source": [
    "aligned_chat.shape"
   ]
  },
  {
   "cell_type": "code",
   "execution_count": 12,
   "metadata": {
    "scrolled": false
   },
   "outputs": [],
   "source": [
    "grouped = aligned_chat.groupby('market_name')\\\n",
    ".agg({'post_date': 'count'})\\\n",
    ".sort_values(by='post_date', ascending=False)"
   ]
  },
  {
   "cell_type": "code",
   "execution_count": 17,
   "metadata": {},
   "outputs": [],
   "source": [
    "top_market_names = grouped[grouped['post_date'] > 50].index.tolist()"
   ]
  },
  {
   "cell_type": "code",
   "execution_count": 18,
   "metadata": {},
   "outputs": [],
   "source": [
    "# top_market_names = aligned_chat.groupby('market_name')\\\n",
    "# .agg({'post_date': 'count'})\\\n",
    "# .sort_values(by='post_date', ascending=False).index.tolist()\n",
    "# # top_market_names = [market.lower() for market in top_market_names]"
   ]
  },
  {
   "cell_type": "code",
   "execution_count": 19,
   "metadata": {},
   "outputs": [
    {
     "data": {
      "text/plain": [
       "['UHC',\n",
       " 'DJ Common',\n",
       " 'Bak-BL',\n",
       " 'LT SW-Guern',\n",
       " 'Bak-Stan',\n",
       " 'Bak-DAPL',\n",
       " 'Bak-JoCo DAPL',\n",
       " 'Bak-NT']"
      ]
     },
     "execution_count": 19,
     "metadata": {},
     "output_type": "execute_result"
    }
   ],
   "source": [
    "top_market_names"
   ]
  },
  {
   "cell_type": "code",
   "execution_count": 9,
   "metadata": {},
   "outputs": [],
   "source": [
    "def filter_tokenize(words):\n",
    "    \n",
    "    words = nltk.word_tokenize(messages)\n",
    "\n",
    "    # Remove single-character tokens (mostly punctuation)\n",
    "    words = [word for word in words if len(word) > 1]\n",
    "\n",
    "    # Remove numbers\n",
    "    words = [word for word in words if not word.isnumeric()]\n",
    "    \n",
    "    # Remove words with numbers\n",
    "    words = [word for word in words if len(regex_digit.findall(word)) == 0]\n",
    "    # print(words)\n",
    "\n",
    "    # Lowercase all words (default_stopwords are lowercase too)\n",
    "    words = [word.lower() for word in words]\n",
    "    \n",
    "    # Strip newline and spaces\n",
    "    words = [word.strip('\\n\\\\n\\r ') for word in words]\n",
    "\n",
    "    # Stemming words seems to make matters worse, disabled\n",
    "    # stemmer = nltk.stem.snowball.SnowballStemmer('german')\n",
    "    # words = [stemmer.stem(word) for word in words]\n",
    "\n",
    "    # Remove stopwords\n",
    "    words = [word for word in words if word not in stopwords]\n",
    "    \n",
    "    # Remove common words\n",
    "    words = [word for word in words if word not in common_words]\n",
    "    \n",
    "    # Remove word if only one character\n",
    "    words = [word for word in words if word.count(word[0]) < len(word)]\n",
    "    \n",
    "    words = ' '.join(words)\n",
    "    \n",
    "    return words"
   ]
  },
  {
   "cell_type": "code",
   "execution_count": 10,
   "metadata": {
    "scrolled": false
   },
   "outputs": [],
   "source": [
    "market_name_words = {}\n",
    "for market_name in top_market_names:\n",
    "    \n",
    "    # print('Market_Name: ', market_name)\n",
    "    messages = ' '.join(aligned_chat.loc[aligned_chat.market_name == market_name, 'message'])\n",
    "    \n",
    "    # Remove words with all puntuations\n",
    "    messages = messages.translate(str.maketrans('','',string.punctuation))\n",
    "\n",
    "\n",
    "    # Calculate frequency distribution\n",
    "    # fdist = nltk.FreqDist(words)\n",
    "    \n",
    "    messages = filter_tokenize(messages)\n",
    "\n",
    "    market_name_words[market_name] = messages\n",
    "    \n",
    "    # Output top 10 words\n",
    "    # for word, frequency in fdist.most_common(10):\n",
    "        # print(u'{}:{}'.format(word, frequency))"
   ]
  },
  {
   "cell_type": "code",
   "execution_count": 11,
   "metadata": {},
   "outputs": [],
   "source": [
    "# market_name_words.values()"
   ]
  },
  {
   "cell_type": "code",
   "execution_count": 12,
   "metadata": {},
   "outputs": [],
   "source": [
    "count_vect = CountVectorizer()\n",
    "count_vect = count_vect.fit(market_name_words.values())\n",
    "freq_term_matrix = count_vect.transform(market_name_words.values())"
   ]
  },
  {
   "cell_type": "code",
   "execution_count": 13,
   "metadata": {},
   "outputs": [
    {
     "data": {
      "text/plain": [
       "TfidfTransformer(norm='l2', smooth_idf=True, sublinear_tf=False, use_idf=True)"
      ]
     },
     "execution_count": 13,
     "metadata": {},
     "output_type": "execute_result"
    }
   ],
   "source": [
    "tfidf = TfidfTransformer(norm='l2')\n",
    "tfidf.fit(freq_term_matrix)"
   ]
  },
  {
   "cell_type": "code",
   "execution_count": 14,
   "metadata": {
    "scrolled": true
   },
   "outputs": [],
   "source": [
    "# L2\n",
    "market_associated_words = {}\n",
    "for market_name in top_market_names:\n",
    "    # print(market_name)\n",
    "    doc_freq_term = count_vect.transform([market_name_words[market_name]])\n",
    "    doc_tfidf_matrix = tfidf.transform(doc_freq_term)\n",
    "    # print(np.percentile(doc_tfidf_matrix.toarray()[0], [100, 99]))\n",
    "    \n",
    "    # decreasing_index = sorted(range(len(count_vect.get_feature_names())), key=lambda k: doc_tfidf_matrix.toarray()[0].tolist()[k], reverse=True)\n",
    "    # print(np.array(count_vect.get_feature_names())[decreasing_index[0:5]])\n",
    "    \n",
    "    # market_associated_words[market_name.lower()] = np.array(count_vect.get_feature_names())[decreasing_index[0:5]].tolist()\n",
    "    \n",
    "    # Use threshold to filter\n",
    "    threshold = 0.3\n",
    "    market_associated_words[market_name.lower()] = \\\n",
    "    list(filter(lambda x: x != '', map(lambda x, y: x if y >= threshold else '', count_vect.get_feature_names(), doc_tfidf_matrix.toarray()[0])))\n",
    "\n",
    "    # print(market_associated_words[market_name.lower()])"
   ]
  },
  {
   "cell_type": "code",
   "execution_count": 15,
   "metadata": {
    "scrolled": true
   },
   "outputs": [],
   "source": [
    "# market_associated_words"
   ]
  },
  {
   "cell_type": "code",
   "execution_count": 16,
   "metadata": {},
   "outputs": [],
   "source": [
    "with open('../data/processed/market_associated_words.json', 'w') as fp:\n",
    "    json.dump(market_associated_words, fp)"
   ]
  },
  {
   "cell_type": "code",
   "execution_count": 17,
   "metadata": {
    "scrolled": true
   },
   "outputs": [],
   "source": [
    "# for market_name in top_market_names:\n",
    "#     print(market_name)\n",
    "#     tf_transformed = tf_fit.transform([market_name_words[market_name]])\n",
    "#     # print(market_name_words[market_name])\n",
    "    \n",
    "#     feature_names = np.array(tfidf.get_feature_names())\n",
    "#     # find maximum value for each of the features over all of dataset:\n",
    "#     max_val = tf_transformed.max(axis=0).toarray().ravel()\n",
    "\n",
    "#     #sort weights from smallest to biggest and extract their indices \n",
    "#     sort_by_tfidf = max_val.argsort()\n",
    "\n",
    "#     # print(\"Features with lowest tfidf:\\n{}\".format(feature_names[sort_by_tfidf[:3]]))\n",
    "#     print(\"Features with highest tfidf: \\n{}\".format(feature_names[sort_by_tfidf[-3:]]))\n",
    "#     # print(tf_fit.get_feature_names())\n",
    "#     # print(dict(zip(tf_fit.get_feature_names(), tf_fit.idf_)))\n",
    "#     print('>>>>>>>>>>>>>>>')"
   ]
  },
  {
   "cell_type": "markdown",
   "metadata": {},
   "source": [
    "## Word Freq Distribution"
   ]
  },
  {
   "cell_type": "code",
   "execution_count": 18,
   "metadata": {},
   "outputs": [],
   "source": [
    "messages = ' '.join(aligned_chat['message'])"
   ]
  },
  {
   "cell_type": "code",
   "execution_count": 19,
   "metadata": {},
   "outputs": [],
   "source": [
    "words = nltk.word_tokenize(messages)"
   ]
  },
  {
   "cell_type": "code",
   "execution_count": 20,
   "metadata": {},
   "outputs": [],
   "source": [
    "# Remove single-character tokens (mostly punctuation)\n",
    "words = [word for word in words if len(word) > 1]\n",
    "\n",
    "# Remove numbers\n",
    "words = [word for word in words if not word.isnumeric()]\n",
    "\n",
    "# Remove words with numbers\n",
    "words = [word for word in words if len(regex_digit.findall(word)) == 0]\n",
    "# print(words)\n",
    "\n",
    "# Lowercase all words (default_stopwords are lowercase too)\n",
    "words = [word.lower() for word in words]"
   ]
  },
  {
   "cell_type": "code",
   "execution_count": 21,
   "metadata": {},
   "outputs": [],
   "source": [
    "fdist = nltk.FreqDist(words)"
   ]
  },
  {
   "cell_type": "code",
   "execution_count": 22,
   "metadata": {},
   "outputs": [
    {
     "data": {
      "image/png": "[encoded data removed]",
      "text/plain": [
       "<matplotlib.figure.Figure at 0x1a199663c8>"
      ]
     },
     "metadata": {},
     "output_type": "display_data"
    }
   ],
   "source": [
    "plt.figure(figsize=(15, 10))\n",
    "fdist.plot(100)\n",
    "plt.show()"
   ]
  },
  {
   "cell_type": "code",
   "execution_count": null,
   "metadata": {},
   "outputs": [],
   "source": []
  }
 ],
 "metadata": {
  "kernelspec": {
   "display_name": "Python 3",
   "language": "python",
   "name": "python3"
  },
  "language_info": {
   "codemirror_mode": {
    "name": "ipython",
    "version": 3
   },
   "file_extension": ".py",
   "mimetype": "text/x-python",
   "name": "python",
   "nbconvert_exporter": "python",
   "pygments_lexer": "ipython3",
   "version": "3.6.4"
  }
 },
 "nbformat": 4,
 "nbformat_minor": 2
}
