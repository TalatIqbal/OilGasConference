{
 "cells": [
  {
   "cell_type": "markdown",
   "metadata": {},
   "source": [
    "## Using Running Status for Data Alignment"
   ]
  },
  {
   "cell_type": "markdown",
   "metadata": {},
   "source": [
    "### Imports"
   ]
  },
  {
   "cell_type": "code",
   "execution_count": 1,
   "metadata": {},
   "outputs": [],
   "source": [
    "import pandas as pd\n",
    "import numpy as np\n",
    "from datetime import datetime\n",
    "from datetime import timedelta\n",
    "import matplotlib.pyplot as plt\n",
    "import os\n",
    "import ntpath\n",
    "import pickle as pkl\n",
    "import xlrd\n",
    "import time\n",
    "import string\n",
    "import math\n",
    "\n",
    "from os import listdir\n",
    "from os.path import isfile, join\n",
    "from collections import Counter\n",
    "from sklearn.cluster import DBSCAN"
   ]
  },
  {
   "cell_type": "markdown",
   "metadata": {},
   "source": [
    "### Notebook options"
   ]
  },
  {
   "cell_type": "code",
   "execution_count": 2,
   "metadata": {},
   "outputs": [],
   "source": [
    "pd.set_option('display.max_colwidth', -1) # Column width\n",
    "plt.rcParams['figure.figsize'] = [15, 10] # Size of the plots"
   ]
  },
  {
   "cell_type": "markdown",
   "metadata": {},
   "source": [
    "### General Assumptions"
   ]
  },
  {
   "cell_type": "code",
   "execution_count": 3,
   "metadata": {},
   "outputs": [],
   "source": [
    "time_col = 'datetime'\n",
    "time_gran_col = 'datetime_gran'\n",
    "value_col = 'val'\n",
    "scaled_value_col = 'scaled_val'\n",
    "time_granularity = 'min'"
   ]
  },
  {
   "cell_type": "code",
   "execution_count": 4,
   "metadata": {},
   "outputs": [],
   "source": [
    "fmt = '%Y-%m-%d %H:%M:%S'\n",
    "base_date = datetime.strptime('2014-01-01 00:00:01', fmt)\n",
    "start_date = datetime.strptime('2014-01-01 00:00:01', fmt)\n",
    "stop_date = datetime.strptime('2019-01-01 00:00:01', fmt)"
   ]
  },
  {
   "cell_type": "markdown",
   "metadata": {},
   "source": [
    "### Data Directories"
   ]
  },
  {
   "cell_type": "code",
   "execution_count": 5,
   "metadata": {},
   "outputs": [],
   "source": [
    "pump = 'P6302B'\n",
    "RAW_DATA_DIR = '../data/raw/'+pump+'/'\n",
    "PROC_DATA_DIR = '../data/processed/'+pump+'/'\n",
    "INT_DATA_DIR = '../data/interim/'+pump+'/'\n",
    "RESULTS_DIR = '../data/results/'+pump+'/'"
   ]
  },
  {
   "cell_type": "markdown",
   "metadata": {},
   "source": [
    "### Read Standardized Single Minute Data"
   ]
  },
  {
   "cell_type": "code",
   "execution_count": 6,
   "metadata": {},
   "outputs": [],
   "source": [
    "agg_val = 1\n",
    "agg_col = 'agg' + str(agg_val) \n",
    "input_file = INT_DATA_DIR + 'agg_single/' + agg_col + '.csv'\n",
    "with open(input_file, 'rb') as f:\n",
    "    df_agg = pd.read_csv(input_file)"
   ]
  },
  {
   "cell_type": "code",
   "execution_count": 7,
   "metadata": {},
   "outputs": [
    {
     "data": {
      "text/plain": [
       "(2629440, 26)"
      ]
     },
     "execution_count": 7,
     "metadata": {},
     "output_type": "execute_result"
    }
   ],
   "source": [
    "df_agg.shape"
   ]
  },
  {
   "cell_type": "code",
   "execution_count": 8,
   "metadata": {},
   "outputs": [
    {
     "data": {
      "text/plain": [
       "array(['agg1', 'PC63112E.AV', '05GTWY_BN06:XT61B19.PNT', 'TT61B06.PV',\n",
       "       'FT61A99.PV', 'PT63112.PV', '05GTWY_BN06:XT61B18.PNT',\n",
       "       'TT61B05.PV', '05GTWY_BN06:XT61B17.PNT', '05GTWY_BN06:XT61B12.PNT',\n",
       "       'TT63109.PV', '05GTWY_BN06:ZT61B14.PNT', '05GTWY_BN06:XT61B10.PNT',\n",
       "       '05GTWY_BN06:ZT61B15.PNT', '05GTWY_BN06:XT61B11.PNT', 'TT61B02.PV',\n",
       "       'TT61B01.PV', '05GTWY_BN06:XT61B13.PNT', 'F61221', 'TT61B03.PV',\n",
       "       'TC63109E.AV', 'PT63103.PV', 'PT61A98.PV',\n",
       "       '05GTWY_BN06:XT61B20.PNT', 'PT61B00.PV', 'TT61B04.PV'],\n",
       "      dtype=object)"
      ]
     },
     "execution_count": 8,
     "metadata": {},
     "output_type": "execute_result"
    }
   ],
   "source": [
    "df_agg.columns.values"
   ]
  },
  {
   "cell_type": "code",
   "execution_count": 9,
   "metadata": {},
   "outputs": [],
   "source": [
    "tag_run_status = 'P6302BDI.PV'"
   ]
  },
  {
   "cell_type": "code",
   "execution_count": 10,
   "metadata": {},
   "outputs": [
    {
     "name": "stdout",
     "output_type": "stream",
     "text": [
      "22GTWY_E403:FALE22E23SP.PNT Error 2017-12-30 23:48:05\n",
      "Number of files found in ../data/interim/P6302B/standardized/ is 60 \n",
      "Number of features extracted from 60 files is 60 \n"
     ]
    }
   ],
   "source": [
    "from utils import read_data\n",
    "input_dir = INT_DATA_DIR + 'standardized/'\n",
    "df_features_std = read_data(input_dir, True)"
   ]
  },
  {
   "cell_type": "code",
   "execution_count": 11,
   "metadata": {},
   "outputs": [],
   "source": [
    "df_run_status = df_features_std[tag_run_status]"
   ]
  },
  {
   "cell_type": "code",
   "execution_count": 12,
   "metadata": {},
   "outputs": [
    {
     "data": {
      "text/html": [
       "<div>\n",
       "<style scoped>\n",
       "    .dataframe tbody tr th:only-of-type {\n",
       "        vertical-align: middle;\n",
       "    }\n",
       "\n",
       "    .dataframe tbody tr th {\n",
       "        vertical-align: top;\n",
       "    }\n",
       "\n",
       "    .dataframe thead th {\n",
       "        text-align: right;\n",
       "    }\n",
       "</style>\n",
       "<table border=\"1\" class=\"dataframe\">\n",
       "  <thead>\n",
       "    <tr style=\"text-align: right;\">\n",
       "      <th></th>\n",
       "      <th>datetime_gran</th>\n",
       "      <th>val</th>\n",
       "      <th>scaled_val</th>\n",
       "      <th>std_val</th>\n",
       "    </tr>\n",
       "  </thead>\n",
       "  <tbody>\n",
       "    <tr>\n",
       "      <th>25</th>\n",
       "      <td>26</td>\n",
       "      <td>1.0</td>\n",
       "      <td>1.0</td>\n",
       "      <td>0.773235</td>\n",
       "    </tr>\n",
       "    <tr>\n",
       "      <th>26</th>\n",
       "      <td>27</td>\n",
       "      <td>1.0</td>\n",
       "      <td>1.0</td>\n",
       "      <td>0.773235</td>\n",
       "    </tr>\n",
       "    <tr>\n",
       "      <th>27</th>\n",
       "      <td>28</td>\n",
       "      <td>1.0</td>\n",
       "      <td>1.0</td>\n",
       "      <td>0.773235</td>\n",
       "    </tr>\n",
       "    <tr>\n",
       "      <th>28</th>\n",
       "      <td>29</td>\n",
       "      <td>1.0</td>\n",
       "      <td>1.0</td>\n",
       "      <td>0.773235</td>\n",
       "    </tr>\n",
       "    <tr>\n",
       "      <th>29</th>\n",
       "      <td>30</td>\n",
       "      <td>1.0</td>\n",
       "      <td>1.0</td>\n",
       "      <td>0.773235</td>\n",
       "    </tr>\n",
       "  </tbody>\n",
       "</table>\n",
       "</div>"
      ],
      "text/plain": [
       "    datetime_gran  val  scaled_val   std_val\n",
       "25  26             1.0  1.0         0.773235\n",
       "26  27             1.0  1.0         0.773235\n",
       "27  28             1.0  1.0         0.773235\n",
       "28  29             1.0  1.0         0.773235\n",
       "29  30             1.0  1.0         0.773235"
      ]
     },
     "execution_count": 12,
     "metadata": {},
     "output_type": "execute_result"
    }
   ],
   "source": [
    "df_run_status.head()"
   ]
  },
  {
   "cell_type": "markdown",
   "metadata": {},
   "source": [
    "### Change running status either 1 or 0"
   ]
  },
  {
   "cell_type": "code",
   "execution_count": 13,
   "metadata": {},
   "outputs": [],
   "source": [
    "# Values that are non-zero are interpolated.\n",
    "# Convert anything that is not 1 to 0\n",
    "\n",
    "df_run_status['val'] = df_run_status['val'].apply(lambda x: 0 if x < 1 else 1)"
   ]
  },
  {
   "cell_type": "code",
   "execution_count": 15,
   "metadata": {},
   "outputs": [],
   "source": [
    "df_run_status.drop(columns=['scaled_val', 'std_val'], inplace=True)"
   ]
  },
  {
   "cell_type": "code",
   "execution_count": 16,
   "metadata": {},
   "outputs": [
    {
     "data": {
      "text/html": [
       "<div>\n",
       "<style scoped>\n",
       "    .dataframe tbody tr th:only-of-type {\n",
       "        vertical-align: middle;\n",
       "    }\n",
       "\n",
       "    .dataframe tbody tr th {\n",
       "        vertical-align: top;\n",
       "    }\n",
       "\n",
       "    .dataframe thead th {\n",
       "        text-align: right;\n",
       "    }\n",
       "</style>\n",
       "<table border=\"1\" class=\"dataframe\">\n",
       "  <thead>\n",
       "    <tr style=\"text-align: right;\">\n",
       "      <th></th>\n",
       "      <th>datetime_gran</th>\n",
       "      <th>val</th>\n",
       "    </tr>\n",
       "  </thead>\n",
       "  <tbody>\n",
       "    <tr>\n",
       "      <th>25</th>\n",
       "      <td>26</td>\n",
       "      <td>1</td>\n",
       "    </tr>\n",
       "    <tr>\n",
       "      <th>26</th>\n",
       "      <td>27</td>\n",
       "      <td>1</td>\n",
       "    </tr>\n",
       "    <tr>\n",
       "      <th>27</th>\n",
       "      <td>28</td>\n",
       "      <td>1</td>\n",
       "    </tr>\n",
       "    <tr>\n",
       "      <th>28</th>\n",
       "      <td>29</td>\n",
       "      <td>1</td>\n",
       "    </tr>\n",
       "    <tr>\n",
       "      <th>29</th>\n",
       "      <td>30</td>\n",
       "      <td>1</td>\n",
       "    </tr>\n",
       "  </tbody>\n",
       "</table>\n",
       "</div>"
      ],
      "text/plain": [
       "    datetime_gran  val\n",
       "25  26             1  \n",
       "26  27             1  \n",
       "27  28             1  \n",
       "28  29             1  \n",
       "29  30             1  "
      ]
     },
     "execution_count": 16,
     "metadata": {},
     "output_type": "execute_result"
    }
   ],
   "source": [
    "df_run_status.head()"
   ]
  },
  {
   "cell_type": "code",
   "execution_count": 17,
   "metadata": {},
   "outputs": [
    {
     "name": "stdout",
     "output_type": "stream",
     "text": [
      "val\n",
      "0    1000306\n",
      "1    1629110\n",
      "Name: val, dtype: int64\n"
     ]
    }
   ],
   "source": [
    "print(df_run_status.groupby('val')['val'].count())"
   ]
  },
  {
   "cell_type": "markdown",
   "metadata": {},
   "source": [
    "## Remove 'n' minutes before and after of each row"
   ]
  },
  {
   "cell_type": "code",
   "execution_count": 36,
   "metadata": {},
   "outputs": [],
   "source": [
    "df_non_running_times = df_run_status.loc[df_run_status['val'] == 0]"
   ]
  },
  {
   "cell_type": "code",
   "execution_count": 37,
   "metadata": {},
   "outputs": [],
   "source": [
    "non_running_times_withbuffer = df_non_running_times[time_gran_col]\n",
    "non_running_times_withbuffer = set(non_running_times_withbuffer)"
   ]
  },
  {
   "cell_type": "code",
   "execution_count": 38,
   "metadata": {},
   "outputs": [],
   "source": [
    "buffer = 2 # 2 mins before and after the running of the machine\n",
    "\n",
    "for i in range(1, buffer+1):\n",
    "    a = set(df_non_running_times[time_gran_col].apply(lambda x:x+i))\n",
    "    b = set(df_non_running_times[time_gran_col].apply(lambda x:x-i))\n",
    "\n",
    "    non_running_times_withbuffer = non_running_times_withbuffer | a | b"
   ]
  },
  {
   "cell_type": "code",
   "execution_count": 39,
   "metadata": {},
   "outputs": [],
   "source": [
    "df_run_status = df_run_status.loc[~df_run_status[time_gran_col].isin(non_running_times_withbuffer)]\n",
    "df_run_status = df_run_status[['datetime_gran', 'val']]"
   ]
  },
  {
   "cell_type": "code",
   "execution_count": 40,
   "metadata": {},
   "outputs": [
    {
     "data": {
      "text/plain": [
       "(1625367, 2)"
      ]
     },
     "execution_count": 40,
     "metadata": {},
     "output_type": "execute_result"
    }
   ],
   "source": [
    "df_run_status.shape"
   ]
  },
  {
   "cell_type": "markdown",
   "metadata": {},
   "source": [
    "### Use data with only running status as 1"
   ]
  },
  {
   "cell_type": "code",
   "execution_count": 41,
   "metadata": {},
   "outputs": [],
   "source": [
    "df_agg_run = pd.merge(df_agg, df_run_status, how='inner', left_on='agg1', right_on='datetime_gran')"
   ]
  },
  {
   "cell_type": "code",
   "execution_count": 42,
   "metadata": {},
   "outputs": [
    {
     "data": {
      "text/plain": [
       "(1625367, 28)"
      ]
     },
     "execution_count": 42,
     "metadata": {},
     "output_type": "execute_result"
    }
   ],
   "source": [
    "df_agg_run.shape"
   ]
  },
  {
   "cell_type": "code",
   "execution_count": 43,
   "metadata": {},
   "outputs": [
    {
     "data": {
      "text/html": [
       "<div>\n",
       "<style scoped>\n",
       "    .dataframe tbody tr th:only-of-type {\n",
       "        vertical-align: middle;\n",
       "    }\n",
       "\n",
       "    .dataframe tbody tr th {\n",
       "        vertical-align: top;\n",
       "    }\n",
       "\n",
       "    .dataframe thead th {\n",
       "        text-align: right;\n",
       "    }\n",
       "</style>\n",
       "<table border=\"1\" class=\"dataframe\">\n",
       "  <thead>\n",
       "    <tr style=\"text-align: right;\">\n",
       "      <th></th>\n",
       "      <th>agg1</th>\n",
       "      <th>PC63112E.AV</th>\n",
       "      <th>05GTWY_BN06:XT61B19.PNT</th>\n",
       "      <th>TT61B06.PV</th>\n",
       "      <th>FT61A99.PV</th>\n",
       "      <th>PT63112.PV</th>\n",
       "      <th>05GTWY_BN06:XT61B18.PNT</th>\n",
       "      <th>TT61B05.PV</th>\n",
       "      <th>05GTWY_BN06:XT61B17.PNT</th>\n",
       "      <th>05GTWY_BN06:XT61B12.PNT</th>\n",
       "      <th>...</th>\n",
       "      <th>F61221</th>\n",
       "      <th>TT61B03.PV</th>\n",
       "      <th>TC63109E.AV</th>\n",
       "      <th>PT63103.PV</th>\n",
       "      <th>PT61A98.PV</th>\n",
       "      <th>05GTWY_BN06:XT61B20.PNT</th>\n",
       "      <th>PT61B00.PV</th>\n",
       "      <th>TT61B04.PV</th>\n",
       "      <th>datetime_gran</th>\n",
       "      <th>val</th>\n",
       "    </tr>\n",
       "  </thead>\n",
       "  <tbody>\n",
       "    <tr>\n",
       "      <th>0</th>\n",
       "      <td>26</td>\n",
       "      <td>NaN</td>\n",
       "      <td>0.687327</td>\n",
       "      <td>0.225171</td>\n",
       "      <td>0.873820</td>\n",
       "      <td>-0.443310</td>\n",
       "      <td>0.157315</td>\n",
       "      <td>-0.779361</td>\n",
       "      <td>0.590499</td>\n",
       "      <td>0.330673</td>\n",
       "      <td>...</td>\n",
       "      <td>0.811948</td>\n",
       "      <td>0.869886</td>\n",
       "      <td>NaN</td>\n",
       "      <td>0.600810</td>\n",
       "      <td>0.875594</td>\n",
       "      <td>0.828150</td>\n",
       "      <td>0.783579</td>\n",
       "      <td>0.725859</td>\n",
       "      <td>26</td>\n",
       "      <td>1</td>\n",
       "    </tr>\n",
       "    <tr>\n",
       "      <th>1</th>\n",
       "      <td>27</td>\n",
       "      <td>0.054785</td>\n",
       "      <td>0.866717</td>\n",
       "      <td>0.226876</td>\n",
       "      <td>0.874811</td>\n",
       "      <td>-0.713979</td>\n",
       "      <td>0.070048</td>\n",
       "      <td>-0.778281</td>\n",
       "      <td>0.469157</td>\n",
       "      <td>0.451374</td>\n",
       "      <td>...</td>\n",
       "      <td>0.813250</td>\n",
       "      <td>0.870260</td>\n",
       "      <td>NaN</td>\n",
       "      <td>0.431101</td>\n",
       "      <td>0.881691</td>\n",
       "      <td>0.920870</td>\n",
       "      <td>0.770197</td>\n",
       "      <td>0.725859</td>\n",
       "      <td>27</td>\n",
       "      <td>1</td>\n",
       "    </tr>\n",
       "    <tr>\n",
       "      <th>2</th>\n",
       "      <td>28</td>\n",
       "      <td>0.054785</td>\n",
       "      <td>0.813155</td>\n",
       "      <td>0.225739</td>\n",
       "      <td>0.875802</td>\n",
       "      <td>-0.046705</td>\n",
       "      <td>0.224347</td>\n",
       "      <td>-0.788544</td>\n",
       "      <td>0.520471</td>\n",
       "      <td>0.402410</td>\n",
       "      <td>...</td>\n",
       "      <td>0.814552</td>\n",
       "      <td>0.870634</td>\n",
       "      <td>NaN</td>\n",
       "      <td>0.822021</td>\n",
       "      <td>0.901696</td>\n",
       "      <td>0.946229</td>\n",
       "      <td>0.788144</td>\n",
       "      <td>0.726516</td>\n",
       "      <td>28</td>\n",
       "      <td>1</td>\n",
       "    </tr>\n",
       "    <tr>\n",
       "      <th>3</th>\n",
       "      <td>29</td>\n",
       "      <td>0.054785</td>\n",
       "      <td>0.848864</td>\n",
       "      <td>0.224603</td>\n",
       "      <td>0.875802</td>\n",
       "      <td>0.349903</td>\n",
       "      <td>0.083960</td>\n",
       "      <td>-0.798807</td>\n",
       "      <td>0.475798</td>\n",
       "      <td>0.511724</td>\n",
       "      <td>...</td>\n",
       "      <td>0.814552</td>\n",
       "      <td>0.871007</td>\n",
       "      <td>NaN</td>\n",
       "      <td>0.958884</td>\n",
       "      <td>0.871593</td>\n",
       "      <td>0.996155</td>\n",
       "      <td>0.775864</td>\n",
       "      <td>0.727173</td>\n",
       "      <td>29</td>\n",
       "      <td>1</td>\n",
       "    </tr>\n",
       "    <tr>\n",
       "      <th>4</th>\n",
       "      <td>30</td>\n",
       "      <td>0.054785</td>\n",
       "      <td>0.839511</td>\n",
       "      <td>0.226308</td>\n",
       "      <td>0.875802</td>\n",
       "      <td>0.746511</td>\n",
       "      <td>0.023252</td>\n",
       "      <td>-0.807450</td>\n",
       "      <td>0.431124</td>\n",
       "      <td>0.523111</td>\n",
       "      <td>...</td>\n",
       "      <td>0.813901</td>\n",
       "      <td>0.871381</td>\n",
       "      <td>NaN</td>\n",
       "      <td>1.095747</td>\n",
       "      <td>0.841490</td>\n",
       "      <td>0.870151</td>\n",
       "      <td>0.763585</td>\n",
       "      <td>0.727831</td>\n",
       "      <td>30</td>\n",
       "      <td>1</td>\n",
       "    </tr>\n",
       "  </tbody>\n",
       "</table>\n",
       "<p>5 rows × 28 columns</p>\n",
       "</div>"
      ],
      "text/plain": [
       "   agg1  PC63112E.AV  05GTWY_BN06:XT61B19.PNT  TT61B06.PV  FT61A99.PV  \\\n",
       "0  26   NaN           0.687327                 0.225171    0.873820     \n",
       "1  27    0.054785     0.866717                 0.226876    0.874811     \n",
       "2  28    0.054785     0.813155                 0.225739    0.875802     \n",
       "3  29    0.054785     0.848864                 0.224603    0.875802     \n",
       "4  30    0.054785     0.839511                 0.226308    0.875802     \n",
       "\n",
       "   PT63112.PV  05GTWY_BN06:XT61B18.PNT  TT61B05.PV  05GTWY_BN06:XT61B17.PNT  \\\n",
       "0 -0.443310    0.157315                -0.779361    0.590499                  \n",
       "1 -0.713979    0.070048                -0.778281    0.469157                  \n",
       "2 -0.046705    0.224347                -0.788544    0.520471                  \n",
       "3  0.349903    0.083960                -0.798807    0.475798                  \n",
       "4  0.746511    0.023252                -0.807450    0.431124                  \n",
       "\n",
       "   05GTWY_BN06:XT61B12.PNT ...     F61221  TT61B03.PV  TC63109E.AV  \\\n",
       "0  0.330673                ...   0.811948  0.869886   NaN            \n",
       "1  0.451374                ...   0.813250  0.870260   NaN            \n",
       "2  0.402410                ...   0.814552  0.870634   NaN            \n",
       "3  0.511724                ...   0.814552  0.871007   NaN            \n",
       "4  0.523111                ...   0.813901  0.871381   NaN            \n",
       "\n",
       "   PT63103.PV  PT61A98.PV  05GTWY_BN06:XT61B20.PNT  PT61B00.PV  TT61B04.PV  \\\n",
       "0  0.600810    0.875594    0.828150                 0.783579    0.725859     \n",
       "1  0.431101    0.881691    0.920870                 0.770197    0.725859     \n",
       "2  0.822021    0.901696    0.946229                 0.788144    0.726516     \n",
       "3  0.958884    0.871593    0.996155                 0.775864    0.727173     \n",
       "4  1.095747    0.841490    0.870151                 0.763585    0.727831     \n",
       "\n",
       "   datetime_gran  val  \n",
       "0  26             1    \n",
       "1  27             1    \n",
       "2  28             1    \n",
       "3  29             1    \n",
       "4  30             1    \n",
       "\n",
       "[5 rows x 28 columns]"
      ]
     },
     "execution_count": 43,
     "metadata": {},
     "output_type": "execute_result"
    }
   ],
   "source": [
    "df_agg_run.head()"
   ]
  },
  {
   "cell_type": "code",
   "execution_count": 44,
   "metadata": {},
   "outputs": [],
   "source": [
    "df_agg_run.drop(columns=['val', 'datetime_gran'], inplace=True)"
   ]
  },
  {
   "cell_type": "code",
   "execution_count": 45,
   "metadata": {},
   "outputs": [],
   "source": [
    "df_agg_run.dropna(inplace=True)"
   ]
  },
  {
   "cell_type": "code",
   "execution_count": 46,
   "metadata": {},
   "outputs": [
    {
     "data": {
      "text/plain": [
       "(1605319, 26)"
      ]
     },
     "execution_count": 46,
     "metadata": {},
     "output_type": "execute_result"
    }
   ],
   "source": [
    "df_agg_run.shape"
   ]
  },
  {
   "cell_type": "code",
   "execution_count": 47,
   "metadata": {},
   "outputs": [
    {
     "data": {
      "text/html": [
       "<div>\n",
       "<style scoped>\n",
       "    .dataframe tbody tr th:only-of-type {\n",
       "        vertical-align: middle;\n",
       "    }\n",
       "\n",
       "    .dataframe tbody tr th {\n",
       "        vertical-align: top;\n",
       "    }\n",
       "\n",
       "    .dataframe thead th {\n",
       "        text-align: right;\n",
       "    }\n",
       "</style>\n",
       "<table border=\"1\" class=\"dataframe\">\n",
       "  <thead>\n",
       "    <tr style=\"text-align: right;\">\n",
       "      <th></th>\n",
       "      <th>agg1</th>\n",
       "      <th>PC63112E.AV</th>\n",
       "      <th>05GTWY_BN06:XT61B19.PNT</th>\n",
       "      <th>TT61B06.PV</th>\n",
       "      <th>FT61A99.PV</th>\n",
       "      <th>PT63112.PV</th>\n",
       "      <th>05GTWY_BN06:XT61B18.PNT</th>\n",
       "      <th>TT61B05.PV</th>\n",
       "      <th>05GTWY_BN06:XT61B17.PNT</th>\n",
       "      <th>05GTWY_BN06:XT61B12.PNT</th>\n",
       "      <th>...</th>\n",
       "      <th>TT61B01.PV</th>\n",
       "      <th>05GTWY_BN06:XT61B13.PNT</th>\n",
       "      <th>F61221</th>\n",
       "      <th>TT61B03.PV</th>\n",
       "      <th>TC63109E.AV</th>\n",
       "      <th>PT63103.PV</th>\n",
       "      <th>PT61A98.PV</th>\n",
       "      <th>05GTWY_BN06:XT61B20.PNT</th>\n",
       "      <th>PT61B00.PV</th>\n",
       "      <th>TT61B04.PV</th>\n",
       "    </tr>\n",
       "  </thead>\n",
       "  <tbody>\n",
       "    <tr>\n",
       "      <th>20048</th>\n",
       "      <td>29681</td>\n",
       "      <td>0.054785</td>\n",
       "      <td>0.713682</td>\n",
       "      <td>0.729313</td>\n",
       "      <td>0.873820</td>\n",
       "      <td>-0.065803</td>\n",
       "      <td>0.170595</td>\n",
       "      <td>0.585121</td>\n",
       "      <td>0.603177</td>\n",
       "      <td>0.861299</td>\n",
       "      <td>...</td>\n",
       "      <td>1.911033</td>\n",
       "      <td>0.888271</td>\n",
       "      <td>0.814552</td>\n",
       "      <td>1.387541</td>\n",
       "      <td>0.586338</td>\n",
       "      <td>0.468408</td>\n",
       "      <td>0.827962</td>\n",
       "      <td>0.928795</td>\n",
       "      <td>0.858828</td>\n",
       "      <td>1.033388</td>\n",
       "    </tr>\n",
       "    <tr>\n",
       "      <th>20049</th>\n",
       "      <td>29682</td>\n",
       "      <td>0.054785</td>\n",
       "      <td>0.821657</td>\n",
       "      <td>0.731018</td>\n",
       "      <td>0.874150</td>\n",
       "      <td>0.427196</td>\n",
       "      <td>0.344498</td>\n",
       "      <td>0.588362</td>\n",
       "      <td>0.431124</td>\n",
       "      <td>0.704161</td>\n",
       "      <td>...</td>\n",
       "      <td>1.909158</td>\n",
       "      <td>0.859063</td>\n",
       "      <td>0.814552</td>\n",
       "      <td>1.378385</td>\n",
       "      <td>0.586338</td>\n",
       "      <td>0.639537</td>\n",
       "      <td>0.830630</td>\n",
       "      <td>1.054797</td>\n",
       "      <td>0.816796</td>\n",
       "      <td>1.027474</td>\n",
       "    </tr>\n",
       "    <tr>\n",
       "      <th>20050</th>\n",
       "      <td>29683</td>\n",
       "      <td>0.054785</td>\n",
       "      <td>0.876070</td>\n",
       "      <td>0.732724</td>\n",
       "      <td>0.874481</td>\n",
       "      <td>0.628929</td>\n",
       "      <td>0.144035</td>\n",
       "      <td>0.591603</td>\n",
       "      <td>0.373169</td>\n",
       "      <td>0.788424</td>\n",
       "      <td>...</td>\n",
       "      <td>1.907283</td>\n",
       "      <td>0.898312</td>\n",
       "      <td>0.814552</td>\n",
       "      <td>1.369229</td>\n",
       "      <td>0.586338</td>\n",
       "      <td>0.719423</td>\n",
       "      <td>0.811958</td>\n",
       "      <td>0.970796</td>\n",
       "      <td>0.914085</td>\n",
       "      <td>1.021560</td>\n",
       "    </tr>\n",
       "    <tr>\n",
       "      <th>20051</th>\n",
       "      <td>29684</td>\n",
       "      <td>0.054785</td>\n",
       "      <td>0.758742</td>\n",
       "      <td>0.733860</td>\n",
       "      <td>0.874481</td>\n",
       "      <td>0.343635</td>\n",
       "      <td>0.371690</td>\n",
       "      <td>0.594844</td>\n",
       "      <td>0.590499</td>\n",
       "      <td>0.775898</td>\n",
       "      <td>...</td>\n",
       "      <td>1.929778</td>\n",
       "      <td>0.917479</td>\n",
       "      <td>0.814552</td>\n",
       "      <td>1.384925</td>\n",
       "      <td>0.586338</td>\n",
       "      <td>0.616625</td>\n",
       "      <td>0.832725</td>\n",
       "      <td>0.962870</td>\n",
       "      <td>0.946201</td>\n",
       "      <td>1.033388</td>\n",
       "    </tr>\n",
       "    <tr>\n",
       "      <th>20052</th>\n",
       "      <td>29685</td>\n",
       "      <td>0.054785</td>\n",
       "      <td>0.677976</td>\n",
       "      <td>0.733860</td>\n",
       "      <td>0.874481</td>\n",
       "      <td>0.058342</td>\n",
       "      <td>0.277466</td>\n",
       "      <td>0.588362</td>\n",
       "      <td>0.590499</td>\n",
       "      <td>0.740599</td>\n",
       "      <td>...</td>\n",
       "      <td>1.931653</td>\n",
       "      <td>0.801561</td>\n",
       "      <td>0.814552</td>\n",
       "      <td>1.390158</td>\n",
       "      <td>0.586338</td>\n",
       "      <td>0.513826</td>\n",
       "      <td>0.853493</td>\n",
       "      <td>1.021514</td>\n",
       "      <td>0.978316</td>\n",
       "      <td>1.033388</td>\n",
       "    </tr>\n",
       "  </tbody>\n",
       "</table>\n",
       "<p>5 rows × 26 columns</p>\n",
       "</div>"
      ],
      "text/plain": [
       "        agg1  PC63112E.AV  05GTWY_BN06:XT61B19.PNT  TT61B06.PV  FT61A99.PV  \\\n",
       "20048  29681  0.054785     0.713682                 0.729313    0.873820     \n",
       "20049  29682  0.054785     0.821657                 0.731018    0.874150     \n",
       "20050  29683  0.054785     0.876070                 0.732724    0.874481     \n",
       "20051  29684  0.054785     0.758742                 0.733860    0.874481     \n",
       "20052  29685  0.054785     0.677976                 0.733860    0.874481     \n",
       "\n",
       "       PT63112.PV  05GTWY_BN06:XT61B18.PNT  TT61B05.PV  \\\n",
       "20048 -0.065803    0.170595                 0.585121     \n",
       "20049  0.427196    0.344498                 0.588362     \n",
       "20050  0.628929    0.144035                 0.591603     \n",
       "20051  0.343635    0.371690                 0.594844     \n",
       "20052  0.058342    0.277466                 0.588362     \n",
       "\n",
       "       05GTWY_BN06:XT61B17.PNT  05GTWY_BN06:XT61B12.PNT     ...      \\\n",
       "20048  0.603177                 0.861299                    ...       \n",
       "20049  0.431124                 0.704161                    ...       \n",
       "20050  0.373169                 0.788424                    ...       \n",
       "20051  0.590499                 0.775898                    ...       \n",
       "20052  0.590499                 0.740599                    ...       \n",
       "\n",
       "       TT61B01.PV  05GTWY_BN06:XT61B13.PNT    F61221  TT61B03.PV  TC63109E.AV  \\\n",
       "20048  1.911033    0.888271                 0.814552  1.387541    0.586338      \n",
       "20049  1.909158    0.859063                 0.814552  1.378385    0.586338      \n",
       "20050  1.907283    0.898312                 0.814552  1.369229    0.586338      \n",
       "20051  1.929778    0.917479                 0.814552  1.384925    0.586338      \n",
       "20052  1.931653    0.801561                 0.814552  1.390158    0.586338      \n",
       "\n",
       "       PT63103.PV  PT61A98.PV  05GTWY_BN06:XT61B20.PNT  PT61B00.PV  TT61B04.PV  \n",
       "20048  0.468408    0.827962    0.928795                 0.858828    1.033388    \n",
       "20049  0.639537    0.830630    1.054797                 0.816796    1.027474    \n",
       "20050  0.719423    0.811958    0.970796                 0.914085    1.021560    \n",
       "20051  0.616625    0.832725    0.962870                 0.946201    1.033388    \n",
       "20052  0.513826    0.853493    1.021514                 0.978316    1.033388    \n",
       "\n",
       "[5 rows x 26 columns]"
      ]
     },
     "execution_count": 47,
     "metadata": {},
     "output_type": "execute_result"
    }
   ],
   "source": [
    "df_agg_run.head()"
   ]
  },
  {
   "cell_type": "markdown",
   "metadata": {},
   "source": [
    "### Write down the dataframe in files"
   ]
  },
  {
   "cell_type": "code",
   "execution_count": 48,
   "metadata": {},
   "outputs": [
    {
     "name": "stdout",
     "output_type": "stream",
     "text": [
      "Writing to  ../data/interim/P6302B/agg_runstat/agg1_buf2.csv\n"
     ]
    }
   ],
   "source": [
    "output_file = INT_DATA_DIR + 'agg_runstat/' + 'agg1_buf2.csv'\n",
    "with open(output_file, 'wb') as f:\n",
    "    df_agg_run.to_csv(output_file, header=True, index=False)\n",
    "    print('Writing to ', output_file)"
   ]
  },
  {
   "cell_type": "markdown",
   "metadata": {},
   "source": [
    "## Aggregation at 2/3/4/5 minute levels"
   ]
  },
  {
   "cell_type": "code",
   "execution_count": 49,
   "metadata": {},
   "outputs": [
    {
     "name": "stdout",
     "output_type": "stream",
     "text": [
      "Started processing for agg_val= 2Completed: Written to ../data/interim/P6302B/agg_runstat/agg2_buf2.csv\n",
      "Started processing for agg_val= 3Completed: Written to ../data/interim/P6302B/agg_runstat/agg3_buf2.csv\n",
      "Started processing for agg_val= 4Completed: Written to ../data/interim/P6302B/agg_runstat/agg4_buf2.csv\n",
      "Started processing for agg_val= 5Completed: Written to ../data/interim/P6302B/agg_runstat/agg5_buf2.csv\n",
      "Started processing for agg_val= 6Completed: Written to ../data/interim/P6302B/agg_runstat/agg6_buf2.csv\n",
      "Started processing for agg_val= 7Completed: Written to ../data/interim/P6302B/agg_runstat/agg7_buf2.csv\n",
      "Started processing for agg_val= 8Completed: Written to ../data/interim/P6302B/agg_runstat/agg8_buf2.csv\n",
      "Started processing for agg_val= 9Completed: Written to ../data/interim/P6302B/agg_runstat/agg9_buf2.csv\n",
      "Started processing for agg_val= 10Completed: Written to ../data/interim/P6302B/agg_runstat/agg10_buf2.csv\n",
      "Started processing for agg_val= 15Completed: Written to ../data/interim/P6302B/agg_runstat/agg15_buf2.csv\n",
      "Started processing for agg_val= 20Completed: Written to ../data/interim/P6302B/agg_runstat/agg20_buf2.csv\n",
      "Started processing for agg_val= 30Completed: Written to ../data/interim/P6302B/agg_runstat/agg30_buf2.csv\n",
      "Started processing for agg_val= 45Completed: Written to ../data/interim/P6302B/agg_runstat/agg45_buf2.csv\n",
      "Started processing for agg_val= 60Completed: Written to ../data/interim/P6302B/agg_runstat/agg60_buf2.csv\n"
     ]
    }
   ],
   "source": [
    "from utils import lcl_divmul ## Aggregation at 2/3/4/5 minute levels\n",
    "\n",
    "agg_val_list = [2, 3, 4, 5, 6, 7, 8, 9, 10, 15, 20, 30, 45, 60]\n",
    "\n",
    "for agg_val in agg_val_list:\n",
    "    \n",
    "    print('Started processing for agg_val= ' + str(agg_val), end='')\n",
    "    agg_col = 'agg' + str(agg_val)\n",
    "    df_agg_temp = df_agg_run.copy()\n",
    "    df_agg_temp[agg_col] = df_agg_temp['agg1'].apply(lambda x: lcl_divmul(x, agg_val, agg_val))\n",
    "    df_agg_temp.drop(columns=['agg1'], inplace=True)\n",
    "    \n",
    "    df_agg_temp = df_agg_temp.groupby(by=[agg_col]).mean()\n",
    "    df_agg_temp = df_agg_temp.reset_index(level=0, inplace=False)\n",
    "        \n",
    "    \n",
    "    output_file = INT_DATA_DIR + 'agg_runstat/' + 'agg'+str(agg_val)+ '_buf' + str(buffer) + '.csv'\n",
    "    with open(output_file, 'wb') as f:\n",
    "        df_agg_temp.to_csv(output_file, header=True, index=False)\n",
    "        print('Completed: Written to ' + output_file)"
   ]
  },
  {
   "cell_type": "code",
   "execution_count": 39,
   "metadata": {},
   "outputs": [
    {
     "name": "stdout",
     "output_type": "stream",
     "text": [
      "(1609025, 26)\n",
      "(805490, 26)\n",
      "(537629, 26)\n",
      "(403702, 26)\n",
      "(323357, 26)\n",
      "(269775, 26)\n",
      "(231494, 26)\n",
      "(202821, 26)\n",
      "(180468, 26)\n",
      "(162608, 26)\n"
     ]
    }
   ],
   "source": [
    "agg_val_list = [1, 2, 3, 4, 5, 6, 7, 8, 9, 10]\n",
    "\n",
    "for agg_val in agg_val_list:\n",
    "    \n",
    "    agg_col = 'agg' + str(agg_val)\n",
    "    input_file = INT_DATA_DIR + 'agg_runstat/' + 'agg'+str(agg_val)+'.csv'\n",
    "    \n",
    "    df = pd.read_csv(input_file)\n",
    "    \n",
    "    print(df.shape)"
   ]
  },
  {
   "cell_type": "code",
   "execution_count": 33,
   "metadata": {},
   "outputs": [
    {
     "data": {
      "text/html": [
       "<div>\n",
       "<style scoped>\n",
       "    .dataframe tbody tr th:only-of-type {\n",
       "        vertical-align: middle;\n",
       "    }\n",
       "\n",
       "    .dataframe tbody tr th {\n",
       "        vertical-align: top;\n",
       "    }\n",
       "\n",
       "    .dataframe thead th {\n",
       "        text-align: right;\n",
       "    }\n",
       "</style>\n",
       "<table border=\"1\" class=\"dataframe\">\n",
       "  <thead>\n",
       "    <tr style=\"text-align: right;\">\n",
       "      <th></th>\n",
       "      <th>agg1</th>\n",
       "      <th>TT63109.PV</th>\n",
       "      <th>PT61A98.PV</th>\n",
       "      <th>TT61B02.PV</th>\n",
       "      <th>05GTWY_BN06:XT61B18.PNT</th>\n",
       "      <th>05GTWY_BN06:XT61B20.PNT</th>\n",
       "      <th>TT61B05.PV</th>\n",
       "      <th>PT63112.PV</th>\n",
       "      <th>FT61A99.PV</th>\n",
       "      <th>05GTWY_BN06:XT61B17.PNT</th>\n",
       "      <th>...</th>\n",
       "      <th>TT61B06.PV</th>\n",
       "      <th>05GTWY_BN06:ZT61B14.PNT</th>\n",
       "      <th>TT61B01.PV</th>\n",
       "      <th>05GTWY_BN06:XT61B11.PNT</th>\n",
       "      <th>TT61B03.PV</th>\n",
       "      <th>PT61B00.PV</th>\n",
       "      <th>05GTWY_BN06:XT61B13.PNT</th>\n",
       "      <th>05GTWY_BN06:XT61B10.PNT</th>\n",
       "      <th>05GTWY_BN06:ZT61B15.PNT</th>\n",
       "      <th>TT61B04.PV</th>\n",
       "    </tr>\n",
       "  </thead>\n",
       "  <tbody>\n",
       "    <tr>\n",
       "      <th>20085</th>\n",
       "      <td>29680</td>\n",
       "      <td>1.941281</td>\n",
       "      <td>0.825295</td>\n",
       "      <td>1.914424</td>\n",
       "      <td>0.183875</td>\n",
       "      <td>0.870151</td>\n",
       "      <td>0.592684</td>\n",
       "      <td>-0.558801</td>\n",
       "      <td>0.874481</td>\n",
       "      <td>0.571180</td>\n",
       "      <td>...</td>\n",
       "      <td>0.730450</td>\n",
       "      <td>1.166622</td>\n",
       "      <td>1.899783</td>\n",
       "      <td>0.766100</td>\n",
       "      <td>1.384925</td>\n",
       "      <td>0.900861</td>\n",
       "      <td>0.869104</td>\n",
       "      <td>0.743230</td>\n",
       "      <td>0.388229</td>\n",
       "      <td>1.021560</td>\n",
       "    </tr>\n",
       "    <tr>\n",
       "      <th>20086</th>\n",
       "      <td>29681</td>\n",
       "      <td>1.996454</td>\n",
       "      <td>0.827962</td>\n",
       "      <td>1.936154</td>\n",
       "      <td>0.170595</td>\n",
       "      <td>0.928795</td>\n",
       "      <td>0.585121</td>\n",
       "      <td>-0.065803</td>\n",
       "      <td>0.873820</td>\n",
       "      <td>0.603177</td>\n",
       "      <td>...</td>\n",
       "      <td>0.729313</td>\n",
       "      <td>1.163214</td>\n",
       "      <td>1.911033</td>\n",
       "      <td>0.682860</td>\n",
       "      <td>1.387541</td>\n",
       "      <td>0.858828</td>\n",
       "      <td>0.888271</td>\n",
       "      <td>0.734662</td>\n",
       "      <td>0.376195</td>\n",
       "      <td>1.033388</td>\n",
       "    </tr>\n",
       "    <tr>\n",
       "      <th>20087</th>\n",
       "      <td>29682</td>\n",
       "      <td>2.012111</td>\n",
       "      <td>0.830630</td>\n",
       "      <td>1.925289</td>\n",
       "      <td>0.344498</td>\n",
       "      <td>1.054797</td>\n",
       "      <td>0.588362</td>\n",
       "      <td>0.427196</td>\n",
       "      <td>0.874150</td>\n",
       "      <td>0.431124</td>\n",
       "      <td>...</td>\n",
       "      <td>0.731018</td>\n",
       "      <td>1.166622</td>\n",
       "      <td>1.909158</td>\n",
       "      <td>0.793627</td>\n",
       "      <td>1.378385</td>\n",
       "      <td>0.816796</td>\n",
       "      <td>0.859063</td>\n",
       "      <td>0.775941</td>\n",
       "      <td>0.395635</td>\n",
       "      <td>1.027474</td>\n",
       "    </tr>\n",
       "    <tr>\n",
       "      <th>20088</th>\n",
       "      <td>29683</td>\n",
       "      <td>2.027769</td>\n",
       "      <td>0.811958</td>\n",
       "      <td>1.914424</td>\n",
       "      <td>0.144035</td>\n",
       "      <td>0.970796</td>\n",
       "      <td>0.591603</td>\n",
       "      <td>0.628929</td>\n",
       "      <td>0.874481</td>\n",
       "      <td>0.373169</td>\n",
       "      <td>...</td>\n",
       "      <td>0.732724</td>\n",
       "      <td>1.165073</td>\n",
       "      <td>1.907283</td>\n",
       "      <td>0.661886</td>\n",
       "      <td>1.369229</td>\n",
       "      <td>0.914085</td>\n",
       "      <td>0.898312</td>\n",
       "      <td>0.709738</td>\n",
       "      <td>0.387304</td>\n",
       "      <td>1.021560</td>\n",
       "    </tr>\n",
       "    <tr>\n",
       "      <th>20089</th>\n",
       "      <td>29684</td>\n",
       "      <td>2.090399</td>\n",
       "      <td>0.832725</td>\n",
       "      <td>1.936154</td>\n",
       "      <td>0.371690</td>\n",
       "      <td>0.962870</td>\n",
       "      <td>0.594844</td>\n",
       "      <td>0.343635</td>\n",
       "      <td>0.874481</td>\n",
       "      <td>0.590499</td>\n",
       "      <td>...</td>\n",
       "      <td>0.733860</td>\n",
       "      <td>1.167861</td>\n",
       "      <td>1.929778</td>\n",
       "      <td>0.793627</td>\n",
       "      <td>1.384925</td>\n",
       "      <td>0.946201</td>\n",
       "      <td>0.917479</td>\n",
       "      <td>0.693383</td>\n",
       "      <td>0.390081</td>\n",
       "      <td>1.033388</td>\n",
       "    </tr>\n",
       "  </tbody>\n",
       "</table>\n",
       "<p>5 rows × 26 columns</p>\n",
       "</div>"
      ],
      "text/plain": [
       "        agg1  TT63109.PV  PT61A98.PV  TT61B02.PV  05GTWY_BN06:XT61B18.PNT  \\\n",
       "20085  29680  1.941281    0.825295    1.914424    0.183875                  \n",
       "20086  29681  1.996454    0.827962    1.936154    0.170595                  \n",
       "20087  29682  2.012111    0.830630    1.925289    0.344498                  \n",
       "20088  29683  2.027769    0.811958    1.914424    0.144035                  \n",
       "20089  29684  2.090399    0.832725    1.936154    0.371690                  \n",
       "\n",
       "       05GTWY_BN06:XT61B20.PNT  TT61B05.PV  PT63112.PV  FT61A99.PV  \\\n",
       "20085  0.870151                 0.592684   -0.558801    0.874481     \n",
       "20086  0.928795                 0.585121   -0.065803    0.873820     \n",
       "20087  1.054797                 0.588362    0.427196    0.874150     \n",
       "20088  0.970796                 0.591603    0.628929    0.874481     \n",
       "20089  0.962870                 0.594844    0.343635    0.874481     \n",
       "\n",
       "       05GTWY_BN06:XT61B17.PNT     ...      TT61B06.PV  \\\n",
       "20085  0.571180                    ...      0.730450     \n",
       "20086  0.603177                    ...      0.729313     \n",
       "20087  0.431124                    ...      0.731018     \n",
       "20088  0.373169                    ...      0.732724     \n",
       "20089  0.590499                    ...      0.733860     \n",
       "\n",
       "       05GTWY_BN06:ZT61B14.PNT  TT61B01.PV  05GTWY_BN06:XT61B11.PNT  \\\n",
       "20085  1.166622                 1.899783    0.766100                  \n",
       "20086  1.163214                 1.911033    0.682860                  \n",
       "20087  1.166622                 1.909158    0.793627                  \n",
       "20088  1.165073                 1.907283    0.661886                  \n",
       "20089  1.167861                 1.929778    0.793627                  \n",
       "\n",
       "       TT61B03.PV  PT61B00.PV  05GTWY_BN06:XT61B13.PNT  \\\n",
       "20085  1.384925    0.900861    0.869104                  \n",
       "20086  1.387541    0.858828    0.888271                  \n",
       "20087  1.378385    0.816796    0.859063                  \n",
       "20088  1.369229    0.914085    0.898312                  \n",
       "20089  1.384925    0.946201    0.917479                  \n",
       "\n",
       "       05GTWY_BN06:XT61B10.PNT  05GTWY_BN06:ZT61B15.PNT  TT61B04.PV  \n",
       "20085  0.743230                 0.388229                 1.021560    \n",
       "20086  0.734662                 0.376195                 1.033388    \n",
       "20087  0.775941                 0.395635                 1.027474    \n",
       "20088  0.709738                 0.387304                 1.021560    \n",
       "20089  0.693383                 0.390081                 1.033388    \n",
       "\n",
       "[5 rows x 26 columns]"
      ]
     },
     "execution_count": 33,
     "metadata": {},
     "output_type": "execute_result"
    }
   ],
   "source": [
    "df_agg_run.head()"
   ]
  },
  {
   "cell_type": "code",
   "execution_count": null,
   "metadata": {},
   "outputs": [],
   "source": []
  }
 ],
 "metadata": {
  "kernelspec": {
   "display_name": "shell",
   "language": "python",
   "name": "shell"
  },
  "language_info": {
   "codemirror_mode": {
    "name": "ipython",
    "version": 3
   },
   "file_extension": ".py",
   "mimetype": "text/x-python",
   "name": "python",
   "nbconvert_exporter": "python",
   "pygments_lexer": "ipython3",
   "version": "3.6.6"
  }
 },
 "nbformat": 4,
 "nbformat_minor": 2
}
