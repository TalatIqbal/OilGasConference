{
 "cells": [
  {
   "cell_type": "markdown",
   "metadata": {},
   "source": [
    "# Data Wrangling based on the tags available in Data string"
   ]
  },
  {
   "cell_type": "code",
   "execution_count": 34,
   "metadata": {},
   "outputs": [],
   "source": [
    "import pandas as pd\n",
    "import numpy as np\n",
    "from datetime import datetime\n",
    "import matplotlib.pyplot as plt\n",
    "import os\n",
    "import ntpath\n",
    "import pickle as pkl\n",
    "import xlrd\n",
    "import time\n",
    "import string\n",
    "from os.path import basename"
   ]
  },
  {
   "cell_type": "code",
   "execution_count": 2,
   "metadata": {},
   "outputs": [],
   "source": [
    "pd.set_option('display.max_colwidth', -1)"
   ]
  },
  {
   "cell_type": "code",
   "execution_count": 3,
   "metadata": {},
   "outputs": [],
   "source": [
    "RAW_DATA_DIR = '../data/raw/'\n",
    "PROC_DATA_DIR = '../data/processed/'\n",
    "INT_DATA_DIR = '../data/interim/'"
   ]
  },
  {
   "cell_type": "markdown",
   "metadata": {},
   "source": [
    "### Data Files - PUMP 2253"
   ]
  },
  {
   "cell_type": "code",
   "execution_count": 5,
   "metadata": {},
   "outputs": [],
   "source": [
    "DATA_2253_DIRLIST = {'2017':'P-2253 2017', '2018':'P-2253 2018'}"
   ]
  },
  {
   "cell_type": "code",
   "execution_count": 6,
   "metadata": {},
   "outputs": [],
   "source": [
    "def remove_punctuation(x):\n",
    "    table = str.maketrans({key: None for key in string.punctuation})\n",
    "    return x.translate(table)"
   ]
  },
  {
   "cell_type": "code",
   "execution_count": 7,
   "metadata": {},
   "outputs": [
    {
     "name": "stdout",
     "output_type": "stream",
     "text": [
      "No of files in P-2253 2017 is 44\n",
      "No of files in P-2253 2018 is 50\n"
     ]
    }
   ],
   "source": [
    "data_files_17 = {} # Contains absolute paths (values) of files mapped using their respective basenames (keys)\n",
    "data_files_18 = {}\n",
    "\n",
    "# 2017\n",
    "DIR = DATA_2253_DIRLIST['2017']\n",
    "dir_files = os.listdir(RAW_DATA_DIR + DIR)\n",
    "print('No of files in %s is %d' % (DIR, len(dir_files)))\n",
    "for dir_file in dir_files:\n",
    "    file_base = dir_file.replace('2017.csv','')\n",
    "    file_base = remove_punctuation(file_base)\n",
    "    data_files_17[file_base] = RAW_DATA_DIR + DIR + '/' + dir_file\n",
    "      \n",
    "# 2018\n",
    "DIR = DATA_2253_DIRLIST['2018']\n",
    "dir_files = os.listdir(RAW_DATA_DIR + DIR)\n",
    "print('No of files in %s is %d' % (DIR, len(dir_files)))\n",
    "for dir_file in dir_files:\n",
    "    file_base = dir_file.replace('2018.csv','')\n",
    "    file_base = remove_punctuation(file_base)\n",
    "    data_files_18[file_base] = RAW_DATA_DIR + DIR + '/' + dir_file"
   ]
  },
  {
   "cell_type": "code",
   "execution_count": 10,
   "metadata": {},
   "outputs": [
    {
     "name": "stdout",
     "output_type": "stream",
     "text": [
      "dict_keys(['XI22F26Y', '22E24PNT', 'XI22F30X', 'TI22F12', 'TC22F38SPT', 'FC22E04', 'ZI22F27', '22E24SP', 'XI22F30Y', 'TI22F19AB', 'TI22F13', 'FXC22E22out', 'XI22F26X', 'FC22E22', 'PI22E05', 'II22E47', 'FXC22E22spt', 'FX22E22SPF', '22E23SP', 'TI22F11', 'TC22F38out', 'TI22F16AB', 'FX22E22CMP', 'XI22F25X', 'TI22F18AB', 'TC22F38', 'ZI22F28', 'TI22F15B', 'SI22F23', 'FC22E22SPT', 'XI22F25Y', 'TI22F14', '22F32', 'FC22E04SPT', 'FXC22E22', 'XI22F29Y', 'Flowbalance', 'FC22E22OUT', 'TI22F17AB', 'FC22E04OUT', 'FQI22E22', 'PI22F31', 'XI22F29X', 'TI22F15A'])\n",
      "../data/raw/P-2253 2017/XI22F26Y2017.csv\n"
     ]
    }
   ],
   "source": [
    "# Use Data to find the common files\n",
    "print(data_files_17.keys())\n",
    "print(data_files_17['XI22F26Y'])"
   ]
  },
  {
   "cell_type": "markdown",
   "metadata": {},
   "source": [
    "### Functions"
   ]
  },
  {
   "cell_type": "code",
   "execution_count": 11,
   "metadata": {},
   "outputs": [],
   "source": [
    "def is_number(s):\n",
    "    try:\n",
    "        float(s)\n",
    "        return True\n",
    "    except ValueError:\n",
    "        return False"
   ]
  },
  {
   "cell_type": "code",
   "execution_count": 12,
   "metadata": {},
   "outputs": [],
   "source": [
    "def get_time(dt_str):\n",
    "    dt_str = dt_str.strip()\n",
    "    dtobj = datetime.strptime(dt_str, '%m/%d/%Y %I:%M:%S %p')\n",
    "    return dtobj"
   ]
  },
  {
   "cell_type": "code",
   "execution_count": 13,
   "metadata": {},
   "outputs": [],
   "source": [
    "def parse(txt):\n",
    "    '''\n",
    "    @{PIPoint=SCTM:22GTWY_E403:FALE22E23SP.PNT; Value=60; Timestamp=12/30/2017 11:48:05 PM}\n",
    "    '''\n",
    "    pi_point, val, time  = None, None, None\n",
    "    delimiter = ';'\n",
    "    sub_delimiter = '='\n",
    "    \n",
    "    txt = txt[txt.find('{')+1:txt.find('}')]    \n",
    "    parsed_vals = txt.split(';')\n",
    "    \n",
    "    if len(parsed_vals) >= 3:\n",
    "        pi_point = parsed_vals[0].split(sub_delimiter)[1]\n",
    "    \n",
    "        values = parsed_vals[1].split(sub_delimiter)\n",
    "        if len(values) >= 2:\n",
    "            val = values[1]\n",
    "            if is_number(val):\n",
    "                val = float(val)\n",
    "            else:\n",
    "                val = None\n",
    "        else:\n",
    "            val = None\n",
    "\n",
    "        time_vals = parsed_vals[2].split(sub_delimiter)\n",
    "        if len(time_vals) >= 2:\n",
    "            time = time_vals[1]\n",
    "            time = get_time(time)\n",
    "        else:\n",
    "            return None, None, None\n",
    "    \n",
    "    return pi_point, val, time    "
   ]
  },
  {
   "cell_type": "code",
   "execution_count": 14,
   "metadata": {},
   "outputs": [],
   "source": [
    "def scale_val(val, min_val, max_val):\n",
    "    if val is not None:\n",
    "        return (val-min_val)/(max_val-min_val + 1e-7)\n",
    "    return None"
   ]
  },
  {
   "cell_type": "code",
   "execution_count": 15,
   "metadata": {},
   "outputs": [],
   "source": [
    "def get_minutes_after(current_date, base_date):\n",
    "    \n",
    "    base_ts = time.mktime(base_date.timetuple()) # Converting to Unix timestamp\n",
    "    current_ts = time.mktime(current_date.timetuple())\n",
    "    time_diff_min = round((current_ts - base_ts) / 60.0)\n",
    "    \n",
    "    return time_diff_min"
   ]
  },
  {
   "cell_type": "code",
   "execution_count": 19,
   "metadata": {},
   "outputs": [],
   "source": [
    "fmt = '%Y-%m-%d %H:%M:%S'\n",
    "base_date = datetime.strptime('2017-01-01 00:00:01', fmt)"
   ]
  },
  {
   "cell_type": "markdown",
   "metadata": {},
   "source": [
    "### Find the tags"
   ]
  },
  {
   "cell_type": "code",
   "execution_count": 48,
   "metadata": {},
   "outputs": [
    {
     "name": "stdout",
     "output_type": "stream",
     "text": [
      "No of files in P-2253 2018 is 50\n",
      "\n",
      "tag =  SCTM:22PM53CPM:TI22F18A.PNT base =  TI22F18A2018.csv\n",
      "TI22F18B2018.csv \t SCTM:22PM53CPM:TI22F18A.PNT \t\n",
      "===============\n",
      "\n",
      "tag =  SCTM:22GTWY_E402:PALE22F32SP.PNT base =  F32SP2018.csv\n",
      "E23SP2018.csv \t SCTM:22GTWY_E402:PALE22F32SP.PNT \t\n",
      "===============\n",
      "\n",
      "tag =  SCTM:22P53CP4:FQI22E22.OUT base =  FX22E22CMP2018.csv\n",
      "FQI22E222018.csv \t SCTM:22P53CP4:FQI22E22.OUT \t\n",
      "===============\n",
      "\n",
      "tag =  SCTM:22P53CP4:PI22E05.PNT base =  PI22E052018.csv\n",
      "PI22F312018.csv \t SCTM:22P53CP4:PI22E05.PNT \t\n",
      "===============\n",
      "\n",
      "tag =  SCTM:22PM53CPM:TI22F16A.PNT base =  TI22F17A2018.csv\n",
      "TI22F16A2018.csv \t SCTM:22PM53CPM:TI22F16A.PNT \t\n",
      "===============\n",
      "\n",
      "tag =  SCTM:22GTWY_E402:PALE22F32SP.PNT base =  F322018.csv\n",
      "E23SP2018.csv \t SCTM:22GTWY_E402:PALE22F32SP.PNT \tF32SP2018.csv \t SCTM:22GTWY_E402:PALE22F32SP.PNT \t\n",
      "===============\n",
      "\n",
      "tag =  SCTM:22P53CP4:FC22E04.MEAS base =  FC22E042018.csv\n",
      "FC22E04out2018.csv \t SCTM:22P53CP4:FC22E04.MEAS \t\n",
      "===============\n",
      "\n",
      "tag =  SCTM:UBNV05CPB:XI22F25Y.PNT base =  XI22F26X2018.csv\n",
      "XI22F25Y2018.csv \t SCTM:UBNV05CPB:XI22F25Y.PNT \t\n",
      "===============\n",
      "\n",
      "tag =  SCTM:22PM53CPM:TI22F16A.PNT base =  TI22F16B2018.csv\n",
      "TI22F16A2018.csv \t SCTM:22PM53CPM:TI22F16A.PNT \tTI22F17A2018.csv \t SCTM:22PM53CPM:TI22F16A.PNT \t\n",
      "===============\n",
      "\n",
      "tag =  SCTM:22PM53CPM:TI22F16A.PNT base =  TI22F17B2018.csv\n",
      "TI22F16A2018.csv \t SCTM:22PM53CPM:TI22F16A.PNT \tTI22F17A2018.csv \t SCTM:22PM53CPM:TI22F16A.PNT \tTI22F16B2018.csv \t SCTM:22PM53CPM:TI22F16A.PNT \t\n",
      "===============\n",
      "\n",
      "tag =  SCTM:UBNV05CPB:XI22F30X.PNT base =  XI22F30X2018.csv\n",
      "XI22F30Y2018.csv \t SCTM:UBNV05CPB:XI22F30X.PNT \t\n",
      "===============\n"
     ]
    }
   ],
   "source": [
    "data_18 = {} # Contains mapping between tags and data\n",
    "tag_files_18 = {} # Contains mapping between tags and the file names\n",
    "files_tag_18 = {} # Contains the mapping between file names and tags\n",
    "DIR = DATA_2253_DIRLIST['2018']\n",
    "data_files = data_files_18\n",
    "\n",
    "data = {}\n",
    "tag_files = {}\n",
    "files_tag = {}\n",
    "\n",
    "lst_files = []\n",
    "\n",
    "dir_files = os.listdir(RAW_DATA_DIR + DIR)\n",
    "print('No of files in %s is %d' % (DIR, len(dir_files)))\n",
    "\n",
    "for current_file in dir_files:\n",
    "    \n",
    "    current_file = RAW_DATA_DIR + DIR + '/' + current_file    \n",
    "    current_base = basename(current_file)\n",
    "    \n",
    "    df = pd.read_csv(current_file, header=None)\n",
    "    \n",
    "    df['pi_point'], df['val'], df['read_time'] = zip(*df[0].map(parse))\n",
    "       \n",
    "    df = df[df['pi_point'] != None]\n",
    "    df = df[df['read_time'].notnull()]\n",
    "    \n",
    "    '''\n",
    "    min_val = dfl['val'].min()\n",
    "    max_val = df['val'].max()\n",
    "        \n",
    "    df['time_in_mins'] = df['read_time'].apply(lambda x:get_minutes_after(x, base_date))\n",
    "    df['scaled_val'] = df['val'].apply(lambda x:scale_val(x, min_val, max_val))\n",
    "    df.sort_values(['time_in_mins'], inplace=True, ascending=True)\n",
    "    '''\n",
    "    \n",
    "    tag = df.at[2, 'pi_point']\n",
    "    if tag in tag_files.keys():\n",
    "        print('\\ntag = ', tag, 'base = ', current_base)\n",
    "        for k,v in files_tag.items():\n",
    "            if v == tag:\n",
    "                print(k, '\\t', v, '\\t', end='')\n",
    "        print('\\n===============')\n",
    "                \n",
    "    \n",
    "    tag_files[tag] = current_base\n",
    "    files_tag[current_base] = tag\n",
    "    \n",
    "    data[tag] = df\n",
    "    \n",
    "data_18 = data\n",
    "tag_files_18 = tag_files\n",
    "files_tag_18 = files_tag"
   ]
  },
  {
   "cell_type": "code",
   "execution_count": 49,
   "metadata": {},
   "outputs": [
    {
     "name": "stdout",
     "output_type": "stream",
     "text": [
      "39\n",
      "50\n"
     ]
    }
   ],
   "source": [
    "print(len(tag_files_18.keys()))\n",
    "print(len(files_tag_18.keys()))"
   ]
  },
  {
   "cell_type": "code",
   "execution_count": 50,
   "metadata": {},
   "outputs": [
    {
     "name": "stdout",
     "output_type": "stream",
     "text": [
      "No of files in P-2253 2017 is 44\n",
      "\n",
      "tag =  SCTM:UBNV05CPB:XI22F25Y.PNT base =  XI22F25Y2017.csv\n",
      "XI22F26X2017.csv \t SCTM:UBNV05CPB:XI22F25Y.PNT \t\n",
      "===============\n",
      "\n",
      "tag =  SCTM:22P53CP4:FC22E22.SPT base =  FQI22E222017.csv\n",
      "FC22E22SPT2017.csv \t SCTM:22P53CP4:FC22E22.SPT \t\n",
      "===============\n"
     ]
    }
   ],
   "source": [
    "data_17 = {} # Contains mapping between tags and data\n",
    "tag_files_17 = {} # Contains mapping between tags and the file names\n",
    "files_tag_17 = {} # Contains the mapping between file names and tags\n",
    "DIR = DATA_2253_DIRLIST['2017']\n",
    "data_files = data_files_17\n",
    "\n",
    "data = {}\n",
    "tag_files = {}\n",
    "files_tag = {}\n",
    "\n",
    "lst_files = []\n",
    "\n",
    "dir_files = os.listdir(RAW_DATA_DIR + DIR)\n",
    "print('No of files in %s is %d' % (DIR, len(dir_files)))\n",
    "\n",
    "for current_file in dir_files:\n",
    "    \n",
    "    current_file = RAW_DATA_DIR + DIR + '/' + current_file    \n",
    "    current_base = basename(current_file)\n",
    "    \n",
    "    df = pd.read_csv(current_file, header=None)\n",
    "    \n",
    "    df['pi_point'], df['val'], df['read_time'] = zip(*df[0].map(parse))\n",
    "       \n",
    "    df = df[df['pi_point'] != None]\n",
    "    df = df[df['read_time'].notnull()]\n",
    "    \n",
    "    '''\n",
    "    min_val = dfl['val'].min()\n",
    "    max_val = df['val'].max()\n",
    "        \n",
    "    df['time_in_mins'] = df['read_time'].apply(lambda x:get_minutes_after(x, base_date))\n",
    "    df['scaled_val'] = df['val'].apply(lambda x:scale_val(x, min_val, max_val))\n",
    "    df.sort_values(['time_in_mins'], inplace=True, ascending=True)\n",
    "    '''\n",
    "    \n",
    "    tag = df.at[2, 'pi_point']\n",
    "    if tag in tag_files.keys():\n",
    "        print('\\ntag = ', tag, 'base = ', current_base)\n",
    "        for k,v in files_tag.items():\n",
    "            if v == tag:\n",
    "                print(k, '\\t', v, '\\t', end='')\n",
    "        print('\\n===============')\n",
    "                \n",
    "    \n",
    "    tag_files[tag] = current_base\n",
    "    files_tag[current_base] = tag\n",
    "    \n",
    "    data[tag] = df\n",
    "    \n",
    "data_17 = data\n",
    "tag_files_17 = tag_files\n",
    "files_tag_17 = files_tag"
   ]
  },
  {
   "cell_type": "code",
   "execution_count": 51,
   "metadata": {},
   "outputs": [
    {
     "name": "stdout",
     "output_type": "stream",
     "text": [
      "42\n",
      "44\n"
     ]
    }
   ],
   "source": [
    "print(len(tag_files_17.keys()))\n",
    "print(len(files_tag_17.keys()))"
   ]
  },
  {
   "cell_type": "markdown",
   "metadata": {},
   "source": [
    "### Duplicate Tag Detection"
   ]
  },
  {
   "cell_type": "code",
   "execution_count": null,
   "metadata": {},
   "outputs": [
    {
     "name": "stdout",
     "output_type": "stream",
     "text": [
      "No of files in P-2253 2018 is 50\n"
     ]
    }
   ],
   "source": [
    "data_18 = {} # Contains mapping between tags and data\n",
    "tag_files_18 = {} # Contains mapping between tags and the file names\n",
    "files_tag_18 = {} # Contains the mapping between file names and tags\n",
    "DIR = DATA_2253_DIRLIST['2018']\n",
    "data_files = data_files_18\n",
    "\n",
    "data = {}\n",
    "tag_files = {}\n",
    "files_tag = {}\n",
    "\n",
    "lst_files = []\n",
    "\n",
    "dir_files = os.listdir(RAW_DATA_DIR + DIR)\n",
    "print('No of files in %s is %d' % (DIR, len(dir_files)))\n",
    "\n",
    "for current_file in dir_files:\n",
    "    \n",
    "    current_file = RAW_DATA_DIR + DIR + '/' + current_file    \n",
    "    current_base = basename(current_file)\n",
    "    \n",
    "    df = pd.read_csv(current_file, header=None)\n",
    "    \n",
    "    df['pi_point'], df['val'], df['read_time'] = zip(*df[0].map(parse))\n",
    "       \n",
    "    df = df[df['pi_point'] != None]\n",
    "    df = df[df['read_time'].notnull()]\n",
    "    \n",
    "    '''\n",
    "    min_val = dfl['val'].min()\n",
    "    max_val = df['val'].max()\n",
    "        \n",
    "    df['time_in_mins'] = df['read_time'].apply(lambda x:get_minutes_after(x, base_date))\n",
    "    df['scaled_val'] = df['val'].apply(lambda x:scale_val(x, min_val, max_val))\n",
    "    df.sort_values(['time_in_mins'], inplace=True, ascending=True)\n",
    "    '''\n",
    "    \n",
    "    tag = df.at[2, 'pi_point']\n",
    "    if tag in tag_files.keys():\n",
    "        print('\\n', tag, '\\t', current_base)\n",
    "        for k,v in files_tag.items():\n",
    "            if v == tag:\n",
    "                print(v, '\\t', k)\n",
    "        print('\\n===============')\n",
    "                \n",
    "    \n",
    "    tag_files[tag] = current_base\n",
    "    files_tag[current_base] = tag\n",
    "    \n",
    "    data[tag] = df\n",
    "    \n",
    "data_18 = data\n",
    "tag_files_18 = tag_files\n",
    "files_tag_18 = files_tag"
   ]
  },
  {
   "cell_type": "code",
   "execution_count": 53,
   "metadata": {},
   "outputs": [
    {
     "name": "stdout",
     "output_type": "stream",
     "text": [
      "No of files in P-2253 2017 is 44\n"
     ]
    }
   ],
   "source": [
    "data_17 = {} # Contains mapping between tags and data\n",
    "tag_files_17 = {} # Contains mapping between tags and the file names\n",
    "files_tag_17 = {} # Contains the mapping between file names and tags\n",
    "DIR = DATA_2253_DIRLIST['2017']\n",
    "data_files = data_files_17\n",
    "\n",
    "data = {}\n",
    "tag_files = {}\n",
    "files_tag = {}\n",
    "\n",
    "lst_files = []\n",
    "\n",
    "dir_files = os.listdir(RAW_DATA_DIR + DIR)\n",
    "print('No of files in %s is %d' % (DIR, len(dir_files)))\n",
    "\n",
    "for current_file in dir_files:\n",
    "    \n",
    "    current_file = RAW_DATA_DIR + DIR + '/' + current_file    \n",
    "    current_base = basename(current_file)\n",
    "    \n",
    "    df = pd.read_csv(current_file, header=None)\n",
    "    \n",
    "    df['pi_point'], df['val'], df['read_time'] = zip(*df[0].map(parse))\n",
    "       \n",
    "    df = df[df['pi_point'] != None]\n",
    "    df = df[df['read_time'].notnull()]\n",
    "    \n",
    "    '''\n",
    "    min_val = dfl['val'].min()\n",
    "    max_val = df['val'].max()\n",
    "        \n",
    "    df['time_in_mins'] = df['read_time'].apply(lambda x:get_minutes_after(x, base_date))\n",
    "    df['scaled_val'] = df['val'].apply(lambda x:scale_val(x, min_val, max_val))\n",
    "    df.sort_values(['time_in_mins'], inplace=True, ascending=True)\n",
    "    '''\n",
    "    \n",
    "    tag = df.at[2, 'pi_point']\n",
    "    if tag in tag_files.keys():\n",
    "        print('\\n', tag, '\\t', current_base)\n",
    "        for k,v in files_tag.items():\n",
    "            if v == tag:\n",
    "                print(v, '\\t', k)\n",
    "        print('\\n===============')\n",
    "                \n",
    "    \n",
    "    tag_files[tag] = current_base\n",
    "    files_tag[current_base] = tag\n",
    "    \n",
    "    data[tag] = df\n",
    "    \n",
    "data_17 = data\n",
    "tag_files_17 = tag_files\n",
    "files_tag_17 = files_tag"
   ]
  },
  {
   "cell_type": "code",
   "execution_count": null,
   "metadata": {},
   "outputs": [],
   "source": []
  }
 ],
 "metadata": {
  "kernelspec": {
   "display_name": "shell",
   "language": "python",
   "name": "shell"
  },
  "language_info": {
   "codemirror_mode": {
    "name": "ipython",
    "version": 3
   },
   "file_extension": ".py",
   "mimetype": "text/x-python",
   "name": "python",
   "nbconvert_exporter": "python",
   "pygments_lexer": "ipython3",
   "version": "3.6.6"
  }
 },
 "nbformat": 4,
 "nbformat_minor": 2
}
