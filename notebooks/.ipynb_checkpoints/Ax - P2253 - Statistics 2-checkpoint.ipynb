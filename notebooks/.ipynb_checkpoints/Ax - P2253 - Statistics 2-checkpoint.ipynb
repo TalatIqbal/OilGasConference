{
 "cells": [
  {
   "cell_type": "code",
   "execution_count": 17,
   "metadata": {},
   "outputs": [],
   "source": [
    "import pandas as pd\n",
    "import numpy as np\n",
    "from datetime import datetime\n",
    "from datetime import timedelta\n",
    "import matplotlib.pyplot as plt\n",
    "import os\n",
    "import ntpath\n",
    "import pickle as pkl\n",
    "import xlrd\n",
    "import time\n",
    "import string\n",
    "\n",
    "from os import listdir\n",
    "from os.path import isfile, join"
   ]
  },
  {
   "cell_type": "markdown",
   "metadata": {},
   "source": [
    "### Notebook options"
   ]
  },
  {
   "cell_type": "code",
   "execution_count": 18,
   "metadata": {},
   "outputs": [],
   "source": [
    "pd.set_option('display.max_colwidth', -1) # Column width\n",
    "plt.rcParams['figure.figsize'] = [15, 10] # Size of the plots"
   ]
  },
  {
   "cell_type": "code",
   "execution_count": 19,
   "metadata": {},
   "outputs": [],
   "source": [
    "RAW_DATA_DIR = '../data/raw/'\n",
    "PROC_DATA_DIR = '../data/processed/P1201/'\n",
    "INT_DATA_DIR = '../data/interim/P1201/'"
   ]
  },
  {
   "cell_type": "code",
   "execution_count": 20,
   "metadata": {},
   "outputs": [],
   "source": [
    "f_name = 'P1201_master'\n",
    "input_file = INT_DATA_DIR + '/../' + f_name + '.pkl'\n",
    "\n",
    "with open(input_file, 'rb') as f:\n",
    "    df_master = pkl.load(f)"
   ]
  },
  {
   "cell_type": "code",
   "execution_count": 21,
   "metadata": {},
   "outputs": [],
   "source": [
    "fmt = '%Y-%m-%d %H:%M:%S'\n",
    "base_date = datetime.strptime('2016-01-01 00:00:01', fmt)\n",
    "start_date = datetime.strptime('2016-06-16 00:00:01', fmt)\n",
    "stop_date = datetime.strptime('2018-10-01 00:00:01', fmt)"
   ]
  },
  {
   "cell_type": "code",
   "execution_count": 22,
   "metadata": {},
   "outputs": [],
   "source": [
    "def get_minutes_after(current_date, base_date):\n",
    "        \n",
    "    base_ts = time.mktime(base_date.timetuple()) # Converting to Unix timestamp\n",
    "    current_ts = time.mktime(current_date.timetuple())\n",
    "    time_diff = round((current_ts - base_ts) / 60.0) + 1\n",
    "    \n",
    "    return time_diff"
   ]
  },
  {
   "cell_type": "code",
   "execution_count": 23,
   "metadata": {},
   "outputs": [],
   "source": [
    "time_gran_col = 'datetime_gran'\n",
    "time_co = 'datetime'\n",
    "\n",
    "max_mins = get_minutes_after(stop_date, base_date)\n",
    "min_mins = get_minutes_after(start_date, base_date)\n",
    "    \n",
    "df_master_timetrunc = df_master.loc[(df_master[time_gran_col] < max_mins) & (df_master[time_gran_col] > min_mins)]"
   ]
  },
  {
   "cell_type": "code",
   "execution_count": 24,
   "metadata": {},
   "outputs": [
    {
     "data": {
      "text/html": [
       "<div>\n",
       "<style scoped>\n",
       "    .dataframe tbody tr th:only-of-type {\n",
       "        vertical-align: middle;\n",
       "    }\n",
       "\n",
       "    .dataframe tbody tr th {\n",
       "        vertical-align: top;\n",
       "    }\n",
       "\n",
       "    .dataframe thead th {\n",
       "        text-align: right;\n",
       "    }\n",
       "</style>\n",
       "<table border=\"1\" class=\"dataframe\">\n",
       "  <thead>\n",
       "    <tr style=\"text-align: right;\">\n",
       "      <th></th>\n",
       "      <th>datetime_gran</th>\n",
       "      <th>HART_P1CP04:PY12110FB.MEAS</th>\n",
       "      <th>HART_P1CP04:PY12516FB.MEAS</th>\n",
       "      <th>12P01BCP4:PI12956.PNT</th>\n",
       "      <th>HART_P1CP04:PY12109FB.MEAS</th>\n",
       "      <th>12P01BCP4:PI12955.PNT</th>\n",
       "      <th>HART_U1CP03:PY24092FB.MEAS</th>\n",
       "      <th>HART_P1CP04:FY12847FB.MEAS</th>\n",
       "      <th>12GTWY_E101:FIE12404.PNT</th>\n",
       "      <th>12P01BCP4:FC12847.MEAS</th>\n",
       "      <th>HART_P1CP04:PY12003AFB.MEAS</th>\n",
       "    </tr>\n",
       "  </thead>\n",
       "  <tbody>\n",
       "    <tr>\n",
       "      <th>301801</th>\n",
       "      <td>240422</td>\n",
       "      <td>0.0</td>\n",
       "      <td>0.0</td>\n",
       "      <td>0.0</td>\n",
       "      <td>0.0</td>\n",
       "      <td>0.0</td>\n",
       "      <td>0.0</td>\n",
       "      <td>0.0</td>\n",
       "      <td>0.0</td>\n",
       "      <td>0.0</td>\n",
       "      <td>0.0</td>\n",
       "    </tr>\n",
       "    <tr>\n",
       "      <th>301802</th>\n",
       "      <td>240423</td>\n",
       "      <td>0.0</td>\n",
       "      <td>0.0</td>\n",
       "      <td>0.0</td>\n",
       "      <td>0.0</td>\n",
       "      <td>0.0</td>\n",
       "      <td>0.0</td>\n",
       "      <td>0.0</td>\n",
       "      <td>0.0</td>\n",
       "      <td>0.0</td>\n",
       "      <td>0.0</td>\n",
       "    </tr>\n",
       "    <tr>\n",
       "      <th>301803</th>\n",
       "      <td>240424</td>\n",
       "      <td>0.0</td>\n",
       "      <td>0.0</td>\n",
       "      <td>0.0</td>\n",
       "      <td>0.0</td>\n",
       "      <td>0.0</td>\n",
       "      <td>0.0</td>\n",
       "      <td>0.0</td>\n",
       "      <td>0.0</td>\n",
       "      <td>0.0</td>\n",
       "      <td>0.0</td>\n",
       "    </tr>\n",
       "    <tr>\n",
       "      <th>301804</th>\n",
       "      <td>240425</td>\n",
       "      <td>0.0</td>\n",
       "      <td>0.0</td>\n",
       "      <td>0.0</td>\n",
       "      <td>0.0</td>\n",
       "      <td>0.0</td>\n",
       "      <td>0.0</td>\n",
       "      <td>0.0</td>\n",
       "      <td>0.0</td>\n",
       "      <td>0.0</td>\n",
       "      <td>0.0</td>\n",
       "    </tr>\n",
       "    <tr>\n",
       "      <th>301805</th>\n",
       "      <td>240426</td>\n",
       "      <td>0.0</td>\n",
       "      <td>0.0</td>\n",
       "      <td>0.0</td>\n",
       "      <td>0.0</td>\n",
       "      <td>0.0</td>\n",
       "      <td>0.0</td>\n",
       "      <td>0.0</td>\n",
       "      <td>0.0</td>\n",
       "      <td>0.0</td>\n",
       "      <td>0.0</td>\n",
       "    </tr>\n",
       "  </tbody>\n",
       "</table>\n",
       "</div>"
      ],
      "text/plain": [
       "        datetime_gran  HART_P1CP04:PY12110FB.MEAS  HART_P1CP04:PY12516FB.MEAS  \\\n",
       "301801  240422         0.0                         0.0                          \n",
       "301802  240423         0.0                         0.0                          \n",
       "301803  240424         0.0                         0.0                          \n",
       "301804  240425         0.0                         0.0                          \n",
       "301805  240426         0.0                         0.0                          \n",
       "\n",
       "        12P01BCP4:PI12956.PNT  HART_P1CP04:PY12109FB.MEAS  \\\n",
       "301801  0.0                    0.0                          \n",
       "301802  0.0                    0.0                          \n",
       "301803  0.0                    0.0                          \n",
       "301804  0.0                    0.0                          \n",
       "301805  0.0                    0.0                          \n",
       "\n",
       "        12P01BCP4:PI12955.PNT  HART_U1CP03:PY24092FB.MEAS  \\\n",
       "301801  0.0                    0.0                          \n",
       "301802  0.0                    0.0                          \n",
       "301803  0.0                    0.0                          \n",
       "301804  0.0                    0.0                          \n",
       "301805  0.0                    0.0                          \n",
       "\n",
       "        HART_P1CP04:FY12847FB.MEAS  12GTWY_E101:FIE12404.PNT  \\\n",
       "301801  0.0                         0.0                        \n",
       "301802  0.0                         0.0                        \n",
       "301803  0.0                         0.0                        \n",
       "301804  0.0                         0.0                        \n",
       "301805  0.0                         0.0                        \n",
       "\n",
       "        12P01BCP4:FC12847.MEAS  HART_P1CP04:PY12003AFB.MEAS  \n",
       "301801  0.0                     0.0                          \n",
       "301802  0.0                     0.0                          \n",
       "301803  0.0                     0.0                          \n",
       "301804  0.0                     0.0                          \n",
       "301805  0.0                     0.0                          "
      ]
     },
     "execution_count": 24,
     "metadata": {},
     "output_type": "execute_result"
    }
   ],
   "source": [
    "df_master_timetrunc.head()"
   ]
  },
  {
   "cell_type": "markdown",
   "metadata": {},
   "source": [
    "### Standardize the data"
   ]
  },
  {
   "cell_type": "code",
   "execution_count": 25,
   "metadata": {},
   "outputs": [
    {
     "name": "stdout",
     "output_type": "stream",
     "text": [
      "{'HART_P1CP04:PY12003AFB.MEAS', '12P01BCP4:FC12847.MEAS', 'HART_P1CP04:PY12109FB.MEAS', 'HART_P1CP04:PY12110FB.MEAS', '12P01BCP4:PI12955.PNT', 'HART_P1CP04:PY12516FB.MEAS', '12P01BCP4:PI12956.PNT', 'HART_U1CP03:PY24092FB.MEAS', '12GTWY_E101:FIE12404.PNT', 'HART_P1CP04:FY12847FB.MEAS'}\n"
     ]
    }
   ],
   "source": [
    "from sklearn.preprocessing import StandardScaler\n",
    "\n",
    "features = set(list(df_master_timetrunc.columns.values)) - set(['datetime_gran', 'datetime'])\n",
    "print(features)\n",
    "\n",
    "# Separating out the features\n",
    "x = df_master_timetrunc.loc[:, features].values\n",
    "\n",
    "# Separating out the target\n",
    "# y = df_master_timetrunc.loc[:,['target']].values\n",
    "\n",
    "# Standardizing the features\n",
    "x = StandardScaler().fit_transform(x)"
   ]
  },
  {
   "cell_type": "code",
   "execution_count": 16,
   "metadata": {},
   "outputs": [
    {
     "data": {
      "text/plain": [
       "array([[-1.29695791e+00, -2.49776645e-02, -1.74499251e+00, ...,\n",
       "        -1.84364856e+00, -4.85945155e-01, -2.06073418e+00],\n",
       "       [-1.29695791e+00, -2.49776645e-02, -1.74499251e+00, ...,\n",
       "        -1.84364856e+00, -4.85945155e-01, -2.06073418e+00],\n",
       "       [-1.29695791e+00, -2.49776645e-02, -1.74499251e+00, ...,\n",
       "        -1.84364856e+00, -4.85945155e-01, -2.06073418e+00],\n",
       "       ...,\n",
       "       [ 4.01456586e-01,  1.08045880e-03,  8.76965243e-01, ...,\n",
       "         1.69141559e-01,  3.25880191e-01,  4.72167356e-01],\n",
       "       [ 4.01456586e-01,  1.08045880e-03,  8.76965243e-01, ...,\n",
       "         1.69141559e-01,  3.25880191e-01,  4.72167356e-01],\n",
       "       [ 4.01456586e-01,  1.08045880e-03,  8.76965243e-01, ...,\n",
       "         1.69141559e-01,  3.25880191e-01,  4.72167356e-01]])"
      ]
     },
     "execution_count": 16,
     "metadata": {},
     "output_type": "execute_result"
    }
   ],
   "source": [
    "x"
   ]
  },
  {
   "cell_type": "markdown",
   "metadata": {},
   "source": [
    "### PCA Projection"
   ]
  },
  {
   "cell_type": "code",
   "execution_count": 26,
   "metadata": {},
   "outputs": [],
   "source": [
    "from sklearn.decomposition import PCA\n",
    "\n",
    "pca = PCA(n_components=2)\n",
    "\n",
    "principalComponents = pca.fit_transform(x)\n",
    "\n",
    "principalDf = pd.DataFrame(data = principalComponents,\n",
    "                           columns = ['principal component 1', 'principal component 2'])"
   ]
  },
  {
   "cell_type": "code",
   "execution_count": 36,
   "metadata": {},
   "outputs": [
    {
     "name": "stderr",
     "output_type": "stream",
     "text": [
      "/Users/talat/anaconda3/envs/shell/lib/python3.6/site-packages/ipykernel_launcher.py:1: SettingWithCopyWarning: \n",
      "A value is trying to be set on a copy of a slice from a DataFrame.\n",
      "Try using .loc[row_indexer,col_indexer] = value instead\n",
      "\n",
      "See the caveats in the documentation: http://pandas.pydata.org/pandas-docs/stable/indexing.html#indexing-view-versus-copy\n",
      "  \"\"\"Entry point for launching an IPython kernel.\n"
     ]
    }
   ],
   "source": [
    "df_master_timetrunc['target'] = 1"
   ]
  },
  {
   "cell_type": "code",
   "execution_count": 37,
   "metadata": {},
   "outputs": [
    {
     "data": {
      "text/html": [
       "<div>\n",
       "<style scoped>\n",
       "    .dataframe tbody tr th:only-of-type {\n",
       "        vertical-align: middle;\n",
       "    }\n",
       "\n",
       "    .dataframe tbody tr th {\n",
       "        vertical-align: top;\n",
       "    }\n",
       "\n",
       "    .dataframe thead th {\n",
       "        text-align: right;\n",
       "    }\n",
       "</style>\n",
       "<table border=\"1\" class=\"dataframe\">\n",
       "  <thead>\n",
       "    <tr style=\"text-align: right;\">\n",
       "      <th></th>\n",
       "      <th>datetime_gran</th>\n",
       "      <th>HART_P1CP04:PY12110FB.MEAS</th>\n",
       "      <th>HART_P1CP04:PY12516FB.MEAS</th>\n",
       "      <th>12P01BCP4:PI12956.PNT</th>\n",
       "      <th>HART_P1CP04:PY12109FB.MEAS</th>\n",
       "      <th>12P01BCP4:PI12955.PNT</th>\n",
       "      <th>HART_U1CP03:PY24092FB.MEAS</th>\n",
       "      <th>HART_P1CP04:FY12847FB.MEAS</th>\n",
       "      <th>12GTWY_E101:FIE12404.PNT</th>\n",
       "      <th>12P01BCP4:FC12847.MEAS</th>\n",
       "      <th>HART_P1CP04:PY12003AFB.MEAS</th>\n",
       "      <th>target</th>\n",
       "    </tr>\n",
       "  </thead>\n",
       "  <tbody>\n",
       "    <tr>\n",
       "      <th>301801</th>\n",
       "      <td>240422</td>\n",
       "      <td>0.0</td>\n",
       "      <td>0.0</td>\n",
       "      <td>0.0</td>\n",
       "      <td>0.0</td>\n",
       "      <td>0.0</td>\n",
       "      <td>0.0</td>\n",
       "      <td>0.0</td>\n",
       "      <td>0.0</td>\n",
       "      <td>0.0</td>\n",
       "      <td>0.0</td>\n",
       "      <td>1</td>\n",
       "    </tr>\n",
       "    <tr>\n",
       "      <th>301802</th>\n",
       "      <td>240423</td>\n",
       "      <td>0.0</td>\n",
       "      <td>0.0</td>\n",
       "      <td>0.0</td>\n",
       "      <td>0.0</td>\n",
       "      <td>0.0</td>\n",
       "      <td>0.0</td>\n",
       "      <td>0.0</td>\n",
       "      <td>0.0</td>\n",
       "      <td>0.0</td>\n",
       "      <td>0.0</td>\n",
       "      <td>1</td>\n",
       "    </tr>\n",
       "    <tr>\n",
       "      <th>301803</th>\n",
       "      <td>240424</td>\n",
       "      <td>0.0</td>\n",
       "      <td>0.0</td>\n",
       "      <td>0.0</td>\n",
       "      <td>0.0</td>\n",
       "      <td>0.0</td>\n",
       "      <td>0.0</td>\n",
       "      <td>0.0</td>\n",
       "      <td>0.0</td>\n",
       "      <td>0.0</td>\n",
       "      <td>0.0</td>\n",
       "      <td>1</td>\n",
       "    </tr>\n",
       "    <tr>\n",
       "      <th>301804</th>\n",
       "      <td>240425</td>\n",
       "      <td>0.0</td>\n",
       "      <td>0.0</td>\n",
       "      <td>0.0</td>\n",
       "      <td>0.0</td>\n",
       "      <td>0.0</td>\n",
       "      <td>0.0</td>\n",
       "      <td>0.0</td>\n",
       "      <td>0.0</td>\n",
       "      <td>0.0</td>\n",
       "      <td>0.0</td>\n",
       "      <td>1</td>\n",
       "    </tr>\n",
       "    <tr>\n",
       "      <th>301805</th>\n",
       "      <td>240426</td>\n",
       "      <td>0.0</td>\n",
       "      <td>0.0</td>\n",
       "      <td>0.0</td>\n",
       "      <td>0.0</td>\n",
       "      <td>0.0</td>\n",
       "      <td>0.0</td>\n",
       "      <td>0.0</td>\n",
       "      <td>0.0</td>\n",
       "      <td>0.0</td>\n",
       "      <td>0.0</td>\n",
       "      <td>1</td>\n",
       "    </tr>\n",
       "  </tbody>\n",
       "</table>\n",
       "</div>"
      ],
      "text/plain": [
       "        datetime_gran  HART_P1CP04:PY12110FB.MEAS  HART_P1CP04:PY12516FB.MEAS  \\\n",
       "301801  240422         0.0                         0.0                          \n",
       "301802  240423         0.0                         0.0                          \n",
       "301803  240424         0.0                         0.0                          \n",
       "301804  240425         0.0                         0.0                          \n",
       "301805  240426         0.0                         0.0                          \n",
       "\n",
       "        12P01BCP4:PI12956.PNT  HART_P1CP04:PY12109FB.MEAS  \\\n",
       "301801  0.0                    0.0                          \n",
       "301802  0.0                    0.0                          \n",
       "301803  0.0                    0.0                          \n",
       "301804  0.0                    0.0                          \n",
       "301805  0.0                    0.0                          \n",
       "\n",
       "        12P01BCP4:PI12955.PNT  HART_U1CP03:PY24092FB.MEAS  \\\n",
       "301801  0.0                    0.0                          \n",
       "301802  0.0                    0.0                          \n",
       "301803  0.0                    0.0                          \n",
       "301804  0.0                    0.0                          \n",
       "301805  0.0                    0.0                          \n",
       "\n",
       "        HART_P1CP04:FY12847FB.MEAS  12GTWY_E101:FIE12404.PNT  \\\n",
       "301801  0.0                         0.0                        \n",
       "301802  0.0                         0.0                        \n",
       "301803  0.0                         0.0                        \n",
       "301804  0.0                         0.0                        \n",
       "301805  0.0                         0.0                        \n",
       "\n",
       "        12P01BCP4:FC12847.MEAS  HART_P1CP04:PY12003AFB.MEAS  target  \n",
       "301801  0.0                     0.0                          1       \n",
       "301802  0.0                     0.0                          1       \n",
       "301803  0.0                     0.0                          1       \n",
       "301804  0.0                     0.0                          1       \n",
       "301805  0.0                     0.0                          1       "
      ]
     },
     "execution_count": 37,
     "metadata": {},
     "output_type": "execute_result"
    }
   ],
   "source": [
    "df_master_timetrunc.head()"
   ]
  },
  {
   "cell_type": "code",
   "execution_count": 31,
   "metadata": {},
   "outputs": [],
   "source": [
    "finalDf = pd.concat([principalDf, df_master_timetrunc[['target']]], axis = 1)"
   ]
  },
  {
   "cell_type": "code",
   "execution_count": 35,
   "metadata": {},
   "outputs": [
    {
     "data": {
      "image/png": "[encoded data removed]",
      "text/plain": [
       "<Figure size 1080x1080 with 1 Axes>"
      ]
     },
     "metadata": {
      "needs_background": "light"
     },
     "output_type": "display_data"
    }
   ],
   "source": [
    "fig = plt.figure(figsize = (15,15))\n",
    "ax = fig.add_subplot(1,1,1) \n",
    "ax.set_xlabel('Principal Component 1', fontsize = 15)\n",
    "ax.set_ylabel('Principal Component 2', fontsize = 15)\n",
    "ax.set_title('P1201', fontsize = 20)\n",
    "targets = [1]\n",
    "colors = ['r']\n",
    "for target, color in zip(targets,colors):\n",
    "    indicesToKeep = finalDf['target'] == target\n",
    "    ax.scatter(finalDf.loc[indicesToKeep, 'principal component 1']\n",
    "               , finalDf.loc[indicesToKeep, 'principal component 2']\n",
    "               , c = color\n",
    "               , s = 50)\n",
    "ax.legend(targets)\n",
    "ax.grid()"
   ]
  },
  {
   "cell_type": "code",
   "execution_count": null,
   "metadata": {},
   "outputs": [],
   "source": []
  }
 ],
 "metadata": {
  "kernelspec": {
   "display_name": "shell",
   "language": "python",
   "name": "shell"
  },
  "language_info": {
   "codemirror_mode": {
    "name": "ipython",
    "version": 3
   },
   "file_extension": ".py",
   "mimetype": "text/x-python",
   "name": "python",
   "nbconvert_exporter": "python",
   "pygments_lexer": "ipython3",
   "version": "3.6.6"
  }
 },
 "nbformat": 4,
 "nbformat_minor": 2
}
