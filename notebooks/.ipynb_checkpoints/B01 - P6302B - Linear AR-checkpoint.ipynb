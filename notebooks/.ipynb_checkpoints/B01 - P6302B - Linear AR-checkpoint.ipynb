{
 "cells": [
  {
   "cell_type": "markdown",
   "metadata": {},
   "source": [
    "# P6203B - Auto-correlation"
   ]
  },
  {
   "cell_type": "code",
   "execution_count": 24,
   "metadata": {},
   "outputs": [],
   "source": [
    "import pandas as pd\n",
    "import numpy as np\n",
    "from datetime import datetime\n",
    "import matplotlib.pyplot as plt\n",
    "import os\n",
    "import ntpath\n",
    "import pickle as pkl\n",
    "import xlrd\n",
    "import time\n",
    "import string\n",
    "from os.path import basename\n",
    "\n",
    "from utils import parse"
   ]
  },
  {
   "cell_type": "code",
   "execution_count": 25,
   "metadata": {},
   "outputs": [],
   "source": [
    "pd.set_option('display.max_colwidth', -1)"
   ]
  },
  {
   "cell_type": "code",
   "execution_count": 26,
   "metadata": {},
   "outputs": [],
   "source": [
    "time_col = 'datetime'\n",
    "time_gran_col = 'datetime_gran'\n",
    "value_col = 'val'\n",
    "time_granularity = 'min'"
   ]
  },
  {
   "cell_type": "code",
   "execution_count": 27,
   "metadata": {},
   "outputs": [],
   "source": [
    "pump = 'P6302B'\n",
    "RAW_DATA_DIR = '../data/raw/'+pump+'/'\n",
    "PROC_DATA_DIR = '../data/processed/'+pump+'/'\n",
    "INT_DATA_DIR = '../data/interim/'+pump+'/'"
   ]
  },
  {
   "cell_type": "markdown",
   "metadata": {},
   "source": [
    "### Reading of Data - Data is available in the matrix form with all the features"
   ]
  },
  {
   "cell_type": "code",
   "execution_count": 28,
   "metadata": {},
   "outputs": [
    {
     "name": "stdout",
     "output_type": "stream",
     "text": [
      "(1621758, 2)\n"
     ]
    }
   ],
   "source": [
    "agg_val = 1\n",
    "buffer = 2\n",
    "\n",
    "agg_col = 'agg' + str(agg_val)\n",
    "input_file = INT_DATA_DIR + 'agg_runstat/' + 'agg'+str(agg_val) + '_buf' + str(buffer) + '_time.csv'\n",
    "\n",
    "df_agg = pd.read_csv(input_file)\n",
    "\n",
    "print(df.shape)"
   ]
  },
  {
   "cell_type": "code",
   "execution_count": 29,
   "metadata": {},
   "outputs": [
    {
     "data": {
      "text/html": [
       "<div>\n",
       "<style scoped>\n",
       "    .dataframe tbody tr th:only-of-type {\n",
       "        vertical-align: middle;\n",
       "    }\n",
       "\n",
       "    .dataframe tbody tr th {\n",
       "        vertical-align: top;\n",
       "    }\n",
       "\n",
       "    .dataframe thead th {\n",
       "        text-align: right;\n",
       "    }\n",
       "</style>\n",
       "<table border=\"1\" class=\"dataframe\">\n",
       "  <thead>\n",
       "    <tr style=\"text-align: right;\">\n",
       "      <th></th>\n",
       "      <th>datetime_gran</th>\n",
       "      <th>05GTWY_BN06:XT61B10.PNT</th>\n",
       "      <th>05GTWY_BN06:XT61B11.PNT</th>\n",
       "      <th>05GTWY_BN06:XT61B12.PNT</th>\n",
       "      <th>05GTWY_BN06:XT61B13.PNT</th>\n",
       "      <th>05GTWY_BN06:XT61B17.PNT</th>\n",
       "      <th>05GTWY_BN06:XT61B18.PNT</th>\n",
       "      <th>05GTWY_BN06:XT61B19.PNT</th>\n",
       "      <th>05GTWY_BN06:XT61B20.PNT</th>\n",
       "      <th>05GTWY_BN06:ZT61B14.PNT</th>\n",
       "      <th>...</th>\n",
       "      <th>TT61B06.PV</th>\n",
       "      <th>TC63109E.AV</th>\n",
       "      <th>TT63109.PV</th>\n",
       "      <th>PT61A98.PV</th>\n",
       "      <th>PT61B00.PV</th>\n",
       "      <th>PT63103.PV</th>\n",
       "      <th>PC63112E.AV</th>\n",
       "      <th>PT63112.PV</th>\n",
       "      <th>FT61A99.PV</th>\n",
       "      <th>F61221</th>\n",
       "    </tr>\n",
       "  </thead>\n",
       "  <tbody>\n",
       "    <tr>\n",
       "      <th>0</th>\n",
       "      <td>26</td>\n",
       "      <td>11.33457</td>\n",
       "      <td>10.31831</td>\n",
       "      <td>7.168798</td>\n",
       "      <td>8.816797</td>\n",
       "      <td>14.24146</td>\n",
       "      <td>9.833064</td>\n",
       "      <td>11.62755</td>\n",
       "      <td>12.93222</td>\n",
       "      <td>0.379742</td>\n",
       "      <td>...</td>\n",
       "      <td>55.227905</td>\n",
       "      <td>NaN</td>\n",
       "      <td>43.56641</td>\n",
       "      <td>6.272647</td>\n",
       "      <td>188.51815</td>\n",
       "      <td>400.42800</td>\n",
       "      <td>NaN</td>\n",
       "      <td>232.69480</td>\n",
       "      <td>311.71280</td>\n",
       "      <td>319.89720</td>\n",
       "    </tr>\n",
       "    <tr>\n",
       "      <th>1</th>\n",
       "      <td>27</td>\n",
       "      <td>11.33457</td>\n",
       "      <td>10.75320</td>\n",
       "      <td>7.654042</td>\n",
       "      <td>9.059420</td>\n",
       "      <td>13.32133</td>\n",
       "      <td>9.201330</td>\n",
       "      <td>12.59346</td>\n",
       "      <td>13.46782</td>\n",
       "      <td>0.379681</td>\n",
       "      <td>...</td>\n",
       "      <td>55.256210</td>\n",
       "      <td>NaN</td>\n",
       "      <td>43.69401</td>\n",
       "      <td>6.289313</td>\n",
       "      <td>187.04250</td>\n",
       "      <td>390.25600</td>\n",
       "      <td>239.9902</td>\n",
       "      <td>228.75820</td>\n",
       "      <td>311.85865</td>\n",
       "      <td>320.09165</td>\n",
       "    </tr>\n",
       "    <tr>\n",
       "      <th>2</th>\n",
       "      <td>28</td>\n",
       "      <td>11.67333</td>\n",
       "      <td>10.36409</td>\n",
       "      <td>7.457198</td>\n",
       "      <td>8.816797</td>\n",
       "      <td>13.71044</td>\n",
       "      <td>10.318310</td>\n",
       "      <td>12.30506</td>\n",
       "      <td>13.61431</td>\n",
       "      <td>0.379986</td>\n",
       "      <td>...</td>\n",
       "      <td>55.237340</td>\n",
       "      <td>NaN</td>\n",
       "      <td>43.07164</td>\n",
       "      <td>6.343998</td>\n",
       "      <td>189.02160</td>\n",
       "      <td>413.68690</td>\n",
       "      <td>239.9902</td>\n",
       "      <td>238.46300</td>\n",
       "      <td>312.00450</td>\n",
       "      <td>320.28610</td>\n",
       "    </tr>\n",
       "    <tr>\n",
       "      <th>3</th>\n",
       "      <td>29</td>\n",
       "      <td>11.23844</td>\n",
       "      <td>10.80355</td>\n",
       "      <td>7.896664</td>\n",
       "      <td>9.251686</td>\n",
       "      <td>13.37169</td>\n",
       "      <td>9.302042</td>\n",
       "      <td>12.49733</td>\n",
       "      <td>13.90271</td>\n",
       "      <td>0.379864</td>\n",
       "      <td>...</td>\n",
       "      <td>55.218470</td>\n",
       "      <td>NaN</td>\n",
       "      <td>42.44927</td>\n",
       "      <td>6.261710</td>\n",
       "      <td>187.66745</td>\n",
       "      <td>421.89015</td>\n",
       "      <td>239.9902</td>\n",
       "      <td>244.23125</td>\n",
       "      <td>312.00450</td>\n",
       "      <td>320.28610</td>\n",
       "    </tr>\n",
       "    <tr>\n",
       "      <th>4</th>\n",
       "      <td>30</td>\n",
       "      <td>10.17182</td>\n",
       "      <td>10.99582</td>\n",
       "      <td>7.942442</td>\n",
       "      <td>9.201330</td>\n",
       "      <td>13.03293</td>\n",
       "      <td>8.862576</td>\n",
       "      <td>12.44697</td>\n",
       "      <td>13.17484</td>\n",
       "      <td>0.379742</td>\n",
       "      <td>...</td>\n",
       "      <td>55.246780</td>\n",
       "      <td>NaN</td>\n",
       "      <td>42.61593</td>\n",
       "      <td>6.179422</td>\n",
       "      <td>186.31330</td>\n",
       "      <td>430.09340</td>\n",
       "      <td>239.9902</td>\n",
       "      <td>249.99950</td>\n",
       "      <td>312.00450</td>\n",
       "      <td>320.18885</td>\n",
       "    </tr>\n",
       "  </tbody>\n",
       "</table>\n",
       "<p>5 rows × 26 columns</p>\n",
       "</div>"
      ],
      "text/plain": [
       "   datetime_gran  05GTWY_BN06:XT61B10.PNT  05GTWY_BN06:XT61B11.PNT  \\\n",
       "0  26             11.33457                 10.31831                  \n",
       "1  27             11.33457                 10.75320                  \n",
       "2  28             11.67333                 10.36409                  \n",
       "3  29             11.23844                 10.80355                  \n",
       "4  30             10.17182                 10.99582                  \n",
       "\n",
       "   05GTWY_BN06:XT61B12.PNT  05GTWY_BN06:XT61B13.PNT  05GTWY_BN06:XT61B17.PNT  \\\n",
       "0  7.168798                 8.816797                 14.24146                  \n",
       "1  7.654042                 9.059420                 13.32133                  \n",
       "2  7.457198                 8.816797                 13.71044                  \n",
       "3  7.896664                 9.251686                 13.37169                  \n",
       "4  7.942442                 9.201330                 13.03293                  \n",
       "\n",
       "   05GTWY_BN06:XT61B18.PNT  05GTWY_BN06:XT61B19.PNT  05GTWY_BN06:XT61B20.PNT  \\\n",
       "0  9.833064                 11.62755                 12.93222                  \n",
       "1  9.201330                 12.59346                 13.46782                  \n",
       "2  10.318310                12.30506                 13.61431                  \n",
       "3  9.302042                 12.49733                 13.90271                  \n",
       "4  8.862576                 12.44697                 13.17484                  \n",
       "\n",
       "   05GTWY_BN06:ZT61B14.PNT    ...      TT61B06.PV  TC63109E.AV  TT63109.PV  \\\n",
       "0  0.379742                   ...      55.227905  NaN           43.56641     \n",
       "1  0.379681                   ...      55.256210  NaN           43.69401     \n",
       "2  0.379986                   ...      55.237340  NaN           43.07164     \n",
       "3  0.379864                   ...      55.218470  NaN           42.44927     \n",
       "4  0.379742                   ...      55.246780  NaN           42.61593     \n",
       "\n",
       "   PT61A98.PV  PT61B00.PV  PT63103.PV  PC63112E.AV  PT63112.PV  FT61A99.PV  \\\n",
       "0  6.272647    188.51815   400.42800  NaN           232.69480   311.71280    \n",
       "1  6.289313    187.04250   390.25600   239.9902     228.75820   311.85865    \n",
       "2  6.343998    189.02160   413.68690   239.9902     238.46300   312.00450    \n",
       "3  6.261710    187.66745   421.89015   239.9902     244.23125   312.00450    \n",
       "4  6.179422    186.31330   430.09340   239.9902     249.99950   312.00450    \n",
       "\n",
       "      F61221  \n",
       "0  319.89720  \n",
       "1  320.09165  \n",
       "2  320.28610  \n",
       "3  320.28610  \n",
       "4  320.18885  \n",
       "\n",
       "[5 rows x 26 columns]"
      ]
     },
     "execution_count": 29,
     "metadata": {},
     "output_type": "execute_result"
    }
   ],
   "source": [
    "df_agg.head()"
   ]
  },
  {
   "cell_type": "code",
   "execution_count": 30,
   "metadata": {},
   "outputs": [],
   "source": [
    "fmt = '%Y-%m-%d %H:%M:%S'\n",
    "base_date = datetime.strptime('2014-01-01 00:00:01', fmt)\n",
    "start_date = datetime.strptime('2014-01-01 00:00:01', fmt)\n",
    "stop_date = datetime.strptime('2019-01-01 00:00:01', fmt)"
   ]
  },
  {
   "cell_type": "code",
   "execution_count": 31,
   "metadata": {},
   "outputs": [],
   "source": [
    "fmt = '%Y-%m-%d %H:%M:%S'\n",
    "\n",
    "train_start = datetime.strptime('2014-01-01 00:00:01', fmt)\n",
    "train_end = datetime.strptime('2016-01-01 00:00:01', fmt)\n",
    "\n",
    "test_start = datetime.strptime('2016-01-01 00:00:01', fmt)\n",
    "test_end = datetime.strptime('2019-01-01 00:00:01', fmt)"
   ]
  },
  {
   "cell_type": "code",
   "execution_count": 32,
   "metadata": {},
   "outputs": [],
   "source": [
    "features = list(set(df_agg.columns.values) - set([time_gran_col]))"
   ]
  },
  {
   "cell_type": "code",
   "execution_count": 33,
   "metadata": {},
   "outputs": [
    {
     "data": {
      "text/plain": [
       "['TT61B06.PV',\n",
       " '05GTWY_BN06:XT61B18.PNT',\n",
       " 'TT61B03.PV',\n",
       " 'PT63112.PV',\n",
       " 'TT61B01.PV',\n",
       " '05GTWY_BN06:XT61B10.PNT',\n",
       " 'FT61A99.PV',\n",
       " 'PT63103.PV',\n",
       " 'TT63109.PV',\n",
       " 'F61221',\n",
       " '05GTWY_BN06:XT61B19.PNT',\n",
       " '05GTWY_BN06:ZT61B15.PNT',\n",
       " 'TT61B02.PV',\n",
       " '05GTWY_BN06:XT61B11.PNT',\n",
       " 'PT61A98.PV',\n",
       " 'PT61B00.PV',\n",
       " 'TC63109E.AV',\n",
       " 'TT61B04.PV',\n",
       " 'TT61B05.PV',\n",
       " '05GTWY_BN06:XT61B12.PNT',\n",
       " '05GTWY_BN06:ZT61B14.PNT',\n",
       " '05GTWY_BN06:XT61B13.PNT',\n",
       " 'PC63112E.AV',\n",
       " '05GTWY_BN06:XT61B17.PNT',\n",
       " '05GTWY_BN06:XT61B20.PNT']"
      ]
     },
     "execution_count": 33,
     "metadata": {},
     "output_type": "execute_result"
    }
   ],
   "source": [
    "features"
   ]
  },
  {
   "cell_type": "code",
   "execution_count": 23,
   "metadata": {},
   "outputs": [
    {
     "name": "stdout",
     "output_type": "stream",
     "text": [
      "TT61B06.PV\n",
      "Train size:  671808 test size:  949950\n"
     ]
    },
    {
     "name": "stderr",
     "output_type": "stream",
     "text": [
      "/Users/talat/anaconda3/envs/shell/lib/python3.6/site-packages/ipykernel_launcher.py:12: SettingWithCopyWarning: \n",
      "A value is trying to be set on a copy of a slice from a DataFrame\n",
      "\n",
      "See the caveats in the documentation: http://pandas.pydata.org/pandas-docs/stable/indexing.html#indexing-view-versus-copy\n",
      "  if sys.path[0] == '':\n"
     ]
    },
    {
     "name": "stdout",
     "output_type": "stream",
     "text": [
      "Lag: 109\n"
     ]
    },
    {
     "data": {
      "image/png": "[encoded data removed]",
      "text/plain": [
       "<Figure size 432x288 with 1 Axes>"
      ]
     },
     "metadata": {
      "needs_background": "light"
     },
     "output_type": "display_data"
    }
   ],
   "source": [
    "from utils import get_minutes_after\n",
    "from pandas import Series\n",
    "from matplotlib import pyplot\n",
    "from statsmodels.tsa.ar_model import AR\n",
    "from sklearn.metrics import mean_squared_error\n",
    "\n",
    "idx = 0\n",
    "for feature in features:\n",
    "    print(feature)\n",
    "    \n",
    "    df = df_agg[[time_gran_col, feature]]\n",
    "    df.dropna(inplace=True)\n",
    "  \n",
    "    time_gran_train_start = get_minutes_after(current_date=train_start, base_date=base_date)\n",
    "    time_gran_train_end = get_minutes_after(current_date=train_end, base_date=base_date)\n",
    "    \n",
    "    time_gran_test_start = get_minutes_after(current_date=test_start, base_date=base_date)\n",
    "    time_gran_test_end = get_minutes_after(current_date=test_end, base_date=base_date)\n",
    "    \n",
    "    X = df.loc[(df[time_gran_col] > time_gran_train_start) & (df[time_gran_col] <= time_gran_train_end)]\n",
    "    train = X[feature]\n",
    "    \n",
    "    y = df.loc[(df[time_gran_col] > time_gran_test_start) & (df[time_gran_col] <= time_gran_test_end)]\n",
    "    test = y[feature]\n",
    "    \n",
    "    # print('Train size: ', len(train), 'test size: ', len(test))\n",
    "    \n",
    "    # train autoregression\n",
    "    model = AR(train)\n",
    "    model_fit = model.fit()\n",
    "    print('Lag: %s' % model_fit.k_ar)\n",
    "    \n",
    "    model_fit = model.fit(maxlag=model_fit.k_ar)\n",
    "    # print('Coefficients: %s' % model_fit.params)\n",
    "    # make predictions\n",
    "    predictions = model_fit.predict(start=len(train), end=len(train)+len(test)-1, dynamic=False)    \n",
    "    \n",
    "    # for i in range(len(predictions)):\n",
    "    #     print('predicted=%f, expected=%f' % (predictions[i], test[i]))\n",
    "    \n",
    "    # error = mean_squared_error(test, predictions)\n",
    "    # print('Test MSE: %.3f' % error)\n",
    "    \n",
    "    # plot results\n",
    "    pyplot.plot(test)\n",
    "    pyplot.plot(predictions, color='red')\n",
    "    pyplot.show()\n",
    "    \n",
    "    \n",
    "    idx += 1\n",
    "    if idx == 1:\n",
    "        break"
   ]
  },
  {
   "cell_type": "markdown",
   "metadata": {},
   "source": [
    "## Auto-Regression Model"
   ]
  },
  {
   "cell_type": "code",
   "execution_count": null,
   "metadata": {},
   "outputs": [],
   "source": [
    "from pandas import Series\n",
    "from matplotlib import pyplot\n",
    "from statsmodels.tsa.ar_model import AR\n",
    "from sklearn.metrics import mean_squared_error\n",
    "series = Series.from_csv('daily-minimum-temperatures.csv', header=0)\n",
    "# split dataset\n",
    "X = series.values\n",
    "train, test = X[1:len(X)-7], X[len(X)-7:]\n",
    "# train autoregression\n",
    "model = AR(train)\n",
    "model_fit = model.fit()\n",
    "print('Lag: %s' % model_fit.k_ar)\n",
    "print('Coefficients: %s' % model_fit.params)\n",
    "# make predictions\n",
    "predictions = model_fit.predict(start=len(train), end=len(train)+len(test)-1, dynamic=False)\n",
    "for i in range(len(predictions)):\n",
    "\tprint('predicted=%f, expected=%f' % (predictions[i], test[i]))\n",
    "error = mean_squared_error(test, predictions)\n",
    "print('Test MSE: %.3f' % error)\n",
    "# plot results\n",
    "pyplot.plot(test)\n",
    "pyplot.plot(predictions, color='red')\n",
    "pyplot.show()"
   ]
  },
  {
   "cell_type": "code",
   "execution_count": null,
   "metadata": {},
   "outputs": [],
   "source": []
  }
 ],
 "metadata": {
  "kernelspec": {
   "display_name": "shell",
   "language": "python",
   "name": "shell"
  },
  "language_info": {
   "codemirror_mode": {
    "name": "ipython",
    "version": 3
   },
   "file_extension": ".py",
   "mimetype": "text/x-python",
   "name": "python",
   "nbconvert_exporter": "python",
   "pygments_lexer": "ipython3",
   "version": "3.6.6"
  }
 },
 "nbformat": 4,
 "nbformat_minor": 2
}
