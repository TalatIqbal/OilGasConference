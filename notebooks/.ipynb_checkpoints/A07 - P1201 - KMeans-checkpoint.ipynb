{
 "cells": [
  {
   "cell_type": "markdown",
   "metadata": {},
   "source": [
    "### Imports"
   ]
  },
  {
   "cell_type": "code",
   "execution_count": 1,
   "metadata": {},
   "outputs": [],
   "source": [
    "import pandas as pd\n",
    "import numpy as np\n",
    "from datetime import datetime\n",
    "from datetime import timedelta\n",
    "import matplotlib.pyplot as plt\n",
    "import os\n",
    "import ntpath\n",
    "import pickle as pkl\n",
    "import xlrd\n",
    "import time\n",
    "import string\n",
    "import math\n",
    "\n",
    "from os import listdir\n",
    "from os.path import isfile, join"
   ]
  },
  {
   "cell_type": "markdown",
   "metadata": {},
   "source": [
    "### Notebook options"
   ]
  },
  {
   "cell_type": "code",
   "execution_count": 2,
   "metadata": {},
   "outputs": [],
   "source": [
    "pd.set_option('display.max_colwidth', -1) # Column width\n",
    "plt.rcParams['figure.figsize'] = [15, 10] # Size of the plots"
   ]
  },
  {
   "cell_type": "markdown",
   "metadata": {},
   "source": [
    "### General Assumptions"
   ]
  },
  {
   "cell_type": "code",
   "execution_count": 3,
   "metadata": {},
   "outputs": [],
   "source": [
    "time_col = 'datetime'\n",
    "time_gran_col = 'datetime_gran'\n",
    "value_col = 'val'\n",
    "scaled_value_col = 'scaled_val'\n",
    "time_granularity = 'min'"
   ]
  },
  {
   "cell_type": "code",
   "execution_count": 4,
   "metadata": {},
   "outputs": [],
   "source": [
    "fmt = '%Y-%m-%d %H:%M:%S'\n",
    "base_date = datetime.strptime('2016-01-01 00:00:01', fmt)\n",
    "start_date = datetime.strptime('2016-01-01 00:00:01', fmt)\n",
    "stop_date = datetime.strptime('2019-01-01 00:00:01', fmt)"
   ]
  },
  {
   "cell_type": "markdown",
   "metadata": {},
   "source": [
    "### Data Directories"
   ]
  },
  {
   "cell_type": "code",
   "execution_count": 5,
   "metadata": {},
   "outputs": [],
   "source": [
    "RAW_DATA_DIR = '../data/raw/P1201/'\n",
    "PROC_DATA_DIR = '../data/processed/P1201/'\n",
    "INT_DATA_DIR = '../data/interim/P1201/'"
   ]
  },
  {
   "cell_type": "markdown",
   "metadata": {},
   "source": [
    "### Functions"
   ]
  },
  {
   "cell_type": "code",
   "execution_count": 6,
   "metadata": {},
   "outputs": [],
   "source": [
    "def get_seconds_after(current_date, base_date):\n",
    "    \n",
    "    base_ts = time.mktime(base_date.timetuple()) # Converting to Unix timestamp\n",
    "    current_ts = time.mktime(current_date.timetuple())\n",
    "    time_diff = round((current_ts - base_ts))\n",
    "    \n",
    "    return time_diff"
   ]
  },
  {
   "cell_type": "code",
   "execution_count": 7,
   "metadata": {},
   "outputs": [],
   "source": [
    "def get_minutes_after(current_date, base_date):\n",
    "        \n",
    "    base_ts = time.mktime(base_date.timetuple()) # Converting to Unix timestamp\n",
    "    current_ts = time.mktime(current_date.timetuple())\n",
    "    time_diff = round((current_ts - base_ts) / 60.0) + 1\n",
    "    \n",
    "    return time_diff"
   ]
  },
  {
   "cell_type": "code",
   "execution_count": 8,
   "metadata": {},
   "outputs": [],
   "source": [
    "def get_hours_after(current_date, base_date):\n",
    "    \n",
    "    base_ts = time.mktime(base_date.timetuple()) # Converting to Unix timestamp\n",
    "    current_ts = time.mktime(current_date.timetuple())\n",
    "    time_diff = round((current_ts - base_ts) / 60.0 / 60.0) + 1\n",
    "    \n",
    "    return time_diff"
   ]
  },
  {
   "cell_type": "code",
   "execution_count": 9,
   "metadata": {},
   "outputs": [],
   "source": [
    "def get_days_after(current_date, base_date):\n",
    "    \n",
    "    base_ts = time.mktime(base_date.timetuple()) # Converting to Unix timestamp\n",
    "    current_ts = time.mktime(current_date.timetuple())\n",
    "    time_diff = round((current_ts - base_ts) / 60.0 / 60.0 / 24) + 1\n",
    "    \n",
    "    return time_diff"
   ]
  },
  {
   "cell_type": "code",
   "execution_count": 10,
   "metadata": {},
   "outputs": [],
   "source": [
    "def get_months_after(current_date, base_date):    \n",
    "    time_diff = ((current_date.year - base_date.year) * 12) + current_date.month - base_date.month + 1    \n",
    "    return time_diff"
   ]
  },
  {
   "cell_type": "code",
   "execution_count": 11,
   "metadata": {},
   "outputs": [],
   "source": [
    "def get_years_after(current_date, base_date):    \n",
    "    time_diff = (current_date.year - base_date.year) + 1 \n",
    "    return time_diff"
   ]
  },
  {
   "cell_type": "code",
   "execution_count": 12,
   "metadata": {},
   "outputs": [],
   "source": [
    "def get_time_from_minutes(time_in_mins, base_date):    \n",
    "    new_date = base_date + timedelta(minutes = time_in_mins)        \n",
    "    return new_date"
   ]
  },
  {
   "cell_type": "code",
   "execution_count": 13,
   "metadata": {},
   "outputs": [],
   "source": [
    "def get_granulairty_function(granularity, current_date, base_date):\n",
    "    \n",
    "    if granularity == 'sec':\n",
    "        return get_seconds_after(current_date, base_date)\n",
    "    elif granularity == 'min':\n",
    "        return get_minutes_after(current_date, base_date)\n",
    "    elif granularity == 'hr':\n",
    "        return get_hours_after(current_date, base_date)\n",
    "    elif granularity == 'day':\n",
    "        return get_days_after(current_date, base_date)\n",
    "    elif granularity == 'mon':\n",
    "        return get_months_after(current_date, base_date)\n",
    "    elif granularity == 'yr':\n",
    "        return get_years_after(current_date, base_date)\n",
    "    \n",
    "    return get_minutes_after(current_date, base_date) # Default return function is for minutes"
   ]
  },
  {
   "cell_type": "markdown",
   "metadata": {},
   "source": [
    "### Reading Data"
   ]
  },
  {
   "cell_type": "code",
   "execution_count": 14,
   "metadata": {},
   "outputs": [],
   "source": [
    "def read_data(input_path, print_debug = False):\n",
    "    \n",
    "    df_features = {}\n",
    "    \n",
    "    if os.path.isdir(input_path):\n",
    "        input_files = [f for f in listdir(input_path) if (isfile(join(input_path, f))) and ((f.endswith('.pkl')) or (f.endswith('.csv')))]\n",
    "    elif os.path.isfile(input_path):\n",
    "        input_files = input_path\n",
    "    \n",
    "    if print_debug:\n",
    "        print('Number of files found in %s is %d ' % (input_path, len(input_files)))\n",
    "    \n",
    "    for input_file in input_files:\n",
    "        \n",
    "        feature,_ = os.path.splitext(input_file)\n",
    "        input_file = input_path + input_file  \n",
    "        \n",
    "        with open(input_file, 'rb') as f:\n",
    "            df = pkl.load(f)\n",
    "            df_features[feature] = df\n",
    "    \n",
    "    if print_debug:\n",
    "        print('Number of features extracted from %d files is %d ' % (len(input_files), len(df_features)))\n",
    "    \n",
    "    return df_features"
   ]
  },
  {
   "cell_type": "markdown",
   "metadata": {},
   "source": [
    "### Reading Normalized Data"
   ]
  },
  {
   "cell_type": "code",
   "execution_count": 17,
   "metadata": {},
   "outputs": [
    {
     "name": "stdout",
     "output_type": "stream",
     "text": [
      "Number of files found in ../data/interim/P1201/normalized/ is 24 \n",
      "Number of features extracted from 24 files is 24 \n"
     ]
    }
   ],
   "source": [
    "input_dir = INT_DATA_DIR + 'normalized/'\n",
    "df_features_norm = read_data(input_dir, True)"
   ]
  },
  {
   "cell_type": "markdown",
   "metadata": {},
   "source": [
    "### Selected Features"
   ]
  },
  {
   "cell_type": "code",
   "execution_count": 19,
   "metadata": {},
   "outputs": [
    {
     "name": "stdout",
     "output_type": "stream",
     "text": [
      "Number of usable features =  10\n"
     ]
    }
   ],
   "source": [
    "# Removing the following \n",
    "# a) All .OUT\n",
    "# b) All .CIN\n",
    "# c) All .SPT\n",
    "# d) .PNTs that have a flat line in graph\n",
    "usable_features = [\n",
    "    'HART_P1CP04:PY12003AFB.MEAS', \n",
    "    '12GTWY_E101:FIE12404.PNT', \n",
    "    '12P01BCP4:PI12956.PNT', \n",
    "    '12P01BCP4:FC12847.MEAS', \n",
    "    '12P01BCP4:PI12955.PNT', \n",
    "    'HART_P1CP04:PY12110FB.MEAS', \n",
    "    'HART_P1CP04:PY12516FB.MEAS', \n",
    "    'HART_P1CP04:PY12109FB.MEAS', \n",
    "    'HART_U1CP03:PY24092FB.MEAS', \n",
    "    'HART_P1CP04:FY12847FB.MEAS'\n",
    "]\n",
    "\n",
    "print('Number of usable features = ', len(usable_features))"
   ]
  },
  {
   "cell_type": "markdown",
   "metadata": {},
   "source": [
    "### Generate Master Dataframe for time"
   ]
  },
  {
   "cell_type": "code",
   "execution_count": 20,
   "metadata": {},
   "outputs": [],
   "source": [
    "from datetime import datetime\n",
    "def generate_master_df(time_granularity,\n",
    "                       time_gran_col,\n",
    "                       base_date,\n",
    "                       end_date,\n",
    "                       print_debug = False):\n",
    "    '''\n",
    "    Generates a master dataframe\n",
    "    Dataframe will have an integer column that denotes x minutes have passed after the base_date\n",
    "    granulaity - can take one of the following - 'sec' (seconds), min ' (minutes), 'hr' (hour), \n",
    "                'day' (day), 'mon' (month), 'yr' (year)\n",
    "    base_date = date of reference since which the unit of time is computed\n",
    "    '''\n",
    "    \n",
    "    if print_debug:\n",
    "        print('Granularity is', time_granularity, '\\tStart Date = ', base_date, '\\tEnd Date = ', end_date)\n",
    "            \n",
    "    max_td = get_granulairty_function(time_granularity, end_date, base_date)\n",
    "    \n",
    "    df_master = pd.DataFrame(columns=[time_gran_col])    \n",
    "    df_master[time_gran_col] = [i for i in range(1, max_td+1)]\n",
    "    \n",
    "    if print_debug:\n",
    "        print('Shape of the master dataframe is ', df_master.shape, 'with columns ', df_master.columns.values)\n",
    "    \n",
    "    return df_master"
   ]
  },
  {
   "cell_type": "code",
   "execution_count": 21,
   "metadata": {},
   "outputs": [
    {
     "name": "stdout",
     "output_type": "stream",
     "text": [
      "min 2016-01-01 00:00:01 2019-01-01 00:00:01\n"
     ]
    }
   ],
   "source": [
    "time_granularity = 'min'\n",
    "time_gran_col = 'datetime_gran'\n",
    "\n",
    "fmt = '%Y-%m-%d %H:%M:%S'\n",
    "# base_date = datetime.strptime('2017-01-01 00:00:01', fmt)\n",
    "# stop_date = datetime.strptime('2019-01-01 00:00:01', fmt)\n",
    "\n",
    "print(time_granularity, base_date, stop_date)\n",
    "\n",
    "df_master = generate_master_df(time_granularity= time_granularity,\n",
    "                               time_gran_col= time_gran_col, \n",
    "                               base_date= base_date, \n",
    "                               end_date= stop_date)"
   ]
  },
  {
   "cell_type": "code",
   "execution_count": 22,
   "metadata": {},
   "outputs": [
    {
     "name": "stdout",
     "output_type": "stream",
     "text": [
      "Size of the master df 1578241\n"
     ]
    }
   ],
   "source": [
    "print('Size of the master df', len(df_master))"
   ]
  },
  {
   "cell_type": "markdown",
   "metadata": {},
   "source": [
    "### Use only selected features"
   ]
  },
  {
   "cell_type": "code",
   "execution_count": 23,
   "metadata": {},
   "outputs": [],
   "source": [
    "df_features_sel = {}\n",
    "for feature in usable_features:\n",
    "    df_features_sel[feature] = df_features_norm[feature].copy()"
   ]
  },
  {
   "cell_type": "code",
   "execution_count": 24,
   "metadata": {},
   "outputs": [
    {
     "data": {
      "text/plain": [
       "dict_keys(['HART_P1CP04:PY12003AFB.MEAS', '12GTWY_E101:FIE12404.PNT', '12P01BCP4:PI12956.PNT', '12P01BCP4:FC12847.MEAS', '12P01BCP4:PI12955.PNT', 'HART_P1CP04:PY12110FB.MEAS', 'HART_P1CP04:PY12516FB.MEAS', 'HART_P1CP04:PY12109FB.MEAS', 'HART_U1CP03:PY24092FB.MEAS', 'HART_P1CP04:FY12847FB.MEAS'])"
      ]
     },
     "execution_count": 24,
     "metadata": {},
     "output_type": "execute_result"
    }
   ],
   "source": [
    "df_features_sel.keys()"
   ]
  },
  {
   "cell_type": "code",
   "execution_count": 25,
   "metadata": {},
   "outputs": [
    {
     "data": {
      "text/html": [
       "<div>\n",
       "<style scoped>\n",
       "    .dataframe tbody tr th:only-of-type {\n",
       "        vertical-align: middle;\n",
       "    }\n",
       "\n",
       "    .dataframe tbody tr th {\n",
       "        vertical-align: top;\n",
       "    }\n",
       "\n",
       "    .dataframe thead th {\n",
       "        text-align: right;\n",
       "    }\n",
       "</style>\n",
       "<table border=\"1\" class=\"dataframe\">\n",
       "  <thead>\n",
       "    <tr style=\"text-align: right;\">\n",
       "      <th></th>\n",
       "      <th>datetime_gran</th>\n",
       "      <th>val</th>\n",
       "      <th>scaled_val</th>\n",
       "    </tr>\n",
       "  </thead>\n",
       "  <tbody>\n",
       "    <tr>\n",
       "      <th>429673</th>\n",
       "      <td>429674</td>\n",
       "      <td>38.914062</td>\n",
       "      <td>0.287322</td>\n",
       "    </tr>\n",
       "    <tr>\n",
       "      <th>429674</th>\n",
       "      <td>429675</td>\n",
       "      <td>39.007812</td>\n",
       "      <td>0.288403</td>\n",
       "    </tr>\n",
       "    <tr>\n",
       "      <th>429675</th>\n",
       "      <td>429676</td>\n",
       "      <td>39.031184</td>\n",
       "      <td>0.288672</td>\n",
       "    </tr>\n",
       "    <tr>\n",
       "      <th>429676</th>\n",
       "      <td>429677</td>\n",
       "      <td>39.054556</td>\n",
       "      <td>0.288941</td>\n",
       "    </tr>\n",
       "    <tr>\n",
       "      <th>429677</th>\n",
       "      <td>429678</td>\n",
       "      <td>39.077928</td>\n",
       "      <td>0.289211</td>\n",
       "    </tr>\n",
       "  </tbody>\n",
       "</table>\n",
       "</div>"
      ],
      "text/plain": [
       "        datetime_gran        val  scaled_val\n",
       "429673  429674         38.914062  0.287322  \n",
       "429674  429675         39.007812  0.288403  \n",
       "429675  429676         39.031184  0.288672  \n",
       "429676  429677         39.054556  0.288941  \n",
       "429677  429678         39.077928  0.289211  "
      ]
     },
     "execution_count": 25,
     "metadata": {},
     "output_type": "execute_result"
    }
   ],
   "source": [
    "df_features_sel['HART_P1CP04:PY12003AFB.MEAS'].head()"
   ]
  },
  {
   "cell_type": "markdown",
   "metadata": {},
   "source": [
    "### Convert individual features into single dataframe"
   ]
  },
  {
   "cell_type": "code",
   "execution_count": 26,
   "metadata": {},
   "outputs": [],
   "source": [
    "idx = 0\n",
    "for feature in df_features_sel.keys():\n",
    "\n",
    "    df = df_features_sel[feature].copy()\n",
    "    df_master = pd.merge(df_master, df[[time_gran_col, scaled_value_col]], how='left', left_on=[time_gran_col], right_on=[time_gran_col])\n",
    "    df_master.rename(columns={scaled_value_col:feature}, inplace=True)    "
   ]
  },
  {
   "cell_type": "markdown",
   "metadata": {},
   "source": [
    "# Use all features for common time frame"
   ]
  },
  {
   "cell_type": "markdown",
   "metadata": {},
   "source": [
    "### Drop NaNs"
   ]
  },
  {
   "cell_type": "code",
   "execution_count": 27,
   "metadata": {},
   "outputs": [],
   "source": [
    "df_master_nans_dropped = df_master.dropna(inplace=False)"
   ]
  },
  {
   "cell_type": "code",
   "execution_count": 28,
   "metadata": {},
   "outputs": [
    {
     "name": "stdout",
     "output_type": "stream",
     "text": [
      "(1578241, 11)\n",
      "(525600, 11)\n"
     ]
    }
   ],
   "source": [
    "print(df_master.shape)\n",
    "print(df_master_nans_dropped.shape)"
   ]
  },
  {
   "cell_type": "markdown",
   "metadata": {},
   "source": [
    "#### Find the min and max of date"
   ]
  },
  {
   "cell_type": "code",
   "execution_count": 29,
   "metadata": {},
   "outputs": [
    {
     "name": "stdout",
     "output_type": "stream",
     "text": [
      "2018-01-01 00:02:01\n",
      "2019-01-01 00:01:01\n"
     ]
    }
   ],
   "source": [
    "min_date_avail = df_master_nans_dropped[time_gran_col].min()\n",
    "max_date_avail = df_master_nans_dropped[time_gran_col].max()\n",
    "\n",
    "min_date_avail = np.int64(min_date_avail).item()\n",
    "max_date_avail = np.int64(max_date_avail).item()\n",
    "\n",
    "print(get_time_from_minutes(min_date_avail, base_date))\n",
    "print(get_time_from_minutes(max_date_avail, base_date))"
   ]
  },
  {
   "cell_type": "markdown",
   "metadata": {},
   "source": [
    "### Drop after certain date"
   ]
  },
  {
   "cell_type": "code",
   "execution_count": 30,
   "metadata": {},
   "outputs": [
    {
     "name": "stdout",
     "output_type": "stream",
     "text": [
      "(525600, 11)\n",
      "(436260, 11)\n"
     ]
    }
   ],
   "source": [
    "end_date = datetime.strptime('2018-10-31 00:00:01', fmt)\n",
    "end_mins = get_minutes_after(end_date, base_date)\n",
    "print(df_master_nans_dropped.shape)\n",
    "df_master_nans_dropped = df_master_nans_dropped.loc[df_master_nans_dropped[time_gran_col] <= end_mins]\n",
    "print(df_master_nans_dropped.shape)"
   ]
  },
  {
   "cell_type": "markdown",
   "metadata": {},
   "source": [
    "#### Find the min and max of date"
   ]
  },
  {
   "cell_type": "code",
   "execution_count": 31,
   "metadata": {},
   "outputs": [
    {
     "name": "stdout",
     "output_type": "stream",
     "text": [
      "2018-01-01 00:02:01\n",
      "2018-10-30 23:01:01\n"
     ]
    }
   ],
   "source": [
    "min_date_avail = df_master_nans_dropped[time_gran_col].min()\n",
    "max_date_avail = df_master_nans_dropped[time_gran_col].max()\n",
    "\n",
    "min_date_avail = np.int64(min_date_avail).item()\n",
    "max_date_avail = np.int64(max_date_avail).item()\n",
    "\n",
    "print(get_time_from_minutes(min_date_avail, base_date))\n",
    "print(get_time_from_minutes(max_date_avail, base_date))"
   ]
  },
  {
   "cell_type": "code",
   "execution_count": 32,
   "metadata": {},
   "outputs": [
    {
     "data": {
      "text/html": [
       "<div>\n",
       "<style scoped>\n",
       "    .dataframe tbody tr th:only-of-type {\n",
       "        vertical-align: middle;\n",
       "    }\n",
       "\n",
       "    .dataframe tbody tr th {\n",
       "        vertical-align: top;\n",
       "    }\n",
       "\n",
       "    .dataframe thead th {\n",
       "        text-align: right;\n",
       "    }\n",
       "</style>\n",
       "<table border=\"1\" class=\"dataframe\">\n",
       "  <thead>\n",
       "    <tr style=\"text-align: right;\">\n",
       "      <th></th>\n",
       "      <th>datetime_gran</th>\n",
       "      <th>HART_P1CP04:PY12003AFB.MEAS</th>\n",
       "      <th>12GTWY_E101:FIE12404.PNT</th>\n",
       "      <th>12P01BCP4:PI12956.PNT</th>\n",
       "      <th>12P01BCP4:FC12847.MEAS</th>\n",
       "      <th>12P01BCP4:PI12955.PNT</th>\n",
       "      <th>HART_P1CP04:PY12110FB.MEAS</th>\n",
       "      <th>HART_P1CP04:PY12516FB.MEAS</th>\n",
       "      <th>HART_P1CP04:PY12109FB.MEAS</th>\n",
       "      <th>HART_U1CP03:PY24092FB.MEAS</th>\n",
       "      <th>HART_P1CP04:FY12847FB.MEAS</th>\n",
       "    </tr>\n",
       "  </thead>\n",
       "  <tbody>\n",
       "    <tr>\n",
       "      <th>1052641</th>\n",
       "      <td>1052642</td>\n",
       "      <td>0.155742</td>\n",
       "      <td>0.114017</td>\n",
       "      <td>0.715633</td>\n",
       "      <td>0.000338</td>\n",
       "      <td>0.496189</td>\n",
       "      <td>0.088446</td>\n",
       "      <td>0.59411</td>\n",
       "      <td>0.001263</td>\n",
       "      <td>0.686170</td>\n",
       "      <td>0.982966</td>\n",
       "    </tr>\n",
       "    <tr>\n",
       "      <th>1052642</th>\n",
       "      <td>1052643</td>\n",
       "      <td>0.155772</td>\n",
       "      <td>0.115755</td>\n",
       "      <td>0.714983</td>\n",
       "      <td>0.000358</td>\n",
       "      <td>0.496189</td>\n",
       "      <td>0.088446</td>\n",
       "      <td>0.59411</td>\n",
       "      <td>0.001263</td>\n",
       "      <td>0.692847</td>\n",
       "      <td>0.982966</td>\n",
       "    </tr>\n",
       "    <tr>\n",
       "      <th>1052643</th>\n",
       "      <td>1052644</td>\n",
       "      <td>0.155772</td>\n",
       "      <td>0.106135</td>\n",
       "      <td>0.715307</td>\n",
       "      <td>0.000398</td>\n",
       "      <td>0.495362</td>\n",
       "      <td>0.088446</td>\n",
       "      <td>0.59411</td>\n",
       "      <td>0.001263</td>\n",
       "      <td>0.691512</td>\n",
       "      <td>0.982966</td>\n",
       "    </tr>\n",
       "    <tr>\n",
       "      <th>1052644</th>\n",
       "      <td>1052645</td>\n",
       "      <td>0.155772</td>\n",
       "      <td>0.109651</td>\n",
       "      <td>0.715794</td>\n",
       "      <td>0.000318</td>\n",
       "      <td>0.495527</td>\n",
       "      <td>0.088041</td>\n",
       "      <td>0.59411</td>\n",
       "      <td>0.001263</td>\n",
       "      <td>0.682831</td>\n",
       "      <td>0.982966</td>\n",
       "    </tr>\n",
       "    <tr>\n",
       "      <th>1052645</th>\n",
       "      <td>1052646</td>\n",
       "      <td>0.155772</td>\n",
       "      <td>0.109651</td>\n",
       "      <td>0.715388</td>\n",
       "      <td>0.000348</td>\n",
       "      <td>0.495527</td>\n",
       "      <td>0.088041</td>\n",
       "      <td>0.59411</td>\n",
       "      <td>0.001263</td>\n",
       "      <td>0.682831</td>\n",
       "      <td>0.982966</td>\n",
       "    </tr>\n",
       "  </tbody>\n",
       "</table>\n",
       "</div>"
      ],
      "text/plain": [
       "         datetime_gran  HART_P1CP04:PY12003AFB.MEAS  12GTWY_E101:FIE12404.PNT  \\\n",
       "1052641  1052642        0.155742                     0.114017                   \n",
       "1052642  1052643        0.155772                     0.115755                   \n",
       "1052643  1052644        0.155772                     0.106135                   \n",
       "1052644  1052645        0.155772                     0.109651                   \n",
       "1052645  1052646        0.155772                     0.109651                   \n",
       "\n",
       "         12P01BCP4:PI12956.PNT  12P01BCP4:FC12847.MEAS  12P01BCP4:PI12955.PNT  \\\n",
       "1052641  0.715633               0.000338                0.496189                \n",
       "1052642  0.714983               0.000358                0.496189                \n",
       "1052643  0.715307               0.000398                0.495362                \n",
       "1052644  0.715794               0.000318                0.495527                \n",
       "1052645  0.715388               0.000348                0.495527                \n",
       "\n",
       "         HART_P1CP04:PY12110FB.MEAS  HART_P1CP04:PY12516FB.MEAS  \\\n",
       "1052641  0.088446                    0.59411                      \n",
       "1052642  0.088446                    0.59411                      \n",
       "1052643  0.088446                    0.59411                      \n",
       "1052644  0.088041                    0.59411                      \n",
       "1052645  0.088041                    0.59411                      \n",
       "\n",
       "         HART_P1CP04:PY12109FB.MEAS  HART_U1CP03:PY24092FB.MEAS  \\\n",
       "1052641  0.001263                    0.686170                     \n",
       "1052642  0.001263                    0.692847                     \n",
       "1052643  0.001263                    0.691512                     \n",
       "1052644  0.001263                    0.682831                     \n",
       "1052645  0.001263                    0.682831                     \n",
       "\n",
       "         HART_P1CP04:FY12847FB.MEAS  \n",
       "1052641  0.982966                    \n",
       "1052642  0.982966                    \n",
       "1052643  0.982966                    \n",
       "1052644  0.982966                    \n",
       "1052645  0.982966                    "
      ]
     },
     "execution_count": 32,
     "metadata": {},
     "output_type": "execute_result"
    }
   ],
   "source": [
    "df_master_nans_dropped.head()"
   ]
  },
  {
   "cell_type": "markdown",
   "metadata": {},
   "source": [
    "### K-Means"
   ]
  },
  {
   "cell_type": "code",
   "execution_count": 36,
   "metadata": {},
   "outputs": [
    {
     "data": {
      "text/plain": [
       "KMeans(algorithm='auto', copy_x=True, init='k-means++', max_iter=300,\n",
       "    n_clusters=3, n_init=10, n_jobs=None, precompute_distances='auto',\n",
       "    random_state=None, tol=0.0001, verbose=0)"
      ]
     },
     "execution_count": 36,
     "metadata": {},
     "output_type": "execute_result"
    }
   ],
   "source": [
    "from sklearn.cluster import KMeans\n",
    "X = df_master_nans_dropped.drop(columns=time_gran_col)\n",
    "kmeans = KMeans(n_clusters=3)\n",
    "kmeans.fit(X)\n",
    "\n",
    "labels = kmeans.predict(X)"
   ]
  },
  {
   "cell_type": "code",
   "execution_count": 45,
   "metadata": {},
   "outputs": [
    {
     "data": {
      "image/png": "[encoded data removed]",
      "text/plain": [
       "<Figure size 1080x720 with 1 Axes>"
      ]
     },
     "metadata": {
      "needs_background": "light"
     },
     "output_type": "display_data"
    }
   ],
   "source": [
    "from collections import Counter\n",
    "\n",
    "counter = Counter(labels)\n",
    "\n",
    "# The percentages in frequency_dict wont add upto 100 since only\n",
    "# values more than 1 are added to the new dictionary - look at the \n",
    "# if statement below\n",
    "frequency_dict = {}\n",
    "for k in counter:\n",
    "    v = counter[k]\n",
    "    frequency_dict[k] = v\n",
    "    \n",
    "plt.rcParams['figure.figsize'] = [15, 10] # Size of the plots\n",
    "\n",
    "x = list(frequency_dict.keys())\n",
    "x = list(map(str, x))\n",
    "y = list(frequency_dict.values())\n",
    "\n",
    "for i, v in enumerate(y):\n",
    "    v = round(v, 3)\n",
    "    plt.text(i-.25, v + .25, str(v), color='blue', fontweight='bold')\n",
    "\n",
    "plt.bar(x,y)\n",
    "plt.xlabel('Cluster No.')\n",
    "plt.ylabel('Total Instances')\n",
    "plt.xticks(x, x, rotation=45)\n",
    "plt.show()"
   ]
  },
  {
   "cell_type": "code",
   "execution_count": 46,
   "metadata": {},
   "outputs": [
    {
     "data": {
      "text/html": [
       "<div>\n",
       "<style scoped>\n",
       "    .dataframe tbody tr th:only-of-type {\n",
       "        vertical-align: middle;\n",
       "    }\n",
       "\n",
       "    .dataframe tbody tr th {\n",
       "        vertical-align: top;\n",
       "    }\n",
       "\n",
       "    .dataframe thead th {\n",
       "        text-align: right;\n",
       "    }\n",
       "</style>\n",
       "<table border=\"1\" class=\"dataframe\">\n",
       "  <thead>\n",
       "    <tr style=\"text-align: right;\">\n",
       "      <th></th>\n",
       "      <th>HART_P1CP04:PY12003AFB.MEAS</th>\n",
       "      <th>12GTWY_E101:FIE12404.PNT</th>\n",
       "      <th>12P01BCP4:PI12956.PNT</th>\n",
       "      <th>12P01BCP4:FC12847.MEAS</th>\n",
       "      <th>12P01BCP4:PI12955.PNT</th>\n",
       "      <th>HART_P1CP04:PY12110FB.MEAS</th>\n",
       "      <th>HART_P1CP04:PY12516FB.MEAS</th>\n",
       "      <th>HART_P1CP04:PY12109FB.MEAS</th>\n",
       "      <th>HART_U1CP03:PY24092FB.MEAS</th>\n",
       "      <th>HART_P1CP04:FY12847FB.MEAS</th>\n",
       "    </tr>\n",
       "  </thead>\n",
       "  <tbody>\n",
       "    <tr>\n",
       "      <th>1052641</th>\n",
       "      <td>0.155742</td>\n",
       "      <td>0.114017</td>\n",
       "      <td>0.715633</td>\n",
       "      <td>0.000338</td>\n",
       "      <td>0.496189</td>\n",
       "      <td>0.088446</td>\n",
       "      <td>0.59411</td>\n",
       "      <td>0.001263</td>\n",
       "      <td>0.686170</td>\n",
       "      <td>0.982966</td>\n",
       "    </tr>\n",
       "    <tr>\n",
       "      <th>1052642</th>\n",
       "      <td>0.155772</td>\n",
       "      <td>0.115755</td>\n",
       "      <td>0.714983</td>\n",
       "      <td>0.000358</td>\n",
       "      <td>0.496189</td>\n",
       "      <td>0.088446</td>\n",
       "      <td>0.59411</td>\n",
       "      <td>0.001263</td>\n",
       "      <td>0.692847</td>\n",
       "      <td>0.982966</td>\n",
       "    </tr>\n",
       "    <tr>\n",
       "      <th>1052643</th>\n",
       "      <td>0.155772</td>\n",
       "      <td>0.106135</td>\n",
       "      <td>0.715307</td>\n",
       "      <td>0.000398</td>\n",
       "      <td>0.495362</td>\n",
       "      <td>0.088446</td>\n",
       "      <td>0.59411</td>\n",
       "      <td>0.001263</td>\n",
       "      <td>0.691512</td>\n",
       "      <td>0.982966</td>\n",
       "    </tr>\n",
       "    <tr>\n",
       "      <th>1052644</th>\n",
       "      <td>0.155772</td>\n",
       "      <td>0.109651</td>\n",
       "      <td>0.715794</td>\n",
       "      <td>0.000318</td>\n",
       "      <td>0.495527</td>\n",
       "      <td>0.088041</td>\n",
       "      <td>0.59411</td>\n",
       "      <td>0.001263</td>\n",
       "      <td>0.682831</td>\n",
       "      <td>0.982966</td>\n",
       "    </tr>\n",
       "    <tr>\n",
       "      <th>1052645</th>\n",
       "      <td>0.155772</td>\n",
       "      <td>0.109651</td>\n",
       "      <td>0.715388</td>\n",
       "      <td>0.000348</td>\n",
       "      <td>0.495527</td>\n",
       "      <td>0.088041</td>\n",
       "      <td>0.59411</td>\n",
       "      <td>0.001263</td>\n",
       "      <td>0.682831</td>\n",
       "      <td>0.982966</td>\n",
       "    </tr>\n",
       "  </tbody>\n",
       "</table>\n",
       "</div>"
      ],
      "text/plain": [
       "         HART_P1CP04:PY12003AFB.MEAS  12GTWY_E101:FIE12404.PNT  \\\n",
       "1052641  0.155742                     0.114017                   \n",
       "1052642  0.155772                     0.115755                   \n",
       "1052643  0.155772                     0.106135                   \n",
       "1052644  0.155772                     0.109651                   \n",
       "1052645  0.155772                     0.109651                   \n",
       "\n",
       "         12P01BCP4:PI12956.PNT  12P01BCP4:FC12847.MEAS  12P01BCP4:PI12955.PNT  \\\n",
       "1052641  0.715633               0.000338                0.496189                \n",
       "1052642  0.714983               0.000358                0.496189                \n",
       "1052643  0.715307               0.000398                0.495362                \n",
       "1052644  0.715794               0.000318                0.495527                \n",
       "1052645  0.715388               0.000348                0.495527                \n",
       "\n",
       "         HART_P1CP04:PY12110FB.MEAS  HART_P1CP04:PY12516FB.MEAS  \\\n",
       "1052641  0.088446                    0.59411                      \n",
       "1052642  0.088446                    0.59411                      \n",
       "1052643  0.088446                    0.59411                      \n",
       "1052644  0.088041                    0.59411                      \n",
       "1052645  0.088041                    0.59411                      \n",
       "\n",
       "         HART_P1CP04:PY12109FB.MEAS  HART_U1CP03:PY24092FB.MEAS  \\\n",
       "1052641  0.001263                    0.686170                     \n",
       "1052642  0.001263                    0.692847                     \n",
       "1052643  0.001263                    0.691512                     \n",
       "1052644  0.001263                    0.682831                     \n",
       "1052645  0.001263                    0.682831                     \n",
       "\n",
       "         HART_P1CP04:FY12847FB.MEAS  \n",
       "1052641  0.982966                    \n",
       "1052642  0.982966                    \n",
       "1052643  0.982966                    \n",
       "1052644  0.982966                    \n",
       "1052645  0.982966                    "
      ]
     },
     "execution_count": 46,
     "metadata": {},
     "output_type": "execute_result"
    }
   ],
   "source": [
    "X.head()"
   ]
  },
  {
   "cell_type": "code",
   "execution_count": 55,
   "metadata": {},
   "outputs": [
    {
     "data": {
      "text/html": [
       "<div>\n",
       "<style scoped>\n",
       "    .dataframe tbody tr th:only-of-type {\n",
       "        vertical-align: middle;\n",
       "    }\n",
       "\n",
       "    .dataframe tbody tr th {\n",
       "        vertical-align: top;\n",
       "    }\n",
       "\n",
       "    .dataframe thead th {\n",
       "        text-align: right;\n",
       "    }\n",
       "</style>\n",
       "<table border=\"1\" class=\"dataframe\">\n",
       "  <thead>\n",
       "    <tr style=\"text-align: right;\">\n",
       "      <th></th>\n",
       "      <th>datetime_gran</th>\n",
       "      <th>HART_P1CP04:PY12003AFB.MEAS</th>\n",
       "      <th>12GTWY_E101:FIE12404.PNT</th>\n",
       "      <th>12P01BCP4:PI12956.PNT</th>\n",
       "      <th>12P01BCP4:FC12847.MEAS</th>\n",
       "      <th>12P01BCP4:PI12955.PNT</th>\n",
       "      <th>HART_P1CP04:PY12110FB.MEAS</th>\n",
       "      <th>HART_P1CP04:PY12516FB.MEAS</th>\n",
       "      <th>HART_P1CP04:PY12109FB.MEAS</th>\n",
       "      <th>HART_U1CP03:PY24092FB.MEAS</th>\n",
       "      <th>HART_P1CP04:FY12847FB.MEAS</th>\n",
       "    </tr>\n",
       "  </thead>\n",
       "  <tbody>\n",
       "    <tr>\n",
       "      <th>1052641</th>\n",
       "      <td>1052642</td>\n",
       "      <td>0.155742</td>\n",
       "      <td>0.114017</td>\n",
       "      <td>0.715633</td>\n",
       "      <td>0.000338</td>\n",
       "      <td>0.496189</td>\n",
       "      <td>0.088446</td>\n",
       "      <td>0.59411</td>\n",
       "      <td>0.001263</td>\n",
       "      <td>0.686170</td>\n",
       "      <td>0.982966</td>\n",
       "    </tr>\n",
       "    <tr>\n",
       "      <th>1052642</th>\n",
       "      <td>1052643</td>\n",
       "      <td>0.155772</td>\n",
       "      <td>0.115755</td>\n",
       "      <td>0.714983</td>\n",
       "      <td>0.000358</td>\n",
       "      <td>0.496189</td>\n",
       "      <td>0.088446</td>\n",
       "      <td>0.59411</td>\n",
       "      <td>0.001263</td>\n",
       "      <td>0.692847</td>\n",
       "      <td>0.982966</td>\n",
       "    </tr>\n",
       "    <tr>\n",
       "      <th>1052643</th>\n",
       "      <td>1052644</td>\n",
       "      <td>0.155772</td>\n",
       "      <td>0.106135</td>\n",
       "      <td>0.715307</td>\n",
       "      <td>0.000398</td>\n",
       "      <td>0.495362</td>\n",
       "      <td>0.088446</td>\n",
       "      <td>0.59411</td>\n",
       "      <td>0.001263</td>\n",
       "      <td>0.691512</td>\n",
       "      <td>0.982966</td>\n",
       "    </tr>\n",
       "    <tr>\n",
       "      <th>1052644</th>\n",
       "      <td>1052645</td>\n",
       "      <td>0.155772</td>\n",
       "      <td>0.109651</td>\n",
       "      <td>0.715794</td>\n",
       "      <td>0.000318</td>\n",
       "      <td>0.495527</td>\n",
       "      <td>0.088041</td>\n",
       "      <td>0.59411</td>\n",
       "      <td>0.001263</td>\n",
       "      <td>0.682831</td>\n",
       "      <td>0.982966</td>\n",
       "    </tr>\n",
       "    <tr>\n",
       "      <th>1052645</th>\n",
       "      <td>1052646</td>\n",
       "      <td>0.155772</td>\n",
       "      <td>0.109651</td>\n",
       "      <td>0.715388</td>\n",
       "      <td>0.000348</td>\n",
       "      <td>0.495527</td>\n",
       "      <td>0.088041</td>\n",
       "      <td>0.59411</td>\n",
       "      <td>0.001263</td>\n",
       "      <td>0.682831</td>\n",
       "      <td>0.982966</td>\n",
       "    </tr>\n",
       "  </tbody>\n",
       "</table>\n",
       "</div>"
      ],
      "text/plain": [
       "         datetime_gran  HART_P1CP04:PY12003AFB.MEAS  12GTWY_E101:FIE12404.PNT  \\\n",
       "1052641  1052642        0.155742                     0.114017                   \n",
       "1052642  1052643        0.155772                     0.115755                   \n",
       "1052643  1052644        0.155772                     0.106135                   \n",
       "1052644  1052645        0.155772                     0.109651                   \n",
       "1052645  1052646        0.155772                     0.109651                   \n",
       "\n",
       "         12P01BCP4:PI12956.PNT  12P01BCP4:FC12847.MEAS  12P01BCP4:PI12955.PNT  \\\n",
       "1052641  0.715633               0.000338                0.496189                \n",
       "1052642  0.714983               0.000358                0.496189                \n",
       "1052643  0.715307               0.000398                0.495362                \n",
       "1052644  0.715794               0.000318                0.495527                \n",
       "1052645  0.715388               0.000348                0.495527                \n",
       "\n",
       "         HART_P1CP04:PY12110FB.MEAS  HART_P1CP04:PY12516FB.MEAS  \\\n",
       "1052641  0.088446                    0.59411                      \n",
       "1052642  0.088446                    0.59411                      \n",
       "1052643  0.088446                    0.59411                      \n",
       "1052644  0.088041                    0.59411                      \n",
       "1052645  0.088041                    0.59411                      \n",
       "\n",
       "         HART_P1CP04:PY12109FB.MEAS  HART_U1CP03:PY24092FB.MEAS  \\\n",
       "1052641  0.001263                    0.686170                     \n",
       "1052642  0.001263                    0.692847                     \n",
       "1052643  0.001263                    0.691512                     \n",
       "1052644  0.001263                    0.682831                     \n",
       "1052645  0.001263                    0.682831                     \n",
       "\n",
       "         HART_P1CP04:FY12847FB.MEAS  \n",
       "1052641  0.982966                    \n",
       "1052642  0.982966                    \n",
       "1052643  0.982966                    \n",
       "1052644  0.982966                    \n",
       "1052645  0.982966                    "
      ]
     },
     "execution_count": 55,
     "metadata": {},
     "output_type": "execute_result"
    }
   ],
   "source": [
    "df_master_nans_dropped.head()"
   ]
  },
  {
   "cell_type": "code",
   "execution_count": 76,
   "metadata": {},
   "outputs": [],
   "source": [
    "labels = labels.reshape(len(labels), 1)\n",
    "df_master_nans_dropped['labels'] = labels\n",
    "df_master_nans_dropped[time_col] = df_master_nans_dropped[time_gran_col].apply(lambda x: get_time_from_minutes(x, base_date))"
   ]
  },
  {
   "cell_type": "code",
   "execution_count": 77,
   "metadata": {},
   "outputs": [
    {
     "data": {
      "text/html": [
       "<div>\n",
       "<style scoped>\n",
       "    .dataframe tbody tr th:only-of-type {\n",
       "        vertical-align: middle;\n",
       "    }\n",
       "\n",
       "    .dataframe tbody tr th {\n",
       "        vertical-align: top;\n",
       "    }\n",
       "\n",
       "    .dataframe thead th {\n",
       "        text-align: right;\n",
       "    }\n",
       "</style>\n",
       "<table border=\"1\" class=\"dataframe\">\n",
       "  <thead>\n",
       "    <tr style=\"text-align: right;\">\n",
       "      <th></th>\n",
       "      <th>datetime_gran</th>\n",
       "      <th>HART_P1CP04:PY12003AFB.MEAS</th>\n",
       "      <th>12GTWY_E101:FIE12404.PNT</th>\n",
       "      <th>12P01BCP4:PI12956.PNT</th>\n",
       "      <th>12P01BCP4:FC12847.MEAS</th>\n",
       "      <th>12P01BCP4:PI12955.PNT</th>\n",
       "      <th>HART_P1CP04:PY12110FB.MEAS</th>\n",
       "      <th>HART_P1CP04:PY12516FB.MEAS</th>\n",
       "      <th>HART_P1CP04:PY12109FB.MEAS</th>\n",
       "      <th>HART_U1CP03:PY24092FB.MEAS</th>\n",
       "      <th>HART_P1CP04:FY12847FB.MEAS</th>\n",
       "      <th>labels</th>\n",
       "      <th>datetime</th>\n",
       "    </tr>\n",
       "  </thead>\n",
       "  <tbody>\n",
       "    <tr>\n",
       "      <th>1052641</th>\n",
       "      <td>1052642</td>\n",
       "      <td>0.155742</td>\n",
       "      <td>0.114017</td>\n",
       "      <td>0.715633</td>\n",
       "      <td>0.000338</td>\n",
       "      <td>0.496189</td>\n",
       "      <td>0.088446</td>\n",
       "      <td>0.59411</td>\n",
       "      <td>0.001263</td>\n",
       "      <td>0.686170</td>\n",
       "      <td>0.982966</td>\n",
       "      <td>0</td>\n",
       "      <td>2018-01-01 00:02:01</td>\n",
       "    </tr>\n",
       "    <tr>\n",
       "      <th>1052642</th>\n",
       "      <td>1052643</td>\n",
       "      <td>0.155772</td>\n",
       "      <td>0.115755</td>\n",
       "      <td>0.714983</td>\n",
       "      <td>0.000358</td>\n",
       "      <td>0.496189</td>\n",
       "      <td>0.088446</td>\n",
       "      <td>0.59411</td>\n",
       "      <td>0.001263</td>\n",
       "      <td>0.692847</td>\n",
       "      <td>0.982966</td>\n",
       "      <td>0</td>\n",
       "      <td>2018-01-01 00:03:01</td>\n",
       "    </tr>\n",
       "    <tr>\n",
       "      <th>1052643</th>\n",
       "      <td>1052644</td>\n",
       "      <td>0.155772</td>\n",
       "      <td>0.106135</td>\n",
       "      <td>0.715307</td>\n",
       "      <td>0.000398</td>\n",
       "      <td>0.495362</td>\n",
       "      <td>0.088446</td>\n",
       "      <td>0.59411</td>\n",
       "      <td>0.001263</td>\n",
       "      <td>0.691512</td>\n",
       "      <td>0.982966</td>\n",
       "      <td>0</td>\n",
       "      <td>2018-01-01 00:04:01</td>\n",
       "    </tr>\n",
       "    <tr>\n",
       "      <th>1052644</th>\n",
       "      <td>1052645</td>\n",
       "      <td>0.155772</td>\n",
       "      <td>0.109651</td>\n",
       "      <td>0.715794</td>\n",
       "      <td>0.000318</td>\n",
       "      <td>0.495527</td>\n",
       "      <td>0.088041</td>\n",
       "      <td>0.59411</td>\n",
       "      <td>0.001263</td>\n",
       "      <td>0.682831</td>\n",
       "      <td>0.982966</td>\n",
       "      <td>0</td>\n",
       "      <td>2018-01-01 00:05:01</td>\n",
       "    </tr>\n",
       "    <tr>\n",
       "      <th>1052645</th>\n",
       "      <td>1052646</td>\n",
       "      <td>0.155772</td>\n",
       "      <td>0.109651</td>\n",
       "      <td>0.715388</td>\n",
       "      <td>0.000348</td>\n",
       "      <td>0.495527</td>\n",
       "      <td>0.088041</td>\n",
       "      <td>0.59411</td>\n",
       "      <td>0.001263</td>\n",
       "      <td>0.682831</td>\n",
       "      <td>0.982966</td>\n",
       "      <td>0</td>\n",
       "      <td>2018-01-01 00:06:01</td>\n",
       "    </tr>\n",
       "  </tbody>\n",
       "</table>\n",
       "</div>"
      ],
      "text/plain": [
       "         datetime_gran  HART_P1CP04:PY12003AFB.MEAS  12GTWY_E101:FIE12404.PNT  \\\n",
       "1052641  1052642        0.155742                     0.114017                   \n",
       "1052642  1052643        0.155772                     0.115755                   \n",
       "1052643  1052644        0.155772                     0.106135                   \n",
       "1052644  1052645        0.155772                     0.109651                   \n",
       "1052645  1052646        0.155772                     0.109651                   \n",
       "\n",
       "         12P01BCP4:PI12956.PNT  12P01BCP4:FC12847.MEAS  12P01BCP4:PI12955.PNT  \\\n",
       "1052641  0.715633               0.000338                0.496189                \n",
       "1052642  0.714983               0.000358                0.496189                \n",
       "1052643  0.715307               0.000398                0.495362                \n",
       "1052644  0.715794               0.000318                0.495527                \n",
       "1052645  0.715388               0.000348                0.495527                \n",
       "\n",
       "         HART_P1CP04:PY12110FB.MEAS  HART_P1CP04:PY12516FB.MEAS  \\\n",
       "1052641  0.088446                    0.59411                      \n",
       "1052642  0.088446                    0.59411                      \n",
       "1052643  0.088446                    0.59411                      \n",
       "1052644  0.088041                    0.59411                      \n",
       "1052645  0.088041                    0.59411                      \n",
       "\n",
       "         HART_P1CP04:PY12109FB.MEAS  HART_U1CP03:PY24092FB.MEAS  \\\n",
       "1052641  0.001263                    0.686170                     \n",
       "1052642  0.001263                    0.692847                     \n",
       "1052643  0.001263                    0.691512                     \n",
       "1052644  0.001263                    0.682831                     \n",
       "1052645  0.001263                    0.682831                     \n",
       "\n",
       "         HART_P1CP04:FY12847FB.MEAS  labels            datetime  \n",
       "1052641  0.982966                    0      2018-01-01 00:02:01  \n",
       "1052642  0.982966                    0      2018-01-01 00:03:01  \n",
       "1052643  0.982966                    0      2018-01-01 00:04:01  \n",
       "1052644  0.982966                    0      2018-01-01 00:05:01  \n",
       "1052645  0.982966                    0      2018-01-01 00:06:01  "
      ]
     },
     "execution_count": 77,
     "metadata": {},
     "output_type": "execute_result"
    }
   ],
   "source": [
    "df_master_nans_dropped.head()"
   ]
  },
  {
   "cell_type": "code",
   "execution_count": 85,
   "metadata": {},
   "outputs": [
    {
     "name": "stderr",
     "output_type": "stream",
     "text": [
      "'c' argument looks like a single numeric RGB or RGBA sequence, which should be avoided as value-mapping will have precedence in case its length matches with 'x' & 'y'.  Please use a 2-D array with a single row if you really want to specify the same RGB or RGBA value for all points.\n"
     ]
    },
    {
     "data": {
      "image/png": "[encoded data removed]",
      "text/plain": [
       "<Figure size 2160x2016 with 1 Axes>"
      ]
     },
     "metadata": {
      "needs_background": "light"
     },
     "output_type": "display_data"
    }
   ],
   "source": [
    "N = 500\n",
    "x = np.random.rand(N)\n",
    "y = np.random.rand(N)\n",
    "colors = (0,0,0)\n",
    "area = np.pi*3\n",
    "\n",
    "# Plot\n",
    "plt.scatter(x, y, s=area, c=colors, alpha=0.5)\n",
    "plt.title('Scatter plot pythonspot.com')\n",
    "plt.xlabel('x')\n",
    "plt.ylabel('y')\n",
    "plt.show()"
   ]
  },
  {
   "cell_type": "code",
   "execution_count": 84,
   "metadata": {},
   "outputs": [
    {
     "ename": "TypeError",
     "evalue": "'AxesSubplot' object is not iterable",
     "output_type": "error",
     "traceback": [
      "\u001b[0;31m---------------------------------------------------------------------------\u001b[0m",
      "\u001b[0;31mTypeError\u001b[0m                                 Traceback (most recent call last)",
      "\u001b[0;32m<ipython-input-84-14978d437ce0>\u001b[0m in \u001b[0;36m<module>\u001b[0;34m\u001b[0m\n\u001b[1;32m     18\u001b[0m     \u001b[0mdf\u001b[0m \u001b[0;34m=\u001b[0m \u001b[0mdf_master_nans_dropped\u001b[0m\u001b[0;34m[\u001b[0m\u001b[0;34m[\u001b[0m\u001b[0mtime_col\u001b[0m\u001b[0;34m,\u001b[0m \u001b[0mfeature\u001b[0m\u001b[0;34m,\u001b[0m \u001b[0;34m'labels'\u001b[0m\u001b[0;34m]\u001b[0m\u001b[0;34m]\u001b[0m\u001b[0;34m\u001b[0m\u001b[0m\n\u001b[1;32m     19\u001b[0m \u001b[0;34m\u001b[0m\u001b[0m\n\u001b[0;32m---> 20\u001b[0;31m     \u001b[0mfig\u001b[0m\u001b[0;34m,\u001b[0m \u001b[0max\u001b[0m \u001b[0;34m=\u001b[0m \u001b[0mplt\u001b[0m\u001b[0;34m.\u001b[0m\u001b[0msubplot\u001b[0m\u001b[0;34m(\u001b[0m\u001b[0mrows_plot\u001b[0m\u001b[0;34m,\u001b[0m \u001b[0mcols_plot\u001b[0m\u001b[0;34m,\u001b[0m \u001b[0midx\u001b[0m\u001b[0;34m+\u001b[0m\u001b[0;36m1\u001b[0m\u001b[0;34m)\u001b[0m\u001b[0;34m\u001b[0m\u001b[0m\n\u001b[0m\u001b[1;32m     21\u001b[0m \u001b[0;34m\u001b[0m\u001b[0m\n\u001b[1;32m     22\u001b[0m     \u001b[0mplt\u001b[0m\u001b[0;34m.\u001b[0m\u001b[0mylabel\u001b[0m\u001b[0;34m(\u001b[0m\u001b[0mylabel\u001b[0m\u001b[0;34m)\u001b[0m\u001b[0;34m\u001b[0m\u001b[0m\n",
      "\u001b[0;31mTypeError\u001b[0m: 'AxesSubplot' object is not iterable"
     ]
    },
    {
     "data": {
      "image/png": "[encoded data removed]",
      "text/plain": [
       "<Figure size 2160x2016 with 1 Axes>"
      ]
     },
     "metadata": {
      "needs_background": "light"
     },
     "output_type": "display_data"
    }
   ],
   "source": [
    "feature_set = list(X.keys())\n",
    "# feature_set = usable_features\n",
    "\n",
    "colors = ['b', 'g', 'r', 'c', 'm', 'y', 'k']\n",
    "xlabel = 'Time'\n",
    "ylabel = 'Value'\n",
    "\n",
    "total_plots = len(feature_set)\n",
    "cols_plot = 3\n",
    "rows_plot = math.ceil(total_plots/cols_plot)\n",
    "\n",
    "plt.rcParams['figure.figsize'] = [cols_plot * 10, rows_plot * 7] # Size of the plots        \n",
    "plt.figure()\n",
    "\n",
    "idx = 0\n",
    "for feature in feature_set:\n",
    "       \n",
    "    df = df_master_nans_dropped[[time_col, feature, 'labels']]\n",
    "    \n",
    "    fig, ax = plt.subplot(rows_plot, cols_plot, idx+1)\n",
    "    \n",
    "    plt.ylabel(ylabel)\n",
    "    plt.xticks(rotation=45)\n",
    "    plt.title('Feature - ' + feature)\n",
    "    \n",
    "    for i in range(len(np.unique(df['labels']))):\n",
    "        df_cluster = df[[time_col, feature]].loc[df['labels'] == i]\n",
    "        x = df_cluster[time_col]\n",
    "        y = df_cluster[feature]\n",
    "        print(len(x), len(y))\n",
    "        \n",
    "        ax.scatter(x, y, c=colors[i])\n",
    "        \n",
    "    plt.legend(loc='upper left')\n",
    "\n",
    "    idx += 1\n",
    "    \n",
    "    if idx >= 1:\n",
    "        break"
   ]
  },
  {
   "cell_type": "markdown",
   "metadata": {},
   "source": [
    "# Use only features with maximum time span time frame"
   ]
  },
  {
   "cell_type": "markdown",
   "metadata": {},
   "source": [
    "### Select Features"
   ]
  },
  {
   "cell_type": "code",
   "execution_count": 198,
   "metadata": {},
   "outputs": [],
   "source": [
    "selected_features = [\n",
    "    'HART_P1CP04:PY12003AFB.MEAS', \n",
    "    'HART_P1CP04:PY12110FB.MEAS', \n",
    "    'HART_P1CP04:PY12516FB.MEAS', \n",
    "    'HART_P1CP04:PY12109FB.MEAS', \n",
    "    'HART_U1CP03:PY24092FB.MEAS', \n",
    "    'HART_P1CP04:FY12847FB.MEAS'\n",
    "]"
   ]
  },
  {
   "cell_type": "markdown",
   "metadata": {},
   "source": [
    "### Drop features"
   ]
  },
  {
   "cell_type": "code",
   "execution_count": 199,
   "metadata": {},
   "outputs": [
    {
     "name": "stdout",
     "output_type": "stream",
     "text": [
      "EXCLUDED FEATURES\n",
      " {'12P01BCP4:FC12847.MEAS', '12GTWY_E101:FIE12404.PNT', '12P01BCP4:PI12955.PNT', '12P01BCP4:PI12956.PNT'}\n",
      "df_master COLUMNS\n",
      " ['datetime_gran' 'HART_P1CP04:PY12003AFB.MEAS'\n",
      " 'HART_P1CP04:PY12110FB.MEAS' 'HART_P1CP04:PY12516FB.MEAS'\n",
      " 'HART_P1CP04:PY12109FB.MEAS' 'HART_U1CP03:PY24092FB.MEAS'\n",
      " 'HART_P1CP04:FY12847FB.MEAS']\n"
     ]
    }
   ],
   "source": [
    "all_features = df_master.columns.values\n",
    "excluded_features = set(all_features) - set(selected_features) \n",
    "excluded_features = excluded_features - set([time_gran_col])\n",
    "print('EXCLUDED FEATURES\\n', excluded_features)\n",
    "\n",
    "df_master_selfeat = df_master.drop(columns=list(excluded_features), inplace=False)\n",
    "print('df_master COLUMNS\\n', df_master_selfeat.columns.values)"
   ]
  },
  {
   "cell_type": "markdown",
   "metadata": {},
   "source": [
    "### Drop NaNs"
   ]
  },
  {
   "cell_type": "code",
   "execution_count": 200,
   "metadata": {},
   "outputs": [],
   "source": [
    "df_master_nans_dropped = df_master_selfeat.dropna(inplace=False)"
   ]
  },
  {
   "cell_type": "code",
   "execution_count": 201,
   "metadata": {},
   "outputs": [
    {
     "name": "stdout",
     "output_type": "stream",
     "text": [
      "(1578241, 7)\n",
      "(1144794, 7)\n"
     ]
    }
   ],
   "source": [
    "print(df_master_selfeat.shape)\n",
    "print(df_master_nans_dropped.shape)"
   ]
  },
  {
   "cell_type": "markdown",
   "metadata": {},
   "source": [
    "#### Find the min and max of date"
   ]
  },
  {
   "cell_type": "code",
   "execution_count": 202,
   "metadata": {},
   "outputs": [
    {
     "name": "stdout",
     "output_type": "stream",
     "text": [
      "2016-10-28 00:08:01\n",
      "2019-01-01 00:01:01\n"
     ]
    }
   ],
   "source": [
    "min_date_avail = df_master_nans_dropped[time_gran_col].min()\n",
    "max_date_avail = df_master_nans_dropped[time_gran_col].max()\n",
    "\n",
    "min_date_avail = np.int64(min_date_avail).item()\n",
    "max_date_avail = np.int64(max_date_avail).item()\n",
    "\n",
    "print(get_time_from_minutes(min_date_avail, base_date))\n",
    "print(get_time_from_minutes(max_date_avail, base_date))"
   ]
  },
  {
   "cell_type": "markdown",
   "metadata": {},
   "source": [
    "### Drop after certain date"
   ]
  },
  {
   "cell_type": "code",
   "execution_count": 203,
   "metadata": {},
   "outputs": [
    {
     "name": "stdout",
     "output_type": "stream",
     "text": [
      "(1144794, 7)\n",
      "(1055454, 7)\n"
     ]
    }
   ],
   "source": [
    "end_date = datetime.strptime('2018-10-31 00:00:01', fmt)\n",
    "end_mins = get_minutes_after(end_date, base_date)\n",
    "print(df_master_nans_dropped.shape)\n",
    "df_master_nans_dropped = df_master_nans_dropped.loc[df_master_nans_dropped[time_gran_col] <= end_mins]\n",
    "print(df_master_nans_dropped.shape)"
   ]
  },
  {
   "cell_type": "markdown",
   "metadata": {},
   "source": [
    "#### Find the min and max of date"
   ]
  },
  {
   "cell_type": "code",
   "execution_count": 204,
   "metadata": {},
   "outputs": [
    {
     "name": "stdout",
     "output_type": "stream",
     "text": [
      "2016-10-28 00:08:01\n",
      "2018-10-30 23:01:01\n"
     ]
    }
   ],
   "source": [
    "min_date_avail = df_master_nans_dropped[time_gran_col].min()\n",
    "max_date_avail = df_master_nans_dropped[time_gran_col].max()\n",
    "\n",
    "min_date_avail = np.int64(min_date_avail).item()\n",
    "max_date_avail = np.int64(max_date_avail).item()\n",
    "\n",
    "print(get_time_from_minutes(min_date_avail, base_date))\n",
    "print(get_time_from_minutes(max_date_avail, base_date))"
   ]
  },
  {
   "cell_type": "markdown",
   "metadata": {},
   "source": [
    "### Standardize the data"
   ]
  },
  {
   "cell_type": "code",
   "execution_count": 205,
   "metadata": {},
   "outputs": [
    {
     "name": "stdout",
     "output_type": "stream",
     "text": [
      "{'HART_P1CP04:PY12110FB.MEAS', 'HART_P1CP04:PY12109FB.MEAS', 'HART_P1CP04:PY12516FB.MEAS', 'HART_P1CP04:FY12847FB.MEAS', 'HART_U1CP03:PY24092FB.MEAS', 'HART_P1CP04:PY12003AFB.MEAS'}\n"
     ]
    }
   ],
   "source": [
    "from sklearn.preprocessing import StandardScaler\n",
    "\n",
    "df_pca = df_master_nans_dropped.copy()\n",
    "features = set(list(df_pca.columns.values)) - set(['datetime_gran', 'datetime'])\n",
    "print(features)\n",
    "\n",
    "# Separating out the features\n",
    "x = df_pca.loc[:, features].values\n",
    "\n",
    "# Separating out the target\n",
    "# y = df_pca.loc[:,['target']].values\n",
    "\n",
    "# Standardizing the features\n",
    "x = StandardScaler().fit_transform(x)"
   ]
  },
  {
   "cell_type": "code",
   "execution_count": 206,
   "metadata": {},
   "outputs": [
    {
     "data": {
      "text/plain": [
       "array([[-0.31878975,  0.26750703, -1.43862089,  0.2044234 , -3.86047629,\n",
       "         1.62280063],\n",
       "       [-0.22576424,  0.26736819, -1.43858651,  0.2044234 , -3.86066798,\n",
       "         1.61189536],\n",
       "       [-0.32756612,  0.26722934, -1.43855213,  0.20087468, -3.86073188,\n",
       "         1.5995164 ],\n",
       "       ...,\n",
       "       [-0.04848845,  0.13361578, -0.52062664,  0.07134643,  0.18560505,\n",
       "        -0.17597963],\n",
       "       [-0.04848845,  0.14570076, -0.52062664,  0.07134643,  0.19242054,\n",
       "        -0.17597963],\n",
       "       [-0.04848845,  0.1114617 , -0.52062664,  0.07134643,  0.19242054,\n",
       "        -0.17597963]])"
      ]
     },
     "execution_count": 206,
     "metadata": {},
     "output_type": "execute_result"
    }
   ],
   "source": [
    "x"
   ]
  },
  {
   "cell_type": "markdown",
   "metadata": {},
   "source": [
    "### PCA Projection"
   ]
  },
  {
   "cell_type": "code",
   "execution_count": 207,
   "metadata": {},
   "outputs": [],
   "source": [
    "from sklearn.decomposition import PCA\n",
    "pca = PCA(n_components=2)\n",
    "principalComponents = pca.fit_transform(x)\n",
    "principalDf = pd.DataFrame(data = principalComponents,\n",
    "                           columns = ['principal component 1', 'principal component 2'])"
   ]
  },
  {
   "cell_type": "code",
   "execution_count": 208,
   "metadata": {},
   "outputs": [],
   "source": [
    "df_pca['target'] = 1"
   ]
  },
  {
   "cell_type": "code",
   "execution_count": 209,
   "metadata": {},
   "outputs": [],
   "source": [
    "# Reset the index to align the targets and variables\n",
    "df_pca.reset_index(inplace=True)"
   ]
  },
  {
   "cell_type": "code",
   "execution_count": 210,
   "metadata": {},
   "outputs": [],
   "source": [
    "finalDf = pd.concat([principalDf, df_pca[['target']]], axis = 1)"
   ]
  },
  {
   "cell_type": "code",
   "execution_count": 211,
   "metadata": {},
   "outputs": [
    {
     "name": "stdout",
     "output_type": "stream",
     "text": [
      "   principal component 1  principal component 2  target\n",
      "0 -0.345900               3.502131               1     \n",
      "1 -0.311515               3.515494               1     \n",
      "2 -0.350622               3.485889               1     \n",
      "3 -0.303873               3.515291               1     \n",
      "4 -0.347509               3.492092               1     \n",
      "         principal component 1  principal component 2  target\n",
      "1055449  0.376211              -0.087910               1     \n",
      "1055450  0.376211              -0.087910               1     \n",
      "1055451  0.413436              -0.097841               1     \n",
      "1055452  0.423673              -0.103711               1     \n",
      "1055453  0.401072              -0.097681               1     \n"
     ]
    }
   ],
   "source": [
    "print(finalDf.head())\n",
    "print(finalDf.tail())"
   ]
  },
  {
   "cell_type": "code",
   "execution_count": 213,
   "metadata": {},
   "outputs": [
    {
     "data": {
      "image/png": "[encoded data removed]",
      "text/plain": [
       "<Figure size 1080x1080 with 1 Axes>"
      ]
     },
     "metadata": {
      "needs_background": "light"
     },
     "output_type": "display_data"
    }
   ],
   "source": [
    "fig = plt.figure(figsize = (15,15))\n",
    "ax = fig.add_subplot(1,1,1) \n",
    "ax.set_xlabel('Principal Component 1', fontsize = 15)\n",
    "ax.set_ylabel('Principal Component 2', fontsize = 15)\n",
    "ax.set_title('P1201', fontsize = 20)\n",
    "targets = [1]\n",
    "colors = ['r']\n",
    "for target, color in zip(targets,colors):\n",
    "    \n",
    "    indicesToKeep = finalDf['target'] == target\n",
    "    ax.scatter(finalDf.loc[indicesToKeep, 'principal component 1']\n",
    "               , finalDf.loc[indicesToKeep, 'principal component 2']\n",
    "               , c = color\n",
    "               , s = 50)\n",
    "\n",
    "ax.legend(targets)\n",
    "ax.grid()"
   ]
  },
  {
   "cell_type": "code",
   "execution_count": null,
   "metadata": {},
   "outputs": [],
   "source": []
  }
 ],
 "metadata": {
  "kernelspec": {
   "display_name": "shell",
   "language": "python",
   "name": "shell"
  },
  "language_info": {
   "codemirror_mode": {
    "name": "ipython",
    "version": 3
   },
   "file_extension": ".py",
   "mimetype": "text/x-python",
   "name": "python",
   "nbconvert_exporter": "python",
   "pygments_lexer": "ipython3",
   "version": "3.6.6"
  }
 },
 "nbformat": 4,
 "nbformat_minor": 2
}
