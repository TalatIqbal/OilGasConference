{
 "cells": [
  {
   "cell_type": "code",
   "execution_count": 1,
   "metadata": {},
   "outputs": [],
   "source": [
    "import numpy as np\n",
    "import pandas as pd\n",
    "import nltk\n",
    "from nltk.corpus import stopwords\n",
    "import os\n",
    "import re\n",
    "from sklearn.feature_extraction.text import TfidfVectorizer, CountVectorizer, TfidfTransformer\n",
    "import string\n",
    "import json\n",
    "import matplotlib.pyplot as plt"
   ]
  },
  {
   "cell_type": "code",
   "execution_count": 2,
   "metadata": {},
   "outputs": [],
   "source": [
    "stopwords = stopwords.words('english')"
   ]
  },
  {
   "cell_type": "code",
   "execution_count": 35,
   "metadata": {},
   "outputs": [],
   "source": [
    "common_words = ['bid', 'offer', 'buy', 'sell', 'put', 'minus', 'plus']"
   ]
  },
  {
   "cell_type": "code",
   "execution_count": 36,
   "metadata": {},
   "outputs": [],
   "source": [
    "regex_digit = re.compile('[+/-]?\\d*\\.?\\d+')"
   ]
  },
  {
   "cell_type": "code",
   "execution_count": 37,
   "metadata": {},
   "outputs": [],
   "source": [
    "# md_chat = pd.read_csv('../data/processed/aligned_chatlogs_msarosiak1_edixon.csv')\n",
    "# md_chat = md_chat.fillna('NAN')\n",
    "aligned_chat = pd.DataFrame()\n",
    "for file_name in os.listdir(\"../data/processed/aligned/\"):  \n",
    "    if file_name.find('aligned') != -1:\n",
    "        # print(file_name)\n",
    "        aligned_chat = aligned_chat.append(pd.read_csv('../data/processed/aligned/'+file_name).dropna(axis=0))"
   ]
  },
  {
   "cell_type": "code",
   "execution_count": 38,
   "metadata": {},
   "outputs": [
    {
     "data": {
      "text/plain": [
       "(2387, 32)"
      ]
     },
     "execution_count": 38,
     "metadata": {},
     "output_type": "execute_result"
    }
   ],
   "source": [
    "aligned_chat.shape"
   ]
  },
  {
   "cell_type": "code",
   "execution_count": 39,
   "metadata": {
    "scrolled": false
   },
   "outputs": [],
   "source": [
    "grouped = aligned_chat.groupby('pipeline_name')\\\n",
    ".agg({'post_date': 'count'})\\\n",
    ".sort_values(by='post_date', ascending=False)"
   ]
  },
  {
   "cell_type": "code",
   "execution_count": 40,
   "metadata": {},
   "outputs": [
    {
     "data": {
      "text/html": [
       "<div>\n",
       "<style scoped>\n",
       "    .dataframe tbody tr th:only-of-type {\n",
       "        vertical-align: middle;\n",
       "    }\n",
       "\n",
       "    .dataframe tbody tr th {\n",
       "        vertical-align: top;\n",
       "    }\n",
       "\n",
       "    .dataframe thead th {\n",
       "        text-align: right;\n",
       "    }\n",
       "</style>\n",
       "<table border=\"1\" class=\"dataframe\">\n",
       "  <thead>\n",
       "    <tr style=\"text-align: right;\">\n",
       "      <th></th>\n",
       "      <th>post_date</th>\n",
       "    </tr>\n",
       "    <tr>\n",
       "      <th>pipeline_name</th>\n",
       "      <th></th>\n",
       "    </tr>\n",
       "  </thead>\n",
       "  <tbody>\n",
       "    <tr>\n",
       "      <th>Enb. ND</th>\n",
       "      <td>921</td>\n",
       "    </tr>\n",
       "    <tr>\n",
       "      <th>DAPL</th>\n",
       "      <td>239</td>\n",
       "    </tr>\n",
       "    <tr>\n",
       "      <th>Double H</th>\n",
       "      <td>239</td>\n",
       "    </tr>\n",
       "    <tr>\n",
       "      <th>White Cliffs</th>\n",
       "      <td>213</td>\n",
       "    </tr>\n",
       "    <tr>\n",
       "      <th>Grand Mesa</th>\n",
       "      <td>111</td>\n",
       "    </tr>\n",
       "    <tr>\n",
       "      <th>Newtown</th>\n",
       "      <td>66</td>\n",
       "    </tr>\n",
       "    <tr>\n",
       "      <th>Enb. T@S</th>\n",
       "      <td>55</td>\n",
       "    </tr>\n",
       "    <tr>\n",
       "      <th>Enbridge</th>\n",
       "      <td>49</td>\n",
       "    </tr>\n",
       "    <tr>\n",
       "      <th>Colt</th>\n",
       "      <td>43</td>\n",
       "    </tr>\n",
       "    <tr>\n",
       "      <th>Husky</th>\n",
       "      <td>40</td>\n",
       "    </tr>\n",
       "  </tbody>\n",
       "</table>\n",
       "</div>"
      ],
      "text/plain": [
       "               post_date\n",
       "pipeline_name           \n",
       "Enb. ND              921\n",
       "DAPL                 239\n",
       "Double H             239\n",
       "White Cliffs         213\n",
       "Grand Mesa           111\n",
       "Newtown               66\n",
       "Enb. T@S              55\n",
       "Enbridge              49\n",
       "Colt                  43\n",
       "Husky                 40"
      ]
     },
     "execution_count": 40,
     "metadata": {},
     "output_type": "execute_result"
    }
   ],
   "source": [
    "grouped.head(10)"
   ]
  },
  {
   "cell_type": "code",
   "execution_count": 65,
   "metadata": {},
   "outputs": [],
   "source": [
    "top_pipeline_names = grouped[grouped['post_date'] > 10].index.tolist()"
   ]
  },
  {
   "cell_type": "code",
   "execution_count": 66,
   "metadata": {},
   "outputs": [],
   "source": [
    "# top_market_names = aligned_chat.groupby('market_name')\\\n",
    "# .agg({'post_date': 'count'})\\\n",
    "# .sort_values(by='post_date', ascending=False).index.tolist()\n",
    "# # top_market_names = [market.lower() for market in top_market_names]"
   ]
  },
  {
   "cell_type": "code",
   "execution_count": 67,
   "metadata": {},
   "outputs": [
    {
     "data": {
      "text/plain": [
       "['Enb. ND',\n",
       " 'DAPL',\n",
       " 'Double H',\n",
       " 'White Cliffs',\n",
       " 'Grand Mesa',\n",
       " 'Newtown',\n",
       " 'Enb. T@S',\n",
       " 'Enbridge',\n",
       " 'Colt',\n",
       " 'Husky',\n",
       " 'Guern HUB',\n",
       " 'Deep Rock',\n",
       " 'Savage',\n",
       " 'Enterprise',\n",
       " 'Hiland',\n",
       " 'Butte',\n",
       " '-',\n",
       " 'Saddlehorn',\n",
       " 'CLP-H',\n",
       " 'PXP']"
      ]
     },
     "execution_count": 67,
     "metadata": {},
     "output_type": "execute_result"
    }
   ],
   "source": [
    "top_pipeline_names"
   ]
  },
  {
   "cell_type": "code",
   "execution_count": 68,
   "metadata": {},
   "outputs": [],
   "source": [
    "def filter_tokenize(words):\n",
    "    \n",
    "    words = nltk.word_tokenize(messages)\n",
    "\n",
    "    # Remove single-character tokens (mostly punctuation)\n",
    "    words = [word for word in words if len(word) > 1]\n",
    "\n",
    "    # Remove numbers\n",
    "    words = [word for word in words if not word.isnumeric()]\n",
    "    \n",
    "    # Remove words with numbers\n",
    "    words = [word for word in words if len(regex_digit.findall(word)) == 0]\n",
    "    # print(words)\n",
    "\n",
    "    # Lowercase all words (default_stopwords are lowercase too)\n",
    "    words = [word.lower() for word in words]\n",
    "    \n",
    "    # Strip newline and spaces\n",
    "    words = [word.strip('\\n\\\\n\\r ') for word in words]\n",
    "\n",
    "    # Stemming words seems to make matters worse, disabled\n",
    "    # stemmer = nltk.stem.snowball.SnowballStemmer('german')\n",
    "    # words = [stemmer.stem(word) for word in words]\n",
    "\n",
    "    # Remove stopwords\n",
    "    words = [word for word in words if word not in stopwords]\n",
    "    \n",
    "    # Remove common words\n",
    "    words = [word for word in words if word not in common_words]\n",
    "    \n",
    "    # Remove word if only one character\n",
    "    words = [word for word in words if word.count(word[0]) < len(word)]\n",
    "    \n",
    "    words = ' '.join(words)\n",
    "    \n",
    "    return words"
   ]
  },
  {
   "cell_type": "code",
   "execution_count": 69,
   "metadata": {
    "scrolled": false
   },
   "outputs": [],
   "source": [
    "pipeline_name_words = {}\n",
    "for pipeline_name in top_pipeline_names:\n",
    "    \n",
    "    # print('Market_Name: ', market_name)\n",
    "    messages = ' '.join(aligned_chat.loc[aligned_chat.pipeline_name == pipeline_name, 'message'])\n",
    "    \n",
    "    # Remove words with all puntuations\n",
    "    messages = messages.translate(str.maketrans('','',string.punctuation))\n",
    "\n",
    "\n",
    "    # Calculate frequency distribution\n",
    "    # fdist = nltk.FreqDist(words)\n",
    "    \n",
    "    messages = filter_tokenize(messages)\n",
    "\n",
    "    pipeline_name_words[pipeline_name] = messages\n",
    "    \n",
    "    # Output top 10 words\n",
    "    # for word, frequency in fdist.most_common(10):\n",
    "        # print(u'{}:{}'.format(word, frequency))"
   ]
  },
  {
   "cell_type": "code",
   "execution_count": 70,
   "metadata": {},
   "outputs": [],
   "source": [
    "# pipeline_name_words.values()"
   ]
  },
  {
   "cell_type": "code",
   "execution_count": 71,
   "metadata": {},
   "outputs": [],
   "source": [
    "count_vect = CountVectorizer()\n",
    "count_vect = count_vect.fit(pipeline_name_words.values())\n",
    "freq_term_matrix = count_vect.transform(pipeline_name_words.values())"
   ]
  },
  {
   "cell_type": "code",
   "execution_count": 72,
   "metadata": {},
   "outputs": [
    {
     "data": {
      "text/plain": [
       "TfidfTransformer(norm='l2', smooth_idf=True, sublinear_tf=False, use_idf=True)"
      ]
     },
     "execution_count": 72,
     "metadata": {},
     "output_type": "execute_result"
    }
   ],
   "source": [
    "tfidf = TfidfTransformer(norm='l2')\n",
    "tfidf.fit(freq_term_matrix)"
   ]
  },
  {
   "cell_type": "code",
   "execution_count": 75,
   "metadata": {
    "scrolled": true
   },
   "outputs": [],
   "source": [
    "# L2\n",
    "pipeline_associated_words = {}\n",
    "for pipeline_name in top_pipeline_names:\n",
    "    # print(market_name)\n",
    "    doc_freq_term = count_vect.transform([pipeline_name_words[pipeline_name]])\n",
    "    doc_tfidf_matrix = tfidf.transform(doc_freq_term)\n",
    "    # print(np.percentile(doc_tfidf_matrix.toarray()[0], [100, 99.75, 99]))\n",
    "    \n",
    "    # decreasing_index = sorted(range(len(count_vect.get_feature_names())), key=lambda k: doc_tfidf_matrix.toarray()[0].tolist()[k], reverse=True)\n",
    "    # print(np.array(count_vect.get_feature_names())[decreasing_index[0:5]])\n",
    "    \n",
    "    # market_associated_words[market_name.lower()] = np.array(count_vect.get_feature_names())[decreasing_index[0:5]].tolist()\n",
    "    \n",
    "    # Use threshold to filter\n",
    "    threshold = 0.2\n",
    "    pipeline_associated_words[pipeline_name.lower()] = \\\n",
    "    list(filter(lambda x: x != '', map(lambda x, y: x if y >= threshold else '', count_vect.get_feature_names(), doc_tfidf_matrix.toarray()[0])))\n",
    "\n",
    "    # print(market_associated_words[market_name.lower()])"
   ]
  },
  {
   "cell_type": "code",
   "execution_count": 76,
   "metadata": {
    "scrolled": true
   },
   "outputs": [
    {
     "data": {
      "text/plain": [
       "{'-': ['ca', 'march', 'wcw'],\n",
       " 'butte': ['butte', 'ok'],\n",
       " 'clp-h': ['aaro', 'batch', 'ca', 'clkhard', 'clkhardwcs', 'outright', 'wcs'],\n",
       " 'colt': ['colt', 'lol'],\n",
       " 'dapl': ['dapl', 'jc', 'joco', 'johnsons', 'ok'],\n",
       " 'deep rock': ['bls', 'io'],\n",
       " 'double h': ['double', 'gsy', 'guernsey', 'korbi', 'morning'],\n",
       " 'enb. nd': ['beaver', 'clearbrook', 'stanley', 'uhc'],\n",
       " 'enb. t@s': ['cromer', 'uhc'],\n",
       " 'enbridge': ['bpd', 'wcs'],\n",
       " 'enterprise': ['hunt', 'midland'],\n",
       " 'grand mesa': ['bpd', 'gm', 'grand', 'lucerne', 'mesa', 'wc'],\n",
       " 'guern hub': ['goldma', 'peckerswood'],\n",
       " 'hiland': ['dore', 'hiland', 'trento'],\n",
       " 'husky': ['batch', 'wcs'],\n",
       " 'newtown': ['ewtow'],\n",
       " 'pxp': ['cents', 'pony', 'space'],\n",
       " 'saddlehorn': ['bpd', 'lets', 'saddlehor'],\n",
       " 'savage': ['fob', 'savage', 'trento'],\n",
       " 'white cliffs': ['bpd', 'cliffs', 'lets', 'morning', 'wc', 'white']}"
      ]
     },
     "execution_count": 76,
     "metadata": {},
     "output_type": "execute_result"
    }
   ],
   "source": [
    "pipeline_associated_words"
   ]
  },
  {
   "cell_type": "code",
   "execution_count": 17,
   "metadata": {},
   "outputs": [],
   "source": [
    "# with open('../data/processed/pipeline_associated_words.json', 'w') as fp:\n",
    "#     json.dump(market_associated_words, fp)"
   ]
  },
  {
   "cell_type": "code",
   "execution_count": null,
   "metadata": {},
   "outputs": [],
   "source": []
  }
 ],
 "metadata": {
  "kernelspec": {
   "display_name": "Python 3",
   "language": "python",
   "name": "python3"
  },
  "language_info": {
   "codemirror_mode": {
    "name": "ipython",
    "version": 3
   },
   "file_extension": ".py",
   "mimetype": "text/x-python",
   "name": "python",
   "nbconvert_exporter": "python",
   "pygments_lexer": "ipython3",
   "version": "3.6.4"
  }
 },
 "nbformat": 4,
 "nbformat_minor": 2
}
