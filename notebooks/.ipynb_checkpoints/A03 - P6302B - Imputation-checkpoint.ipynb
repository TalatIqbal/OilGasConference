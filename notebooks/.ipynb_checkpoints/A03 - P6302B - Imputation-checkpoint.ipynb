{
 "cells": [
  {
   "cell_type": "markdown",
   "metadata": {},
   "source": [
    "# Data Imputation - P6302B"
   ]
  },
  {
   "cell_type": "markdown",
   "metadata": {},
   "source": [
    "### Imports"
   ]
  },
  {
   "cell_type": "code",
   "execution_count": 1,
   "metadata": {},
   "outputs": [],
   "source": [
    "import pandas as pd\n",
    "import numpy as np\n",
    "from datetime import datetime\n",
    "from datetime import timedelta\n",
    "import matplotlib.pyplot as plt\n",
    "import os\n",
    "import ntpath\n",
    "import pickle as pkl\n",
    "import xlrd\n",
    "import time\n",
    "import string\n",
    "\n",
    "from os import listdir\n",
    "from os.path import isfile, join"
   ]
  },
  {
   "cell_type": "markdown",
   "metadata": {},
   "source": [
    "### Notebook options"
   ]
  },
  {
   "cell_type": "code",
   "execution_count": 2,
   "metadata": {},
   "outputs": [],
   "source": [
    "pd.set_option('display.max_colwidth', -1) # Column width\n",
    "plt.rcParams['figure.figsize'] = [15, 10] # Size of the plots"
   ]
  },
  {
   "cell_type": "markdown",
   "metadata": {},
   "source": [
    "### General Assumptions"
   ]
  },
  {
   "cell_type": "code",
   "execution_count": 3,
   "metadata": {},
   "outputs": [],
   "source": [
    "time_col = 'datetime'\n",
    "time_gran_col = 'datetime_gran'\n",
    "value_col = 'val'\n",
    "scaled_value_col = 'scaled_val'\n",
    "time_granularity = 'min'"
   ]
  },
  {
   "cell_type": "code",
   "execution_count": 4,
   "metadata": {},
   "outputs": [],
   "source": [
    "fmt = '%Y-%m-%d %H:%M:%S'\n",
    "base_date = datetime.strptime('2014-01-01 00:00:01', fmt)\n",
    "start_date = datetime.strptime('2014-01-01 00:00:01', fmt)\n",
    "stop_date = datetime.strptime('2019-01-01 00:00:01', fmt)"
   ]
  },
  {
   "cell_type": "markdown",
   "metadata": {},
   "source": [
    "### Data Directories"
   ]
  },
  {
   "cell_type": "code",
   "execution_count": 5,
   "metadata": {},
   "outputs": [],
   "source": [
    "pump = 'P6302B'\n",
    "RAW_DATA_DIR = '../data/raw/'+pump+'/'\n",
    "PROC_DATA_DIR = '../data/processed/'+pump+'/'\n",
    "INT_DATA_DIR = '../data/interim/'+pump+'/'"
   ]
  },
  {
   "cell_type": "markdown",
   "metadata": {},
   "source": [
    "### Read the aggregated data"
   ]
  },
  {
   "cell_type": "code",
   "execution_count": 6,
   "metadata": {},
   "outputs": [
    {
     "name": "stdout",
     "output_type": "stream",
     "text": [
      "Number of files found in ../data/interim/P6302B/aggregated/ is 45 \n",
      "Number of features extracted from 45 files is 45 \n"
     ]
    }
   ],
   "source": [
    "from utils import read_data\n",
    "input_dir = INT_DATA_DIR + 'aggregated/'\n",
    "df_features = read_data(input_dir, True)"
   ]
  },
  {
   "cell_type": "code",
   "execution_count": 7,
   "metadata": {},
   "outputs": [
    {
     "name": "stdout",
     "output_type": "stream",
     "text": [
      "Number of features =  45\n"
     ]
    }
   ],
   "source": [
    "print('Number of features = ', len(list(df_features.keys())))"
   ]
  },
  {
   "cell_type": "code",
   "execution_count": 8,
   "metadata": {},
   "outputs": [
    {
     "data": {
      "text/plain": [
       "['TT61B05.PV',\n",
       " 'PT63105.PV',\n",
       " 'TC63109E.AV',\n",
       " 'PT61B00.PV',\n",
       " 'PC63112E.AV',\n",
       " 'T6153.PV',\n",
       " 'PIE61B23.PV',\n",
       " 'TT61B03.PV',\n",
       " 'LT63114.PV',\n",
       " '05GTWY_BN06:XT61B17.PNT',\n",
       " 'T6151.PV',\n",
       " 'TT61B01.PV',\n",
       " '05GTWY_BN06:XT61B16.PNT',\n",
       " '05GTWY_BN06:XT61B20.PNT',\n",
       " 'PT63103.PV',\n",
       " 'PA63110.PV',\n",
       " 'PDA61B21.PV',\n",
       " '05GTWY_BN06:XT61B13.PNT',\n",
       " 'PIE61B00.PV',\n",
       " 'TT61B04.PV',\n",
       " 'F61221VP',\n",
       " '05GTWY_BN06:XT61B12.PNT',\n",
       " 'F61221',\n",
       " 'TT61B06.PV',\n",
       " 'PC61A98E.AV',\n",
       " 'TT61B02.PV',\n",
       " '05GTWY_BN06:XT61B10.PNT',\n",
       " 'PC61A98.AV',\n",
       " 'PIE61B22.PV',\n",
       " 'T6152.PV',\n",
       " 'FT61A99.PV',\n",
       " '05GTWY_BN06:ZT61B14.PNT',\n",
       " 'TC63109.AV',\n",
       " '05GTWY_BN06:XT61B19.PNT',\n",
       " 'PT63112.PV',\n",
       " '05GTWY_BN06:XT61B18.PNT',\n",
       " 'TT63109.PV',\n",
       " 'FIE61A99.PV',\n",
       " 'PIE63113.PV',\n",
       " '05GTWY_BN06:ZT61B15.PNT',\n",
       " 'PC63112.AV',\n",
       " '05GTWY_BN06:XT61B11.PNT',\n",
       " 'PT61A98.PV',\n",
       " 'PIE61608.PV',\n",
       " 'T6150.PV']"
      ]
     },
     "execution_count": 8,
     "metadata": {},
     "output_type": "execute_result"
    }
   ],
   "source": [
    "list(df_features.keys())"
   ]
  },
  {
   "cell_type": "markdown",
   "metadata": {},
   "source": [
    "### Generate Master Dataframe for time"
   ]
  },
  {
   "cell_type": "code",
   "execution_count": 9,
   "metadata": {},
   "outputs": [
    {
     "name": "stdout",
     "output_type": "stream",
     "text": [
      "min 2014-01-01 00:00:01 2019-01-01 00:00:01\n"
     ]
    }
   ],
   "source": [
    "from utils import generate_master_df\n",
    "\n",
    "time_granularity = 'min'\n",
    "time_gran_col = 'datetime_gran'\n",
    "\n",
    "fmt = '%Y-%m-%d %H:%M:%S'\n",
    "# base_date = datetime.strptime('2017-01-01 00:00:01', fmt)\n",
    "# stop_date = datetime.strptime('2019-01-01 00:00:01', fmt)\n",
    "\n",
    "print(time_granularity, base_date, stop_date)\n",
    "\n",
    "df_master = generate_master_df(time_granularity= time_granularity,\n",
    "                               time_gran_col= time_gran_col, \n",
    "                               base_date= base_date, \n",
    "                               end_date= stop_date)"
   ]
  },
  {
   "cell_type": "code",
   "execution_count": 10,
   "metadata": {},
   "outputs": [
    {
     "name": "stdout",
     "output_type": "stream",
     "text": [
      "Size of the master df 2629441\n"
     ]
    }
   ],
   "source": [
    "print('Size of the master df', len(df_master))"
   ]
  },
  {
   "cell_type": "code",
   "execution_count": 11,
   "metadata": {},
   "outputs": [
    {
     "name": "stdout",
     "output_type": "stream",
     "text": [
      "TT61B05.PV  - Length:  1454769\n",
      "PT63105.PV  - Length:  539886\n",
      "TC63109E.AV  - Length:  339\n",
      "PT61B00.PV  - Length:  896784\n",
      "PC63112E.AV  - Length:  319592\n",
      "T6153.PV  - Length:  834740\n",
      "PIE61B23.PV  - Length:  64965\n",
      "TT61B03.PV  - Length:  1384539\n",
      "LT63114.PV  - Length:  1505140\n",
      "05GTWY_BN06:XT61B17.PNT  - Length:  2137985\n",
      "T6151.PV  - Length:  721069\n",
      "TT61B01.PV  - Length:  1363987\n",
      "05GTWY_BN06:XT61B16.PNT  - Length:  1534695\n",
      "05GTWY_BN06:XT61B20.PNT  - Length:  2086795\n",
      "PT63103.PV  - Length:  1207584\n",
      "PA63110.PV  - Length:  317423\n",
      "PDA61B21.PV  - Length:  317418\n",
      "05GTWY_BN06:XT61B13.PNT  - Length:  2117248\n",
      "PIE61B00.PV  - Length:  156957\n",
      "TT61B04.PV  - Length:  1330282\n",
      "F61221VP  - Length:  1248236\n",
      "05GTWY_BN06:XT61B12.PNT  - Length:  2098925\n",
      "F61221  - Length:  1163319\n",
      "TT61B06.PV  - Length:  1326600\n",
      "PC61A98E.AV  - Length:  319870\n",
      "TT61B02.PV  - Length:  1404932\n",
      "05GTWY_BN06:XT61B10.PNT  - Length:  2200962\n",
      "PC61A98.AV  - Length:  1613066\n",
      "PIE61B22.PV  - Length:  60417\n",
      "T6152.PV  - Length:  751592\n",
      "FT61A99.PV  - Length:  994689\n",
      "05GTWY_BN06:ZT61B14.PNT  - Length:  1824613\n",
      "TC63109.AV  - Length:  1645652\n",
      "05GTWY_BN06:XT61B19.PNT  - Length:  2127015\n",
      "PT63112.PV  - Length:  1734102\n",
      "05GTWY_BN06:XT61B18.PNT  - Length:  2097584\n",
      "TT63109.PV  - Length:  1727358\n",
      "FIE61A99.PV  - Length:  151495\n",
      "PIE63113.PV  - Length:  214498\n",
      "05GTWY_BN06:ZT61B15.PNT  - Length:  1810652\n",
      "PC63112.AV  - Length:  1666595\n",
      "05GTWY_BN06:XT61B11.PNT  - Length:  2126457\n",
      "PT61A98.PV  - Length:  1711660\n",
      "PIE61608.PV  - Length:  87290\n",
      "T6150.PV  - Length:  467613\n"
     ]
    }
   ],
   "source": [
    "for feature,df in df_features.items():\n",
    "    print(feature, ' - Length: ', len(df))"
   ]
  },
  {
   "cell_type": "markdown",
   "metadata": {},
   "source": [
    "### Generate Master Features"
   ]
  },
  {
   "cell_type": "code",
   "execution_count": 12,
   "metadata": {},
   "outputs": [],
   "source": [
    "df_master_features = {}\n",
    "\n",
    "idx = 0\n",
    "for feature in df_features.keys():\n",
    "    df = df_features[feature].copy()\n",
    "    df = pd.merge(df_master, df, how='left', left_on=[time_gran_col], right_on=[time_gran_col])\n",
    "    \n",
    "    df_master_features[feature] = df"
   ]
  },
  {
   "cell_type": "markdown",
   "metadata": {},
   "source": [
    "### Interpolation - Linear"
   ]
  },
  {
   "cell_type": "code",
   "execution_count": 13,
   "metadata": {},
   "outputs": [
    {
     "name": "stdout",
     "output_type": "stream",
     "text": [
      "TT61B05.PV Total= 2629441  NANs=  1174672 --> 1\n",
      "PT63105.PV Total= 2629441  NANs=  2089555 --> 29677\n",
      "TC63109E.AV Total= 2629441  NANs=  2629102 --> 29678\n",
      "PT61B00.PV Total= 2629441  NANs=  1732657 --> 0\n",
      "PC63112E.AV Total= 2629441  NANs=  2309849 --> 26\n",
      "T6153.PV Total= 2629441  NANs=  1794701 --> 1\n",
      "PIE61B23.PV Total= 2629441  NANs=  2564476 --> 2224943\n",
      "TT61B03.PV Total= 2629441  NANs=  1244902 --> 1\n",
      "LT63114.PV Total= 2629441  NANs=  1124301 --> 0\n",
      "05GTWY_BN06:XT61B17.PNT Total= 2629441  NANs=  491456 --> 0\n",
      "T6151.PV Total= 2629441  NANs=  1908372 --> 1\n",
      "TT61B01.PV Total= 2629441  NANs=  1265454 --> 2\n",
      "05GTWY_BN06:XT61B16.PNT Total= 2629441  NANs=  1094746 --> 0\n",
      "05GTWY_BN06:XT61B20.PNT Total= 2629441  NANs=  542646 --> 0\n",
      "PT63103.PV Total= 2629441  NANs=  1421857 --> 0\n",
      "PA63110.PV Total= 2629441  NANs=  2312018 --> 26\n",
      "PDA61B21.PV Total= 2629441  NANs=  2312023 --> 26\n",
      "05GTWY_BN06:XT61B13.PNT Total= 2629441  NANs=  512193 --> 0\n",
      "PIE61B00.PV Total= 2629441  NANs=  2472484 --> 2224943\n",
      "TT61B04.PV Total= 2629441  NANs=  1299159 --> 1\n",
      "F61221VP Total= 2629441  NANs=  1381205 --> 0\n",
      "05GTWY_BN06:XT61B12.PNT Total= 2629441  NANs=  530516 --> 0\n",
      "F61221 Total= 2629441  NANs=  1466122 --> 0\n",
      "TT61B06.PV Total= 2629441  NANs=  1302841 --> 2\n",
      "PC61A98E.AV Total= 2629441  NANs=  2309571 --> 26\n",
      "TT61B02.PV Total= 2629441  NANs=  1224509 --> 1\n",
      "05GTWY_BN06:XT61B10.PNT Total= 2629441  NANs=  428479 --> 0\n",
      "PC61A98.AV Total= 2629441  NANs=  1016375 --> 0\n",
      "PIE61B22.PV Total= 2629441  NANs=  2569024 --> 2224943\n",
      "T6152.PV Total= 2629441  NANs=  1877849 --> 60\n",
      "FT61A99.PV Total= 2629441  NANs=  1634752 --> 0\n",
      "05GTWY_BN06:ZT61B14.PNT Total= 2629441  NANs=  804828 --> 525600\n",
      "TC63109.AV Total= 2629441  NANs=  983789 --> 1\n",
      "05GTWY_BN06:XT61B19.PNT Total= 2629441  NANs=  502426 --> 0\n",
      "PT63112.PV Total= 2629441  NANs=  895339 --> 0\n",
      "05GTWY_BN06:XT61B18.PNT Total= 2629441  NANs=  531857 --> 0\n",
      "TT63109.PV Total= 2629441  NANs=  902083 --> 1\n",
      "FIE61A99.PV Total= 2629441  NANs=  2477946 --> 2224943\n",
      "PIE63113.PV Total= 2629441  NANs=  2414943 --> 2224943\n",
      "05GTWY_BN06:ZT61B15.PNT Total= 2629441  NANs=  818789 --> 525600\n",
      "PC63112.AV Total= 2629441  NANs=  962846 --> 0\n",
      "05GTWY_BN06:XT61B11.PNT Total= 2629441  NANs=  502984 --> 0\n",
      "PT61A98.PV Total= 2629441  NANs=  917781 --> 0\n",
      "PIE61608.PV Total= 2629441  NANs=  2542151 --> 2224944\n",
      "T6150.PV Total= 2629441  NANs=  2161828 --> 19\n"
     ]
    }
   ],
   "source": [
    "print('| Tag | Total | NANs before Interpolation | NANs after interpolation |')\n",
    "print('| -- | -- | -- | -- |')\n",
    "\n",
    "for feature in df_master_features.keys():    \n",
    "    df = df_master_features[feature].copy()\n",
    "    \n",
    "    print('|', feature, '|', len(df),  '|', len(df.loc[df[value_col].isna()]), end='|')\n",
    "    \n",
    "    df.interpolate(inplace=True)\n",
    "    \n",
    "    print(len(df.loc[df[value_col].isna()]), '|')\n",
    "    \n",
    "    df_master_features[feature] = df"
   ]
  },
  {
   "cell_type": "code",
   "execution_count": 14,
   "metadata": {},
   "outputs": [
    {
     "name": "stdout",
     "output_type": "stream",
     "text": [
      "TT61B05.PV \tSize= 2629441 --> 2629440\n",
      "PT63105.PV \tSize= 2629441 --> 2599764\n",
      "TC63109E.AV \tSize= 2629441 --> 2599763\n",
      "PT61B00.PV \tSize= 2629441 --> 2629441\n",
      "PC63112E.AV \tSize= 2629441 --> 2629415\n",
      "T6153.PV \tSize= 2629441 --> 2629440\n",
      "PIE61B23.PV \tSize= 2629441 --> 404498\n",
      "TT61B03.PV \tSize= 2629441 --> 2629440\n",
      "LT63114.PV \tSize= 2629441 --> 2629441\n",
      "05GTWY_BN06:XT61B17.PNT \tSize= 2629441 --> 2629441\n",
      "T6151.PV \tSize= 2629441 --> 2629440\n",
      "TT61B01.PV \tSize= 2629441 --> 2629439\n",
      "05GTWY_BN06:XT61B16.PNT \tSize= 2629441 --> 2629441\n",
      "05GTWY_BN06:XT61B20.PNT \tSize= 2629441 --> 2629441\n",
      "PT63103.PV \tSize= 2629441 --> 2629441\n",
      "PA63110.PV \tSize= 2629441 --> 2629415\n",
      "PDA61B21.PV \tSize= 2629441 --> 2629415\n",
      "05GTWY_BN06:XT61B13.PNT \tSize= 2629441 --> 2629441\n",
      "PIE61B00.PV \tSize= 2629441 --> 404498\n",
      "TT61B04.PV \tSize= 2629441 --> 2629440\n",
      "F61221VP \tSize= 2629441 --> 2629441\n",
      "05GTWY_BN06:XT61B12.PNT \tSize= 2629441 --> 2629441\n",
      "F61221 \tSize= 2629441 --> 2629441\n",
      "TT61B06.PV \tSize= 2629441 --> 2629439\n",
      "PC61A98E.AV \tSize= 2629441 --> 2629415\n",
      "TT61B02.PV \tSize= 2629441 --> 2629440\n",
      "05GTWY_BN06:XT61B10.PNT \tSize= 2629441 --> 2629441\n",
      "PC61A98.AV \tSize= 2629441 --> 2629441\n",
      "PIE61B22.PV \tSize= 2629441 --> 404498\n",
      "T6152.PV \tSize= 2629441 --> 2629381\n",
      "FT61A99.PV \tSize= 2629441 --> 2629441\n",
      "05GTWY_BN06:ZT61B14.PNT \tSize= 2629441 --> 2103841\n",
      "TC63109.AV \tSize= 2629441 --> 2629440\n",
      "05GTWY_BN06:XT61B19.PNT \tSize= 2629441 --> 2629441\n",
      "PT63112.PV \tSize= 2629441 --> 2629441\n",
      "05GTWY_BN06:XT61B18.PNT \tSize= 2629441 --> 2629441\n",
      "TT63109.PV \tSize= 2629441 --> 2629440\n",
      "FIE61A99.PV \tSize= 2629441 --> 404498\n",
      "PIE63113.PV \tSize= 2629441 --> 404498\n",
      "05GTWY_BN06:ZT61B15.PNT \tSize= 2629441 --> 2103841\n",
      "PC63112.AV \tSize= 2629441 --> 2629441\n",
      "05GTWY_BN06:XT61B11.PNT \tSize= 2629441 --> 2629441\n",
      "PT61A98.PV \tSize= 2629441 --> 2629441\n",
      "PIE61608.PV \tSize= 2629441 --> 404497\n",
      "T6150.PV \tSize= 2629441 --> 2629422\n"
     ]
    }
   ],
   "source": [
    "for feature,df in df_master_features.items():\n",
    "    print(feature, '\\tSize=', len(df), end=' --> ')\n",
    "    df.dropna(subset=['val'], inplace=True)\n",
    "    print(len(df))"
   ]
  },
  {
   "cell_type": "markdown",
   "metadata": {},
   "source": [
    "### Write imputed files"
   ]
  },
  {
   "cell_type": "code",
   "execution_count": 15,
   "metadata": {},
   "outputs": [
    {
     "name": "stdout",
     "output_type": "stream",
     "text": [
      "Writing to file  ../data/interim/P6302B/imputed/TT61B05.PV.pkl (2629440, 2) [ TT61B05.PV ]\n",
      "Writing to file  ../data/interim/P6302B/imputed/PT63105.PV.pkl (2599764, 2) [ PT63105.PV ]\n",
      "Writing to file  ../data/interim/P6302B/imputed/TC63109E.AV.pkl (2599763, 2) [ TC63109E.AV ]\n",
      "Writing to file  ../data/interim/P6302B/imputed/PT61B00.PV.pkl (2629441, 2) [ PT61B00.PV ]\n",
      "Writing to file  ../data/interim/P6302B/imputed/PC63112E.AV.pkl (2629415, 2) [ PC63112E.AV ]\n",
      "Writing to file  ../data/interim/P6302B/imputed/T6153.PV.pkl (2629440, 2) [ T6153.PV ]\n",
      "Writing to file  ../data/interim/P6302B/imputed/PIE61B23.PV.pkl (404498, 2) [ PIE61B23.PV ]\n",
      "Writing to file  ../data/interim/P6302B/imputed/TT61B03.PV.pkl (2629440, 2) [ TT61B03.PV ]\n",
      "Writing to file  ../data/interim/P6302B/imputed/LT63114.PV.pkl (2629441, 2) [ LT63114.PV ]\n",
      "Writing to file  ../data/interim/P6302B/imputed/05GTWY_BN06-XT61B17.PNT.pkl (2629441, 2) [ 05GTWY_BN06:XT61B17.PNT ]\n",
      "Writing to file  ../data/interim/P6302B/imputed/T6151.PV.pkl (2629440, 2) [ T6151.PV ]\n",
      "Writing to file  ../data/interim/P6302B/imputed/TT61B01.PV.pkl (2629439, 2) [ TT61B01.PV ]\n",
      "Writing to file  ../data/interim/P6302B/imputed/05GTWY_BN06-XT61B16.PNT.pkl (2629441, 2) [ 05GTWY_BN06:XT61B16.PNT ]\n",
      "Writing to file  ../data/interim/P6302B/imputed/05GTWY_BN06-XT61B20.PNT.pkl (2629441, 2) [ 05GTWY_BN06:XT61B20.PNT ]\n",
      "Writing to file  ../data/interim/P6302B/imputed/PT63103.PV.pkl (2629441, 2) [ PT63103.PV ]\n",
      "Writing to file  ../data/interim/P6302B/imputed/PA63110.PV.pkl (2629415, 2) [ PA63110.PV ]\n",
      "Writing to file  ../data/interim/P6302B/imputed/PDA61B21.PV.pkl (2629415, 2) [ PDA61B21.PV ]\n",
      "Writing to file  ../data/interim/P6302B/imputed/05GTWY_BN06-XT61B13.PNT.pkl (2629441, 2) [ 05GTWY_BN06:XT61B13.PNT ]\n",
      "Writing to file  ../data/interim/P6302B/imputed/PIE61B00.PV.pkl (404498, 2) [ PIE61B00.PV ]\n",
      "Writing to file  ../data/interim/P6302B/imputed/TT61B04.PV.pkl (2629440, 2) [ TT61B04.PV ]\n",
      "Writing to file  ../data/interim/P6302B/imputed/F61221VP.pkl (2629441, 2) [ F61221VP ]\n",
      "Writing to file  ../data/interim/P6302B/imputed/05GTWY_BN06-XT61B12.PNT.pkl (2629441, 2) [ 05GTWY_BN06:XT61B12.PNT ]\n",
      "Writing to file  ../data/interim/P6302B/imputed/F61221.pkl (2629441, 2) [ F61221 ]\n",
      "Writing to file  ../data/interim/P6302B/imputed/TT61B06.PV.pkl (2629439, 2) [ TT61B06.PV ]\n",
      "Writing to file  ../data/interim/P6302B/imputed/PC61A98E.AV.pkl (2629415, 2) [ PC61A98E.AV ]\n",
      "Writing to file  ../data/interim/P6302B/imputed/TT61B02.PV.pkl (2629440, 2) [ TT61B02.PV ]\n",
      "Writing to file  ../data/interim/P6302B/imputed/05GTWY_BN06-XT61B10.PNT.pkl (2629441, 2) [ 05GTWY_BN06:XT61B10.PNT ]\n",
      "Writing to file  ../data/interim/P6302B/imputed/PC61A98.AV.pkl (2629441, 2) [ PC61A98.AV ]\n",
      "Writing to file  ../data/interim/P6302B/imputed/PIE61B22.PV.pkl (404498, 2) [ PIE61B22.PV ]\n",
      "Writing to file  ../data/interim/P6302B/imputed/T6152.PV.pkl (2629381, 2) [ T6152.PV ]\n",
      "Writing to file  ../data/interim/P6302B/imputed/FT61A99.PV.pkl (2629441, 2) [ FT61A99.PV ]\n",
      "Writing to file  ../data/interim/P6302B/imputed/05GTWY_BN06-ZT61B14.PNT.pkl (2103841, 2) [ 05GTWY_BN06:ZT61B14.PNT ]\n",
      "Writing to file  ../data/interim/P6302B/imputed/TC63109.AV.pkl (2629440, 2) [ TC63109.AV ]\n",
      "Writing to file  ../data/interim/P6302B/imputed/05GTWY_BN06-XT61B19.PNT.pkl (2629441, 2) [ 05GTWY_BN06:XT61B19.PNT ]\n",
      "Writing to file  ../data/interim/P6302B/imputed/PT63112.PV.pkl (2629441, 2) [ PT63112.PV ]\n",
      "Writing to file  ../data/interim/P6302B/imputed/05GTWY_BN06-XT61B18.PNT.pkl (2629441, 2) [ 05GTWY_BN06:XT61B18.PNT ]\n",
      "Writing to file  ../data/interim/P6302B/imputed/TT63109.PV.pkl (2629440, 2) [ TT63109.PV ]\n",
      "Writing to file  ../data/interim/P6302B/imputed/FIE61A99.PV.pkl (404498, 2) [ FIE61A99.PV ]\n",
      "Writing to file  ../data/interim/P6302B/imputed/PIE63113.PV.pkl (404498, 2) [ PIE63113.PV ]\n",
      "Writing to file  ../data/interim/P6302B/imputed/05GTWY_BN06-ZT61B15.PNT.pkl (2103841, 2) [ 05GTWY_BN06:ZT61B15.PNT ]\n",
      "Writing to file  ../data/interim/P6302B/imputed/PC63112.AV.pkl (2629441, 2) [ PC63112.AV ]\n",
      "Writing to file  ../data/interim/P6302B/imputed/05GTWY_BN06-XT61B11.PNT.pkl (2629441, 2) [ 05GTWY_BN06:XT61B11.PNT ]\n",
      "Writing to file  ../data/interim/P6302B/imputed/PT61A98.PV.pkl (2629441, 2) [ PT61A98.PV ]\n",
      "Writing to file  ../data/interim/P6302B/imputed/PIE61608.PV.pkl (404497, 2) [ PIE61608.PV ]\n",
      "Writing to file  ../data/interim/P6302B/imputed/T6150.PV.pkl (2629422, 2) [ T6150.PV ]\n"
     ]
    }
   ],
   "source": [
    "from utils import write_feature_dict\n",
    "int_dir = INT_DATA_DIR + 'imputed/'\n",
    "write_feature_dict(int_dir, df_master_features)"
   ]
  },
  {
   "cell_type": "markdown",
   "metadata": {},
   "source": [
    "### Read imputed files"
   ]
  },
  {
   "cell_type": "code",
   "execution_count": 16,
   "metadata": {},
   "outputs": [
    {
     "name": "stdout",
     "output_type": "stream",
     "text": [
      "Number of files found in ../data/interim/P6302B/imputed/ is 45 \n",
      "Number of features extracted from 45 files is 45 \n"
     ]
    }
   ],
   "source": [
    "# Testing read_data function\n",
    "input_dir = INT_DATA_DIR + 'imputed/'\n",
    "df_features_norm = read_data(input_dir, True)"
   ]
  },
  {
   "cell_type": "code",
   "execution_count": 17,
   "metadata": {},
   "outputs": [
    {
     "name": "stdout",
     "output_type": "stream",
     "text": [
      "TT61B05.PV -- 2629440\n",
      "PT63105.PV -- 2599764\n",
      "TC63109E.AV -- 2599763\n",
      "PT61B00.PV -- 2629441\n",
      "PC63112E.AV -- 2629415\n",
      "T6153.PV -- 2629440\n",
      "PIE61B23.PV -- 404498\n",
      "TT61B03.PV -- 2629440\n",
      "LT63114.PV -- 2629441\n",
      "05GTWY_BN06:XT61B17.PNT -- 2629441\n",
      "T6151.PV -- 2629440\n",
      "TT61B01.PV -- 2629439\n",
      "05GTWY_BN06:XT61B16.PNT -- 2629441\n",
      "05GTWY_BN06:XT61B20.PNT -- 2629441\n",
      "PT63103.PV -- 2629441\n",
      "PA63110.PV -- 2629415\n",
      "PDA61B21.PV -- 2629415\n",
      "05GTWY_BN06:XT61B13.PNT -- 2629441\n",
      "PIE61B00.PV -- 404498\n",
      "TT61B04.PV -- 2629440\n",
      "F61221VP -- 2629441\n",
      "05GTWY_BN06:XT61B12.PNT -- 2629441\n",
      "F61221 -- 2629441\n",
      "TT61B06.PV -- 2629439\n",
      "PC61A98E.AV -- 2629415\n",
      "TT61B02.PV -- 2629440\n",
      "05GTWY_BN06:XT61B10.PNT -- 2629441\n",
      "PC61A98.AV -- 2629441\n",
      "PIE61B22.PV -- 404498\n",
      "T6152.PV -- 2629381\n",
      "FT61A99.PV -- 2629441\n",
      "05GTWY_BN06:ZT61B14.PNT -- 2103841\n",
      "TC63109.AV -- 2629440\n",
      "05GTWY_BN06:XT61B19.PNT -- 2629441\n",
      "PT63112.PV -- 2629441\n",
      "05GTWY_BN06:XT61B18.PNT -- 2629441\n",
      "TT63109.PV -- 2629440\n",
      "FIE61A99.PV -- 404498\n",
      "PIE63113.PV -- 404498\n",
      "05GTWY_BN06:ZT61B15.PNT -- 2103841\n",
      "PC63112.AV -- 2629441\n",
      "05GTWY_BN06:XT61B11.PNT -- 2629441\n",
      "PT61A98.PV -- 2629441\n",
      "PIE61608.PV -- 404497\n",
      "T6150.PV -- 2629422\n"
     ]
    }
   ],
   "source": [
    "for feature in df_features_norm.keys():    \n",
    "    print(feature, '--', len(df_features_norm[feature]))"
   ]
  },
  {
   "cell_type": "markdown",
   "metadata": {},
   "source": [
    "### Normalization"
   ]
  },
  {
   "cell_type": "code",
   "execution_count": 18,
   "metadata": {},
   "outputs": [
    {
     "name": "stdout",
     "output_type": "stream",
     "text": [
      "TT61B05.PV  --  2629440  --  0\n",
      "PT63105.PV  --  2599764  --  0\n",
      "TC63109E.AV  --  2599763  --  0\n",
      "PT61B00.PV  --  2629441  --  0\n",
      "PC63112E.AV  --  2629415  --  0\n",
      "T6153.PV  --  2629440  --  0\n",
      "PIE61B23.PV  --  404498  --  0\n",
      "TT61B03.PV  --  2629440  --  0\n",
      "LT63114.PV  --  2629441  --  0\n",
      "05GTWY_BN06:XT61B17.PNT  --  2629441  --  0\n",
      "T6151.PV  --  2629440  --  0\n",
      "TT61B01.PV  --  2629439  --  0\n",
      "05GTWY_BN06:XT61B16.PNT  --  2629441  --  0\n",
      "05GTWY_BN06:XT61B20.PNT  --  2629441  --  0\n",
      "PT63103.PV  --  2629441  --  0\n",
      "PA63110.PV  --  2629415  --  0\n",
      "PDA61B21.PV  --  2629415  --  0\n",
      "05GTWY_BN06:XT61B13.PNT  --  2629441  --  0\n",
      "PIE61B00.PV  --  404498  --  0\n",
      "TT61B04.PV  --  2629440  --  0\n",
      "F61221VP  --  2629441  --  0\n",
      "05GTWY_BN06:XT61B12.PNT  --  2629441  --  0\n",
      "F61221  --  2629441  --  0\n",
      "TT61B06.PV  --  2629439  --  0\n",
      "PC61A98E.AV  --  2629415  --  0\n",
      "TT61B02.PV  --  2629440  --  0\n",
      "05GTWY_BN06:XT61B10.PNT  --  2629441  --  0\n",
      "PC61A98.AV  --  2629441  --  0\n",
      "PIE61B22.PV  --  404498  --  0\n",
      "T6152.PV  --  2629381  --  0\n",
      "FT61A99.PV  --  2629441  --  0\n",
      "05GTWY_BN06:ZT61B14.PNT  --  2103841  --  0\n",
      "TC63109.AV  --  2629440  --  0\n",
      "05GTWY_BN06:XT61B19.PNT  --  2629441  --  0\n",
      "PT63112.PV  --  2629441  --  0\n",
      "05GTWY_BN06:XT61B18.PNT  --  2629441  --  0\n",
      "TT63109.PV  --  2629440  --  0\n",
      "FIE61A99.PV  --  404498  --  0\n",
      "PIE63113.PV  --  404498  --  0\n",
      "05GTWY_BN06:ZT61B15.PNT  --  2103841  --  0\n",
      "PC63112.AV  --  2629441  --  0\n",
      "05GTWY_BN06:XT61B11.PNT  --  2629441  --  0\n",
      "PT61A98.PV  --  2629441  --  0\n",
      "PIE61608.PV  --  404497  --  0\n",
      "T6150.PV  --  2629422  --  0\n"
     ]
    }
   ],
   "source": [
    "from utils import scale_val\n",
    "\n",
    "scaled_value_col = 'scaled_val'\n",
    "value_col = 'val'\n",
    "\n",
    "for feature, df in df_features_norm.items():\n",
    "    \n",
    "    df.dropna(inplace=True)\n",
    "    \n",
    "    min_val = df[value_col].min()\n",
    "    max_val = df[value_col].max()\n",
    "\n",
    "    df[scaled_value_col] = df[value_col].apply(lambda x:scale_val(x, min_val, max_val))\n",
    "    \n",
    "    print(feature, ' -- ', len(df), ' -- ', len(df.loc[df[value_col].isna()]))"
   ]
  },
  {
   "cell_type": "markdown",
   "metadata": {},
   "source": [
    "### Write normalized files"
   ]
  },
  {
   "cell_type": "code",
   "execution_count": 19,
   "metadata": {},
   "outputs": [
    {
     "name": "stdout",
     "output_type": "stream",
     "text": [
      "Writing to file  ../data/interim/P6302B/normalized/TT61B05.PV.pkl (2629440, 3) [ TT61B05.PV ]\n",
      "Writing to file  ../data/interim/P6302B/normalized/PT63105.PV.pkl (2599764, 3) [ PT63105.PV ]\n",
      "Writing to file  ../data/interim/P6302B/normalized/TC63109E.AV.pkl (2599763, 3) [ TC63109E.AV ]\n",
      "Writing to file  ../data/interim/P6302B/normalized/PT61B00.PV.pkl (2629441, 3) [ PT61B00.PV ]\n",
      "Writing to file  ../data/interim/P6302B/normalized/PC63112E.AV.pkl (2629415, 3) [ PC63112E.AV ]\n",
      "Writing to file  ../data/interim/P6302B/normalized/T6153.PV.pkl (2629440, 3) [ T6153.PV ]\n",
      "Writing to file  ../data/interim/P6302B/normalized/PIE61B23.PV.pkl (404498, 3) [ PIE61B23.PV ]\n",
      "Writing to file  ../data/interim/P6302B/normalized/TT61B03.PV.pkl (2629440, 3) [ TT61B03.PV ]\n",
      "Writing to file  ../data/interim/P6302B/normalized/LT63114.PV.pkl (2629441, 3) [ LT63114.PV ]\n",
      "Writing to file  ../data/interim/P6302B/normalized/05GTWY_BN06-XT61B17.PNT.pkl (2629441, 3) [ 05GTWY_BN06:XT61B17.PNT ]\n",
      "Writing to file  ../data/interim/P6302B/normalized/T6151.PV.pkl (2629440, 3) [ T6151.PV ]\n",
      "Writing to file  ../data/interim/P6302B/normalized/TT61B01.PV.pkl (2629439, 3) [ TT61B01.PV ]\n",
      "Writing to file  ../data/interim/P6302B/normalized/05GTWY_BN06-XT61B16.PNT.pkl (2629441, 3) [ 05GTWY_BN06:XT61B16.PNT ]\n",
      "Writing to file  ../data/interim/P6302B/normalized/05GTWY_BN06-XT61B20.PNT.pkl (2629441, 3) [ 05GTWY_BN06:XT61B20.PNT ]\n",
      "Writing to file  ../data/interim/P6302B/normalized/PT63103.PV.pkl (2629441, 3) [ PT63103.PV ]\n",
      "Writing to file  ../data/interim/P6302B/normalized/PA63110.PV.pkl (2629415, 3) [ PA63110.PV ]\n",
      "Writing to file  ../data/interim/P6302B/normalized/PDA61B21.PV.pkl (2629415, 3) [ PDA61B21.PV ]\n",
      "Writing to file  ../data/interim/P6302B/normalized/05GTWY_BN06-XT61B13.PNT.pkl (2629441, 3) [ 05GTWY_BN06:XT61B13.PNT ]\n",
      "Writing to file  ../data/interim/P6302B/normalized/PIE61B00.PV.pkl (404498, 3) [ PIE61B00.PV ]\n",
      "Writing to file  ../data/interim/P6302B/normalized/TT61B04.PV.pkl (2629440, 3) [ TT61B04.PV ]\n",
      "Writing to file  ../data/interim/P6302B/normalized/F61221VP.pkl (2629441, 3) [ F61221VP ]\n",
      "Writing to file  ../data/interim/P6302B/normalized/05GTWY_BN06-XT61B12.PNT.pkl (2629441, 3) [ 05GTWY_BN06:XT61B12.PNT ]\n",
      "Writing to file  ../data/interim/P6302B/normalized/F61221.pkl (2629441, 3) [ F61221 ]\n",
      "Writing to file  ../data/interim/P6302B/normalized/TT61B06.PV.pkl (2629439, 3) [ TT61B06.PV ]\n",
      "Writing to file  ../data/interim/P6302B/normalized/PC61A98E.AV.pkl (2629415, 3) [ PC61A98E.AV ]\n",
      "Writing to file  ../data/interim/P6302B/normalized/TT61B02.PV.pkl (2629440, 3) [ TT61B02.PV ]\n",
      "Writing to file  ../data/interim/P6302B/normalized/05GTWY_BN06-XT61B10.PNT.pkl (2629441, 3) [ 05GTWY_BN06:XT61B10.PNT ]\n",
      "Writing to file  ../data/interim/P6302B/normalized/PC61A98.AV.pkl (2629441, 3) [ PC61A98.AV ]\n",
      "Writing to file  ../data/interim/P6302B/normalized/PIE61B22.PV.pkl (404498, 3) [ PIE61B22.PV ]\n",
      "Writing to file  ../data/interim/P6302B/normalized/T6152.PV.pkl (2629381, 3) [ T6152.PV ]\n",
      "Writing to file  ../data/interim/P6302B/normalized/FT61A99.PV.pkl (2629441, 3) [ FT61A99.PV ]\n",
      "Writing to file  ../data/interim/P6302B/normalized/05GTWY_BN06-ZT61B14.PNT.pkl (2103841, 3) [ 05GTWY_BN06:ZT61B14.PNT ]\n",
      "Writing to file  ../data/interim/P6302B/normalized/TC63109.AV.pkl (2629440, 3) [ TC63109.AV ]\n",
      "Writing to file  ../data/interim/P6302B/normalized/05GTWY_BN06-XT61B19.PNT.pkl (2629441, 3) [ 05GTWY_BN06:XT61B19.PNT ]\n",
      "Writing to file  ../data/interim/P6302B/normalized/PT63112.PV.pkl (2629441, 3) [ PT63112.PV ]\n",
      "Writing to file  ../data/interim/P6302B/normalized/05GTWY_BN06-XT61B18.PNT.pkl (2629441, 3) [ 05GTWY_BN06:XT61B18.PNT ]\n",
      "Writing to file  ../data/interim/P6302B/normalized/TT63109.PV.pkl (2629440, 3) [ TT63109.PV ]\n",
      "Writing to file  ../data/interim/P6302B/normalized/FIE61A99.PV.pkl (404498, 3) [ FIE61A99.PV ]\n",
      "Writing to file  ../data/interim/P6302B/normalized/PIE63113.PV.pkl (404498, 3) [ PIE63113.PV ]\n",
      "Writing to file  ../data/interim/P6302B/normalized/05GTWY_BN06-ZT61B15.PNT.pkl (2103841, 3) [ 05GTWY_BN06:ZT61B15.PNT ]\n",
      "Writing to file  ../data/interim/P6302B/normalized/PC63112.AV.pkl (2629441, 3) [ PC63112.AV ]\n",
      "Writing to file  ../data/interim/P6302B/normalized/05GTWY_BN06-XT61B11.PNT.pkl (2629441, 3) [ 05GTWY_BN06:XT61B11.PNT ]\n",
      "Writing to file  ../data/interim/P6302B/normalized/PT61A98.PV.pkl (2629441, 3) [ PT61A98.PV ]\n",
      "Writing to file  ../data/interim/P6302B/normalized/PIE61608.PV.pkl (404497, 3) [ PIE61608.PV ]\n",
      "Writing to file  ../data/interim/P6302B/normalized/T6150.PV.pkl (2629422, 3) [ T6150.PV ]\n"
     ]
    }
   ],
   "source": [
    "int_dir = INT_DATA_DIR + 'normalized/'\n",
    "write_feature_dict(int_dir, df_features_norm)"
   ]
  },
  {
   "cell_type": "code",
   "execution_count": null,
   "metadata": {},
   "outputs": [],
   "source": []
  }
 ],
 "metadata": {
  "kernelspec": {
   "display_name": "shell",
   "language": "python",
   "name": "shell"
  },
  "language_info": {
   "codemirror_mode": {
    "name": "ipython",
    "version": 3
   },
   "file_extension": ".py",
   "mimetype": "text/x-python",
   "name": "python",
   "nbconvert_exporter": "python",
   "pygments_lexer": "ipython3",
   "version": "3.6.6"
  }
 },
 "nbformat": 4,
 "nbformat_minor": 2
}
