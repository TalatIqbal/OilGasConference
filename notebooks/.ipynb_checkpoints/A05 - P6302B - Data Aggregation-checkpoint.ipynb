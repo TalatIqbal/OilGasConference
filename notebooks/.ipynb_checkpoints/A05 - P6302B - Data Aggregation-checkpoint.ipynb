{
 "cells": [
  {
   "cell_type": "markdown",
   "metadata": {},
   "source": [
    "# Data Aggregation and Dimensionality Reduction"
   ]
  },
  {
   "cell_type": "markdown",
   "metadata": {},
   "source": [
    "### Imports"
   ]
  },
  {
   "cell_type": "code",
   "execution_count": 1,
   "metadata": {},
   "outputs": [],
   "source": [
    "import pandas as pd\n",
    "import numpy as np\n",
    "from datetime import datetime\n",
    "from datetime import timedelta\n",
    "import matplotlib.pyplot as plt\n",
    "import os\n",
    "import ntpath\n",
    "import pickle as pkl\n",
    "import xlrd\n",
    "import time\n",
    "import string\n",
    "import math\n",
    "\n",
    "from os import listdir\n",
    "from os.path import isfile, join"
   ]
  },
  {
   "cell_type": "markdown",
   "metadata": {},
   "source": [
    "### Notebook options"
   ]
  },
  {
   "cell_type": "code",
   "execution_count": 2,
   "metadata": {},
   "outputs": [],
   "source": [
    "pd.set_option('display.max_colwidth', -1) # Column width\n",
    "plt.rcParams['figure.figsize'] = [15, 10] # Size of the plots"
   ]
  },
  {
   "cell_type": "markdown",
   "metadata": {},
   "source": [
    "### General Assumptions"
   ]
  },
  {
   "cell_type": "code",
   "execution_count": 3,
   "metadata": {},
   "outputs": [],
   "source": [
    "time_col = 'datetime'\n",
    "time_gran_col = 'datetime_gran'\n",
    "value_col = 'val'\n",
    "scaled_value_col = 'scaled_val'\n",
    "time_granularity = 'min'"
   ]
  },
  {
   "cell_type": "code",
   "execution_count": 4,
   "metadata": {},
   "outputs": [],
   "source": [
    "fmt = '%Y-%m-%d %H:%M:%S'\n",
    "base_date = datetime.strptime('2016-01-01 00:00:01', fmt)\n",
    "start_date = datetime.strptime('2016-01-01 00:00:01', fmt)\n",
    "stop_date = datetime.strptime('2019-01-01 00:00:01', fmt)"
   ]
  },
  {
   "cell_type": "markdown",
   "metadata": {},
   "source": [
    "### Data Directories"
   ]
  },
  {
   "cell_type": "code",
   "execution_count": 5,
   "metadata": {},
   "outputs": [],
   "source": [
    "pump = 'P1201'\n",
    "RAW_DATA_DIR = '../data/raw/'+pump+'/'\n",
    "PROC_DATA_DIR = '../data/processed/'+pump+'/'\n",
    "INT_DATA_DIR = '../data/interim/'+pump+'/'"
   ]
  },
  {
   "cell_type": "markdown",
   "metadata": {},
   "source": [
    "### Reading Normalized Data"
   ]
  },
  {
   "cell_type": "code",
   "execution_count": 6,
   "metadata": {},
   "outputs": [
    {
     "name": "stdout",
     "output_type": "stream",
     "text": [
      "Number of files found in ../data/interim/P1201/normalized/ is 16 \n",
      "Number of features extracted from 16 files is 16 \n"
     ]
    }
   ],
   "source": [
    "from utils import read_data\n",
    "input_dir = INT_DATA_DIR + 'normalized/'\n",
    "df_features_norm = read_data(input_dir, True)"
   ]
  },
  {
   "cell_type": "markdown",
   "metadata": {},
   "source": [
    "### Selected Features"
   ]
  },
  {
   "cell_type": "code",
   "execution_count": 7,
   "metadata": {},
   "outputs": [
    {
     "data": {
      "text/plain": [
       "['HART_P1CP04:FY12847FB.MEAS',\n",
       " '12V04CP4:PC12007.MEAS',\n",
       " '12V04CP4:LC12005A.MEAS',\n",
       " '12P01BCP4:FC12847.OUT',\n",
       " '12V04CP4:FC12006.OUT',\n",
       " '12P01BCP4:XI12597.CIN',\n",
       " '12P01BCP4:FC12847.SPT',\n",
       " '12V05CP4:PC12073.MEAS',\n",
       " '12P01BCP4:PI12956.PNT',\n",
       " '12V08CP4:FC12351.MEAS',\n",
       " '12DATASCRCP1:TI12813.PNT',\n",
       " '12V04CP4:FC12006.MEAS',\n",
       " '12GTWY_E101:FIE12404.PNT',\n",
       " '12P01BCP4:PI12955.PNT',\n",
       " '12P01BCP4:FC12847.MEAS',\n",
       " '12GTWY_E101:FALE12404SP.PNT']"
      ]
     },
     "execution_count": 7,
     "metadata": {},
     "output_type": "execute_result"
    }
   ],
   "source": [
    "list(df_features_norm.keys())"
   ]
  },
  {
   "cell_type": "code",
   "execution_count": 8,
   "metadata": {},
   "outputs": [
    {
     "name": "stdout",
     "output_type": "stream",
     "text": [
      "Number of usable features =  11\n"
     ]
    }
   ],
   "source": [
    "# Removing the following \n",
    "# a) All .OUT\n",
    "# b) All .CIN\n",
    "# c) All .SPT\n",
    "# d) .PNTs that have a flat line in graph\n",
    "\n",
    "usable_features = [\n",
    " 'HART_P1CP04:FY12847FB.MEAS',\n",
    " '12V04CP4:PC12007.MEAS',\n",
    " '12V04CP4:LC12005A.MEAS',\n",
    " '12V05CP4:PC12073.MEAS',\n",
    " '12P01BCP4:PI12956.PNT',\n",
    " '12V08CP4:FC12351.MEAS',\n",
    " '12DATASCRCP1:TI12813.PNT',\n",
    " '12V04CP4:FC12006.MEAS',\n",
    " '12GTWY_E101:FIE12404.PNT',\n",
    " '12P01BCP4:PI12955.PNT',\n",
    " '12P01BCP4:FC12847.MEAS'\n",
    "]\n",
    "\n",
    "print('Number of usable features = ', len(usable_features))"
   ]
  },
  {
   "cell_type": "markdown",
   "metadata": {},
   "source": [
    "### Generate Master Dataframe for time"
   ]
  },
  {
   "cell_type": "code",
   "execution_count": 9,
   "metadata": {},
   "outputs": [
    {
     "name": "stdout",
     "output_type": "stream",
     "text": [
      "min 2016-01-01 00:00:01 2019-01-01 00:00:01\n"
     ]
    }
   ],
   "source": [
    "from utils import generate_master_df\n",
    "\n",
    "time_granularity = 'min'\n",
    "time_gran_col = 'datetime_gran'\n",
    "\n",
    "fmt = '%Y-%m-%d %H:%M:%S'\n",
    "# base_date = datetime.strptime('2017-01-01 00:00:01', fmt)\n",
    "# stop_date = datetime.strptime('2019-01-01 00:00:01', fmt)\n",
    "\n",
    "print(time_granularity, base_date, stop_date)\n",
    "\n",
    "df_master = generate_master_df(time_granularity= time_granularity,\n",
    "                               time_gran_col= time_gran_col, \n",
    "                               base_date= base_date, \n",
    "                               end_date= stop_date)"
   ]
  },
  {
   "cell_type": "code",
   "execution_count": 10,
   "metadata": {},
   "outputs": [
    {
     "name": "stdout",
     "output_type": "stream",
     "text": [
      "Size of the master df 1578241\n"
     ]
    }
   ],
   "source": [
    "print('Size of the master df', len(df_master))"
   ]
  },
  {
   "cell_type": "markdown",
   "metadata": {},
   "source": [
    "### Use only selected features"
   ]
  },
  {
   "cell_type": "code",
   "execution_count": 11,
   "metadata": {},
   "outputs": [],
   "source": [
    "df_features_sel = {}\n",
    "for feature in usable_features:\n",
    "    df_features_sel[feature] = df_features_norm[feature].copy()"
   ]
  },
  {
   "cell_type": "code",
   "execution_count": 12,
   "metadata": {},
   "outputs": [
    {
     "data": {
      "text/plain": [
       "dict_keys(['HART_P1CP04:FY12847FB.MEAS', '12V04CP4:PC12007.MEAS', '12V04CP4:LC12005A.MEAS', '12V05CP4:PC12073.MEAS', '12P01BCP4:PI12956.PNT', '12V08CP4:FC12351.MEAS', '12DATASCRCP1:TI12813.PNT', '12V04CP4:FC12006.MEAS', '12GTWY_E101:FIE12404.PNT', '12P01BCP4:PI12955.PNT', '12P01BCP4:FC12847.MEAS'])"
      ]
     },
     "execution_count": 12,
     "metadata": {},
     "output_type": "execute_result"
    }
   ],
   "source": [
    "df_features_sel.keys()"
   ]
  },
  {
   "cell_type": "markdown",
   "metadata": {},
   "source": [
    "### Convert individual features into single dataframe"
   ]
  },
  {
   "cell_type": "code",
   "execution_count": 13,
   "metadata": {},
   "outputs": [],
   "source": [
    "idx = 0\n",
    "for feature in df_features_sel.keys():\n",
    "\n",
    "    df = df_features_sel[feature].copy()\n",
    "    df_master = pd.merge(df_master, df[[time_gran_col, scaled_value_col]], how='left', left_on=[time_gran_col], right_on=[time_gran_col])\n",
    "    df_master.rename(columns={scaled_value_col:feature}, inplace=True)    "
   ]
  },
  {
   "cell_type": "code",
   "execution_count": 14,
   "metadata": {},
   "outputs": [
    {
     "data": {
      "text/plain": [
       "dict_keys(['HART_P1CP04:FY12847FB.MEAS', '12V04CP4:PC12007.MEAS', '12V04CP4:LC12005A.MEAS', '12V05CP4:PC12073.MEAS', '12P01BCP4:PI12956.PNT', '12V08CP4:FC12351.MEAS', '12DATASCRCP1:TI12813.PNT', '12V04CP4:FC12006.MEAS', '12GTWY_E101:FIE12404.PNT', '12P01BCP4:PI12955.PNT', '12P01BCP4:FC12847.MEAS'])"
      ]
     },
     "execution_count": 14,
     "metadata": {},
     "output_type": "execute_result"
    }
   ],
   "source": [
    "df_features_sel.keys()"
   ]
  },
  {
   "cell_type": "code",
   "execution_count": 15,
   "metadata": {},
   "outputs": [
    {
     "data": {
      "text/html": [
       "<div>\n",
       "<style scoped>\n",
       "    .dataframe tbody tr th:only-of-type {\n",
       "        vertical-align: middle;\n",
       "    }\n",
       "\n",
       "    .dataframe tbody tr th {\n",
       "        vertical-align: top;\n",
       "    }\n",
       "\n",
       "    .dataframe thead th {\n",
       "        text-align: right;\n",
       "    }\n",
       "</style>\n",
       "<table border=\"1\" class=\"dataframe\">\n",
       "  <thead>\n",
       "    <tr style=\"text-align: right;\">\n",
       "      <th></th>\n",
       "      <th>datetime_gran</th>\n",
       "      <th>HART_P1CP04:FY12847FB.MEAS</th>\n",
       "      <th>12V04CP4:PC12007.MEAS</th>\n",
       "      <th>12V04CP4:LC12005A.MEAS</th>\n",
       "      <th>12V05CP4:PC12073.MEAS</th>\n",
       "      <th>12P01BCP4:PI12956.PNT</th>\n",
       "      <th>12V08CP4:FC12351.MEAS</th>\n",
       "      <th>12DATASCRCP1:TI12813.PNT</th>\n",
       "      <th>12V04CP4:FC12006.MEAS</th>\n",
       "      <th>12GTWY_E101:FIE12404.PNT</th>\n",
       "      <th>12P01BCP4:PI12955.PNT</th>\n",
       "      <th>12P01BCP4:FC12847.MEAS</th>\n",
       "    </tr>\n",
       "  </thead>\n",
       "  <tbody>\n",
       "    <tr>\n",
       "      <th>0</th>\n",
       "      <td>1</td>\n",
       "      <td>NaN</td>\n",
       "      <td>NaN</td>\n",
       "      <td>NaN</td>\n",
       "      <td>NaN</td>\n",
       "      <td>NaN</td>\n",
       "      <td>NaN</td>\n",
       "      <td>NaN</td>\n",
       "      <td>NaN</td>\n",
       "      <td>NaN</td>\n",
       "      <td>NaN</td>\n",
       "      <td>NaN</td>\n",
       "    </tr>\n",
       "    <tr>\n",
       "      <th>1</th>\n",
       "      <td>2</td>\n",
       "      <td>NaN</td>\n",
       "      <td>NaN</td>\n",
       "      <td>NaN</td>\n",
       "      <td>NaN</td>\n",
       "      <td>NaN</td>\n",
       "      <td>NaN</td>\n",
       "      <td>NaN</td>\n",
       "      <td>NaN</td>\n",
       "      <td>NaN</td>\n",
       "      <td>NaN</td>\n",
       "      <td>NaN</td>\n",
       "    </tr>\n",
       "    <tr>\n",
       "      <th>2</th>\n",
       "      <td>3</td>\n",
       "      <td>NaN</td>\n",
       "      <td>NaN</td>\n",
       "      <td>NaN</td>\n",
       "      <td>NaN</td>\n",
       "      <td>NaN</td>\n",
       "      <td>NaN</td>\n",
       "      <td>NaN</td>\n",
       "      <td>NaN</td>\n",
       "      <td>NaN</td>\n",
       "      <td>NaN</td>\n",
       "      <td>NaN</td>\n",
       "    </tr>\n",
       "    <tr>\n",
       "      <th>3</th>\n",
       "      <td>4</td>\n",
       "      <td>NaN</td>\n",
       "      <td>NaN</td>\n",
       "      <td>NaN</td>\n",
       "      <td>NaN</td>\n",
       "      <td>NaN</td>\n",
       "      <td>NaN</td>\n",
       "      <td>NaN</td>\n",
       "      <td>NaN</td>\n",
       "      <td>NaN</td>\n",
       "      <td>NaN</td>\n",
       "      <td>NaN</td>\n",
       "    </tr>\n",
       "    <tr>\n",
       "      <th>4</th>\n",
       "      <td>5</td>\n",
       "      <td>NaN</td>\n",
       "      <td>NaN</td>\n",
       "      <td>NaN</td>\n",
       "      <td>NaN</td>\n",
       "      <td>NaN</td>\n",
       "      <td>NaN</td>\n",
       "      <td>NaN</td>\n",
       "      <td>NaN</td>\n",
       "      <td>NaN</td>\n",
       "      <td>NaN</td>\n",
       "      <td>NaN</td>\n",
       "    </tr>\n",
       "  </tbody>\n",
       "</table>\n",
       "</div>"
      ],
      "text/plain": [
       "   datetime_gran  HART_P1CP04:FY12847FB.MEAS  12V04CP4:PC12007.MEAS  \\\n",
       "0  1             NaN                         NaN                      \n",
       "1  2             NaN                         NaN                      \n",
       "2  3             NaN                         NaN                      \n",
       "3  4             NaN                         NaN                      \n",
       "4  5             NaN                         NaN                      \n",
       "\n",
       "   12V04CP4:LC12005A.MEAS  12V05CP4:PC12073.MEAS  12P01BCP4:PI12956.PNT  \\\n",
       "0 NaN                     NaN                    NaN                      \n",
       "1 NaN                     NaN                    NaN                      \n",
       "2 NaN                     NaN                    NaN                      \n",
       "3 NaN                     NaN                    NaN                      \n",
       "4 NaN                     NaN                    NaN                      \n",
       "\n",
       "   12V08CP4:FC12351.MEAS  12DATASCRCP1:TI12813.PNT  12V04CP4:FC12006.MEAS  \\\n",
       "0 NaN                    NaN                       NaN                      \n",
       "1 NaN                    NaN                       NaN                      \n",
       "2 NaN                    NaN                       NaN                      \n",
       "3 NaN                    NaN                       NaN                      \n",
       "4 NaN                    NaN                       NaN                      \n",
       "\n",
       "   12GTWY_E101:FIE12404.PNT  12P01BCP4:PI12955.PNT  12P01BCP4:FC12847.MEAS  \n",
       "0 NaN                       NaN                    NaN                      \n",
       "1 NaN                       NaN                    NaN                      \n",
       "2 NaN                       NaN                    NaN                      \n",
       "3 NaN                       NaN                    NaN                      \n",
       "4 NaN                       NaN                    NaN                      "
      ]
     },
     "execution_count": 15,
     "metadata": {},
     "output_type": "execute_result"
    }
   ],
   "source": [
    "df_master.head()"
   ]
  },
  {
   "cell_type": "markdown",
   "metadata": {},
   "source": [
    "### Aggregation"
   ]
  },
  {
   "cell_type": "code",
   "execution_count": 16,
   "metadata": {},
   "outputs": [],
   "source": [
    "from utils import get_minutes_after\n",
    "\n",
    "start_date_analysis = datetime.strptime('2018-01-01 00:00:01', fmt)\n",
    "stop_date_analysis = datetime.strptime('2018-11-01 00:00:01', fmt)\n",
    "\n",
    "start = get_minutes_after(base_date=base_date, current_date=start_date_analysis)\n",
    "stop = get_minutes_after(base_date=base_date, current_date=stop_date_analysis)\n",
    "\n",
    "df_master_date = df_master.loc[(df_master[time_gran_col] > start) & (df_master[time_gran_col] < stop)]"
   ]
  },
  {
   "cell_type": "code",
   "execution_count": 17,
   "metadata": {},
   "outputs": [
    {
     "data": {
      "text/html": [
       "<div>\n",
       "<style scoped>\n",
       "    .dataframe tbody tr th:only-of-type {\n",
       "        vertical-align: middle;\n",
       "    }\n",
       "\n",
       "    .dataframe tbody tr th {\n",
       "        vertical-align: top;\n",
       "    }\n",
       "\n",
       "    .dataframe thead th {\n",
       "        text-align: right;\n",
       "    }\n",
       "</style>\n",
       "<table border=\"1\" class=\"dataframe\">\n",
       "  <thead>\n",
       "    <tr style=\"text-align: right;\">\n",
       "      <th></th>\n",
       "      <th>datetime_gran</th>\n",
       "      <th>HART_P1CP04:FY12847FB.MEAS</th>\n",
       "      <th>12V04CP4:PC12007.MEAS</th>\n",
       "      <th>12V04CP4:LC12005A.MEAS</th>\n",
       "      <th>12V05CP4:PC12073.MEAS</th>\n",
       "      <th>12P01BCP4:PI12956.PNT</th>\n",
       "      <th>12V08CP4:FC12351.MEAS</th>\n",
       "      <th>12DATASCRCP1:TI12813.PNT</th>\n",
       "      <th>12V04CP4:FC12006.MEAS</th>\n",
       "      <th>12GTWY_E101:FIE12404.PNT</th>\n",
       "      <th>12P01BCP4:PI12955.PNT</th>\n",
       "      <th>12P01BCP4:FC12847.MEAS</th>\n",
       "    </tr>\n",
       "  </thead>\n",
       "  <tbody>\n",
       "    <tr>\n",
       "      <th>1052641</th>\n",
       "      <td>1052642</td>\n",
       "      <td>0.982966</td>\n",
       "      <td>0.616575</td>\n",
       "      <td>0.516241</td>\n",
       "      <td>0.371921</td>\n",
       "      <td>0.715633</td>\n",
       "      <td>0.351119</td>\n",
       "      <td>0.069354</td>\n",
       "      <td>0.332981</td>\n",
       "      <td>0.114017</td>\n",
       "      <td>0.496189</td>\n",
       "      <td>0.000338</td>\n",
       "    </tr>\n",
       "    <tr>\n",
       "      <th>1052642</th>\n",
       "      <td>1052643</td>\n",
       "      <td>0.982966</td>\n",
       "      <td>0.624924</td>\n",
       "      <td>0.513221</td>\n",
       "      <td>0.372420</td>\n",
       "      <td>0.714983</td>\n",
       "      <td>0.352894</td>\n",
       "      <td>0.067677</td>\n",
       "      <td>0.332231</td>\n",
       "      <td>0.115755</td>\n",
       "      <td>0.496189</td>\n",
       "      <td>0.000358</td>\n",
       "    </tr>\n",
       "    <tr>\n",
       "      <th>1052643</th>\n",
       "      <td>1052644</td>\n",
       "      <td>0.982966</td>\n",
       "      <td>0.626434</td>\n",
       "      <td>0.512130</td>\n",
       "      <td>0.372087</td>\n",
       "      <td>0.715307</td>\n",
       "      <td>0.353981</td>\n",
       "      <td>0.068198</td>\n",
       "      <td>0.329184</td>\n",
       "      <td>0.106135</td>\n",
       "      <td>0.495362</td>\n",
       "      <td>0.000398</td>\n",
       "    </tr>\n",
       "    <tr>\n",
       "      <th>1052644</th>\n",
       "      <td>1052645</td>\n",
       "      <td>0.982966</td>\n",
       "      <td>0.622968</td>\n",
       "      <td>0.512718</td>\n",
       "      <td>0.373418</td>\n",
       "      <td>0.715794</td>\n",
       "      <td>0.354564</td>\n",
       "      <td>0.060073</td>\n",
       "      <td>0.331178</td>\n",
       "      <td>0.109651</td>\n",
       "      <td>0.495527</td>\n",
       "      <td>0.000318</td>\n",
       "    </tr>\n",
       "    <tr>\n",
       "      <th>1052645</th>\n",
       "      <td>1052646</td>\n",
       "      <td>0.982966</td>\n",
       "      <td>0.625279</td>\n",
       "      <td>0.511166</td>\n",
       "      <td>0.373916</td>\n",
       "      <td>0.715388</td>\n",
       "      <td>0.355147</td>\n",
       "      <td>0.054184</td>\n",
       "      <td>0.330455</td>\n",
       "      <td>0.109651</td>\n",
       "      <td>0.495527</td>\n",
       "      <td>0.000348</td>\n",
       "    </tr>\n",
       "  </tbody>\n",
       "</table>\n",
       "</div>"
      ],
      "text/plain": [
       "         datetime_gran  HART_P1CP04:FY12847FB.MEAS  12V04CP4:PC12007.MEAS  \\\n",
       "1052641  1052642        0.982966                    0.616575                \n",
       "1052642  1052643        0.982966                    0.624924                \n",
       "1052643  1052644        0.982966                    0.626434                \n",
       "1052644  1052645        0.982966                    0.622968                \n",
       "1052645  1052646        0.982966                    0.625279                \n",
       "\n",
       "         12V04CP4:LC12005A.MEAS  12V05CP4:PC12073.MEAS  12P01BCP4:PI12956.PNT  \\\n",
       "1052641  0.516241                0.371921               0.715633                \n",
       "1052642  0.513221                0.372420               0.714983                \n",
       "1052643  0.512130                0.372087               0.715307                \n",
       "1052644  0.512718                0.373418               0.715794                \n",
       "1052645  0.511166                0.373916               0.715388                \n",
       "\n",
       "         12V08CP4:FC12351.MEAS  12DATASCRCP1:TI12813.PNT  \\\n",
       "1052641  0.351119               0.069354                   \n",
       "1052642  0.352894               0.067677                   \n",
       "1052643  0.353981               0.068198                   \n",
       "1052644  0.354564               0.060073                   \n",
       "1052645  0.355147               0.054184                   \n",
       "\n",
       "         12V04CP4:FC12006.MEAS  12GTWY_E101:FIE12404.PNT  \\\n",
       "1052641  0.332981               0.114017                   \n",
       "1052642  0.332231               0.115755                   \n",
       "1052643  0.329184               0.106135                   \n",
       "1052644  0.331178               0.109651                   \n",
       "1052645  0.330455               0.109651                   \n",
       "\n",
       "         12P01BCP4:PI12955.PNT  12P01BCP4:FC12847.MEAS  \n",
       "1052641  0.496189               0.000338                \n",
       "1052642  0.496189               0.000358                \n",
       "1052643  0.495362               0.000398                \n",
       "1052644  0.495527               0.000318                \n",
       "1052645  0.495527               0.000348                "
      ]
     },
     "execution_count": 17,
     "metadata": {},
     "output_type": "execute_result"
    }
   ],
   "source": [
    "df_master_date.head()"
   ]
  },
  {
   "cell_type": "code",
   "execution_count": 18,
   "metadata": {},
   "outputs": [
    {
     "name": "stdout",
     "output_type": "stream",
     "text": [
      "Writing to  ../data/interim/P1201/agg_single/agg1.csv\n",
      "Writing to  ../data/interim/P1201/agg_single/agg5.csv\n",
      "Writing to  ../data/interim/P1201/agg_single/agg10.csv\n",
      "Writing to  ../data/interim/P1201/agg_single/agg15.csv\n",
      "Writing to  ../data/interim/P1201/agg_single/agg30.csv\n",
      "Writing to  ../data/interim/P1201/agg_single/agg60.csv\n"
     ]
    }
   ],
   "source": [
    "from utils import lcl_divmul\n",
    "\n",
    "agg_val_list = [1, 5, 10, 15, 30, 60]\n",
    "\n",
    "for agg_val in agg_val_list:\n",
    "    \n",
    "    df_master_date_analysis = df_master_date.copy()\n",
    "    \n",
    "    agg_col = 'agg'+str(agg_val)\n",
    "    df_master_date_analysis[agg_col] = df_master_date_analysis[time_gran_col].apply(lambda x: lcl_divmul(x, agg_val, agg_val))\n",
    "    \n",
    "    use_cols = list(set(df_master_date_analysis.columns.values) - set([time_gran_col]))\n",
    "    df_master_date_analysis = df_master_date_analysis[use_cols].copy()\n",
    "    \n",
    "    df_agg = df_master_date_analysis.groupby(by=[agg_col]).mean()\n",
    "    df_agg = df_agg.reset_index(level=0, inplace=False)\n",
    "    \n",
    "    output_file = INT_DATA_DIR + 'agg_single/' + agg_col + '.csv'\n",
    "    with open(output_file, 'wb') as f:\n",
    "        df_agg.to_csv(output_file, header=True, index=False)\n",
    "        print('Writing to ', output_file)"
   ]
  },
  {
   "cell_type": "markdown",
   "metadata": {},
   "source": [
    "### Reading back the files to check if the data was written correctly"
   ]
  },
  {
   "cell_type": "code",
   "execution_count": 21,
   "metadata": {},
   "outputs": [],
   "source": [
    "### Read aggregated data\n",
    "\n",
    "agg_val = 1\n",
    "agg_col = 'agg' + str(agg_val) \n",
    "input_file = INT_DATA_DIR + 'agg_single/' + agg_col + '.csv'\n",
    "with open(input_file, 'rb') as f:\n",
    "    df_agg = pd.read_csv(input_file)"
   ]
  },
  {
   "cell_type": "code",
   "execution_count": 23,
   "metadata": {},
   "outputs": [
    {
     "data": {
      "text/plain": [
       "(437699, 12)"
      ]
     },
     "execution_count": 23,
     "metadata": {},
     "output_type": "execute_result"
    }
   ],
   "source": [
    "df_agg.shape"
   ]
  },
  {
   "cell_type": "code",
   "execution_count": null,
   "metadata": {},
   "outputs": [],
   "source": []
  }
 ],
 "metadata": {
  "kernelspec": {
   "display_name": "shell",
   "language": "python",
   "name": "shell"
  },
  "language_info": {
   "codemirror_mode": {
    "name": "ipython",
    "version": 3
   },
   "file_extension": ".py",
   "mimetype": "text/x-python",
   "name": "python",
   "nbconvert_exporter": "python",
   "pygments_lexer": "ipython3",
   "version": "3.6.6"
  }
 },
 "nbformat": 4,
 "nbformat_minor": 2
}
